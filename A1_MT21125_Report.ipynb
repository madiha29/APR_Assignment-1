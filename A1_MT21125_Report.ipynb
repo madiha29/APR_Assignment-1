{
  "nbformat": 4,
  "nbformat_minor": 0,
  "metadata": {
    "colab": {
      "provenance": []
    },
    "kernelspec": {
      "name": "python3",
      "display_name": "Python 3"
    },
    "language_info": {
      "name": "python"
    }
  },
  "cells": [
    {
      "cell_type": "markdown",
      "source": [
        "# **QUESTION(1)**"
      ],
      "metadata": {
        "id": "KPwjNLW9M5pS"
      }
    },
    {
      "cell_type": "markdown",
      "source": [
        "Importing mnist data from tensorflow library and splitting it into train and test"
      ],
      "metadata": {
        "id": "vfvE4c7UZFwB"
      }
    },
    {
      "cell_type": "code",
      "execution_count": null,
      "metadata": {
        "id": "DOzn_P41w2zK"
      },
      "outputs": [],
      "source": [
        "from tensorflow.keras.datasets import mnist"
      ]
    },
    {
      "cell_type": "code",
      "source": [
        "(train_X,train_y),(test_X,test_y)=mnist.load_data()"
      ],
      "metadata": {
        "id": "SCglNxsHykrn",
        "colab": {
          "base_uri": "https://localhost:8080/"
        },
        "outputId": "1a018f71-551d-4a36-c5a9-93e82559725c"
      },
      "execution_count": null,
      "outputs": [
        {
          "output_type": "stream",
          "name": "stdout",
          "text": [
            "Downloading data from https://storage.googleapis.com/tensorflow/tf-keras-datasets/mnist.npz\n",
            "11490434/11490434 [==============================] - 0s 0us/step\n"
          ]
        }
      ]
    },
    {
      "cell_type": "markdown",
      "source": [
        "Printing the shape"
      ],
      "metadata": {
        "id": "aHw536NnZSXA"
      }
    },
    {
      "cell_type": "code",
      "source": [
        "print('X_train: ' + str(train_X.shape))\n",
        "print('Y_train: ' + str(train_y.shape))\n",
        "print('X_test:  '  + str(test_X.shape))\n",
        "print('Y_test:  '  + str(test_y.shape))"
      ],
      "metadata": {
        "colab": {
          "base_uri": "https://localhost:8080/"
        },
        "id": "jhEoOCPXyuEl",
        "outputId": "18441cdb-3e41-4dca-d410-38c56c6be0e0"
      },
      "execution_count": null,
      "outputs": [
        {
          "output_type": "stream",
          "name": "stdout",
          "text": [
            "X_train: (60000, 28, 28)\n",
            "Y_train: (60000,)\n",
            "X_test:  (10000, 28, 28)\n",
            "Y_test:  (10000,)\n"
          ]
        }
      ]
    },
    {
      "cell_type": "markdown",
      "source": [
        "# **question1(a)**"
      ],
      "metadata": {
        "id": "vbRu2duk0pN_"
      }
    },
    {
      "cell_type": "markdown",
      "source": [
        "5 random images in the original palette"
      ],
      "metadata": {
        "id": "ABgRu688ZW1S"
      }
    },
    {
      "cell_type": "code",
      "source": [
        "from matplotlib import pyplot\n",
        "for i in range(5):  \n",
        "  pyplot.subplot(330 + 1 + i)\n",
        "  pyplot.imshow(train_X[i])\n",
        "  pyplot.show()"
      ],
      "metadata": {
        "colab": {
          "base_uri": "https://localhost:8080/",
          "height": 507
        },
        "id": "O6q8dHUPzr9v",
        "outputId": "2e958015-4c1d-4b1e-df87-b6ba9be88ebe"
      },
      "execution_count": null,
      "outputs": [
        {
          "output_type": "display_data",
          "data": {
            "text/plain": [
              "<Figure size 432x288 with 1 Axes>"
            ],
            "image/png": "[encoded data removed]"
          },
          "metadata": {
            "needs_background": "light"
          }
        },
        {
          "output_type": "display_data",
          "data": {
            "text/plain": [
              "<Figure size 432x288 with 1 Axes>"
            ],
            "image/png": "[encoded data removed]"
          },
          "metadata": {
            "needs_background": "light"
          }
        },
        {
          "output_type": "display_data",
          "data": {
            "text/plain": [
              "<Figure size 432x288 with 1 Axes>"
            ],
            "image/png": "[encoded data removed]"
          },
          "metadata": {
            "needs_background": "light"
          }
        },
        {
          "output_type": "display_data",
          "data": {
            "text/plain": [
              "<Figure size 432x288 with 1 Axes>"
            ],
            "image/png": "[encoded data removed]"
          },
          "metadata": {
            "needs_background": "light"
          }
        },
        {
          "output_type": "display_data",
          "data": {
            "text/plain": [
              "<Figure size 432x288 with 1 Axes>"
            ],
            "image/png": "[encoded data removed]"
          },
          "metadata": {
            "needs_background": "light"
          }
        }
      ]
    },
    {
      "cell_type": "markdown",
      "source": [
        "# Question 1.ii(A)\n",
        "All images are of same size i.e 28*28 "
      ],
      "metadata": {
        "id": "8HiyRv120u9s"
      }
    },
    {
      "cell_type": "code",
      "source": [
        "import numpy as np"
      ],
      "metadata": {
        "id": "Fo8abGbKzpGZ"
      },
      "execution_count": null,
      "outputs": []
    },
    {
      "cell_type": "markdown",
      "source": [
        "Checking the unique classes in train and test data.There are 10 classes found that is 0 to 9."
      ],
      "metadata": {
        "id": "PC_jCbmbZm8J"
      }
    },
    {
      "cell_type": "code",
      "source": [
        "np.unique(train_y)"
      ],
      "metadata": {
        "colab": {
          "base_uri": "https://localhost:8080/"
        },
        "id": "DhWJgRG9zmD8",
        "outputId": "59f7af6f-d9f1-4ce3-b4aa-4eb8075ee679"
      },
      "execution_count": null,
      "outputs": [
        {
          "output_type": "execute_result",
          "data": {
            "text/plain": [
              "array([0, 1, 2, 3, 4, 5, 6, 7, 8, 9], dtype=uint8)"
            ]
          },
          "metadata": {},
          "execution_count": 8
        }
      ]
    },
    {
      "cell_type": "code",
      "source": [
        "np.unique(test_y)"
      ],
      "metadata": {
        "colab": {
          "base_uri": "https://localhost:8080/"
        },
        "id": "t1kQ4uiezs5W",
        "outputId": "bffc639e-ed3c-424b-fefb-01f4e6eddb24"
      },
      "execution_count": null,
      "outputs": [
        {
          "output_type": "execute_result",
          "data": {
            "text/plain": [
              "array([0, 1, 2, 3, 4, 5, 6, 7, 8, 9], dtype=uint8)"
            ]
          },
          "metadata": {},
          "execution_count": 9
        }
      ]
    },
    {
      "cell_type": "markdown",
      "source": [
        "Checking for class imbalance in train and test data."
      ],
      "metadata": {
        "id": "KF56pu-PZ3C2"
      }
    },
    {
      "cell_type": "code",
      "source": [
        "c0=0\n",
        "c1=0\n",
        "c2=0\n",
        "c3=0\n",
        "c4=0\n",
        "c5=0\n",
        "c6=0\n",
        "c7=0\n",
        "c8=0\n",
        "c9=0\n",
        "for i in train_y:\n",
        "  if i==0:\n",
        "    c0=c0+1\n",
        "  if i==1:\n",
        "    c1=c1+1\n",
        "  if i==2:\n",
        "    c2=c2+1\n",
        "  if i==3:\n",
        "    c3=c3+1\n",
        "  if i==4:\n",
        "    c4=c4+1\n",
        "  if i==5:\n",
        "    c5=c5+1\n",
        "  if i==6:\n",
        "    c6=c6+1\n",
        "  if i==7:\n",
        "    c7=c7+1\n",
        "  if i==8:\n",
        "    c8=c8+1\n",
        "  if i==9:\n",
        "    c9=c9+1                  \n",
        "\n",
        "d0=0\n",
        "d1=0\n",
        "d2=0\n",
        "d3=0\n",
        "d4=0\n",
        "d5=0\n",
        "d6=0\n",
        "d7=0\n",
        "d8=0\n",
        "d9=0\n",
        "for i in test_y:\n",
        "  if i==0:\n",
        "    d0=d0+1\n",
        "  if i==1:\n",
        "    d1=d1+1\n",
        "  if i==2:\n",
        "    d2=d2+1\n",
        "  if i==3:\n",
        "    d3=d3+1\n",
        "  if i==4:\n",
        "    d4=d4+1\n",
        "  if i==5:\n",
        "    d5=d5+1\n",
        "  if i==6:\n",
        "    d6=d6+1\n",
        "  if i==7:\n",
        "    d7=d7+1\n",
        "  if i==8:\n",
        "    d8=d8+1\n",
        "  if i==9:\n",
        "    d9=d9+1                  \n",
        "\n",
        "c0=c0+d0\n",
        "c1=c1+d1\n",
        "c2=c2+d2\n",
        "c3=c3+d3\n",
        "c4=c4+d4\n",
        "c5=c5+d5\n",
        "c6=c6+d6\n",
        "c7=c7+d7\n",
        "c8=c8+d8\n",
        "c9=c9+d9\n",
        "\n",
        "c0,c1,c2,c3,c4,c5,c6,c7,c8,c9"
      ],
      "metadata": {
        "colab": {
          "base_uri": "https://localhost:8080/"
        },
        "id": "z6LUvD8pxN-e",
        "outputId": "7994ff91-c8f3-4df0-f619-e75b514cb93b"
      },
      "execution_count": null,
      "outputs": [
        {
          "output_type": "execute_result",
          "data": {
            "text/plain": [
              "(6903, 7877, 6990, 7141, 6824, 6313, 6876, 7293, 6825, 6958)"
            ]
          },
          "metadata": {},
          "execution_count": 10
        }
      ]
    },
    {
      "cell_type": "markdown",
      "source": [
        "Storing all the train class labels in l1 list and test class labels in l2 list."
      ],
      "metadata": {
        "id": "u6bdsZjyaEHD"
      }
    },
    {
      "cell_type": "code",
      "source": [
        "l1=[]\n",
        "l2=[]\n",
        "for i in train_y:\n",
        "  l1.append(i)\n",
        "for i in test_y:\n",
        "  l2.append(i) \n",
        "print(l1)"
      ],
      "metadata": {
        "colab": {
          "base_uri": "https://localhost:8080/"
        },
        "id": "smwRq6D20CUi",
        "outputId": "36a54c94-3076-4b8f-b25b-b10fad672931"
      },
      "execution_count": null,
      "outputs": [
        {
          "output_type": "stream",
          "name": "stdout",
          "text": [
            "[5, 0, 4, 1, 9, 2, 1, 3, 1, 4, 3, 5, 3, 6, 1, 7, 2, 8, 6, 9, 4, 0, 9, 1, 1, 2, 4, 3, 2, 7, 3, 8, 6, 9, 0, 5, 6, 0, 7, 6, 1, 8, 7, 9, 3, 9, 8, 5, 9, 3, 3, 0, 7, 4, 9, 8, 0, 9, 4, 1, 4, 4, 6, 0, 4, 5, 6, 1, 0, 0, 1, 7, 1, 6, 3, 0, 2, 1, 1, 7, 9, 0, 2, 6, 7, 8, 3, 9, 0, 4, 6, 7, 4, 6, 8, 0, 7, 8, 3, 1, 5, 7, 1, 7, 1, 1, 6, 3, 0, 2, 9, 3, 1, 1, 0, 4, 9, 2, 0, 0, 2, 0, 2, 7, 1, 8, 6, 4, 1, 6, 3, 4, 5, 9, 1, 3, 3, 8, 5, 4, 7, 7, 4, 2, 8, 5, 8, 6, 7, 3, 4, 6, 1, 9, 9, 6, 0, 3, 7, 2, 8, 2, 9, 4, 4, 6, 4, 9, 7, 0, 9, 2, 9, 5, 1, 5, 9, 1, 2, 3, 2, 3, 5, 9, 1, 7, 6, 2, 8, 2, 2, 5, 0, 7, 4, 9, 7, 8, 3, 2, 1, 1, 8, 3, 6, 1, 0, 3, 1, 0, 0, 1, 7, 2, 7, 3, 0, 4, 6, 5, 2, 6, 4, 7, 1, 8, 9, 9, 3, 0, 7, 1, 0, 2, 0, 3, 5, 4, 6, 5, 8, 6, 3, 7, 5, 8, 0, 9, 1, 0, 3, 1, 2, 2, 3, 3, 6, 4, 7, 5, 0, 6, 2, 7, 9, 8, 5, 9, 2, 1, 1, 4, 4, 5, 6, 4, 1, 2, 5, 3, 9, 3, 9, 0, 5, 9, 6, 5, 7, 4, 1, 3, 4, 0, 4, 8, 0, 4, 3, 6, 8, 7, 6, 0, 9, 7, 5, 7, 2, 1, 1, 6, 8, 9, 4, 1, 5, 2, 2, 9, 0, 3, 9, 6, 7, 2, 0, 3, 5, 4, 3, 6, 5, 8, 9, 5, 4, 7, 4, 2, 7, 3, 4, 8, 9, 1, 9, 2, 8, 7, 9, 1, 8, 7, 4, 1, 3, 1, 1, 0, 2, 3, 9, 4, 9, 2, 1, 6, 8, 4, 7, 7, 4, 4, 9, 2, 5, 7, 2, 4, 4, 2, 1, 9, 7, 2, 8, 7, 6, 9, 2, 2, 3, 8, 1, 6, 5, 1, 1, 0, 2, 6, 4, 5, 8, 3, 1, 5, 1, 9, 2, 7, 4, 4, 4, 8, 1, 5, 8, 9, 5, 6, 7, 9, 9, 3, 7, 0, 9, 0, 6, 6, 2, 3, 9, 0, 7, 5, 4, 8, 0, 9, 4, 1, 2, 8, 7, 1, 2, 6, 1, 0, 3, 0, 1, 1, 8, 2, 0, 3, 9, 4, 0, 5, 0, 6, 1, 7, 7, 8, 1, 9, 2, 0, 5, 1, 2, 2, 7, 3, 5, 4, 9, 7, 1, 8, 3, 9, 6, 0, 3, 1, 1, 2, 6, 3, 5, 7, 6, 8, 3, 9, 5, 8, 5, 7, 6, 1, 1, 3, 1, 7, 5, 5, 5, 2, 5, 8, 7, 0, 9, 7, 7, 5, 0, 9, 0, 0, 8, 9, 2, 4, 8, 1, 6, 1, 6, 5, 1, 8, 3, 4, 0, 5, 5, 8, 3, 6, 2, 3, 9, 2, 1, 1, 5, 2, 1, 3, 2, 8, 7, 3, 7, 2, 4, 6, 9, 7, 2, 4, 2, 8, 1, 1, 3, 8, 4, 0, 6, 5, 9, 3, 0, 9, 2, 4, 7, 1, 2, 9, 4, 2, 6, 1, 8, 9, 0, 6, 6, 7, 9, 9, 8, 0, 1, 4, 4, 6, 7, 1, 5, 7, 0, 3, 5, 8, 4, 7, 1, 2, 5, 9, 5, 6, 7, 5, 9, 8, 8, 3, 6, 9, 7, 0, 7, 5, 7, 1, 1, 0, 7, 9, 2, 3, 7, 3, 2, 4, 1, 6, 2, 7, 5, 5, 7, 4, 0, 2, 6, 3, 6, 4, 0, 4, 2, 6, 0, 0, 0, 0, 3, 1, 6, 2, 2, 3, 1, 4, 1, 5, 4, 6, 4, 7, 2, 8, 7, 9, 2, 0, 5, 1, 4, 2, 8, 3, 2, 4, 1, 5, 4, 6, 0, 7, 9, 8, 4, 9, 8, 0, 1, 1, 0, 2, 2, 3, 2, 4, 4, 5, 8, 6, 5, 7, 7, 8, 8, 9, 7, 4, 7, 3, 2, 0, 8, 6, 8, 6, 1, 6, 8, 9, 4, 0, 9, 0, 4, 1, 5, 4, 7, 5, 3, 7, 4, 9, 8, 5, 8, 6, 3, 8, 6, 9, 9, 1, 8, 3, 5, 8, 6, 5, 9, 7, 2, 5, 0, 8, 5, 1, 1, 0, 9, 1, 8, 6, 7, 0, 9, 3, 0, 8, 8, 9, 6, 7, 8, 4, 7, 5, 9, 2, 6, 7, 4, 5, 9, 2, 3, 1, 6, 3, 9, 2, 2, 5, 6, 8, 0, 7, 7, 1, 9, 8, 7, 0, 9, 9, 4, 6, 2, 8, 5, 1, 4, 1, 5, 5, 1, 7, 3, 6, 4, 3, 2, 5, 6, 4, 4, 0, 4, 4, 6, 7, 2, 4, 3, 3, 8, 0, 0, 3, 2, 2, 9, 8, 2, 3, 7, 0, 1, 1, 0, 2, 3, 3, 8, 4, 3, 5, 7, 6, 4, 7, 7, 8, 5, 9, 7, 0, 3, 1, 6, 2, 4, 3, 4, 4, 7, 5, 9, 6, 9, 0, 7, 1, 4, 2, 7, 3, 6, 7, 5, 8, 4, 5, 5, 2, 7, 1, 1, 5, 6, 8, 5, 8, 4, 0, 7, 9, 9, 2, 9, 7, 7, 8, 7, 4, 2, 6, 9, 1, 7, 0, 6, 4, 2, 5, 7, 0, 7, 1, 0, 3, 7, 6, 5, 0, 6, 1, 5, 1, 7, 8, 5, 0, 3, 4, 7, 7, 5, 7, 8, 6, 9, 3, 8, 6, 1, 0, 9, 7, 1, 3, 0, 5, 6, 4, 4, 2, 4, 4, 3, 1, 7, 7, 6, 0, 3, 6, 0, 7, 1, 1, 4, 9, 4, 3, 4, 8, 2, 2, 1, 8, 7, 0, 8, 1, 0, 7, 6, 3, 7, 7, 5, 8, 8, 9, 0, 0, 4, 1, 5, 2, 2, 3, 9, 4, 9, 5, 0, 6, 7, 7, 1, 8, 0, 2, 2, 0, 4, 1, 1, 2, 7, 3, 9, 7, 2, 8, 1, 9, 5, 8, 8, 1, 9, 8, 3, 1, 6, 5, 7, 4, 2, 7, 0, 3, 0, 4, 1, 1, 7, 9, 1, 1, 8, 5, 7, 5, 0, 6, 6, 0, 4, 1, 2, 3, 4, 4, 6, 8, 0, 9, 5, 8, 7, 0, 3, 5, 4, 5, 9, 6, 7, 1, 9, 6, 1, 3, 8, 3, 9, 1, 2, 7, 7, 7, 0, 2, 3, 1, 1, 4, 2, 5, 6, 0, 9, 6, 2, 8, 9, 2, 3, 3, 6, 9, 1, 4, 3, 3, 0, 7, 7, 1, 7, 7, 3, 6, 4, 9, 5, 4, 4, 2, 7, 9, 0, 9, 8, 4, 4, 9, 1, 2, 4, 9, 3, 0, 4, 1, 6, 2, 6, 3, 7, 4, 2, 6, 6, 7, 1, 8, 9, 0, 4, 1, 4, 2, 1, 3, 6, 4, 6, 7, 5, 8, 7, 0, 5, 1, 4, 2, 8, 4, 7, 7, 3, 8, 4, 9, 5, 8, 6, 7, 3, 4, 6, 7, 1, 7, 4, 3, 3, 9, 8, 8, 1, 8, 6, 3, 1, 1, 3, 5, 2, 8, 4, 2, 9, 7, 1, 4, 8, 2, 9, 6, 4, 1, 3, 4, 2, 5, 2, 5, 6, 8, 0, 6, 2, 4, 9, 4, 9, 4, 5, 1, 5, 8, 4, 7, 9, 5, 9, 5, 9, 1, 5, 8, 3, 9, 9, 1, 8, 3, 8, 6, 5, 2, 7, 2, 7, 6, 0, 9, 7, 9, 4, 6, 0, 5, 3, 5, 7, 3, 9, 3, 6, 8, 3, 1, 7, 6, 5, 5, 7, 6, 5, 8, 2, 1, 7, 9, 2, 7, 3, 6, 7, 8, 5, 3, 7, 7, 8, 4, 0, 7, 3, 0, 6, 3, 9, 7, 1, 9, 5, 3, 6, 0, 9, 2, 8, 0, 9, 1, 6, 0, 0, 1, 9, 0, 0, 4, 2, 1, 7, 0, 3, 4, 4, 7, 5, 9, 8, 2, 0, 0, 8, 6, 2, 2, 7, 6, 1, 2, 9, 2, 6, 9, 7, 9, 5, 0, 8, 1, 5, 2, 4, 3, 9, 4, 7, 5, 6, 6, 7, 7, 6, 8, 5, 9, 7, 0, 6, 1, 9, 2, 3, 3, 5, 4, 3, 5, 8, 6, 3, 7, 2, 8, 4, 9, 5, 0, 2, 1, 4, 2, 4, 3, 1, 7, 1, 8, 0, 9, 6, 8, 1, 9, 4, 4, 9, 1, 8, 9, 6, 5, 5, 3, 3, 0, 1, 4, 3, 8, 3, 4, 2, 0, 7, 5, 5, 1, 8, 5, 3, 4, 6, 0, 5, 7, 2, 6, 6, 0, 1, 1, 4, 7, 9, 0, 0, 6, 6, 8, 6, 9, 4, 5, 2, 4, 0, 7, 5, 6, 5, 0, 9, 8, 6, 1, 9, 7, 5, 7, 5, 1, 1, 3, 0, 2, 0, 3, 8, 1, 6, 4, 6, 2, 6, 4, 8, 8, 1, 4, 4, 7, 1, 2, 2, 3, 9, 6, 4, 9, 5, 6, 2, 3, 9, 2, 6, 2, 7, 4, 3, 6, 4, 9, 7, 0, 2, 2, 9, 5, 4, 5, 0, 1, 4, 3, 6, 3, 2, 9, 7, 5, 3, 7, 0, 9, 5, 8, 3, 2, 0, 1, 8, 3, 0, 1, 2, 3, 4, 0, 0, 1, 7, 2, 9, 3, 9, 4, 2, 5, 8, 6, 7, 7, 9, 8, 9, 9, 2, 0, 0, 1, 4, 2, 4, 3, 9, 4, 3, 5, 7, 6, 5, 7, 1, 8, 6, 9, 3, 0, 4, 1, 2, 2, 5, 3, 7, 4, 1, 7, 7, 8, 1, 9, 2, 3, 2, 4, 0, 1, 8, 4, 3, 6, 5, 6, 4, 7, 9, 3, 1, 3, 0, 2, 1, 1, 0, 9, 9, 4, 6, 7, 6, 3, 5, 5, 4, 4, 6, 9, 1, 1, 3, 1, 1, 0, 5, 1, 4, 4, 6, 6, 6, 0, 1, 2, 0, 8, 2, 2, 1, 1, 3, 7, 9, 5, 3, 0, 2, 0, 6, 2, 9, 0, 7, 6, 9, 9, 1, 2, 9, 3, 4, 7, 9, 6, 0, 9, 4, 8, 7, 7, 9, 8, 6, 9, 5, 2, 2, 2, 3, 9, 8, 8, 8, 6, 4, 4, 4, 4, 2, 4, 6, 0, 7, 0, 7, 8, 2, 0, 8, 8, 3, 6, 8, 6, 6, 8, 6, 5, 1, 1, 8, 7, 8, 3, 6, 8, 9, 5, 0, 0, 0, 3, 2, 6, 6, 7, 8, 3, 5, 1, 4, 3, 5, 9, 4, 5, 4, 1, 1, 5, 4, 0, 9, 7, 1, 2, 5, 7, 9, 4, 0, 3, 6, 1, 7, 7, 5, 6, 3, 0, 1, 1, 4, 2, 4, 3, 6, 4, 7, 5, 7, 6, 9, 7, 2, 8, 4, 9, 8, 0, 7, 1, 1, 2, 3, 3, 5, 4, 6, 5, 0, 6, 3, 7, 3, 8, 2, 9, 0, 0, 9, 1, 2, 2, 9, 3, 9, 4, 6, 5, 2, 6, 6, 7, 6, 8, 2, 9, 2, 0, 6, 7, 2, 8, 6, 9, 0, 9, 6, 0, 3, 1, 1, 4, 9, 5, 8, 1, 0, 6, 6, 7, 2, 3, 4, 2, 3, 9, 0, 0, 4, 5, 0, 6, 4, 7, 4, 3, 1, 9, 3, 9, 9, 3, 1, 8, 7, 1, 7, 2, 8, 9, 9, 6, 2, 7, 2, 5, 0, 6, 7, 3, 9, 5, 9, 0, 8, 5, 8, 4, 9, 0, 5, 3, 2, 4, 8, 7, 4, 1, 5, 4, 6, 3, 7, 7, 9, 6, 6, 2, 2, 1, 6, 5, 4, 5, 3, 0, 5, 5, 2, 0, 5, 8, 8, 4, 2, 6, 9, 7, 1, 0, 2, 3, 1, 8, 7, 1, 8, 2, 7, 2, 6, 3, 2, 3, 7, 6, 8, 7, 5, 3, 8, 4, 4, 9, 4, 6, 4, 5, 5, 1, 1, 9, 3, 8, 6, 1, 4, 1, 7, 5, 4, 0, 4, 2, 7, 7, 5, 8, 0, 6, 9, 6, 6, 8, 7, 2, 0, 8, 8, 4, 8, 4, 4, 2, 3, 2, 3, 8, 2, 0, 5, 0, 0, 1, 0, 2, 1, 3, 3, 4, 7, 5, 3, 6, 1, 7, 6, 8, 3, 9, 0, 0, 7, 1, 2, 2, 4, 3, 7, 4, 1, 5, 0, 6, 3, 7, 9, 8, 7, 9, 5, 0, 1, 1, 8, 2, 6, 3, 3, 4, 3, 5, 3, 7, 1, 8, 1, 9, 6, 8, 9, 9, 7, 5, 0, 7, 3, 0, 6, 3, 8, 1, 6, 6, 1, 8, 6, 4, 6, 1, 0, 7, 1, 6, 4, 5, 1, 6, 7, 4, 8, 2, 5, 7, 3, 8, 4, 1, 6, 3, 3, 4, 5, 3, 2, 4, 5, 7, 1, 2, 4, 0, 0, 5, 8, 0, 6, 1, 1, 9, 3, 2, 1, 3, 4, 2, 4, 3, 4, 5, 8, 5, 6, 7, 6, 8, 9, 4, 0, 9, 4, 9, 4, 7, 4, 1, 6, 1, 3, 7, 3, 8, 3, 3, 2, 4, 4, 8, 7, 6, 4, 3, 6, 8, 7, 0, 7, 9, 5, 6, 5, 2, 3, 0, 4, 1, 4, 0, 5, 6, 1, 2, 6, 3, 4, 8, 5, 9, 5, 0, 2, 7, 5, 2, 9, 3, 4, 4, 0, 5, 2, 5, 5, 2, 9, 8, 3, 5, 2, 4, 4, 6, 7, 6, 4, 6, 6, 7, 0, 9, 6, 1, 8, 8, 5, 2, 1, 1, 5, 2, 0, 6, 9, 5, 2, 3, 1, 4, 1, 7, 6, 9, 2, 4, 6, 0, 1, 0, 5, 5, 5, 9, 2, 0, 4, 1, 1, 2, 4, 3, 0, 4, 2, 5, 7, 6, 2, 7, 7, 8, 3, 9, 0, 0, 2, 1, 1, 2, 8, 3, 4, 4, 1, 5, 9, 6, 1, 7, 5, 8, 9, 9, 6, 0, 1, 1, 7, 2, 8, 3, 7, 7, 8, 8, 8, 9, 7, 6, 8, 2, 4, 7, 4, 1, 8, 5, 0, 6, 9, 2, 8, 5, 2, 0, 0, 5, 4, 4, 3, 2, 1, 0, 5, 8, 5, 1, 4, 7, 2, 1, 4, 8, 6, 3, 4, 8, 1, 7, 5, 1, 3, 7, 1, 7, 9, 0, 0, 1, 9, 4, 0, 4, 8, 4, 8, 5, 1, 7, 1, 4, 2, 4, 4, 9, 2, 7, 3, 2, 4, 6, 9, 5, 1, 3, 2, 9, 4, 4, 3, 3, 6, 9, 2, 0, 6, 8, 8, 7, 5, 6, 6, 3, 8, 0, 4, 4, 6, 6, 7, 3, 4, 7, 7, 0, 6, 1, 6, 1, 6, 2, 0, 9, 7, 3, 6, 1, 3, 8, 2, 9, 2, 8, 7, 2, 9, 5, 6, 2, 2, 6, 4, 9, 7, 6, 3, 0, 0, 5, 0, 3, 1, 3, 0, 6, 2, 3, 3, 5, 0, 0, 7, 3, 4, 7, 5, 6, 4, 1, 4, 5, 2, 5, 1, 9, 5, 8, 6, 0, 7, 9, 4, 0, 9, 1, 3, 2, 5, 3, 3, 4, 6, 5, 1, 6, 7, 7, 7, 8, 4, 9, 3, 0, 0, 1, 0, 2, 0, 3, 6, 4, 6, 7, 5, 8, 1, 9, 4, 0, 8, 1, 9, 2, 6, 3, 1, 5, 0, 6, 4, 7, 8, 8, 7, 9, 6, 0, 1, 0, 7, 1, 5, 0, 5, 1, 0, 2, 2, 3, 8, 0, 1, 6, 3, 9, 7, 6, 8, 6, 6, 5, 9, 2, 0, 9, 6, 1, 5, 4, 2, 9, 7, 5, 3, 7, 1, 5, 6, 6, 7, 7, 3, 3, 6, 1, 2, 4, 7, 1, 8, 3, 2, 3, 8, 7, 5, 3, 7, 9, 8, 8, 6, 8, 8, 8, 2, 8, 4, 8, 1, 4, 5, 7, 1, 2, 2, 1, 9, 9, 5, 8, 2, 7, 9, 9, 7, 3, 7, 3, 1, 0, 6, 7, 9, 5, 2, 4, 1, 1, 0, 1, 3, 2, 9, 6, 4, 1, 3, 5, 9, 0, 1, 1, 4, 2, 3, 3, 0, 4, 2, 5, 3, 6, 4, 7, 5, 0, 0, 1, 2, 2, 7, 3, 7, 4, 7, 5, 6, 6, 5, 7, 3, 8, 1, 9, 9, 0, 7, 1, 8, 2, 0, 3, 4, 4, 3, 5, 1, 6, 7, 9, 5, 8, 0, 2, 1, 6, 3, 9, 3, 6, 2, 1, 2, 9, 1, 9, 3, 9, 9, 4, 4, 4, 2, 3, 9, 8, 0, 1, 4, 4, 8, 1, 2, 2, 7, 9, 3, 0, 3, 4, 3, 9, 6, 1, 2, 7, 0, 4, 6, 4, 1, 1, 4, 8, 3, 7, 6, 6, 2, 0, 2, 8, 8, 1, 7, 8, 2, 2, 7, 6, 6, 2, 7, 1, 0, 2, 4, 5, 1, 4, 9, 5, 6, 6, 0, 7, 2, 7, 5, 5, 1, 3, 1, 0, 4, 2, 1, 2, 1, 2, 6, 7, 0, 3, 6, 5, 3, 2, 4, 1, 0, 4, 2, 4, 1, 3, 4, 0, 6, 0, 5, 8, 4, 7, 0, 3, 1, 1, 2, 7, 6, 9, 5, 6, 0, 3, 5, 3, 1, 0, 1, 5, 4, 6, 9, 6, 3, 8, 5, 7, 6, 3, 1, 5, 9, 0, 2, 1, 1, 2, 8, 3, 8, 4, 0, 5, 5, 6, 5, 7, 7, 8, 0, 9, 6, 0, 9, 1, 8, 2, 3, 3, 4, 4, 3, 5, 5, 6, 5, 7, 1, 8, 8, 9, 0, 0, 2, 1, 6, 2, 7, 3, 7, 4, 7, 7, 7, 8, 1, 9, 4, 8, 6, 5, 1, 7, 0, 9, 1, 5, 9, 0, 8, 8, 1, 3, 2, 5, 7, 4, 7, 8, 0, 3, 8, 0, 0, 2, 4, 1, 9, 0, 9, 2, 0, 5, 8, 8, 8, 8, 9, 5, 8, 3, 3, 0, 6, 4, 4, 4, 8, 1, 2, 6, 9, 1, 6, 3, 3, 0, 6, 3, 4, 6, 2, 9, 4, 3, 6, 7, 7, 4, 5, 9, 2, 7, 8, 0, 1, 9, 1, 4, 4, 8, 4, 3, 9, 2, 2, 7, 1, 7, 8, 9, 9, 5, 8, 7, 4, 6, 9, 4, 4, 8, 8, 9, 6, 6, 6, 9, 4, 4, 2, 1, 9, 2, 0, 0, 3, 6, 4, 1, 2, 1, 8, 6, 7, 4, 5, 8, 1, 9, 1, 6, 3, 4, 5, 6, 0, 5, 1, 0, 1, 2, 2, 0, 6, 5, 4, 6, 7, 5, 2, 0, 8, 1, 9, 2, 8, 1, 3, 7, 8, 8, 8, 1, 2, 4, 8, 3, 0, 2, 7, 8, 9, 2, 2, 7, 8, 9, 5, 3, 6, 9, 3, 0, 2, 1, 3, 2, 5, 3, 4, 4, 4, 5, 9, 6, 5, 7, 9, 8, 3, 9, 4, 0, 8, 1, 0, 2, 2, 3, 9, 4, 5, 5, 7, 6, 2, 7, 7, 8, 1, 0, 7, 3, 5, 4, 4, 5, 3, 6, 4, 7, 2, 8, 1, 9, 7, 6, 1, 0, 9, 3, 1, 4, 7, 1, 9, 4, 4, 0, 2, 8, 2, 6, 7, 0, 0, 7, 7, 8, 7, 7, 8, 7, 9, 9, 3, 0, 4, 4, 0, 9, 3, 9, 5, 7, 6, 0, 7, 5, 1, 8, 2, 5, 7, 9, 4, 8, 4, 8, 7, 7, 9, 5, 0, 6, 6, 5, 4, 3, 9, 8, 6, 1, 9, 6, 7, 8, 2, 5, 9, 9, 2, 2, 1, 2, 2, 0, 9, 9, 4, 2, 3, 4, 9, 7, 3, 3, 3, 1, 9, 3, 7, 6, 5, 6, 0, 2, 6, 1, 3, 2, 4, 6, 3, 0, 8, 2, 4, 2, 2, 7, 1, 1, 9, 3, 9, 7, 4, 4, 4, 8, 8, 9, 5, 2, 3, 9, 4, 5, 2, 6, 6, 8, 6, 0, 7, 0, 4, 9, 7, 1, 9, 1, 0, 0, 5, 1, 1, 2, 9, 3, 5, 5, 3, 6, 4, 9, 2, 0, 6, 1, 1, 2, 0, 3, 9, 4, 3, 5, 3, 6, 3, 7, 1, 8, 7, 0, 0, 1, 1, 2, 9, 3, 5, 4, 1, 5, 8, 6, 3, 7, 3, 8, 7, 1, 7, 0, 1, 1, 8, 5, 0, 3, 4, 4, 8, 4, 1, 0, 7, 0, 2, 6, 8, 9, 7, 6, 4, 6, 3, 5, 6, 4, 1, 4, 4, 4, 3, 0, 3, 7, 1, 9, 3, 5, 1, 7, 2, 3, 3, 1, 6, 4, 8, 4, 1, 0, 8, 9, 8, 9, 4, 6, 2, 1, 1, 8, 0, 3, 0, 8, 7, 8, 4, 8, 7, 8, 5, 8, 8, 4, 4, 7, 9, 7, 9, 1, 9, 9, 8, 8, 0, 7, 0, 8, 7, 9, 6, 3, 7, 3, 6, 5, 8, 5, 9, 0, 6, 7, 1, 9, 0, 5, 2, 6, 7, 5, 1, 0, 3, 6, 9, 1, 1, 4, 4, 1, 3, 1, 3, 2, 8, 8, 7, 2, 5, 6, 1, 1, 0, 5, 2, 0, 9, 1, 0, 2, 8, 3, 6, 4, 2, 5, 3, 6, 2, 7, 5, 8, 2, 9, 8, 0, 6, 1, 9, 2, 0, 3, 1, 1, 9, 5, 3, 6, 9, 7, 8, 8, 1, 0, 1, 1, 3, 2, 4, 3, 0, 4, 0, 5, 3, 6, 8, 7, 7, 8, 7, 9, 0, 6, 4, 4, 3, 2, 1, 6, 8, 4, 0, 7, 5, 5, 9, 5, 5, 4, 7, 7, 2, 8, 1, 9, 6, 2, 5, 9, 6, 3, 4, 9, 6, 3, 3, 8, 8, 2, 2, 0, 9, 9, 8, 8, 4, 0, 4, 5, 3, 6, 2, 0, 3, 1, 2, 0, 9, 2, 2, 5, 5, 3, 3, 5, 4, 3, 8, 8, 8, 0, 7, 0, 4, 5, 9, 4, 0, 3, 6, 4, 0, 1, 9, 5, 6, 3, 4, 0, 2, 8, 2, 3, 1, 0, 4, 6, 7, 2, 0, 7, 2, 1, 4, 1, 6, 8, 7, 1, 8, 7, 4, 1, 0, 3, 6, 8, 4, 4, 3, 2, 9, 0, 8, 9, 9, 7, 2, 6, 7, 7, 5, 4, 3, 1, 3, 6, 1, 8, 9, 4, 8, 1, 6, 2, 8, 6, 5, 7, 9, 1, 6, 9, 6, 8, 0, 0, 0, 6, 7, 9, 7, 4, 9, 9, 9, 9, 7, 6, 7, 2, 8, 3, 6, 7, 9, 1, 7, 2, 1, 5, 1, 3, 7, 7, 0, 8, 6, 0, 3, 1, 3, 2, 6, 3, 8, 4, 9, 5, 6, 6, 1, 7, 3, 8, 2, 9, 4, 0, 2, 1, 5, 2, 9, 3, 2, 4, 4, 5, 7, 6, 8, 7, 3, 8, 7, 9, 2, 0, 1, 1, 9, 2, 7, 3, 6, 4, 6, 5, 5, 6, 4, 7, 5, 8, 8, 9, 7, 6, 5, 2, 8, 6, 9, 5, 0, 4, 1, 2, 2, 0, 0, 8, 0, 1, 2, 7, 0, 1, 2, 8, 8, 3, 7, 7, 0, 1, 1, 7, 1, 1, 2, 4, 9, 4, 0, 5, 6, 7, 6, 4, 9, 9, 7, 7, 7, 2, 8, 6, 3, 5, 5, 3, 2, 9, 1, 9, 8, 0, 2, 8, 6, 7, 2, 9, 6, 0, 3, 6, 7, 3, 7, 0, 5, 4, 4, 6, 7, 3, 6, 7, 6, 0, 1, 1, 1, 4, 8, 8, 6, 8, 1, 1, 0, 2, 1, 9, 8, 3, 9, 1, 5, 4, 5, 2, 8, 9, 4, 8, 2, 2, 9, 8, 4, 6, 8, 9, 5, 2, 4, 9, 7, 6, 6, 3, 1, 3, 9, 6, 7, 3, 0, 1, 5, 2, 8, 5, 0, 0, 1, 3, 1, 1, 1, 5, 2, 5, 6, 9, 7, 8, 3, 0, 7, 9, 9, 0, 2, 1, 6, 2, 9, 3, 7, 4, 8, 5, 4, 6, 8, 7, 7, 8, 0, 9, 7, 0, 5, 1, 9, 2, 8, 3, 6, 4, 9, 5, 8, 6, 9, 7, 5, 8, 1, 9, 1, 0, 3, 1, 1, 2, 6, 3, 7, 4, 5, 5, 6, 6, 2, 7, 0, 8, 8, 9, 2, 6, 4, 1, 6, 9, 9, 9, 3, 9, 2, 4, 9, 4, 8, 3, 4, 8, 5, 1, 0, 4, 0, 1, 6, 2, 6, 5, 4, 0, 7, 9, 9, 5, 1, 3, 9, 0, 9, 4, 5, 9, 1, 1, 7, 7, 4, 4, 5, 4, 3, 1, 3, 8, 1, 7, 0, 6, 2, 0, 4, 8, 8, 1, 6, 8, 1, 2, 3, 6, 3, 2, 9, 0, 1, 9, 1, 1, 7, 2, 1, 5, 5, 4, 6, 5, 4, 7, 4, 7, 8, 5, 4, 3, 4, 0, 2, 2, 5, 2, 1, 2, 6, 7, 1, 3, 5, 1, 5, 4, 3, 4, 6, 3, 7, 0, 1, 0, 2, 4, 9, 7, 2, 9, 6, 7, 2, 8, 6, 8, 0, 7, 0, 9, 0, 6, 9, 3, 4, 1, 7, 7, 4, 9, 2, 6, 6, 3, 3, 3, 3, 1, 3, 0, 4, 2, 7, 6, 9, 0, 3, 5, 1, 6, 3, 6, 4, 8, 7, 7, 3, 3, 8, 5, 9, 8, 3, 3, 4, 0, 7, 1, 6, 2, 0, 3, 8, 7, 4, 8, 3, 9, 2, 0, 7, 3, 8, 4, 0, 7, 1, 8, 0, 0, 5, 1, 4, 2, 1, 3, 7, 4, 7, 5, 1, 6, 5, 7, 5, 8, 9, 9, 8, 5, 0, 1, 5, 9, 6, 9, 0, 7, 4, 1, 9, 0, 2, 9, 8, 0, 7, 5, 3, 9, 7, 7, 7, 1, 7, 3, 4, 6, 7, 3, 0, 2, 3, 0, 0, 9, 4, 0, 8, 6, 9, 1, 3, 7, 7, 2, 0, 8, 7, 3, 6, 4, 9, 7, 6, 6, 7, 6, 9, 3, 8, 2, 7, 3, 0, 8, 5, 9, 9, 4, 2, 8, 4, 8, 8, 7, 4, 1, 8, 0, 1, 8, 6, 7, 7, 7, 7, 5, 2, 9, 3, 2, 6, 3, 6, 1, 4, 1, 6, 4, 4, 5, 1, 5, 2, 0, 5, 4, 3, 8, 1, 7, 7, 4, 5, 9, 6, 2, 2, 3, 6, 6, 7, 4, 8, 1, 4, 2, 4, 4, 8, 1, 2, 5, 0, 1, 2, 9, 8, 3, 5, 2, 7, 0, 4, 0, 9, 2, 7, 9, 4, 3, 5, 6, 4, 0, 9, 1, 8, 2, 1, 3, 7, 4, 2, 5, 2, 6, 7, 7, 5, 8, 8, 9, 1, 0, 1, 1, 0, 2, 3, 3, 1, 4, 4, 5, 0, 6, 4, 7, 0, 8, 1, 9, 1, 0, 3, 1, 3, 2, 3, 3, 3, 4, 2, 5, 7, 6, 2, 7, 6, 8, 4, 9, 1, 8, 6, 0, 7, 5, 7, 6, 0, 6, 1, 0, 6, 8, 4, 0, 4, 2, 2, 3, 9, 7, 6, 9, 7, 4, 2, 7, 3, 1, 1, 9, 0, 1, 5, 7, 6, 1, 5, 0, 4, 0, 1, 4, 9, 1, 3, 7, 6, 5, 2, 7, 2, 1, 8, 3, 8, 3, 8, 3, 3, 1, 6, 6, 0, 9, 5, 7, 7, 4, 9, 3, 5, 0, 8, 2, 5, 5, 1, 2, 7, 6, 9, 0, 0, 8, 2, 9, 6, 4, 5, 3, 4, 5, 7, 4, 6, 8, 5, 1, 0, 5, 4, 9, 3, 0, 9, 6, 3, 4, 8, 6, 4, 8, 3, 1, 6, 4, 0, 7, 1, 5, 2, 7, 2, 2, 2, 2, 8, 0, 1, 0, 0, 1, 3, 7, 6, 7, 2, 9, 2, 5, 5, 9, 9, 8, 5, 9, 7, 6, 3, 8, 1, 8, 9, 2, 7, 3, 0, 6, 8, 1, 0, 2, 0, 9, 9, 8, 8, 9, 3, 5, 1, 2, 8, 6, 8, 2, 6, 4, 5, 8, 2, 4, 1, 6, 1, 5, 6, 0, 2, 1, 2, 2, 0, 3, 9, 4, 2, 5, 6, 7, 7, 8, 5, 0, 4, 1, 6, 2, 7, 3, 3, 4, 0, 5, 3, 6, 3, 7, 0, 8, 4, 9, 0, 0, 1, 1, 5, 2, 9, 3, 0, 4, 4, 7, 5, 8, 3, 1, 1, 6, 1, 8, 4, 9, 6, 9, 1, 0, 7, 1, 0, 2, 6, 4, 4, 4, 4, 3, 7, 7, 5, 4, 9, 4, 1, 4, 3, 0, 7, 3, 4, 8, 4, 7, 6, 5, 4, 8, 0, 2, 7, 1, 3, 7, 1, 9, 4, 1, 8, 1, 9, 6, 6, 2, 5, 1, 4, 3, 9, 8, 9, 6, 6, 4, 9, 9, 7, 4, 8, 2, 3, 4, 4, 4, 7, 6, 7, 2, 5, 5, 2, 5, 8, 0, 3, 2, 0, 8, 0, 0, 2, 6, 7, 8, 8, 1, 8, 7, 3, 1, 3, 6, 3, 7, 0, 6, 1, 8, 4, 7, 7, 4, 3, 9, 2, 3, 6, 3, 1, 5, 6, 8, 7, 0, 4, 3, 0, 7, 9, 9, 4, 7, 3, 7, 1, 9, 9, 1, 7, 6, 0, 7, 5, 8, 6, 0, 9, 1, 2, 2, 9, 3, 0, 4, 1, 5, 6, 6, 1, 7, 0, 8, 7, 9, 6, 0, 9, 1, 6, 2, 9, 3, 2, 4, 5, 5, 1, 6, 1, 7, 7, 8, 5, 9, 1, 0, 4, 1, 4, 2, 3, 3, 1, 4, 1, 5, 0, 6, 7, 7, 3, 8, 9, 5, 1, 1, 1, 9, 5, 9, 1, 7, 1, 1, 6, 0, 8, 9, 7, 0, 2, 5, 3, 9, 6, 7, 8, 1, 0, 7, 3, 2, 1, 2, 7, 3, 4, 6, 1, 8, 1, 0, 9, 8, 0, 3, 1, 2, 7, 0, 2, 9, 6, 0, 1, 6, 7, 1, 9, 7, 6, 5, 5, 8, 8, 3, 4, 4, 8, 7, 3, 6, 4, 6, 6, 3, 8, 8, 9, 9, 4, 4, 0, 7, 8, 1, 0, 0, 1, 8, 5, 7, 1, 7, 5, 5, 9, 9, 4, 2, 5, 3, 7, 4, 6, 6, 0, 1, 0, 1, 2, 4, 8, 5, 3, 5, 0, 0, 6, 4, 3, 8, 3, 7, 1, 4, 3, 9, 2, 2, 0, 3, 6, 6, 7, 4, 3, 2, 2, 4, 9, 1, 0, 5, 2, 4, 8, 2, 1, 0, 8, 4, 4, 8, 0, 6, 4, 1, 4, 9, 6, 3, 1, 2, 9, 0, 1, 0, 4, 2, 9, 9, 4, 3, 8, 6, 9, 3, 0, 6, 7, 0, 3, 1, 4, 2, 3, 3, 0, 4, 2, 5, 5, 6, 3, 7, 2, 8, 5, 9, 2, 0, 1, 1, 8, 2, 9, 3, 1, 4, 1, 5, 7, 6, 4, 7, 7, 8, 3, 9, 3, 0, 5, 1, 3, 2, 0, 3, 0, 4, 0, 7, 4, 8, 8, 9, 0, 0, 1, 8, 7, 3, 9, 9, 5, 5, 9, 6, 7, 8, 2, 4, 6, 9, 8, 1, 6, 7, 9, 1, 6, 2, 0, 9, 6, 6, 2, 9, 1, 1, 2, 1, 3, 1, 5, 2, 7, 8, 0, 1, 0, 2, 8, 0, 2, 7, 3, 7, 5, 5, 1, 8, 2, 2, 6, 9, 1, 8, 7, 4, 0, 6, 0, 7, 3, 1, 0, 6, 6, 0, 9, 3, 4, 6, 7, 8, 9, 7, 3, 0, 0, 4, 0, 2, 6, 7, 5, 4, 6, 4, 8, 2, 0, 8, 7, 1, 7, 5, 1, 1, 2, 2, 7, 5, 6, 6, 7, 4, 2, 3, 9, 0, 2, 0, 9, 0, 4, 3, 4, 7, 7, 0, 3, 6, 0, 4, 3, 8, 6, 8, 1, 3, 8, 9, 0, 9, 0, 8, 0, 2, 8, 7, 8, 7, 9, 1, 7, 0, 3, 1, 4, 2, 3, 3, 8, 4, 9, 5, 6, 6, 4, 7, 0, 8, 3, 9, 8, 0, 6, 1, 8, 2, 5, 3, 2, 4, 5, 5, 6, 6, 9, 7, 3, 8, 9, 9, 3, 0, 8, 1, 3, 2, 0, 3, 2, 4, 9, 5, 9, 6, 4, 7, 3, 8, 4, 9, 3, 6, 5, 2, 7, 5, 8, 6, 2, 2, 7, 5, 5, 1, 9, 7, 1, 1, 8, 8, 3, 3, 3, 8, 2, 7, 2, 1, 5, 7, 3, 1, 4, 4, 7, 7, 7, 2, 4, 6, 5, 5, 9, 3, 5, 9, 3, 9, 8, 0, 0, 8, 0, 7, 6, 3, 0, 0, 0, 3, 7, 7, 8, 0, 8, 1, 9, 1, 2, 2, 4, 1, 1, 6, 6, 0, 0, 5, 4, 3, 9, 3, 1, 6, 7, 3, 0, 5, 1, 9, 0, 9, 7, 0, 5, 1, 2, 2, 3, 3, 0, 4, 0, 5, 1, 6, 9, 7, 1, 8, 9, 9, 6, 0, 5, 1, 2, 2, 1, 3, 9, 4, 8, 7, 8, 8, 9, 9, 7, 0, 3, 1, 9, 2, 7, 3, 8, 4, 5, 5, 1, 6, 6, 7, 6, 8, 9, 9, 0, 6, 3, 0, 7, 7, 6, 3, 7, 7, 1, 1, 9, 3, 8, 7, 6, 9, 3, 7, 4, 4, 1, 0, 7, 0, 6, 6, 3, 9, 4, 5, 9, 6, 8, 9, 7, 8, 5, 5, 6, 1, 2, 5, 0, 3, 5, 9, 0, 8, 1, 3, 0, 4, 9, 0, 3, 5, 2, 6, 5, 3, 0, 4, 2, 8, 7, 0, 8, 6, 1, 4, 6, 8, 6, 1, 4, 3, 2, 4, 3, 0, 3, 1, 1, 9, 0, 2, 1, 3, 7, 7, 7, 5, 6, 1, 2, 7, 9, 2, 3, 8, 0, 7, 9, 0, 5, 1, 5, 9, 8, 6, 9, 4, 0, 1, 7, 2, 5, 3, 8, 1, 6, 3, 6, 5, 6, 3, 5, 4, 0, 1, 0, 6, 0, 8, 8, 0, 0, 8, 2, 9, 3, 4, 9, 9, 2, 2, 1, 6, 3, 0, 5, 1, 1, 2, 7, 3, 9, 5, 4, 6, 2, 7, 2, 8, 9, 9, 3, 0, 0, 1, 1, 2, 4, 4, 3, 5, 3, 6, 9, 7, 5, 8, 2, 9, 9, 0, 3, 1, 6, 2, 5, 3, 7, 4, 1, 5, 2, 6, 1, 7, 2, 8, 4, 9, 6, 0, 7, 7, 3, 5, 6, 0, 6, 8, 5, 4, 7, 1, 6, 8, 6, 8, 7, 1, 7, 3, 3, 1, 2, 8, 4, 3, 9, 7, 4, 9, 3, 3, 8, 0, 6, 9, 6, 4, 9, 4, 0, 0, 6, 7, 3, 4, 1, 2, 2, 9, 7, 8, 3, 7, 4, 2, 1, 7, 6, 8, 5, 9, 0, 3, 6, 1, 1, 4, 9, 6, 3, 5, 1, 2, 1, 2, 0, 2, 6, 5, 6, 6, 1, 7, 3, 8, 4, 7, 5, 5, 3, 1, 9, 6, 1, 4, 1, 9, 5, 2, 9, 9, 3, 3, 5, 5, 9, 3, 1, 6, 9, 6, 4, 0, 1, 0, 0, 2, 0, 5, 0, 6, 2, 4, 9, 9, 8, 2, 8, 7, 9, 4, 2, 9, 2, 1, 5, 0, 7, 2, 2, 2, 6, 3, 7, 6, 2, 1, 8, 8, 9, 3, 6, 0, 3, 3, 9, 5, 3, 0, 2, 0, 1, 6, 0, 1, 5, 6, 4, 9, 0, 5, 9, 3, 3, 9, 4, 4, 7, 5, 6, 8, 1, 6, 2, 7, 4, 1, 6, 1, 3, 7, 4, 0, 6, 1, 9, 2, 1, 3, 7, 4, 3, 5, 8, 6, 3, 7, 7, 8, 0, 9, 3, 0, 4, 1, 5, 2, 7, 3, 2, 4, 6, 5, 9, 6, 1, 7, 6, 8, 6, 9, 6, 0, 1, 1, 5, 2, 8, 3, 0, 4, 9, 5, 2, 6, 7, 7, 3, 8, 5, 9, 1, 1, 8, 0, 6, 4, 5, 5, 4, 6, 8, 6, 3, 3, 0, 4, 9, 4, 2, 2, 3, 8, 9, 1, 2, 0, 7, 6, 3, 4, 7, 9, 1, 7, 7, 2, 2, 3, 4, 3, 2, 9, 1, 2, 7, 0, 8, 9, 5, 3, 1, 3, 8, 9, 9, 1, 0, 5, 9, 2, 2, 3, 1, 1, 9, 6, 5, 7, 7, 3, 6, 7, 9, 8, 0, 4, 5, 0, 3, 2, 9, 4, 6, 0, 1, 2, 3, 4, 1, 7, 1, 8, 5, 0, 2, 7, 1, 0, 3, 6, 4, 9, 1, 3, 2, 2, 2, 4, 4, 8, 7, 6, 7, 0, 7, 1, 8, 0, 2, 6, 7, 7, 1, 2, 2, 9, 0, 7, 3, 9, 6, 5, 8, 8, 4, 9, 9, 6, 8, 6, 4, 2, 9, 8, 9, 1, 9, 7, 2, 5, 3, 5, 2, 7, 9, 3, 7, 5, 6, 0, 5, 1, 3, 1, 4, 3, 1, 8, 5, 4, 2, 9, 1, 4, 6, 5, 8, 1, 5, 8, 5, 6, 7, 8, 2, 9, 1, 0, 1, 1, 4, 2, 2, 3, 8, 4, 3, 5, 4, 6, 4, 7, 2, 8, 7, 9, 1, 0, 0, 1, 3, 2, 1, 3, 9, 4, 6, 5, 9, 6, 8, 7, 8, 8, 1, 0, 6, 1, 7, 2, 7, 3, 2, 4, 1, 5, 4, 6, 4, 7, 4, 8, 1, 9, 5, 6, 6, 6, 4, 3, 2, 4, 9, 2, 5, 8, 5, 1, 7, 0, 7, 6, 3, 4, 8, 9, 3, 7, 8, 2, 5, 3, 0, 3, 9, 9, 0, 3, 3, 3, 5, 9, 0, 1, 7, 5, 9, 2, 4, 3, 9, 1, 4, 6, 4, 7, 0, 3, 1, 7, 0, 8, 8, 4, 5, 0, 0, 2, 1, 4, 0, 0, 0, 7, 9, 8, 4, 0, 6, 7, 3, 0, 3, 6, 2, 9, 5, 3, 2, 2, 3, 4, 5, 8, 8, 6, 1, 0, 7, 5, 2, 7, 3, 5, 8, 1, 1, 0, 9, 8, 5, 1, 1, 6, 5, 7, 9, 2, 7, 9, 1, 7, 9, 9, 1, 5, 2, 6, 6, 5, 8, 2, 6, 6, 0, 1, 6, 7, 3, 5, 0, 5, 6, 7, 8, 3, 0, 5, 1, 0, 3, 1, 5, 1, 2, 3, 3, 8, 5, 1, 3, 0, 0, 1, 4, 2, 5, 3, 3, 4, 3, 5, 7, 6, 5, 7, 1, 8, 9, 9, 3, 0, 2, 1, 0, 2, 0, 3, 4, 4, 3, 5, 6, 6, 4, 7, 6, 8, 1, 9, 9, 0, 4, 1, 6, 2, 2, 3, 0, 4, 8, 5, 5, 6, 6, 7, 7, 8, 2, 9, 2, 7, 6, 4, 4, 7, 6, 7, 1, 3, 4, 9, 2, 8, 2, 8, 0, 3, 8, 1, 3, 5, 0, 8, 5, 2, 8, 7, 8, 6, 7, 1, 8, 5, 9, 2, 3, 6, 9, 4, 9, 1, 3, 8, 5, 7, 6, 5, 7, 5, 1, 1, 4, 8, 8, 9, 4, 1, 0, 3, 2, 6, 9, 3, 8, 3, 4, 2, 6, 2, 7, 6, 4, 6, 1, 5, 4, 5, 1, 3, 4, 3, 6, 8, 9, 1, 7, 6, 1, 5, 1, 6, 6, 8, 6, 1, 3, 9, 6, 7, 8, 6, 8, 8, 3, 3, 1, 7, 9, 9, 7, 0, 3, 0, 3, 3, 4, 7, 4, 9, 7, 3, 6, 0, 8, 2, 8, 0, 4, 1, 5, 0, 3, 1, 0, 0, 7, 1, 8, 0, 8, 4, 8, 7, 2, 9, 2, 2, 2, 0, 0, 6, 3, 2, 9, 6, 5, 2, 6, 2, 1, 9, 2, 9, 5, 0, 5, 1, 0, 2, 7, 3, 4, 4, 1, 5, 4, 6, 3, 8, 5, 9, 3, 0, 5, 1, 7, 3, 9, 4, 6, 5, 4, 6, 4, 7, 0, 8, 1, 9, 5, 0, 1, 1, 0, 2, 7, 3, 7, 4, 6, 5, 6, 6, 9, 7, 7, 8, 1, 9, 0, 1, 1, 8, 0, 6, 3, 7, 0, 1, 3, 3, 5, 7, 4, 7, 4, 9, 1, 3, 6, 6, 7, 0, 4, 2, 6, 6, 8, 4, 0, 8, 6, 4, 9, 5, 1, 0, 0, 3, 7, 9, 6, 2, 8, 1, 8, 1, 1, 5, 3, 9, 7, 4, 3, 2, 7, 0, 0, 4, 8, 4, 3, 0, 2, 9, 3, 6, 0, 9, 7, 2, 5, 2, 8, 1, 5, 7, 4, 9, 2, 5, 5, 1, 3, 1, 5, 9, 8, 6, 9, 0, 8, 1, 4, 8, 6, 4, 4, 6, 6, 8, 0, 8, 4, 2, 8, 6, 8, 3, 4, 2, 4, 9, 8, 2, 8, 4, 7, 0, 9, 9, 1, 0, 7, 3, 3, 3, 6, 5, 5, 8, 0, 4, 1, 7, 5, 6, 9, 2, 5, 2, 9, 7, 3, 7, 2, 0, 5, 5, 9, 1, 5, 5, 6, 3, 3, 0, 3, 1, 2, 2, 7, 3, 1, 4, 7, 5, 5, 6, 1, 7, 9, 8, 6, 0, 6, 1, 7, 4, 1, 7, 7, 0, 5, 1, 9, 4, 5, 7, 4, 8, 3, 9, 3, 6, 8, 8, 3, 2, 1, 4, 7, 6, 3, 8, 3, 6, 7, 6, 2, 7, 3, 1, 7, 7, 8, 0, 9, 2, 3, 2, 9, 0, 8, 1, 1, 6, 0, 5, 6, 1, 7, 2, 9, 0, 5, 2, 8, 3, 8, 4, 8, 8, 2, 3, 1, 7, 2, 4, 9, 1, 8, 7, 6, 4, 7, 8, 0, 3, 0, 9, 8, 6, 9, 7, 3, 0, 0, 9, 0, 6, 0, 0, 2, 6, 8, 1, 5, 0, 5, 5, 6, 5, 5, 1, 7, 0, 5, 1, 4, 0, 2, 9, 8, 4, 4, 5, 1, 9, 8, 7, 4, 0, 0, 2, 9, 1, 6, 4, 7, 4, 0, 9, 2, 6, 9, 7, 0, 4, 1, 8, 1, 9, 5, 0, 8, 1, 7, 2, 3, 3, 5, 7, 8, 8, 4, 0, 0, 1, 1, 2, 8, 3, 5, 4, 3, 5, 8, 6, 0, 8, 0, 9, 7, 0, 9, 1, 3, 7, 1, 9, 0, 6, 6, 3, 0, 3, 5, 9, 9, 9, 2, 5, 1, 1, 8, 4, 1, 2, 3, 5, 2, 4, 1, 7, 6, 9, 2, 1, 4, 5, 7, 2, 9, 6, 6, 3, 9, 7, 4, 8, 6, 5, 6, 1, 3, 2, 9, 6, 9, 6, 5, 7, 5, 8, 1, 8, 9, 1, 4, 8, 8, 3, 4, 7, 6, 0, 0, 0, 0, 1, 3, 5, 3, 0, 8, 5, 1, 2, 2, 8, 8, 0, 5, 4, 2, 3, 9, 1, 3, 8, 4, 2, 5, 9, 3, 9, 0, 5, 1, 2, 3, 6, 0, 5, 4, 7, 8, 1, 2, 9, 5, 7, 7, 1, 1, 2, 4, 6, 9, 0, 8, 0, 8, 1, 4, 2, 1, 3, 8, 4, 3, 5, 9, 6, 2, 7, 9, 8, 9, 9, 6, 0, 4, 1, 6, 2, 9, 3, 7, 4, 6, 7, 3, 8, 5, 9, 8, 0, 6, 1, 1, 2, 6, 3, 7, 4, 8, 7, 6, 8, 5, 9, 1, 5, 7, 1, 5, 9, 1, 9, 2, 0, 5, 9, 5, 0, 4, 5, 3, 9, 9, 1, 0, 7, 9, 2, 9, 2, 5, 3, 2, 3, 9, 2, 2, 0, 6, 9, 5, 0, 0, 6, 9, 1, 5, 7, 7, 5, 4, 0, 4, 3, 7, 4, 0, 7, 3, 6, 8, 6, 2, 3, 6, 3, 4, 8, 6, 4, 8, 7, 5, 1, 7, 0, 7, 8, 8, 7, 9, 5, 9, 2, 7, 1, 8, 1, 0, 4, 8, 5, 3, 5, 1, 0, 2, 4, 8, 8, 1, 7, 3, 4, 7, 9, 3, 2, 0, 3, 7, 6, 6, 4, 2, 1, 5, 2, 7, 1, 4, 5, 7, 2, 5, 0, 8, 4, 0, 8, 2, 6, 7, 1, 0, 9, 4, 3, 5, 2, 2, 0, 0, 0, 5, 2, 8, 5, 0, 6, 7, 9, 5, 3, 7, 6, 7, 3, 7, 6, 5, 0, 2, 1, 2, 2, 3, 3, 6, 4, 8, 6, 1, 7, 1, 8, 1, 9, 2, 0, 1, 1, 3, 2, 2, 3, 9, 4, 7, 5, 7, 1, 3, 7, 1, 8, 4, 0, 2, 1, 9, 2, 2, 3, 6, 1, 8, 7, 7, 8, 1, 8, 4, 5, 5, 7, 7, 9, 5, 5, 8, 0, 6, 8, 1, 3, 6, 5, 0, 4, 6, 8, 0, 3, 4, 0, 0, 2, 9, 1, 7, 0, 1, 2, 9, 5, 2, 8, 9, 8, 5, 5, 5, 3, 2, 0, 2, 4, 8, 4, 6, 1, 9, 6, 7, 1, 1, 3, 5, 0, 2, 3, 4, 6, 6, 9, 0, 3, 8, 7, 2, 9, 8, 7, 8, 0, 6, 4, 9, 8, 2, 3, 6, 2, 1, 7, 4, 7, 2, 9, 7, 5, 1, 1, 7, 5, 1, 2, 9, 8, 8, 9, 1, 6, 6, 9, 5, 7, 0, 6, 8, 4, 0, 1, 2, 2, 3, 0, 1, 6, 4, 1, 6, 1, 6, 7, 0, 2, 7, 3, 8, 6, 1, 4, 1, 8, 2, 6, 4, 4, 6, 6, 3, 5, 3, 0, 8, 2, 1, 0, 3, 5, 5, 6, 2, 5, 4, 0, 6, 1, 3, 2, 9, 1, 8, 7, 8, 8, 7, 1, 7, 4, 2, 3, 2, 2, 7, 8, 3, 2, 9, 7, 1, 9, 2, 3, 3, 9, 2, 0, 1, 1, 1, 2, 3, 3, 8, 4, 8, 5, 5, 6, 8, 7, 7, 8, 2, 9, 0, 0, 1, 1, 4, 2, 2, 3, 1, 4, 1, 5, 3, 6, 6, 7, 0, 8, 3, 9, 1, 0, 5, 1, 3, 2, 8, 3, 9, 4, 3, 7, 9, 8, 8, 9, 6, 0, 7, 0, 2, 1, 9, 0, 3, 1, 7, 2, 1, 7, 3, 5, 6, 3, 9, 4, 8, 4, 2, 0, 0, 0, 0, 6, 8, 9, 9, 6, 1, 6, 6, 2, 1, 3, 4, 4, 6, 4, 4, 9, 0, 1, 7, 7, 2, 9, 4, 5, 2, 7, 5, 5, 5, 6, 9, 2, 6, 3, 1, 1, 1, 4, 8, 4, 1, 0, 7, 9, 9, 9, 2, 6, 2, 1, 3, 8, 1, 3, 3, 3, 8, 7, 7, 3, 2, 9, 9, 8, 2, 8, 3, 4, 2, 7, 2, 7, 3, 6, 0, 2, 1, 1, 2, 9, 2, 8, 3, 7, 2, 8, 9, 8, 3, 2, 5, 3, 4, 9, 1, 0, 7, 7, 8, 9, 9, 0, 8, 6, 0, 4, 2, 1, 5, 1, 9, 2, 8, 8, 4, 2, 1, 6, 0, 1, 3, 5, 1, 0, 8, 1, 1, 2, 5, 3, 5, 4, 8, 5, 0, 6, 5, 7, 1, 8, 7, 9, 4, 0, 8, 1, 0, 2, 1, 3, 3, 4, 4, 5, 7, 6, 6, 7, 2, 8, 8, 9, 0, 0, 1, 1, 3, 2, 6, 3, 0, 4, 5, 5, 9, 6, 5, 7, 9, 8, 0, 9, 0, 2, 1, 2, 1, 7, 5, 6, 5, 4, 9, 0, 7, 5, 8, 8, 1, 0, 1, 7, 4, 3, 2, 5, 8, 4, 2, 1, 9, 8, 8, 0, 6, 5, 8, 2, 0, 7, 0, 2, 0, 3, 9, 6, 1, 2, 9, 1, 2, 7, 0, 7, 9, 9, 0, 9, 7, 1, 9, 2, 0, 4, 8, 6, 4, 7, 2, 7, 5, 5, 5, 4, 3, 5, 6, 0, 6, 1, 6, 1, 4, 9, 3, 9, 0, 8, 3, 0, 3, 2, 4, 0, 2, 3, 5, 5, 6, 6, 7, 1, 7, 8, 1, 6, 5, 4, 0, 6, 2, 0, 6, 9, 4, 2, 8, 6, 5, 4, 3, 3, 3, 9, 0, 3, 3, 0, 7, 0, 5, 5, 2, 2, 4, 5, 0, 8, 9, 8, 1, 8, 6, 9, 9, 4, 7, 3, 1, 4, 6, 2, 7, 8, 0, 8, 3, 7, 0, 1, 3, 1, 3, 3, 5, 6, 2, 9, 9, 4, 5, 1, 6, 3, 9, 8, 7, 7, 1, 6, 6, 9, 6, 3, 6, 3, 2, 7, 1, 4, 2, 1, 7, 9, 4, 1, 0, 0, 7, 6, 1, 0, 3, 1, 0, 2, 0, 3, 6, 4, 2, 5, 5, 6, 1, 7, 0, 8, 0, 9, 1, 0, 7, 3, 0, 4, 8, 5, 3, 6, 3, 7, 1, 8, 5, 9, 5, 0, 7, 1, 8, 2, 0, 3, 8, 7, 7, 8, 6, 9, 7, 7, 7, 6, 6, 0, 8, 6, 6, 6, 2, 6, 2, 9, 1, 0, 0, 0, 1, 1, 1, 3, 3, 9, 1, 7, 7, 3, 7, 8, 0, 5, 4, 8, 1, 1, 5, 4, 1, 8, 7, 5, 3, 1, 7, 0, 3, 1, 5, 6, 3, 0, 1, 3, 7, 8, 7, 9, 3, 2, 2, 1, 2, 7, 6, 4, 4, 5, 8, 2, 2, 8, 7, 4, 9, 7, 1, 1, 9, 8, 1, 0, 6, 6, 2, 3, 3, 2, 3, 9, 7, 0, 8, 4, 3, 7, 9, 4, 4, 3, 8, 4, 9, 5, 3, 0, 7, 0, 0, 2, 5, 0, 3, 1, 7, 2, 1, 3, 5, 4, 0, 5, 3, 6, 4, 7, 7, 8, 4, 9, 0, 0, 0, 1, 9, 2, 4, 3, 7, 4, 6, 7, 0, 8, 7, 9, 0, 0, 6, 1, 2, 2, 0, 3, 1, 7, 4, 8, 8, 9, 7, 8, 0, 6, 8, 5, 9, 0, 8, 6, 6, 8, 6, 9, 9, 4, 9, 1, 5, 9, 9, 0, 8, 4, 6, 8, 6, 9, 1, 1, 1, 4, 2, 0, 6, 5, 3, 5, 8, 4, 2, 0, 4, 7, 4, 6, 1, 0, 3, 1, 6, 7, 0, 0, 9, 6, 9, 8, 3, 7, 7, 9, 7, 8, 8, 6, 0, 0, 4, 8, 2, 1, 2, 7, 6, 7, 8, 1, 4, 3, 1, 1, 6, 0, 8, 0, 1, 7, 2, 8, 5, 9, 1, 3, 7, 8, 6, 4, 4, 7, 1, 2, 9, 3, 3, 6, 9, 9, 6, 2, 4, 2, 5, 4, 9, 6, 1, 5, 6, 5, 1, 1, 9, 3, 5, 3, 2, 7, 1, 8, 8, 2, 5, 5, 7, 7, 4, 9, 9, 8, 9, 2, 7, 1, 2, 3, 9, 0, 3, 1, 1, 2, 6, 3, 1, 4, 4, 5, 2, 6, 6, 7, 1, 8, 4, 9, 9, 0, 2, 1, 0, 2, 2, 3, 7, 4, 6, 5, 2, 6, 8, 7, 9, 8, 1, 9, 6, 0, 2, 1, 9, 2, 3, 4, 8, 6, 3, 7, 6, 8, 7, 9, 5, 3, 1, 8, 4, 0, 9, 7, 1, 1, 9, 0, 7, 7, 9, 5, 8, 5, 8, 6, 3, 9, 6, 0, 3, 1, 1, 0, 6, 0, 4, 8, 8, 3, 1, 4, 0, 3, 1, 1, 3, 0, 6, 9, 5, 5, 1, 3, 2, 4, 3, 9, 7, 3, 9, 7, 4, 6, 7, 9, 2, 2, 7, 4, 3, 5, 4, 7, 7, 2, 1, 1, 7, 6, 1, 4, 4, 9, 2, 4, 8, 9, 9, 4, 1, 1, 6, 2, 9, 2, 7, 1, 7, 3, 2, 2, 4, 9, 1, 4, 7, 3, 3, 8, 9, 2, 1, 2, 0, 2, 2, 1, 7, 2, 8, 8, 9, 6, 4, 5, 5, 1, 9, 6, 6, 7, 9, 2, 2, 1, 4, 3, 6, 7, 6, 5, 2, 9, 5, 3, 4, 8, 5, 7, 1, 5, 4, 7, 1, 0, 9, 7, 5, 4, 6, 8, 1, 8, 8, 3, 1, 7, 8, 6, 5, 9, 2, 9, 3, 4, 9, 8, 5, 4, 1, 1, 8, 0, 0, 6, 3, 6, 8, 0, 6, 1, 8, 2, 6, 3, 8, 4, 4, 6, 7, 7, 3, 8, 9, 0, 1, 1, 4, 2, 3, 3, 3, 4, 5, 5, 9, 6, 3, 7, 7, 8, 6, 9, 8, 0, 0, 1, 6, 2, 5, 3, 8, 5, 8, 6, 5, 7, 9, 4, 1, 0, 2, 7, 2, 2, 5, 9, 8, 4, 5, 2, 9, 9, 2, 8, 0, 4, 3, 5, 7, 8, 1, 8, 3, 0, 8, 3, 5, 5, 4, 4, 6, 3, 1, 3, 6, 4, 9, 6, 1, 5, 8, 1, 8, 7, 2, 8, 3, 4, 0, 5, 3, 7, 6, 2, 3, 3, 4, 6, 7, 6, 3, 7, 9, 7, 7, 7, 1, 6, 3, 0, 2, 1, 0, 0, 6, 1, 3, 6, 3, 5, 6, 3, 6, 1, 3, 4, 6, 7, 7, 6, 3, 2, 4, 2, 2, 5, 1, 9, 0, 1, 4, 2, 4, 2, 2, 7, 6, 9, 6, 7, 6, 9, 2, 2, 4, 0, 5, 4, 2, 8, 6, 7, 6, 0, 2, 3, 7, 8, 6, 4, 6, 6, 4, 1, 4, 4, 5, 0, 2, 3, 3, 6, 3, 2, 3, 0, 2, 4, 3, 8, 4, 1, 8, 3, 0, 1, 0, 0, 6, 9, 5, 0, 9, 1, 1, 2, 4, 3, 6, 5, 7, 6, 0, 7, 4, 8, 1, 0, 8, 1, 8, 2, 2, 3, 2, 4, 0, 5, 8, 6, 4, 7, 0, 8, 1, 0, 3, 1, 5, 2, 6, 3, 6, 4, 4, 5, 3, 6, 3, 7, 4, 8, 2, 9, 7, 8, 4, 3, 3, 7, 2, 0, 4, 1, 4, 7, 2, 3, 9, 0, 1, 9, 2, 4, 6, 5, 3, 2, 2, 0, 7, 6, 0, 2, 1, 1, 5, 1, 5, 1, 7, 7, 1, 2, 6, 4, 4, 2, 9, 9, 6, 7, 9, 0, 3, 0, 3, 7, 8, 5, 6, 1, 1, 1, 8, 6, 6, 1, 0, 8, 8, 2, 7, 7, 6, 4, 4, 0, 5, 4, 4, 2, 0, 5, 0, 0, 2, 3, 0, 1, 4, 9, 6, 1, 5, 1, 4, 0, 0, 6, 8, 9, 7, 3, 2, 0, 0, 8, 6, 3, 7, 9, 5, 6, 5, 3, 9, 0, 6, 1, 9, 4, 1, 5, 3, 6, 8, 7, 3, 8, 3, 9, 7, 0, 5, 1, 7, 2, 8, 3, 6, 4, 2, 5, 6, 6, 5, 7, 2, 8, 4, 0, 7, 1, 2, 2, 1, 3, 4, 4, 1, 5, 8, 6, 9, 7, 4, 8, 9, 9, 6, 1, 9, 6, 5, 8, 6, 9, 9, 9, 1, 0, 9, 1, 8, 2, 1, 4, 5, 4, 3, 3, 0, 7, 6, 4, 3, 4, 4, 4, 9, 0, 8, 3, 8, 8, 6, 7, 0, 5, 5, 1, 7, 5, 8, 8, 0, 9, 3, 2, 5, 5, 4, 1, 6, 1, 9, 6, 8, 2, 3, 1, 3, 3, 3, 8, 2, 6, 7, 4, 4, 9, 3, 2, 0, 0, 0, 0, 7, 1, 7, 6, 6, 2, 0, 5, 6, 5, 8, 0, 6, 2, 2, 8, 7, 0, 4, 6, 2, 8, 8, 1, 0, 7, 7, 9, 3, 1, 5, 9, 3, 2, 5, 6, 8, 7, 5, 6, 9, 6, 1, 8, 2, 7, 6, 4, 2, 9, 2, 2, 8, 1, 2, 3, 6, 3, 1, 0, 2, 5, 1, 5, 6, 7, 1, 9, 2, 7, 3, 0, 7, 2, 3, 7, 7, 9, 7, 1, 3, 3, 6, 6, 4, 7, 2, 8, 7, 0, 1, 3, 9, 5, 1, 3, 3, 6, 0, 0, 1, 1, 3, 2, 3, 3, 9, 6, 9, 7, 9, 8, 0, 9, 1, 0, 8, 1, 6, 2, 2, 3, 5, 4, 0, 5, 3, 6, 5, 7, 5, 0, 5, 1, 1, 2, 8, 3, 5, 4, 6, 5, 5, 6, 0, 7, 5, 8, 9, 9, 4, 8, 1, 7, 5, 4, 1, 3, 7, 9, 8, 8, 2, 8, 4, 3, 8, 1, 5, 5, 5, 8, 4, 2, 9, 7, 2, 4, 5, 2, 1, 6, 3, 5, 7, 2, 5, 4, 3, 5, 4, 6, 9, 4, 4, 1, 9, 7, 2, 5, 2, 1, 3, 3, 0, 3, 1, 6, 0, 9, 8, 6, 4, 3, 3, 3, 5, 1, 7, 6, 3, 5, 3, 6, 0, 1, 3, 9, 7, 3, 9, 7, 1, 4, 7, 7, 7, 0, 4, 9, 6, 0, 0, 0, 4, 3, 7, 7, 6, 9, 9, 2, 5, 0, 0, 1, 7, 0, 0, 1, 0, 0, 6, 4, 5, 0, 5, 4, 3, 7, 6, 9, 7, 2, 2, 0, 1, 6, 0, 2, 0, 2, 1, 9, 3, 9, 2, 0, 6, 1, 2, 2, 8, 3, 1, 4, 7, 5, 4, 6, 7, 7, 6, 8, 7, 9, 9, 0, 0, 1, 2, 2, 7, 3, 6, 4, 5, 5, 3, 6, 2, 7, 3, 8, 7, 0, 0, 1, 6, 2, 8, 3, 0, 5, 9, 6, 6, 7, 4, 8, 7, 5, 1, 4, 2, 8, 0, 7, 2, 4, 7, 7, 1, 7, 0, 3, 8, 9, 6, 8, 4, 8, 7, 3, 1, 1, 8, 5, 4, 8, 5, 2, 1, 7, 2, 4, 6, 2, 6, 6, 5, 1, 6, 5, 7, 2, 1, 4, 4, 5, 7, 5, 1, 8, 3, 6, 8, 4, 6, 4, 7, 1, 2, 8, 3, 7, 2, 5, 7, 5, 8, 1, 3, 8, 3, 9, 9, 1, 1, 3, 1, 6, 3, 3, 1, 3, 3, 2, 4, 2, 1, 6, 9, 9, 4, 9, 4, 6, 3, 3, 3, 3, 8, 8, 9, 1, 7, 6, 5, 5, 3, 6, 8, 8, 5, 1, 9, 9, 7, 7, 2, 6, 7, 8, 6, 3, 3, 7, 0, 4, 2, 7, 3, 0, 2, 9, 1, 0, 7, 0, 1, 3, 3, 7, 2, 9, 5, 3, 8, 0, 0, 2, 5, 0, 6, 1, 8, 0, 3, 1, 0, 0, 6, 4, 6, 0, 4, 1, 3, 0, 9, 4, 0, 7, 2, 9, 4, 2, 7, 0, 4, 6, 0, 2, 2, 6, 7, 2, 8, 2, 9, 9, 3, 9, 8, 0, 1, 1, 2, 2, 5, 3, 7, 4, 0, 5, 0, 6, 4, 7, 2, 8, 0, 9, 9, 0, 9, 1, 2, 2, 9, 3, 6, 4, 8, 5, 8, 6, 3, 7, 7, 8, 5, 9, 2, 0, 7, 1, 2, 2, 3, 3, 2, 4, 8, 5, 9, 6, 3, 7, 7, 8, 0, 9, 8, 7, 8, 4, 1, 3, 6, 8, 5, 5, 6, 1, 1, 8, 0, 5, 6, 2, 9, 8, 3, 6, 5, 1, 6, 9, 6, 2, 0, 4, 0, 0, 5, 9, 2, 9, 6, 3, 2, 7, 8, 7, 0, 9, 2, 1, 9, 8, 0, 2, 1, 7, 8, 5, 9, 8, 3, 5, 2, 3, 8, 2, 7, 2, 1, 0, 5, 5, 6, 8, 2, 6, 3, 0, 8, 4, 3, 0, 9, 3, 6, 8, 0, 1, 9, 0, 7, 3, 4, 0, 7, 4, 1, 7, 7, 4, 7, 9, 0, 2, 6, 9, 2, 1, 9, 2, 5, 5, 8, 7, 1, 1, 3, 7, 1, 1, 7, 6, 1, 7, 2, 3, 0, 3, 3, 6, 8, 5, 4, 6, 0, 2, 8, 8, 6, 7, 6, 6, 1, 4, 3, 9, 0, 8, 8, 8, 9, 2, 4, 9, 1, 6, 8, 5, 6, 5, 8, 9, 9, 5, 8, 3, 7, 7, 8, 4, 5, 3, 1, 6, 2, 0, 2, 0, 0, 6, 9, 9, 8, 0, 2, 1, 3, 1, 4, 3, 0, 2, 4, 1, 8, 0, 4, 0, 0, 1, 7, 2, 7, 3, 7, 4, 0, 5, 8, 6, 9, 7, 3, 8, 7, 9, 9, 0, 1, 1, 5, 2, 0, 3, 8, 4, 7, 5, 2, 6, 4, 7, 1, 8, 0, 9, 2, 0, 0, 1, 9, 2, 5, 3, 6, 4, 3, 5, 6, 6, 9, 7, 1, 8, 3, 9, 6, 0, 7, 9, 1, 5, 7, 5, 3, 6, 8, 9, 5, 8, 1, 9, 4, 8, 5, 7, 8, 5, 8, 1, 1, 0, 9, 0, 2, 2, 3, 2, 6, 7, 2, 8, 0, 2, 2, 0, 2, 1, 7, 2, 9, 6, 2, 3, 5, 3, 9, 7, 7, 3, 1, 3, 2, 6, 9, 4, 4, 9, 2, 0, 6, 9, 1, 5, 9, 2, 4, 8, 3, 2, 1, 0, 0, 0, 2, 1, 8, 3, 8, 2, 0, 1, 2, 7, 9, 4, 1, 6, 1, 3, 2, 1, 0, 3, 9, 9, 3, 1, 5, 7, 7, 6, 4, 8, 1, 4, 7, 3, 1, 1, 2, 4, 7, 3, 5, 6, 6, 9, 9, 0, 0, 1, 7, 7, 4, 5, 6, 4, 0, 4, 7, 7, 1, 7, 5, 9, 9, 5, 9, 8, 0, 8, 6, 4, 5, 9, 2, 0, 4, 8, 9, 9, 2, 8, 7, 0, 0, 1, 3, 2, 9, 4, 3, 5, 4, 6, 3, 7, 4, 8, 6, 9, 1, 0, 8, 1, 6, 4, 5, 5, 2, 6, 0, 7, 9, 8, 6, 9, 4, 0, 3, 1, 0, 4, 0, 7, 5, 0, 6, 9, 1, 9, 8, 7, 4, 7, 0, 5, 2, 1, 5, 0, 3, 0, 4, 7, 2, 0, 1, 1, 1, 4, 6, 6, 0, 6, 8, 6, 0, 5, 3, 2, 5, 8, 3, 0, 9, 1, 5, 7, 5, 6, 1, 2, 9, 1, 6, 7, 7, 7, 6, 6, 2, 1, 7, 4, 6, 9, 9, 6, 2, 7, 4, 4, 2, 4, 3, 7, 5, 2, 1, 8, 4, 2, 3, 0, 7, 1, 0, 2, 3, 3, 3, 4, 6, 5, 0, 6, 9, 7, 4, 8, 0, 9, 1, 0, 6, 1, 1, 2, 0, 3, 4, 4, 0, 5, 2, 6, 6, 7, 8, 8, 3, 9, 1, 0, 1, 1, 0, 2, 2, 3, 5, 4, 0, 5, 9, 6, 1, 7, 1, 8, 0, 9, 9, 6, 0, 5, 5, 9, 7, 3, 3, 4, 7, 3, 7, 8, 4, 5, 8, 1, 5, 5, 3, 2, 1, 3, 2, 0, 7, 1, 9, 2, 5, 1, 9, 3, 1, 2, 6, 6, 1, 5, 8, 3, 3, 0, 8, 7, 9, 2, 3, 7, 5, 4, 5, 6, 2, 4, 9, 0, 6, 5, 6, 9, 8, 9, 8, 8, 1, 9, 3, 5, 6, 3, 3, 1, 0, 7, 1, 4, 4, 7, 4, 6, 2, 5, 3, 4, 1, 0, 3, 0, 2, 6, 7, 6, 2, 2, 9, 0, 9, 6, 8, 3, 6, 7, 8, 7, 0, 4, 8, 4, 5, 3, 4, 9, 7, 2, 5, 8, 1, 9, 2, 6, 4, 0, 5, 9, 1, 5, 7, 3, 6, 8, 2, 8, 9, 7, 3, 1, 3, 4, 7, 0, 9, 4, 2, 3, 2, 9, 0, 0, 6, 7, 6, 2, 5, 1, 5, 9, 6, 1, 0, 5, 7, 1, 5, 7, 7, 4, 6, 8, 6, 6, 2, 1, 1, 6, 4, 8, 4, 8, 1, 0, 0, 1, 5, 2, 1, 3, 2, 4, 8, 7, 2, 8, 9, 9, 5, 0, 1, 1, 2, 2, 8, 3, 5, 4, 9, 5, 7, 6, 8, 7, 4, 8, 8, 9, 5, 0, 6, 1, 1, 2, 0, 3, 3, 4, 3, 7, 5, 8, 4, 9, 9, 1, 2, 6, 4, 8, 2, 9, 5, 9, 1, 0, 4, 1, 8, 2, 6, 4, 8, 4, 4, 3, 4, 7, 1, 4, 7, 4, 4, 4, 3, 0, 9, 3, 7, 8, 6, 7, 5, 5, 6, 8, 5, 2, 9, 1, 9, 5, 1, 8, 0, 5, 3, 1, 3, 1, 4, 6, 6, 2, 3, 1, 3, 3, 3, 4, 2, 9, 7, 4, 1, 9, 1, 2, 2, 0, 4, 0, 1, 4, 8, 4, 3, 6, 6, 2, 0, 5, 7, 5, 4, 0, 9, 2, 7, 6, 8, 8, 1, 1, 2, 7, 7, 9, 7, 1, 8, 9, 9, 2, 4, 6, 8, 7, 3, 6, 3, 6, 0, 8, 3, 7, 4, 4, 8, 2, 5, 1, 5, 3, 7, 3, 9, 0, 6, 5, 0, 5, 9, 8, 6, 0, 3, 3, 4, 7, 3, 9, 3, 7, 5, 3, 2, 6, 4, 7, 5, 8, 9, 0, 6, 3, 2, 5, 4, 3, 9, 0, 5, 1, 9, 2, 6, 3, 7, 4, 6, 5, 6, 6, 9, 7, 3, 8, 5, 9, 8, 0, 2, 1, 5, 2, 0, 3, 9, 4, 9, 5, 4, 6, 5, 7, 6, 8, 8, 9, 9, 0, 5, 1, 2, 2, 3, 3, 7, 4, 3, 5, 4, 6, 1, 7, 6, 8, 1, 9, 0, 7, 1, 6, 0, 4, 2, 3, 9, 0, 4, 6, 1, 6, 4, 6, 8, 9, 4, 0, 9, 0, 8, 1, 7, 3, 8, 9, 1, 4, 4, 5, 3, 7, 0, 9, 3, 5, 1, 6, 3, 8, 3, 9, 5, 1, 1, 3, 4, 8, 7, 5, 1, 7, 5, 8, 3, 1, 2, 4, 3, 8, 3, 5, 5, 8, 9, 1, 4, 0, 6, 7, 4, 6, 0, 1, 0, 6, 4, 0, 2, 3, 1, 4, 0, 6, 1, 8, 4, 9, 6, 2, 7, 1, 9, 7, 8, 4, 0, 5, 7, 2, 4, 5, 9, 2, 7, 1, 8, 2, 6, 9, 4, 3, 5, 9, 6, 2, 5, 2, 4, 5, 2, 8, 4, 7, 3, 4, 6, 7, 9, 1, 2, 8, 0, 0, 6, 9, 2, 6, 6, 8, 1, 1, 3, 1, 7, 5, 2, 7, 4, 6, 0, 3, 3, 5, 6, 4, 3, 2, 6, 9, 3, 0, 1, 4, 2, 7, 4, 4, 3, 3, 3, 2, 0, 9, 4, 2, 2, 0, 7, 3, 0, 4, 4, 5, 0, 0, 8, 0, 2, 3, 2, 2, 3, 8, 0, 3, 6, 3, 4, 0, 3, 1, 4, 0, 4, 1, 6, 7, 1, 1, 0, 3, 7, 5, 7, 1, 1, 7, 0, 1, 6, 8, 5, 6, 2, 8, 9, 1, 8, 0, 0, 4, 9, 3, 7, 0, 9, 1, 7, 2, 1, 3, 2, 7, 2, 8, 7, 9, 9, 0, 7, 1, 5, 2, 9, 3, 6, 7, 6, 8, 9, 9, 3, 0, 2, 1, 8, 2, 2, 3, 1, 4, 3, 5, 0, 6, 5, 7, 8, 8, 7, 9, 4, 7, 4, 4, 6, 0, 7, 4, 6, 0, 1, 1, 5, 7, 3, 9, 6, 5, 8, 1, 4, 4, 8, 2, 4, 8, 9, 9, 1, 4, 5, 3, 1, 1, 6, 7, 8, 8, 0, 2, 7, 4, 7, 4, 7, 3, 7, 3, 0, 6, 6, 9, 8, 9, 1, 5, 7, 8, 5, 6, 4, 7, 9, 0, 7, 6, 9, 8, 9, 2, 9, 6, 9, 3, 5, 9, 1, 3, 9, 2, 7, 1, 9, 7, 9, 4, 8, 8, 9, 8, 1, 9, 3, 0, 6, 3, 7, 3, 0, 9, 9, 9, 6, 4, 1, 1, 2, 0, 3, 3, 3, 7, 1, 5, 5, 8, 0, 8, 2, 2, 3, 9, 9, 7, 1, 1, 2, 2, 9, 6, 7, 4, 4, 2, 8, 3, 5, 6, 1, 6, 4, 5, 7, 0, 1, 0, 5, 2, 1, 8, 7, 1, 9, 6, 1, 1, 9, 0, 6, 4, 3, 3, 2, 1, 8, 6, 7, 1, 1, 9, 7, 0, 3, 1, 2, 2, 9, 3, 8, 4, 0, 5, 2, 6, 1, 7, 5, 8, 1, 9, 4, 0, 6, 1, 0, 2, 0, 3, 8, 4, 5, 5, 1, 6, 7, 7, 0, 8, 7, 9, 7, 0, 6, 1, 5, 2, 0, 3, 1, 4, 2, 5, 2, 6, 6, 7, 7, 8, 1, 9, 0, 8, 5, 6, 1, 5, 1, 0, 1, 6, 2, 8, 9, 9, 9, 4, 7, 1, 7, 9, 8, 5, 9, 3, 4, 0, 2, 4, 8, 8, 2, 9, 6, 1, 9, 4, 6, 0, 3, 5, 2, 1, 5, 5, 8, 7, 7, 6, 5, 0, 1, 1, 8, 7, 4, 0, 5, 6, 1, 8, 4, 9, 9, 5, 1, 4, 2, 7, 0, 9, 4, 8, 7, 6, 0, 0, 7, 8, 1, 1, 4, 7, 2, 7, 2, 1, 1, 3, 9, 2, 8, 1, 2, 4, 6, 2, 8, 0, 9, 0, 3, 7, 5, 8, 2, 4, 4, 6, 0, 4, 9, 9, 6, 3, 4, 8, 5, 4, 5, 7, 9, 2, 3, 5, 8, 6, 3, 3, 8, 6, 5, 9, 5, 6, 7, 3, 6, 2, 5, 2, 4, 4, 4, 6, 7, 9, 5, 0, 1, 2, 1, 5, 8, 5, 1, 1, 7, 3, 4, 3, 0, 9, 7, 7, 1, 2, 3, 2, 1, 5, 3, 7, 0, 9, 7, 8, 6, 2, 0, 1, 7, 3, 9, 1, 9, 3, 7, 0, 5, 1, 3, 3, 8, 4, 7, 5, 9, 6, 2, 7, 3, 8, 3, 9, 1, 0, 2, 1, 0, 2, 7, 3, 7, 4, 8, 5, 3, 6, 5, 7, 0, 8, 2, 0, 4, 1, 9, 2, 9, 3, 0, 4, 8, 5, 0, 6, 5, 7, 6, 9, 7, 7, 5, 0, 4, 5, 2, 2, 8, 9, 1, 0, 1, 1, 1, 5, 6, 8, 0, 8, 8, 0, 7, 9, 3, 3, 0, 2, 1, 7, 4, 8, 9, 4, 9, 4, 1, 5, 2, 9, 1, 6, 0, 1, 5, 0, 7, 4, 7, 5, 5, 3, 4, 9, 2, 4, 7, 3, 4, 4, 0, 2, 5, 0, 4, 5, 7, 0, 8, 1, 7, 3, 1, 2, 9, 9, 4, 1, 8, 6, 5, 0, 1, 1, 6, 1, 6, 8, 9, 0, 6, 4, 7, 7, 9, 7, 4, 6, 4, 3, 0, 5, 5, 6, 9, 6, 2, 0, 1, 7, 8, 3, 5, 5, 3, 4, 3, 2, 0, 4, 3, 1, 7, 8, 2, 3, 8, 5, 8, 6, 8, 5, 8, 2, 1, 0, 6, 6, 9, 7, 8, 1, 7, 2, 2, 5, 4, 8, 0, 1, 4, 9, 0, 3, 2, 8, 8, 8, 3, 8, 0, 3, 3, 7, 0, 6, 1, 8, 9, 7, 4, 1, 7, 4, 7, 6, 4, 7, 2, 9, 2, 9, 5, 3, 7, 0, 0, 3, 5, 4, 6, 5, 7, 6, 3, 7, 5, 0, 0, 1, 0, 2, 8, 3, 7, 4, 6, 5, 5, 6, 3, 7, 5, 0, 8, 1, 7, 2, 2, 3, 9, 4, 9, 5, 4, 6, 9, 7, 7, 8, 4, 9, 2, 8, 6, 7, 9, 7, 6, 0, 0, 1, 8, 3, 7, 5, 9, 2, 5, 8, 2, 0, 0, 9, 0, 6, 5, 0, 4, 9, 7, 1, 2, 1, 8, 8, 0, 4, 9, 3, 5, 2, 6, 1, 1, 2, 6, 6, 8, 5, 3, 6, 5, 7, 6, 4, 8, 8, 5, 1, 9, 8, 4, 0, 0, 5, 8, 9, 6, 4, 7, 1, 2, 9, 7, 2, 9, 1, 0, 9, 8, 6, 9, 7, 8, 9, 3, 0, 9, 4, 0, 6, 4, 1, 9, 7, 0, 3, 5, 8, 9, 9, 9, 6, 5, 3, 4, 9, 6, 0, 9, 5, 5, 7, 9, 1, 8, 6, 8, 1, 7, 0, 7, 9, 0, 3, 8, 3, 6, 4, 1, 4, 4, 0, 3, 6, 3, 2, 4, 5, 6, 4, 5, 4, 1, 0, 9, 2, 6, 0, 0, 1, 6, 2, 3, 3, 5, 4, 1, 5, 8, 6, 4, 7, 4, 8, 9, 9, 9, 0, 7, 1, 6, 2, 8, 3, 7, 4, 6, 5, 0, 6, 9, 7, 0, 8, 8, 0, 3, 1, 8, 2, 5, 3, 7, 4, 0, 5, 3, 6, 3, 7, 8, 8, 4, 9, 1, 7, 8, 4, 4, 3, 4, 8, 1, 5, 1, 1, 1, 8, 3, 8, 5, 6, 7, 1, 9, 9, 4, 2, 8, 4, 1, 0, 4, 9, 1, 9, 7, 3, 4, 7, 8, 7, 6, 9, 4, 1, 1, 8, 9, 4, 9, 4, 1, 2, 3, 7, 5, 5, 8, 8, 3, 5, 6, 3, 6, 2, 5, 2, 3, 0, 9, 5, 4, 8, 3, 6, 4, 0, 6, 4, 1, 0, 3, 3, 5, 8, 8, 1, 6, 0, 7, 3, 8, 0, 9, 4, 4, 7, 3, 4, 7, 9, 1, 2, 8, 9, 1, 1, 0, 2, 1, 5, 7, 7, 0, 1, 0, 7, 0, 1, 5, 6, 3, 7, 0, 3, 3, 3, 1, 6, 2, 5, 1, 6, 9, 2, 9, 8, 8, 7, 1, 6, 0, 4, 6, 9, 9, 8, 8, 9, 7, 6, 1, 9, 0, 5, 8, 3, 0, 7, 3, 4, 7, 3, 8, 6, 4, 0, 4, 0, 2, 4, 8, 6, 9, 6, 9, 9, 2, 0, 7, 1, 7, 1, 5, 3, 1, 2, 3, 1, 6, 0, 3, 0, 6, 1, 3, 2, 4, 3, 1, 4, 3, 5, 1, 6, 5, 7, 2, 8, 1, 9, 2, 0, 9, 1, 8, 2, 3, 3, 3, 4, 9, 5, 8, 6, 7, 7, 2, 8, 4, 9, 6, 0, 3, 1, 6, 2, 0, 3, 0, 4, 8, 5, 6, 6, 9, 7, 3, 8, 0, 9, 7, 4, 9, 2, 8, 6, 5, 4, 2, 7, 8, 5, 6, 4, 7, 7, 9, 8, 7, 9, 8, 2, 3, 9, 2, 3, 7, 9, 4, 3, 8, 8, 1, 2, 3, 0, 1, 9, 4, 8, 1, 6, 9, 0, 4, 1, 0, 0, 3, 4, 4, 3, 3, 5, 4, 3, 3, 8, 1, 0, 3, 0, 6, 5, 9, 4, 3, 3, 3, 5, 7, 3, 3, 0, 2, 8, 6, 3, 1, 0, 5, 6, 0, 2, 1, 7, 7, 1, 2, 1, 9, 8, 2, 1, 2, 7, 0, 1, 5, 3, 8, 8, 9, 5, 1, 1, 4, 2, 5, 0, 1, 9, 7, 7, 3, 6, 1, 7, 4, 4, 4, 1, 8, 6, 6, 7, 2, 5, 9, 1, 7, 2, 6, 6, 1, 7, 0, 1, 3, 9, 4, 8, 7, 0, 2, 6, 2, 9, 2, 4, 7, 9, 3, 9, 9, 6, 1, 2, 1, 3, 4, 7, 9, 1, 9, 9, 8, 2, 3, 2, 6, 5, 6, 3, 6, 7, 7, 8, 0, 0, 4, 1, 4, 2, 6, 3, 7, 4, 8, 5, 6, 6, 5, 7, 4, 8, 2, 9, 5, 0, 7, 1, 6, 2, 8, 3, 5, 4, 1, 5, 5, 6, 3, 7, 7, 8, 8, 9, 9, 0, 3, 1, 0, 2, 5, 3, 0, 4, 3, 5, 1, 6, 1, 7, 1, 8, 2, 9, 0, 2, 6, 5, 6, 1, 8, 6, 7, 4, 7, 3, 6, 9, 4, 9, 1, 0, 8, 9, 3, 7, 4, 1, 5, 6, 0, 4, 3, 3, 3, 6, 5, 2, 0, 2, 6, 0, 0, 0, 1, 8, 7, 2, 2, 5, 9, 9, 4, 8, 5, 6, 0, 5, 9, 7, 5, 0, 5, 0, 7, 4, 1, 7, 8, 4, 2, 3, 0, 2, 8, 2, 5, 4, 1, 1, 3, 3, 8, 4, 6, 7, 2, 7, 9, 7, 3, 2, 5, 0, 6, 9, 2, 8, 4, 5, 4, 6, 9, 4, 8, 3, 4, 8, 2, 2, 8, 8, 7, 3, 5, 8, 7, 9, 8, 5, 1, 8, 1, 0, 6, 5, 5, 4, 6, 7, 1, 1, 4, 3, 9, 1, 8, 7, 5, 9, 0, 0, 4, 9, 3, 1, 8, 7, 8, 3, 0, 8, 1, 0, 0, 3, 7, 9, 0, 1, 2, 6, 9, 4, 7, 3, 7, 2, 1, 1, 2, 8, 5, 6, 0, 4, 5, 5, 0, 0, 5, 1, 5, 5, 9, 5, 3, 6, 3, 5, 3, 0, 1, 1, 1, 2, 9, 3, 8, 4, 8, 5, 5, 6, 0, 7, 2, 8, 3, 9, 1, 0, 7, 1, 4, 2, 6, 3, 7, 4, 0, 5, 1, 6, 5, 7, 9, 9, 2, 0, 7, 1, 6, 2, 1, 3, 0, 4, 3, 7, 2, 9, 7, 4, 5, 7, 6, 6, 4, 3, 6, 4, 0, 0, 2, 9, 9, 7, 5, 1, 7, 9, 7, 3, 0, 8, 8, 4, 3, 7, 8, 3, 2, 0, 4, 9, 4, 9, 4, 1, 9, 1, 7, 4, 0, 2, 1, 0, 5, 6, 2, 2, 5, 1, 7, 1, 2, 1, 6, 1, 3, 7, 3, 2, 5, 4, 5, 7, 4, 5, 2, 2, 1, 9, 3, 4, 3, 5, 4, 8, 9, 9, 6, 7, 3, 0, 3, 0, 9, 7, 1, 5, 2, 1, 9, 1, 8, 7, 7, 6, 9, 6, 2, 6, 5, 8, 2, 2, 2, 2, 5, 7, 2, 7, 6, 4, 9, 0, 4, 2, 0, 4, 3, 2, 6, 3, 1, 3, 0, 3, 3, 1, 9, 1, 8, 6, 0, 9, 8, 5, 8, 5, 9, 3, 7, 0, 5, 8, 9, 3, 6, 9, 8, 6, 2, 0, 7, 1, 9, 2, 4, 3, 9, 4, 2, 5, 1, 6, 3, 7, 4, 8, 3, 9, 0, 0, 8, 1, 1, 2, 1, 3, 8, 4, 8, 5, 2, 6, 5, 7, 3, 8, 8, 9, 9, 0, 4, 1, 2, 2, 1, 3, 2, 4, 7, 5, 8, 6, 8, 7, 5, 8, 6, 9, 4, 3, 3, 4, 7, 1, 4, 4, 8, 6, 4, 6, 5, 7, 6, 3, 7, 3, 8, 2, 5, 1, 8, 9, 3, 4, 0, 7, 7, 3, 5, 4, 3, 9, 7, 1, 9, 1, 8, 0, 1, 1, 4, 4, 6, 6, 9, 0, 8, 2, 8, 8, 8, 2, 6, 5, 2, 2, 7, 1, 3, 7, 9, 0, 0, 2, 9, 0, 9, 6, 5, 8, 2, 2, 5, 9, 7, 2, 0, 3, 6, 6, 7, 9, 9, 8, 4, 7, 0, 8, 7, 9, 5, 2, 5, 2, 8, 9, 7, 8, 0, 6, 4, 4, 5, 4, 9, 4, 0, 0, 0, 0, 5, 8, 1, 0, 2, 8, 6, 6, 2, 6, 9, 8, 1, 7, 5, 3, 5, 8, 9, 0, 0, 3, 2, 6, 1, 8, 4, 3, 1, 1, 9, 3, 3, 9, 1, 1, 3, 9, 9, 0, 8, 7, 5, 2, 8, 7, 3, 4, 0, 3, 4, 1, 9, 7, 4, 6, 3, 0, 7, 1, 2, 2, 1, 3, 3, 4, 3, 5, 3, 6, 2, 7, 7, 8, 8, 9, 1, 0, 2, 1, 7, 2, 1, 3, 7, 4, 0, 5, 7, 6, 1, 7, 6, 8, 6, 9, 7, 0, 8, 1, 9, 2, 7, 3, 5, 4, 0, 5, 8, 7, 7, 8, 3, 9, 7, 3, 9, 8, 0, 0, 2, 7, 2, 1, 3, 0, 8, 7, 0, 6, 3, 9, 6, 0, 3, 1, 0, 0, 0, 0, 3, 8, 6, 3, 3, 4, 6, 3, 6, 1, 3, 5, 0, 0, 5, 0, 5, 9, 4, 5, 0, 3, 0, 4, 3, 7, 7, 6, 6, 9, 5, 2, 3, 4, 4, 5, 1, 7, 5, 2, 8, 1, 1, 6, 5, 4, 5, 9, 1, 4, 0, 9, 9, 4, 1, 1, 8, 2, 5, 2, 9, 5, 0, 8, 6, 1, 5, 3, 0, 2, 3, 9, 6, 4, 7, 3, 3, 2, 1, 1, 3, 2, 5, 8, 4, 6, 9, 5, 6, 1, 9, 6, 2, 7, 5, 2, 0, 1, 8, 3, 6, 7, 8, 5, 6, 9, 5, 3, 9, 8, 5, 7, 2, 5, 3, 7, 1, 0, 5, 7, 1, 4, 4, 8, 8, 8, 0, 5, 8, 0, 5, 6, 4, 6, 3, 3, 8, 7, 9, 6, 9, 9, 5, 9, 9, 4, 6, 8, 0, 4, 5, 1, 2, 0, 1, 6, 2, 6, 3, 0, 8, 1, 7, 2, 7, 3, 2, 4, 8, 5, 3, 6, 1, 7, 1, 8, 5, 9, 8, 0, 1, 1, 5, 2, 8, 3, 5, 7, 2, 8, 0, 9, 7, 0, 8, 1, 9, 2, 7, 3, 4, 4, 8, 7, 8, 8, 8, 9, 4, 6, 9, 9, 4, 6, 2, 1, 2, 9, 8, 9, 3, 9, 8, 4, 3, 4, 6, 3, 4, 8, 3, 1, 0, 4, 2, 1, 0, 2, 9, 5, 4, 0, 5, 9, 9, 4, 0, 9, 5, 0, 6, 7, 1, 4, 9, 4, 1, 1, 8, 8, 3, 7, 9, 6, 7, 0, 2, 8, 2, 1, 3, 8, 2, 2, 0, 6, 6, 2, 3, 0, 8, 9, 4, 1, 5, 2, 1, 5, 2, 4, 2, 5, 1, 6, 7, 7, 1, 7, 3, 5, 8, 3, 4, 0, 2, 2, 3, 2, 9, 2, 0, 7, 9, 3, 5, 5, 7, 2, 6, 1, 5, 4, 7, 4, 1, 3, 0, 0, 6, 0, 4, 8, 2, 5, 2, 4, 8, 7, 1, 9, 1, 8, 3, 7, 8, 9, 4, 6, 7, 3, 3, 1, 7, 7, 9, 9, 1, 6, 3, 3, 8, 3, 5, 1, 0, 0, 1, 2, 2, 6, 8, 0, 1, 5, 8, 6, 5, 6, 9, 8, 6, 7, 7, 3, 5, 5, 1, 8, 2, 3, 8, 0, 1, 1, 2, 2, 6, 3, 9, 1, 8, 5, 8, 6, 6, 0, 2, 1, 8, 2, 3, 3, 1, 1, 8, 5, 4, 6, 1, 7, 7, 8, 4, 0, 5, 1, 7, 2, 9, 3, 1, 1, 4, 7, 9, 4, 2, 8, 3, 1, 3, 5, 3, 6, 7, 5, 4, 7, 9, 2, 9, 8, 3, 6, 9, 3, 1, 3, 3, 8, 9, 6, 8, 5, 8, 4, 7, 0, 6, 9, 4, 1, 2, 7, 9, 2, 2, 9, 6, 1, 9, 5, 1, 1, 6, 3, 3, 2, 3, 3, 5, 6, 7, 1, 6, 3, 4, 6, 5, 9, 7, 0, 9, 1, 2, 8, 5, 1, 0, 4, 9, 0, 0, 6, 5, 1, 0, 2, 3, 6, 0, 9, 3, 2, 9, 2, 7, 3, 7, 5, 1, 5, 3, 0, 9, 7, 7, 7, 7, 9, 6, 6, 6, 2, 2, 9, 0, 4, 4, 7, 9, 0, 6, 2, 6, 3, 2, 4, 7, 0, 3, 0, 6, 8, 1, 5, 5, 1, 7, 3, 1, 7, 1, 9, 8, 8, 7, 8, 5, 9, 0, 0, 5, 9, 7, 8, 2, 9, 9, 0, 0, 6, 7, 5, 8, 6, 7, 7, 0, 4, 2, 7, 2, 5, 0, 4, 3, 1, 0, 3, 6, 5, 0, 3, 6, 0, 7, 1, 3, 2, 6, 3, 1, 4, 7, 5, 2, 6, 6, 7, 4, 8, 4, 9, 4, 0, 0, 1, 4, 2, 6, 3, 6, 4, 5, 5, 4, 6, 8, 7, 4, 8, 4, 9, 0, 0, 0, 1, 8, 2, 4, 3, 0, 6, 1, 7, 1, 8, 5, 9, 8, 0, 7, 9, 1, 9, 3, 8, 0, 9, 9, 8, 7, 4, 4, 1, 9, 7, 3, 7, 4, 3, 2, 0, 6, 0, 2, 7, 0, 8, 0, 2, 8, 0, 2, 1, 8, 2, 0, 6, 2, 3, 2, 3, 9, 7, 8, 3, 9, 3, 5, 6, 5, 6, 4, 4, 8, 9, 5, 1, 5, 9, 1, 8, 2, 2, 8, 0, 1, 3, 5, 2, 8, 1, 0, 7, 6, 3, 8, 1, 4, 3, 6, 9, 2, 1, 1, 7, 8, 6, 7, 8, 3, 4, 9, 3, 2, 1, 4, 4, 5, 0, 8, 5, 1, 3, 2, 6, 9, 9, 9, 6, 1, 1, 3, 8, 7, 2, 5, 2, 8, 5, 9, 7, 0, 8, 8, 9, 1, 8, 4, 0, 8, 1, 7, 2, 2, 3, 3, 4, 3, 5, 3, 6, 7, 7, 0, 8, 4, 9, 1, 0, 2, 1, 9, 2, 6, 3, 7, 4, 5, 5, 2, 6, 0, 7, 5, 8, 1, 9, 9, 0, 1, 1, 8, 2, 4, 3, 4, 4, 8, 5, 1, 6, 6, 7, 5, 8, 7, 9, 5, 1, 3, 2, 9, 6, 2, 5, 4, 3, 7, 0, 5, 2, 0, 8, 7, 7, 5, 0, 1, 3, 5, 6, 0, 4, 7, 4, 5, 3, 2, 6, 0, 7, 2, 2, 7, 3, 9, 9, 2, 1, 9, 2, 5, 1, 2, 2, 1, 9, 8, 6, 2, 0, 2, 1, 4, 3, 6, 0, 7, 2, 8, 7, 9, 5, 5, 7, 9, 6, 0, 1, 5, 9, 7, 0, 1, 6, 4, 0, 0, 6, 0, 0, 8, 2, 9, 0, 3, 6, 5, 1, 8, 5, 6, 8, 2, 4, 4, 3, 6, 0, 5, 1, 9, 5, 3, 4, 6, 4, 4, 8, 6, 8, 8, 4, 4, 5, 1, 7, 4, 5, 3, 7, 0, 8, 5, 3, 4, 4, 9, 8, 3, 8, 1, 5, 5, 2, 9, 9, 5, 7, 4, 1, 9, 3, 1, 8, 8, 1, 1, 0, 2, 7, 6, 5, 1, 9, 3, 6, 7, 9, 9, 4, 7, 7, 2, 7, 7, 9, 6, 9, 8, 5, 1, 8, 9, 3, 6, 4, 0, 4, 4, 3, 3, 8, 2, 6, 3, 2, 1, 0, 8, 1, 4, 2, 4, 3, 0, 7, 0, 8, 7, 9, 0, 3, 7, 4, 3, 7, 7, 9, 4, 0, 6, 1, 9, 2, 4, 3, 1, 7, 6, 8, 2, 3, 8, 8, 9, 7, 6, 1, 1, 0, 1, 7, 1, 6, 5, 9, 5, 0, 3, 1, 8, 0, 9, 0, 4, 1, 6, 0, 6, 9, 9, 3, 0, 4, 9, 7, 8, 6, 2, 9, 2, 2, 6, 1, 1, 6, 7, 4, 3, 4, 3, 1, 1, 2, 0, 2, 9, 1, 7, 3, 8, 2, 9, 9, 1, 3, 5, 2, 5, 1, 6, 2, 6, 1, 5, 6, 2, 7, 8, 2, 8, 3, 0, 8, 7, 7, 3, 5, 4, 7, 2, 0, 3, 7, 8, 4, 7, 6, 6, 3, 0, 7, 5, 6, 8, 9, 1, 9, 3, 4, 0, 8, 1, 4, 6, 1, 6, 0, 3, 6, 2, 6, 4, 0, 4, 1, 5, 2, 0, 3, 4, 4, 9, 5, 9, 6, 8, 7, 4, 8, 9, 9, 5, 0, 2, 3, 7, 4, 3, 5, 8, 6, 3, 7, 3, 8, 2, 9, 7, 0, 1, 1, 1, 2, 1, 3, 2, 4, 7, 5, 0, 6, 8, 7, 3, 8, 8, 9, 8, 0, 4, 5, 2, 5, 5, 6, 3, 5, 2, 0, 6, 9, 8, 8, 4, 9, 1, 8, 6, 4, 9, 1, 9, 7, 7, 5, 2, 1, 2, 0, 5, 0, 3, 2, 1, 2, 0, 7, 4, 1, 7, 2, 6, 6, 6, 3, 4, 3, 0, 7, 7, 3, 5, 3, 7, 4, 4, 4, 7, 1, 4, 5, 5, 0, 4, 9, 3, 5, 2, 2, 3, 8, 9, 2, 7, 0, 3, 0, 1, 1, 5, 7, 0, 6, 3, 3, 9, 2, 6, 1, 4, 7, 0, 1, 6, 3, 4, 9, 9, 7, 9, 6, 1, 1, 7, 4, 3, 0, 7, 5, 4, 6, 7, 1, 2, 7, 7, 5, 7, 7, 4, 2, 6, 7, 1, 9, 6, 5, 6, 8, 1, 0, 8, 1, 4, 2, 6, 3, 4, 4, 7, 5, 3, 8, 8, 9, 5, 0, 5, 1, 6, 2, 6, 3, 3, 4, 8, 5, 8, 6, 7, 7, 0, 8, 2, 9, 8, 0, 4, 1, 4, 2, 4, 3, 1, 4, 6, 5, 6, 6, 9, 7, 8, 8, 6, 9, 0, 8, 5, 6, 5, 5, 3, 0, 6, 6, 8, 8, 9, 9, 1, 4, 7, 1, 3, 9, 5, 5, 8, 3, 3, 0, 2, 4, 9, 8, 1, 9, 4, 1, 2, 4, 3, 0, 8, 5, 6, 5, 7, 2, 0, 5, 5, 4, 9, 0, 7, 7, 4, 6, 0, 0, 1, 1, 9, 7, 8, 0, 8, 6, 6, 8, 1, 9, 3, 5, 3, 4, 4, 7, 5, 9, 9, 8, 0, 6, 5, 0, 7, 8, 0, 1, 8, 7, 1, 7, 1, 1, 2, 3, 9, 2, 6, 3, 8, 1, 6, 4, 7, 2, 8, 0, 4, 0, 2, 7, 6, 8, 9, 4, 8, 6, 6, 4, 3, 9, 4, 3, 9, 8, 3, 4, 1, 7, 9, 2, 2, 5, 2, 6, 7, 3, 6, 6, 5, 2, 8, 2, 3, 4, 1, 6, 7, 9, 9, 0, 9, 2, 0, 1, 9, 3, 7, 3, 8, 9, 5, 7, 8, 8, 7, 7, 1, 2, 2, 2, 2, 5, 0, 7, 9, 9, 9, 8, 1, 2, 6, 1, 7, 3, 2, 1, 5, 3, 3, 0, 1, 1, 1, 2, 5, 3, 3, 4, 7, 5, 2, 6, 1, 7, 8, 8, 1, 9, 2, 0, 3, 1, 3, 2, 4, 3, 9, 4, 9, 5, 9, 6, 0, 7, 1, 8, 5, 9, 8, 0, 7, 1, 1, 2, 8, 3, 4, 4, 1, 5, 8, 6, 6, 7, 6, 8, 2, 9, 3, 5, 5, 0, 7, 6, 9, 8, 1, 9, 7, 4, 9, 1, 7, 9, 2, 5, 9, 3, 1, 0, 2, 4, 6, 8, 1, 9, 0, 1, 5, 4, 1, 0, 9, 5, 6, 1, 7, 5, 9, 4, 1, 0, 6, 7, 2, 6, 1, 0, 4, 1, 8, 7, 5, 0, 4, 6, 9, 8, 4, 9, 2, 5, 1, 4, 9, 7, 9, 9, 1, 8, 9, 6, 4, 0, 1, 8, 5, 1, 2, 7, 1, 7, 5, 1, 1, 3, 6, 2, 6, 3, 3, 1, 3, 4, 5, 2, 3, 0, 2, 0, 9, 7, 1, 8, 3, 4, 5, 6, 1, 4, 0, 9, 2, 3, 6, 8, 1, 4, 6, 7, 4, 2, 2, 5, 0, 6, 1, 3, 0, 6, 1, 9, 8, 6, 3, 3, 5, 2, 8, 2, 4, 4, 0, 6, 7, 9, 0, 0, 5, 2, 1, 5, 5, 5, 9, 1, 7, 3, 3, 3, 4, 9, 3, 7, 1, 2, 6, 5, 7, 7, 6, 9, 3, 8, 4, 2, 2, 1, 8, 3, 7, 1, 4, 3, 8, 0, 8, 1, 7, 2, 0, 3, 5, 4, 9, 7, 6, 8, 5, 9, 5, 0, 0, 1, 7, 2, 9, 3, 5, 7, 9, 8, 0, 9, 2, 0, 6, 1, 5, 2, 1, 3, 5, 4, 0, 5, 5, 6, 9, 7, 1, 8, 0, 9, 1, 2, 1, 5, 0, 1, 8, 6, 0, 4, 9, 3, 1, 9, 6, 9, 7, 0, 9, 9, 7, 7, 3, 1, 3, 6, 5, 4, 4, 3, 1, 6, 4, 2, 3, 2, 6, 0, 6, 0, 7, 5, 9, 9, 6, 5, 0, 7, 7, 3, 7, 2, 7, 2, 5, 4, 0, 7, 3, 6, 9, 7, 4, 7, 3, 2, 4, 8, 6, 8, 9, 2, 1, 8, 3, 3, 2, 7, 7, 1, 5, 3, 6, 9, 8, 0, 5, 9, 1, 1, 0, 7, 9, 3, 3, 8, 8, 0, 3, 3, 1, 9, 7, 1, 7, 6, 8, 4, 7, 3, 2, 2, 1, 1, 1, 8, 9, 6, 2, 1, 2, 5, 4, 0, 7, 1, 2, 2, 6, 3, 8, 4, 5, 5, 8, 6, 0, 8, 1, 0, 3, 1, 4, 2, 2, 3, 4, 4, 1, 5, 9, 6, 5, 7, 5, 8, 1, 9, 4, 0, 9, 4, 6, 5, 1, 6, 0, 7, 6, 8, 3, 9, 6, 0, 9, 7, 2, 0, 0, 7, 3, 8, 6, 3, 3, 5, 6, 3, 7, 8, 3, 8, 0, 1, 3, 4, 6, 9, 3, 6, 4, 1, 9, 8, 1, 9, 5, 4, 9, 1, 5, 2, 8, 5, 8, 9, 2, 9, 6, 5, 3, 4, 5, 3, 4, 3, 5, 3, 1, 9, 0, 0, 6, 1, 6, 9, 3, 1, 5, 2, 1, 7, 4, 9, 1, 1, 5, 0, 4, 6, 5, 2, 6, 4, 8, 0, 8, 3, 7, 8, 3, 9, 9, 5, 4, 6, 2, 6, 4, 5, 7, 1, 8, 7, 4, 1, 1, 4, 8, 6, 4, 9, 2, 1, 8, 3, 1, 1, 2, 6, 0, 3, 5, 0, 9, 6, 6, 7, 6, 1, 7, 3, 0, 8, 4, 2, 8, 6, 7, 2, 5, 6, 5, 7, 2, 8, 7, 7, 2, 0, 3, 1, 3, 2, 2, 3, 6, 4, 0, 5, 3, 6, 6, 7, 3, 8, 5, 9, 7, 0, 0, 1, 7, 2, 3, 3, 9, 7, 6, 8, 8, 9, 0, 0, 2, 1, 0, 2, 2, 3, 9, 7, 4, 8, 0, 9, 7, 3, 0, 4, 8, 1, 0, 4, 6, 6, 5, 6, 0, 7, 8, 3, 3, 3, 1, 2, 5, 1, 3, 9, 0, 4, 3, 7, 8, 3, 1, 5, 1, 4, 5, 9, 7, 1, 4, 1, 5, 0, 9, 1, 9, 4, 0, 6, 0, 0, 4, 2, 7, 5, 3, 2, 1, 1, 4, 7, 1, 5, 0, 0, 0, 0, 9, 2, 7, 3, 2, 7, 0, 6, 9, 9, 5, 8, 2, 7, 8, 8, 0, 9, 9, 2, 4, 2, 3, 9, 1, 9, 8, 5, 1, 4, 2, 4, 8, 4, 2, 0, 6, 0, 4, 8, 8, 6, 8, 6, 0, 8, 3, 5, 1, 1, 6, 7, 8, 0, 6, 3, 8, 6, 2, 7, 9, 8, 7, 3, 0, 1, 2, 3, 6, 9, 9, 5, 3, 9, 9, 9, 2, 5, 0, 0, 8, 4, 9, 3, 4, 1, 9, 7, 6, 6, 6, 0, 5, 1, 8, 2, 2, 3, 4, 4, 1, 5, 4, 6, 2, 7, 7, 8, 0, 9, 0, 0, 1, 1, 5, 2, 0, 3, 5, 4, 0, 7, 6, 8, 6, 9, 1, 0, 2, 1, 6, 2, 1, 3, 7, 4, 5, 7, 1, 8, 8, 9, 5, 6, 9, 4, 1, 2, 5, 6, 0, 4, 2, 7, 8, 8, 7, 9, 5, 3, 6, 9, 9, 3, 2, 8, 7, 2, 4, 0, 7, 9, 6, 8, 1, 0, 3, 0, 3, 1, 3, 0, 8, 5, 5, 3, 0, 5, 8, 3, 3, 8, 1, 0, 5, 0, 6, 5, 8, 4, 4, 3, 1, 4, 6, 1, 1, 5, 7, 3, 5, 0, 2, 6, 0, 2, 5, 7, 2, 1, 5, 1, 6, 8, 7, 1, 5, 7, 5, 1, 0, 3, 3, 8, 7, 5, 8, 4, 4, 2, 7, 0, 6, 9, 0, 2, 5, 6, 9, 7, 5, 1, 2, 9, 1, 6, 4, 4, 3, 6, 9, 2, 2, 3, 3, 7, 3, 1, 4, 2, 0, 5, 7, 3, 9, 7, 9, 8, 6, 0, 0, 1, 4, 2, 0, 3, 6, 4, 3, 5, 5, 6, 4, 7, 1, 8, 5, 9, 0, 0, 5, 1, 5, 2, 1, 3, 0, 4, 5, 5, 9, 7, 6, 8, 1, 9, 7, 0, 2, 1, 0, 2, 7, 3, 6, 7, 0, 8, 9, 9, 6, 5, 4, 2, 5, 8, 1, 1, 7, 7, 6, 2, 0, 4, 0, 1, 3, 4, 7, 1, 0, 8, 3, 3, 3, 7, 1, 8, 4, 4, 9, 3, 0, 3, 2, 5, 8, 6, 7, 7, 7, 0, 8, 6, 2, 1, 6, 6, 1, 8, 1, 0, 2, 1, 3, 5, 9, 0, 9, 8, 1, 5, 7, 1, 6, 8, 3, 4, 2, 7, 5, 6, 3, 9, 8, 1, 3, 9, 0, 0, 2, 6, 5, 7, 7, 1, 8, 2, 6, 3, 7, 9, 9, 2, 9, 4, 5, 5, 1, 3, 1, 7, 7, 5, 2, 3, 9, 1, 8, 8, 2, 2, 8, 2, 5, 3, 2, 0, 6, 2, 9, 9, 8, 4, 5, 9, 8, 7, 8, 0, 8, 0, 2, 2, 4, 7, 1, 4, 7, 9, 6, 9, 6, 2, 2, 8, 2, 1, 1, 5, 6, 6, 8, 9, 4, 8, 6, 3, 5, 8, 3, 3, 1, 6, 3, 7, 1, 0, 9, 0, 5, 0, 1, 1, 6, 2, 9, 3, 5, 4, 4, 5, 3, 6, 4, 7, 7, 8, 6, 9, 2, 0, 9, 1, 2, 2, 1, 3, 5, 7, 8, 8, 5, 9, 6, 0, 5, 1, 0, 2, 2, 3, 5, 4, 8, 5, 1, 6, 9, 7, 3, 8, 0, 9, 7, 0, 2, 8, 2, 7, 0, 8, 2, 9, 1, 9, 7, 0, 9, 1, 8, 4, 3, 5, 8, 1, 6, 6, 7, 0, 5, 5, 2, 6, 4, 7, 9, 3, 8, 9, 5, 9, 2, 3, 0, 8, 4, 1, 8, 2, 8, 9, 7, 6, 6, 7, 3, 3, 0, 3, 7, 4, 2, 7, 2, 7, 2, 9, 0, 1, 1, 7, 4, 6, 3, 2, 5, 1, 7, 5, 4, 5, 4, 0, 1, 5, 3, 0, 1, 8, 1, 4, 7, 0, 1, 3, 8, 8, 8, 1, 1, 2, 1, 2, 0, 3, 7, 1, 5, 3, 0, 6, 8, 7, 7, 3, 9, 4, 8, 9, 1, 6, 9, 5, 6, 1, 3, 9, 1, 8, 7, 1, 8, 1, 5, 2, 9, 7, 7, 6, 8, 8, 5, 8, 1, 4, 9, 2, 8, 2, 8, 0, 0, 1, 7, 2, 4, 3, 1, 4, 2, 5, 3, 6, 2, 7, 1, 8, 4, 9, 7, 0, 0, 1, 1, 2, 5, 3, 4, 4, 4, 5, 7, 6, 0, 7, 2, 8, 8, 0, 7, 1, 0, 2, 2, 3, 9, 4, 6, 5, 1, 6, 3, 7, 4, 8, 8, 9, 9, 7, 3, 1, 6, 5, 1, 6, 9, 2, 0, 5, 0, 0, 5, 5, 5, 4, 9, 2, 1, 0, 5, 8, 3, 1, 1, 7, 3, 1, 3, 8, 5, 3, 1, 8, 6, 7, 5, 1, 8, 7, 5, 1, 3, 4, 9, 4, 2, 4, 1, 5, 7, 7, 0, 4, 8, 4, 5, 7, 0, 2, 2, 5, 5, 3, 2, 9, 6, 3, 0, 9, 3, 0, 8, 8, 1, 7, 7, 9, 9, 0, 5, 6, 5, 3, 0, 0, 6, 4, 8, 6, 4, 3, 6, 7, 4, 0, 8, 1, 5, 4, 9, 8, 5, 1, 4, 2, 4, 9, 6, 3, 7, 1, 2, 8, 1, 4, 0, 2, 3, 9, 4, 8, 4, 8, 1, 6, 9, 5, 2, 2, 0, 1, 9, 9, 7, 2, 9, 9, 2, 1, 0, 0, 8, 5, 9, 3, 5, 3, 3, 6, 5, 1, 7, 2, 0, 5, 8, 0, 3, 3, 3, 7, 6, 6, 1, 1, 3, 5, 3, 5, 7, 9, 0, 8, 0, 0, 0, 9, 9, 0, 7, 1, 4, 2, 7, 3, 3, 4, 2, 5, 6, 6, 1, 7, 6, 8, 0, 9, 4, 0, 2, 1, 1, 2, 7, 3, 6, 4, 8, 5, 8, 6, 3, 7, 5, 8, 6, 9, 1, 0, 3, 1, 4, 2, 9, 3, 9, 4, 4, 5, 5, 6, 2, 7, 4, 8, 9, 9, 5, 6, 3, 0, 5, 3, 9, 4, 6, 1, 5, 4, 7, 0, 7, 8, 0, 6, 4, 4, 9, 5, 6, 4, 0, 0, 1, 7, 1, 8, 4, 7, 1, 7, 6, 9, 0, 0, 3, 9, 9, 7, 8, 4, 3, 2, 9, 5, 7, 8, 6, 5, 0, 9, 1, 8, 2, 8, 0, 7, 0, 1, 7, 3, 5, 5, 6, 3, 2, 1, 4, 6, 2, 5, 1, 3, 8, 8, 1, 7, 2, 3, 2, 1, 6, 6, 6, 8, 1, 5, 7, 9, 1, 2, 3, 2, 3, 0, 4, 9, 5, 2, 6, 4, 1, 7, 8, 3, 2, 1, 5, 3, 1, 6, 7, 2, 5, 1, 7, 2, 9, 6, 9, 0, 4, 2, 3, 2, 7, 7, 7, 1, 1, 3, 2, 7, 1, 4, 1, 7, 1, 4, 8, 8, 6, 9, 6, 2, 8, 9, 3, 5, 9, 1, 6, 5, 4, 6, 9, 8, 1, 3, 2, 5, 6, 6, 3, 0, 8, 9, 8, 9, 2, 3, 7, 1, 0, 1, 2, 0, 8, 3, 3, 4, 6, 5, 6, 6, 9, 7, 2, 8, 3, 9, 9, 0, 9, 1, 5, 2, 6, 3, 5, 8, 6, 0, 6, 1, 8, 2, 6, 3, 2, 7, 6, 8, 8, 9, 7, 9, 4, 0, 9, 1, 9, 4, 9, 7, 2, 3, 2, 2, 9, 9, 9, 0, 4, 5, 8, 6, 6, 7, 8, 3, 8, 9, 8, 9, 6, 3, 5, 8, 5, 1, 7, 2, 1, 9, 7, 6, 7, 7, 5, 5, 9, 6, 7, 3, 4, 4, 7, 9, 9, 1, 4, 2, 2, 9, 8, 3, 5, 4, 8, 4, 0, 3, 0, 1, 8, 7, 1, 3, 4, 4, 1, 9, 9, 6, 8, 9, 7, 8, 9, 1, 4, 1, 0, 6, 6, 6, 3, 8, 6, 2, 6, 8, 6, 4, 3, 8, 2, 0, 1, 0, 1, 1, 5, 2, 5, 3, 4, 4, 1, 7, 2, 8, 9, 9, 8, 0, 3, 1, 3, 2, 5, 3, 0, 4, 1, 5, 1, 6, 9, 7, 6, 8, 1, 9, 3, 0, 4, 1, 1, 3, 1, 4, 2, 7, 1, 8, 2, 9, 3, 8, 5, 6, 2, 5, 1, 0, 7, 6, 8, 8, 7, 9, 9, 4, 7, 1, 8, 9, 8, 0, 6, 4, 7, 8, 5, 9, 4, 1, 7, 4, 7, 0, 1, 2, 7, 1, 9, 5, 8, 4, 4, 0, 6, 7, 3, 6, 9, 0, 6, 1, 5, 7, 6, 0, 3, 6, 1, 8, 6, 4, 5, 7, 4, 9, 4, 8, 1, 6, 5, 0, 3, 8, 1, 1, 1, 7, 1, 7, 6, 1, 8, 3, 3, 2, 3, 3, 1, 1, 7, 4, 2, 2, 0, 0, 0, 0, 2, 7, 7, 8, 8, 4, 1, 6, 8, 9, 3, 3, 0, 8, 6, 4, 7, 7, 2, 2, 1, 5, 4, 6, 4, 3, 2, 6, 2, 9, 3, 6, 8, 3, 7, 2, 3, 2, 1, 4, 9, 6, 5, 0, 8, 5, 6, 5, 3, 1, 4, 3, 3, 3, 0, 9, 0, 7, 2, 8, 8, 7, 7, 2, 3, 7, 5, 9, 6, 8, 0, 2, 0, 1, 6, 3, 8, 1, 1, 3, 5, 0, 0, 1, 7, 2, 5, 3, 7, 4, 9, 7, 7, 8, 3, 9, 3, 0, 6, 1, 9, 2, 3, 3, 5, 4, 4, 5, 8, 6, 8, 7, 6, 8, 9, 9, 6, 0, 8, 1, 5, 2, 6, 3, 6, 7, 8, 8, 1, 9, 4, 7, 1, 7, 9, 0, 2, 3, 9, 1, 3, 8, 8, 9, 8, 8, 4, 6, 0, 5, 2, 4, 6, 7, 7, 3, 3, 1, 0, 9, 2, 1, 0, 4, 2, 5, 4, 5, 2, 6, 8, 0, 5, 1, 9, 3, 7, 6, 2, 4, 1, 8, 9, 9, 0, 8, 4, 5, 1, 2, 3, 1, 8, 0, 2, 5, 7, 6, 4, 6, 6, 3, 1, 3, 4, 3, 3, 1, 1, 7, 1, 2, 5, 2, 2, 7, 4, 2, 8, 3, 2, 6, 3, 8, 4, 5, 7, 1, 3, 4, 7, 9, 6, 0, 1, 6, 3, 8, 8, 8, 3, 0, 5, 3, 9, 9, 5, 4, 4, 3, 8, 7, 0, 1, 7, 7, 3, 6, 9, 9, 5, 4, 0, 2, 7, 9, 3, 9, 3, 4, 0, 9, 3, 4, 6, 0, 3, 7, 3, 1, 6, 3, 0, 0, 2, 1, 5, 2, 7, 3, 9, 7, 6, 8, 9, 9, 8, 0, 7, 1, 3, 2, 3, 3, 7, 4, 8, 7, 0, 8, 8, 9, 8, 0, 5, 1, 7, 2, 7, 3, 2, 7, 2, 8, 0, 9, 1, 0, 7, 0, 6, 7, 9, 5, 3, 5, 7, 3, 4, 7, 0, 8, 1, 6, 6, 6, 9, 4, 5, 6, 1, 3, 3, 8, 4, 8, 6, 3, 9, 0, 4, 1, 5, 4, 6, 4, 1, 7, 7, 3, 1, 1, 7, 1, 6, 9, 4, 1, 1, 2, 2, 1, 2, 3, 5, 9, 1, 2, 7, 7, 3, 7, 4, 9, 5, 9, 2, 0, 4, 4, 0, 5, 0, 9, 8, 1, 0, 1, 3, 5, 0, 9, 2, 1, 0, 3, 5, 4, 3, 3, 1, 1, 4, 9, 0, 1, 4, 0, 2, 7, 2, 7, 6, 0, 7, 1, 1, 2, 7, 3, 4, 4, 5, 5, 3, 7, 4, 8, 2, 9, 5, 0, 5, 1, 8, 2, 0, 3, 6, 4, 8, 7, 5, 8, 2, 9, 0, 0, 2, 3, 5, 4, 6, 7, 3, 8, 6, 9, 8, 9, 7, 7, 0, 0, 4, 9, 1, 0, 1, 1, 6, 5, 5, 8, 6, 8, 2, 0, 9, 9, 4, 3, 1, 2, 6, 7, 5, 8, 1, 4, 9, 6, 8, 4, 2, 5, 4, 3, 9, 9, 5, 4, 3, 3, 4, 4, 5, 2, 3, 0, 3, 5, 5, 0, 1, 1, 3, 6, 4, 9, 4, 3, 8, 2, 8, 9, 5, 1, 2, 6, 8, 0, 4, 1, 0, 1, 5, 8, 5, 0, 9, 4, 8, 7, 6, 7, 1, 6, 0, 3, 9, 6, 3, 0, 6, 1, 8, 3, 7, 5, 3, 4, 3, 2, 6, 1, 1, 1, 4, 8, 5, 3, 9, 5, 3, 6, 0, 7, 1, 5, 6, 2, 8, 0, 9, 6, 8, 7, 2, 1, 1, 2, 1, 5, 9, 8, 8, 1, 6, 9, 8, 3, 9, 8, 3, 2, 4, 8, 5, 8, 9, 7, 2, 1, 6, 7, 8, 9, 4, 2, 9, 0, 4, 1, 7, 2, 9, 3, 8, 4, 9, 7, 1, 8, 1, 9, 9, 0, 3, 1, 3, 2, 7, 3, 5, 4, 7, 7, 9, 8, 5, 9, 7, 0, 0, 1, 6, 2, 4, 3, 5, 4, 3, 7, 4, 9, 0, 5, 4, 0, 5, 8, 4, 3, 4, 5, 1, 4, 1, 8, 3, 3, 3, 0, 8, 2, 9, 1, 8, 0, 7, 2, 6, 8, 3, 4, 8, 4, 0, 1, 7, 6, 4, 1, 7, 3, 3, 0, 5, 3, 1, 6, 8, 9, 2, 3, 6, 7, 3, 4, 9, 9, 5, 7, 6, 0, 7, 9, 7, 4, 1, 8, 8, 2, 1, 7, 8, 7, 3, 5, 1, 7, 6, 1, 7, 9, 8, 5, 3, 2, 4, 4, 9, 8, 9, 9, 0, 6, 7, 9, 3, 7, 1, 6, 2, 4, 0, 1, 2, 2, 4, 6, 4, 1, 1, 1, 9, 7, 4, 2, 6, 3, 1, 6, 1, 4, 9, 8, 9, 9, 4, 6, 3, 4, 7, 6, 4, 5, 4, 0, 1, 2, 6, 1, 6, 0, 8, 5, 2, 0, 7, 1, 2, 1, 5, 7, 1, 8, 5, 4, 2, 3, 8, 2, 4, 7, 4, 9, 1, 3, 9, 9, 3, 0, 3, 1, 3, 2, 6, 3, 2, 4, 5, 5, 4, 7, 7, 8, 5, 9, 4, 0, 8, 1, 4, 2, 1, 3, 0, 4, 0, 6, 4, 7, 9, 8, 1, 9, 4, 0, 1, 1, 4, 2, 7, 3, 8, 4, 8, 5, 8, 6, 4, 7, 0, 8, 9, 9, 1, 7, 7, 7, 1, 1, 3, 3, 0, 7, 4, 5, 9, 2, 7, 8, 4, 0, 9, 7, 6, 5, 6, 9, 1, 6, 1, 0, 3, 9, 8, 4, 2, 3, 9, 2, 6, 3, 6, 8, 4, 3, 7, 2, 3, 5, 7, 3, 4, 9, 2, 4, 8, 1, 8, 9, 1, 2, 5, 1, 7, 9, 0, 6, 9, 7, 4, 9, 0, 0, 3, 4, 6, 6, 6, 1, 2, 7, 2, 3, 2, 8, 0, 9, 3, 6, 7, 8, 7, 3, 1, 9, 6, 1, 4, 0, 4, 9, 6, 3, 9, 3, 4, 6, 0, 2, 7, 5, 6, 3, 1, 4, 1, 0, 1, 1, 6, 2, 8, 3, 5, 4, 9, 5, 2, 6, 7, 7, 4, 8, 5, 9, 4, 0, 6, 1, 6, 2, 4, 3, 7, 4, 0, 5, 8, 6, 9, 7, 3, 8, 2, 9, 0, 0, 8, 1, 1, 2, 9, 3, 3, 4, 7, 5, 0, 6, 8, 7, 6, 8, 8, 9, 0, 4, 6, 2, 4, 0, 9, 2, 6, 5, 7, 9, 6, 4, 9, 2, 1, 6, 8, 5, 7, 9, 6, 3, 8, 5, 2, 0, 7, 7, 5, 1, 2, 1, 9, 5, 6, 3, 7, 0, 5, 7, 1, 9, 1, 6, 0, 1, 4, 6, 1, 7, 4, 4, 5, 9, 1, 5, 4, 7, 2, 9, 6, 8, 1, 5, 2, 6, 4, 2, 4, 4, 7, 8, 2, 1, 0, 5, 2, 9, 0, 2, 8, 2, 2, 8, 3, 0, 6, 6, 0, 4, 2, 3, 1, 3, 9, 1, 2, 2, 0, 4, 5, 1, 2, 5, 6, 8, 3, 9, 8, 3, 3, 4, 4, 0, 5, 3, 6, 9, 3, 0, 5, 2, 1, 7, 1, 1, 2, 1, 6, 0, 2, 7, 1, 6, 3, 7, 1, 6, 8, 0, 3, 6, 5, 9, 0, 4, 3, 8, 1, 4, 0, 3, 1, 3, 8, 7, 2, 8, 6, 1, 4, 0, 9, 4, 5, 3, 2, 0, 6, 6, 1, 8, 4, 3, 4, 7, 8, 8, 6, 5, 1, 7, 1, 8, 2, 0, 7, 1, 7, 2, 0, 3, 5, 4, 6, 5, 6, 6, 4, 7, 8, 8, 6, 0, 8, 1, 5, 2, 5, 3, 6, 4, 7, 5, 8, 6, 9, 7, 1, 8, 6, 9, 2, 0, 7, 1, 1, 2, 4, 3, 5, 4, 5, 7, 8, 8, 2, 0, 1, 8, 9, 3, 6, 9, 8, 5, 3, 6, 9, 8, 1, 4, 2, 9, 6, 1, 3, 7, 7, 1, 2, 2, 8, 3, 4, 5, 1, 9, 7, 6, 5, 9, 8, 1, 7, 1, 7, 1, 0, 2, 8, 9, 5, 5, 5, 8, 4, 1, 6, 2, 0, 0, 3, 7, 6, 7, 6, 5, 6, 8, 8, 2, 4, 9, 4, 8, 5, 9, 1, 0, 1, 4, 5, 6, 9, 7, 8, 1, 1, 3, 2, 4, 5, 5, 9, 6, 2, 0, 0, 3, 0, 6, 8, 8, 1, 7, 5, 0, 7, 4, 1, 9, 5, 3, 8, 7, 2, 5, 1, 4, 4, 3, 0, 4, 1, 2, 4, 8, 1, 1, 7, 5, 4, 1, 7, 2, 9, 4, 7, 3, 4, 0, 9, 0, 5, 0, 9, 5, 4, 7, 2, 0, 1, 6, 5, 4, 6, 8, 3, 8, 1, 6, 2, 3, 3, 9, 6, 9, 7, 8, 7, 2, 6, 7, 0, 7, 1, 1, 3, 0, 2, 1, 1, 2, 6, 3, 5, 4, 9, 5, 9, 6, 7, 7, 9, 8, 4, 9, 9, 0, 0, 1, 2, 2, 1, 3, 4, 4, 0, 5, 8, 6, 6, 8, 4, 9, 8, 0, 4, 1, 3, 2, 0, 3, 3, 4, 0, 5, 4, 6, 5, 8, 4, 7, 9, 0, 5, 4, 9, 0, 4, 6, 0, 4, 6, 7, 9, 6, 3, 2, 8, 3, 7, 4, 8, 8, 2, 7, 2, 8, 9, 6, 3, 3, 9, 8, 3, 2, 2, 2, 2, 8, 4, 4, 4, 5, 1, 0, 8, 2, 8, 0, 3, 1, 7, 1, 0, 2, 6, 9, 4, 6, 1, 8, 0, 1, 8, 2, 2, 1, 1, 0, 9, 6, 9, 9, 6, 7, 6, 5, 8, 3, 5, 9, 6, 3, 9, 7, 7, 1, 2, 8, 4, 3, 9, 8, 8, 7, 1, 2, 9, 1, 5, 9, 9, 5, 9, 5, 6, 0, 6, 1, 7, 1, 4, 9, 8, 8, 0, 2, 8, 0, 6, 4, 0, 5, 7, 6, 9, 5, 4, 0, 4, 3, 9, 7, 4, 9, 6, 9, 7, 3, 7, 0, 9, 3, 8, 1, 3, 0, 9, 4, 9, 9, 2, 5, 0, 4, 3, 7, 7, 9, 9, 7, 1, 0, 1, 1, 8, 2, 2, 3, 3, 4, 1, 5, 3, 6, 6, 7, 8, 8, 2, 9, 5, 0, 2, 1, 5, 2, 7, 3, 9, 4, 6, 5, 1, 6, 1, 7, 0, 8, 3, 9, 8, 0, 1, 1, 3, 2, 2, 3, 1, 4, 5, 7, 7, 8, 3, 9, 3, 2, 7, 2, 7, 7, 9, 6, 5, 4, 7, 7, 3, 3, 9, 5, 1, 4, 0, 1, 7, 8, 0, 0, 6, 5, 3, 2, 9, 7, 7, 2, 4, 3, 6, 6, 2, 2, 1, 1, 4, 7, 8, 7, 0, 9, 9, 9, 3, 1, 2, 2, 4, 4, 0, 6, 1, 7, 8, 7, 9, 5, 7, 4, 0, 5, 1, 0, 5, 9, 8, 9, 1, 8, 4, 0, 8, 2, 0, 0, 7, 3, 0, 5, 4, 1, 2, 8, 8, 6, 6, 4, 1, 6, 6, 0, 7, 6, 1, 4, 0, 3, 9, 9, 1, 3, 3, 0, 2, 0, 3, 5, 0, 2, 9, 5, 2, 8, 5, 8, 5, 9, 0, 4, 5, 3, 1, 4, 1, 2, 9, 8, 2, 5, 3, 5, 7, 7, 8, 1, 4, 3, 6, 6, 1, 9, 3, 4, 7, 1, 3, 3, 7, 8, 5, 7, 0, 6, 2, 9, 3, 3, 9, 3, 2, 7, 1, 4, 6, 1, 9, 9, 3, 1, 4, 0, 4, 0, 3, 1, 8, 2, 9, 3, 2, 4, 8, 5, 6, 7, 0, 8, 0, 9, 0, 0, 1, 1, 0, 2, 3, 3, 3, 4, 1, 5, 5, 6, 5, 7, 9, 8, 4, 0, 2, 1, 9, 2, 4, 4, 4, 5, 1, 6, 0, 7, 6, 8, 9, 8, 4, 9, 8, 9, 6, 0, 7, 1, 8, 2, 7, 4, 5, 7, 1, 4, 0, 0, 6, 3, 4, 8, 6, 8, 1, 2, 1, 1, 0, 7, 0, 3, 4, 5, 5, 8, 0, 5, 0, 5, 2, 9, 7, 2, 4, 5, 1, 1, 3, 1, 1, 6, 1, 2, 9, 1, 1, 3, 1, 8, 0, 6, 5, 4, 5, 9, 3, 4, 4, 9, 3, 2, 3, 0, 6, 0, 9, 4, 1, 4, 8, 6, 9, 0, 8, 2, 5, 8, 2, 0, 6, 6, 1, 8, 4, 1, 9, 7, 6, 9, 9, 1, 9, 9, 8, 2, 1, 6, 2, 7, 2, 6, 0, 6, 1, 8, 5, 4, 5, 9, 7, 2, 0, 1, 1, 3, 5, 0, 7, 5, 5, 5, 1, 8, 9, 0, 0, 3, 8, 7, 7, 9, 5, 7, 1, 0, 9, 2, 4, 7, 8, 3, 6, 6, 4, 7, 3, 8, 4, 0, 8, 3, 6, 5, 6, 0, 2, 1, 9, 2, 8, 3, 0, 4, 6, 5, 9, 7, 3, 8, 8, 0, 7, 1, 6, 2, 3, 3, 2, 4, 3, 7, 5, 8, 3, 9, 0, 0, 8, 1, 9, 2, 3, 3, 2, 4, 3, 7, 4, 8, 9, 9, 9, 7, 0, 7, 7, 0, 7, 3, 3, 1, 3, 8, 9, 9, 7, 2, 6, 1, 6, 8, 6, 6, 1, 5, 3, 4, 1, 7, 7, 3, 4, 4, 5, 1, 6, 8, 0, 6, 4, 9, 2, 1, 6, 4, 9, 5, 3, 0, 1, 1, 5, 3, 0, 6, 9, 4, 7, 8, 2, 9, 6, 8, 5, 5, 9, 2, 9, 1, 2, 0, 3, 7, 5, 6, 6, 6, 6, 3, 7, 3, 2, 3, 3, 1, 4, 7, 3, 2, 7, 2, 1, 3, 3, 6, 8, 8, 7, 5, 5, 1, 6, 4, 8, 9, 0, 0, 8, 6, 5, 8, 5, 8, 3, 0, 7, 8, 7, 2, 5, 4, 0, 3, 4, 7, 4, 1, 6, 7, 6, 6, 3, 9, 1, 4, 5, 2, 8, 9, 1, 9, 5, 2, 5, 0, 1, 4, 2, 9, 4, 4, 4, 0, 6, 7, 1, 1, 9, 3, 4, 2, 7, 9, 4, 0, 1, 1, 5, 2, 7, 3, 6, 4, 9, 5, 5, 6, 2, 7, 7, 8, 5, 9, 3, 0, 1, 1, 3, 2, 2, 3, 1, 4, 7, 5, 2, 6, 1, 7, 0, 8, 5, 9, 8, 0, 8, 1, 6, 2, 6, 3, 2, 4, 2, 5, 8, 6, 5, 7, 3, 8, 5, 9, 4, 7, 0, 6, 1, 4, 4, 0, 1, 5, 6, 8, 0, 0, 0, 7, 9, 3, 6, 5, 4, 4, 3, 3, 2, 6, 0, 2, 5, 1, 2, 7, 1, 7, 9, 9, 4, 9, 1, 1, 3, 2, 4, 4, 4, 6, 2, 7, 1, 7, 1, 5, 6, 4, 6, 5, 7, 0, 3, 9, 8, 9, 8, 8, 0, 0, 1, 2, 9, 0, 3, 3, 0, 5, 1, 6, 0, 1, 2, 8, 9, 6, 9, 4, 6, 6, 4, 0, 8, 9, 2, 2, 8, 6, 7, 4, 7, 3, 9, 9, 5, 3, 7, 0, 8, 0, 0, 5, 9, 2, 0, 5, 5, 8, 7, 8, 0, 8, 9, 9, 1, 4, 8, 3, 2, 8, 0, 8, 2, 5, 4, 5, 5, 7, 0, 1, 1, 3, 9, 6, 8, 9, 3, 4, 1, 1, 6, 7, 1, 6, 0, 9, 1, 3, 2, 3, 4, 7, 7, 4, 5, 1, 1, 9, 7, 1, 9, 0, 0, 6, 7, 0, 8, 1, 1, 2, 2, 3, 6, 4, 7, 5, 3, 6, 8, 7, 0, 8, 4, 9, 7, 0, 5, 1, 4, 2, 1, 3, 5, 4, 6, 5, 2, 6, 0, 7, 6, 8, 0, 9, 2, 0, 9, 1, 8, 2, 2, 3, 9, 4, 6, 5, 4, 6, 5, 7, 7, 8, 5, 9, 3, 0, 6, 8, 6, 3, 0, 9, 8, 5, 9, 5, 8, 2, 6, 6, 1, 8, 0, 4, 9, 9, 9, 1, 0, 7, 3, 1, 3, 2, 0, 3, 7, 5, 1, 9, 0, 6, 5, 9, 9, 1, 2, 1, 5, 1, 6, 2, 8, 9, 3, 5, 0, 6, 6, 8, 2, 1, 9, 2, 1, 0, 0, 7, 0, 7, 0, 5, 1, 8, 9, 2, 7, 9, 1, 8, 2, 9, 0, 0, 6, 4, 8, 7, 8, 3, 4, 4, 0, 5, 0, 6, 7, 0, 2, 3, 1, 6, 9, 8, 2, 7, 4, 0, 7, 4, 9, 2, 1, 7, 0, 4, 5, 3, 0, 7, 9, 5, 8, 4, 6, 3, 1, 4, 9, 2, 3, 8, 3, 1, 7, 5, 4, 1, 7, 2, 7, 0, 5, 2, 6, 5, 1, 6, 5, 4, 2, 3, 0, 0, 5, 0, 9, 0, 5, 3, 8, 3, 3, 5, 5, 7, 5, 0, 0, 6, 5, 4, 2, 8, 3, 8, 1, 6, 4, 3, 1, 9, 2, 9, 5, 8, 2, 2, 5, 7, 1, 7, 6, 1, 1, 0, 0, 1, 0, 2, 7, 3, 8, 4, 0, 5, 9, 8, 7, 9, 9, 0, 6, 1, 1, 2, 5, 3, 4, 4, 0, 5, 2, 6, 8, 7, 0, 8, 8, 9, 9, 0, 4, 1, 9, 2, 1, 3, 5, 4, 5, 5, 6, 6, 8, 7, 3, 8, 4, 9, 6, 1, 6, 4, 5, 5, 6, 4, 3, 2, 6, 3, 1, 3, 1, 0, 6, 9, 9, 5, 0, 4, 3, 3, 7, 0, 5, 8, 2, 4, 6, 0, 6, 7, 8, 7, 0, 1, 9, 6, 5, 9, 5, 1, 4, 2, 5, 9, 7, 3, 7, 6, 5, 2, 4, 3, 0, 4, 0, 6, 8, 8, 3, 5, 1, 7, 8, 2, 2, 3, 8, 8, 9, 1, 2, 2, 7, 9, 7, 5, 5, 8, 1, 8, 5, 7, 4, 1, 2, 7, 5, 1, 1, 1, 7, 0, 9, 3, 1, 4, 9, 2, 4, 6, 1, 4, 0, 7, 8, 4, 1, 2, 1, 7, 8, 4, 1, 2, 3, 9, 4, 9, 6, 2, 2, 8, 3, 6, 4, 1, 9, 0, 9, 6, 0, 8, 7, 5, 5, 5, 1, 0, 3, 5, 4, 3, 2, 5, 8, 9, 6, 7, 8, 8, 1, 5, 4, 9, 9, 6, 0, 9, 8, 0, 4, 6, 5, 3, 6, 0, 6, 5, 9, 8, 0, 9, 9, 1, 1, 8, 7, 1, 6, 6, 9, 0, 5, 0, 6, 1, 4, 2, 1, 3, 6, 4, 3, 5, 6, 6, 6, 7, 6, 8, 7, 9, 2, 0, 7, 1, 9, 2, 3, 3, 6, 4, 9, 5, 4, 6, 0, 0, 4, 1, 1, 2, 4, 3, 4, 4, 9, 5, 5, 6, 9, 7, 5, 8, 3, 9, 1, 1, 9, 4, 8, 5, 5, 3, 9, 3, 8, 0, 7, 9, 4, 5, 5, 4, 1, 3, 7, 0, 9, 8, 7, 4, 3, 6, 3, 7, 2, 0, 7, 7, 9, 7, 4, 1, 1, 6, 4, 9, 4, 1, 0, 2, 2, 9, 2, 3, 0, 6, 5, 2, 9, 3, 4, 4, 3, 6, 9, 7, 0, 2, 4, 3, 7, 8, 4, 1, 9, 2, 5, 9, 2, 8, 9, 8, 6, 7, 1, 1, 4, 7, 3, 1, 7, 1, 9, 0, 2, 3, 6, 4, 6, 2, 9, 6, 0, 4, 4, 7, 7, 4, 1, 2, 8, 7, 1, 4, 7, 2, 5, 9, 9, 2, 7, 7, 7, 2, 3, 8, 9, 6, 7, 1, 6, 0, 1, 6, 6, 5, 3, 1, 8, 3, 9, 5, 1, 9, 0, 7, 8, 4, 4, 8, 1, 9, 5, 6, 3, 9, 4, 3, 1, 0, 8, 0, 8, 6, 7, 3, 3, 0, 9, 5, 9, 1, 3, 8, 8, 1, 9, 6, 4, 0, 7, 0, 8, 1, 5, 2, 9, 3, 3, 4, 7, 5, 2, 6, 1, 7, 7, 8, 0, 9, 5, 0, 0, 1, 1, 2, 4, 3, 7, 4, 3, 6, 9, 7, 7, 8, 7, 0, 8, 1, 9, 2, 8, 3, 2, 4, 6, 7, 0, 8, 0, 9, 7, 3, 2, 4, 3, 1, 5, 4, 3, 6, 2, 6, 9, 7, 2, 3, 1, 3, 2, 2, 2, 1, 9, 9, 2, 4, 2, 7, 9, 3, 7, 5, 2, 4, 1, 9, 3, 1, 4, 1, 9, 0, 4, 1, 7, 4, 4, 6, 3, 0, 8, 2, 1, 1, 5, 7, 0, 5, 6, 0, 0, 0, 4, 2, 6, 0, 2, 6, 4, 8, 3, 2, 6, 9, 4, 2, 7, 3, 3, 7, 2, 6, 7, 9, 1, 8, 9, 7, 0, 8, 6, 9, 2, 2, 8, 2, 9, 9, 2, 8, 2, 6, 8, 4, 2, 4, 5, 4, 5, 0, 7, 0, 5, 8, 1, 0, 3, 8, 3, 6, 2, 6, 3, 8, 9, 5, 0, 7, 2, 0, 7, 3, 9, 6, 1, 7, 7, 8, 8, 3, 9, 1, 5, 3, 7, 9, 2, 5, 3, 9, 6, 9, 4, 5, 7, 0, 8, 7, 8, 2, 7, 7, 0, 4, 5, 3, 7, 1, 5, 0, 8, 1, 9, 2, 6, 3, 5, 4, 7, 5, 0, 6, 1, 7, 3, 8, 0, 0, 3, 1, 2, 2, 8, 3, 3, 4, 8, 7, 4, 8, 0, 9, 2, 0, 3, 1, 5, 2, 8, 3, 0, 4, 4, 5, 9, 6, 9, 8, 8, 9, 0, 1, 9, 0, 7, 6, 8, 3, 4, 4, 4, 4, 1, 2, 6, 8, 0, 1, 8, 0, 0, 6, 3, 4, 8, 9, 5, 7, 3, 2, 1, 3, 1, 3, 9, 9, 1, 2, 4, 0, 6, 9, 9, 3, 1, 3, 0, 9, 8, 1, 9, 5, 7, 2, 4, 3, 9, 1, 9, 6, 4, 7, 6, 3, 1, 7, 3, 8, 2, 4, 8, 0, 4, 2, 5, 4, 5, 0, 7, 2, 8, 7, 0, 8, 4, 0, 3, 7, 4, 0, 8, 6, 9, 9, 6, 3, 3, 2, 7, 4, 2, 8, 6, 6, 1, 0, 2, 1, 9, 0, 3, 8, 5, 1, 3, 6, 8, 7, 1, 2, 0, 9, 6, 7, 7, 9, 4, 5, 2, 8, 1, 9, 8, 6, 4, 5, 9, 2, 3, 6, 6, 2, 5, 8, 2, 1, 9, 7, 3, 5, 9, 5, 4, 7, 6, 3, 1, 5, 3, 0, 1, 1, 5, 3, 6, 8, 6, 4, 1, 9, 8, 4, 0, 5, 0, 1, 9, 8, 9, 6, 6, 8, 1, 9, 9, 0, 1, 1, 9, 2, 2, 3, 7, 4, 4, 5, 1, 6, 0, 9, 3, 0, 3, 1, 0, 2, 1, 3, 2, 4, 1, 5, 5, 6, 7, 7, 8, 8, 5, 9, 2, 0, 9, 1, 7, 2, 3, 3, 1, 9, 3, 8, 2, 1, 8, 0, 5, 9, 8, 5, 2, 7, 1, 5, 0, 1, 1, 8, 5, 6, 6, 9, 4, 0, 6, 4, 1, 1, 9, 9, 3, 3, 8, 8, 8, 4, 4, 7, 2, 0, 1, 1, 5, 9, 6, 2, 9, 8, 9, 7, 5, 8, 4, 9, 3, 6, 0, 0, 2, 6, 4, 5, 0, 5, 0, 3, 8, 3, 6, 3, 3, 9, 2, 8, 3, 0, 6, 6, 4, 1, 3, 0, 8, 0, 4, 6, 0, 2, 2, 1, 4, 1, 9, 3, 8, 2, 8, 7, 2, 7, 4, 8, 1, 8, 5, 7, 6, 0, 7, 2, 9, 0, 6, 3, 8, 1, 1, 3, 1, 7, 2, 2, 5, 4, 7, 9, 6, 4, 7, 3, 1, 6, 6, 5, 2, 3, 6, 2, 1, 5, 2, 5, 2, 9, 5, 4, 3, 1, 9, 7, 4, 2, 2, 6, 3, 5, 0, 0, 6, 1, 9, 2, 5, 3, 6, 4, 3, 5, 9, 6, 2, 7, 2, 8, 8, 9, 8, 0, 7, 1, 1, 2, 1, 3, 3, 4, 5, 5, 1, 6, 7, 7, 0, 8, 0, 9, 1, 0, 1, 1, 9, 2, 6, 3, 4, 4, 0, 5, 3, 6, 0, 7, 6, 8, 7, 9, 1, 8, 1, 9, 3, 5, 1, 7, 4, 0, 3, 3, 6, 1, 3, 6, 8, 8, 8, 4, 9, 1, 8, 7, 3, 6, 5, 5, 3, 6, 8, 4, 8, 2, 6, 7, 5, 8, 6, 1, 6, 3, 4, 4, 0, 7, 4, 2, 2, 0, 9, 5, 4, 0, 0, 1, 3, 9, 8, 2, 7, 3, 3, 2, 4, 3, 3, 5, 3, 5, 9, 7, 7, 8, 9, 4, 2, 9, 1, 9, 1, 7, 3, 1, 9, 1, 2, 7, 3, 8, 1, 3, 6, 4, 3, 8, 5, 6, 4, 3, 8, 8, 8, 0, 9, 9, 2, 6, 1, 2, 5, 0, 1, 1, 1, 0, 5, 6, 5, 2, 3, 3, 5, 8, 8, 9, 6, 0, 0, 7, 9, 2, 1, 3, 7, 4, 9, 5, 6, 5, 3, 2, 1, 8, 4, 5, 6, 4, 7, 6, 3, 6, 7, 6, 0, 7, 5, 9, 4, 1, 1, 8, 3, 2, 5, 1, 2, 2, 0, 6, 7, 5, 0, 3, 4, 4, 5, 7, 0, 9, 6, 4, 4, 0, 1, 0, 2, 5, 5, 9, 3, 0, 8, 1, 8, 2, 3, 3, 8, 4, 1, 5, 6, 6, 1, 7, 6, 8, 4, 9, 6, 0, 9, 1, 9, 2, 4, 3, 3, 4, 0, 5, 8, 6, 8, 7, 0, 8, 6, 9, 7, 0, 3, 1, 7, 2, 2, 3, 4, 4, 3, 5, 2, 6, 6, 7, 1, 7, 9, 6, 5, 4, 4, 3, 1, 0, 9, 6, 5, 6, 6, 6, 0, 9, 7, 0, 0, 0, 9, 1, 0, 3, 5, 9, 1, 4, 1, 5, 2, 7, 6, 9, 3, 5, 0, 6, 4, 8, 1, 9, 9, 1, 0, 3, 2, 8, 8, 5, 7, 7, 7, 8, 3, 1, 6, 4, 1, 8, 7, 5, 1, 8, 7, 1, 1, 0, 6, 7, 8, 6, 8, 1, 6, 6, 7, 0, 2, 3, 5, 4, 6, 6, 3, 8, 9, 9, 1, 2, 6, 1, 3, 7, 4, 4, 8, 5, 6, 2, 2, 7, 2, 5, 5, 2, 4, 2, 2, 9, 1, 3, 4, 9, 2, 2, 6, 2, 0, 5, 7, 8, 3, 7, 1, 4, 7, 7, 7, 1, 3, 8, 3, 0, 2, 9, 4, 6, 1, 8, 1, 1, 7, 1, 4, 5, 7, 7, 5, 6, 8, 3, 6, 5, 4, 4, 1, 2, 8, 9, 3, 0, 1, 4, 4, 7, 2, 4, 2, 3, 0, 2, 0, 9, 9, 2, 3, 0, 7, 3, 9, 4, 7, 5, 8, 0, 2, 0, 3, 3, 0, 2, 2, 8, 5, 3, 5, 0, 0, 1, 2, 2, 6, 3, 9, 4, 0, 5, 2, 6, 0, 7, 5, 8, 5, 9, 1, 0, 1, 1, 8, 2, 5, 3, 0, 4, 9, 5, 6, 6, 2, 7, 1, 8, 3, 9, 7, 0, 1, 1, 0, 2, 8, 3, 3, 4, 3, 5, 3, 6, 0, 7, 5, 8, 4, 9, 9, 8, 1, 9, 3, 2, 2, 6, 0, 1, 0, 7, 5, 6, 3, 3, 0, 5, 3, 4, 0, 8, 0, 2, 9, 6, 1, 4, 0, 7, 3, 2, 7, 3, 5, 4, 0, 5, 2, 9, 5, 2, 1, 0, 2, 3, 2, 9, 0, 7, 4, 3, 4, 9, 9, 3, 4, 8, 8, 7, 2, 4, 3, 4, 8, 9, 0, 8, 3, 5, 7, 8, 4, 2, 7, 6, 2, 9, 2, 5, 7, 3, 2, 6, 6, 5, 5, 7, 1, 0, 1, 2, 6, 3, 9, 1, 8, 3, 3, 2, 2, 7, 8, 3, 6, 1, 1, 1, 7, 7, 1, 0, 7, 8, 7, 5, 8, 1, 7, 8, 6, 2, 3, 1, 1, 3, 9, 7, 3, 0, 2, 8, 9, 7, 3, 2, 6, 4, 8, 4, 7, 8, 5, 0, 0, 1, 4, 5, 1, 1, 2, 4, 1, 6, 4, 0, 9, 5, 2, 1, 6, 6, 5, 6, 9, 9, 7, 0, 2, 7, 6, 6, 6, 1, 0, 1, 0, 0, 4, 1, 6, 2, 9, 3, 4, 4, 8, 5, 0, 6, 5, 7, 2, 8, 9, 9, 2, 0, 7, 1, 4, 2, 1, 3, 2, 4, 2, 5, 0, 6, 2, 7, 2, 8, 5, 9, 6, 0, 5, 1, 3, 2, 4, 3, 7, 4, 1, 5, 5, 6, 4, 7, 7, 8, 8, 9, 4, 1, 4, 3, 6, 5, 7, 9, 5, 4, 6, 1, 9, 7, 9, 7, 6, 2, 4, 1, 0, 4, 5, 8, 2, 3, 6, 8, 6, 2, 4, 9, 6, 3, 6, 8, 3, 5, 3, 4, 8, 9, 9, 7, 9, 5, 0, 4, 9, 3, 1, 9, 2, 2, 4, 5, 1, 7, 4, 4, 4, 1, 0, 2, 9, 3, 7, 5, 8, 9, 0, 1, 6, 6, 5, 0, 7, 1, 4, 0, 1, 0, 0, 2, 6, 8, 5, 7, 4, 2, 6, 5, 6, 1, 4, 1, 9, 8, 8, 5, 1, 6, 3, 4, 0, 0, 6, 4, 4, 7, 3, 3, 4, 6, 1, 8, 1, 0, 3, 3, 3, 7, 3, 4, 2, 0, 0, 6, 5, 9, 1, 2, 0, 6, 8, 5, 1, 8, 3, 6, 4, 9, 0, 0, 1, 4, 3, 0, 5, 6, 1, 1, 3, 9, 2, 2, 1, 0, 3, 9, 4, 5, 1, 1, 4, 3, 4, 6, 0, 9, 3, 4, 3, 8, 3, 3, 1, 7, 6, 7, 0, 6, 2, 3, 4, 0, 3, 5, 7, 6, 7, 2, 5, 2, 7, 0, 3, 1, 2, 2, 4, 3, 5, 4, 3, 5, 4, 6, 2, 7, 5, 8, 0, 9, 5, 0, 2, 1, 0, 2, 0, 3, 9, 4, 7, 5, 8, 6, 2, 7, 3, 8, 8, 9, 2, 0, 4, 1, 1, 2, 6, 3, 2, 4, 9, 5, 6, 6, 2, 7, 9, 8, 9, 9, 7, 2, 6, 4, 9, 1, 9, 5, 7, 6, 3, 1, 7, 1, 4, 7, 4, 8, 2, 5, 5, 3, 2, 4, 1, 6, 9, 7, 9, 0, 2, 3, 3, 2, 9, 9, 8, 8, 1, 6, 3, 8, 2, 9, 3, 9, 6, 7, 5, 7, 2, 2, 7, 1, 8, 1, 4, 2, 9, 8, 6, 0, 0, 6, 2, 5, 9, 3, 8, 8, 0, 1, 3, 3, 5, 6, 1, 0, 6, 4, 3, 8, 1, 9, 8, 7, 1, 2, 1, 7, 3, 1, 9, 8, 9, 2, 6, 1, 5, 7, 3, 7, 2, 3, 5, 2, 2, 4, 6, 6, 1, 5, 5, 9, 0, 4, 2, 2, 2, 8, 0, 2, 3, 5, 3, 1, 0, 0, 6, 5, 6, 0, 1, 6, 9, 2, 3, 3, 7, 6, 1, 9, 0, 0, 2, 1, 7, 2, 9, 3, 2, 4, 3, 5, 2, 6, 3, 7, 6, 8, 4, 9, 5, 0, 9, 1, 1, 2, 7, 3, 2, 4, 0, 5, 9, 6, 6, 7, 6, 8, 4, 9, 5, 0, 8, 1, 5, 2, 0, 3, 5, 4, 8, 5, 4, 6, 2, 7, 2, 8, 6, 9, 2, 4, 8, 7, 0, 8, 8, 6, 8, 3, 0, 4, 9, 0, 6, 9, 7, 7, 5, 1, 3, 9, 0, 3, 8, 8, 5, 4, 9, 7, 7, 3, 9, 0, 3, 9, 8, 9, 3, 6, 8, 1, 7, 4, 1, 5, 1, 4, 9, 6, 9, 2, 7, 0, 9, 6, 9, 2, 7, 1, 0, 1, 7, 1, 7, 1, 7, 7, 0, 2, 5, 4, 2, 2, 2, 9, 6, 4, 0, 5, 0, 8, 3, 4, 2, 2, 1, 7, 4, 0, 3, 0, 2, 7, 0, 5, 5, 7, 5, 6, 6, 6, 2, 6, 9, 8, 9, 2, 7, 5, 4, 2, 5, 2, 1, 7, 4, 7, 4, 4, 3, 0, 9, 2, 3, 4, 1, 2, 1, 3, 2, 3, 7, 3, 4, 1, 7, 8, 6, 9, 6, 6, 5, 1, 5, 0, 0, 5, 0, 9, 4, 6, 0, 9, 8, 8, 0, 0, 2, 3, 0, 0, 2, 9, 6, 6, 9, 3, 1, 0, 7, 1, 4, 2, 9, 3, 3, 4, 1, 5, 1, 6, 1, 7, 3, 8, 5, 9, 4, 0, 3, 1, 1, 3, 1, 4, 4, 7, 4, 8, 8, 9, 2, 0, 3, 1, 1, 2, 3, 3, 8, 4, 3, 7, 7, 8, 2, 9, 1, 9, 4, 9, 5, 8, 5, 5, 0, 0, 1, 7, 9, 7, 2, 5, 4, 7, 6, 9, 3, 9, 2, 4, 8, 7, 7, 0, 7, 4, 8, 1, 7, 4, 3, 4, 1, 7, 9, 5, 3, 8, 4, 1, 7, 4, 2, 9, 6, 8, 9, 4, 2, 1, 5, 8, 2, 6, 1, 6, 6, 4, 4, 5, 5, 3, 8, 3, 7, 5, 4, 2, 4, 5, 9, 7, 3, 2, 4, 5, 1, 0, 4, 8, 1, 3, 7, 0, 4, 8, 6, 7, 2, 4, 0, 9, 3, 5, 6, 0, 4, 0, 8, 0, 2, 4, 7, 6, 9, 2, 2, 7, 4, 6, 6, 8, 6, 3, 2, 1, 5, 8, 2, 3, 7, 1, 1, 0, 4, 3, 1, 6, 0, 2, 0, 0, 5, 1, 0, 2, 1, 3, 1, 4, 0, 5, 9, 6, 5, 7, 4, 8, 6, 9, 1, 0, 0, 1, 4, 2, 7, 3, 9, 6, 4, 7, 3, 0, 4, 1, 9, 2, 3, 3, 4, 4, 9, 5, 5, 6, 8, 7, 9, 8, 5, 9, 2, 1, 6, 0, 9, 6, 4, 3, 2, 4, 6, 4, 1, 2, 6, 8, 5, 1, 0, 0, 3, 6, 0, 7, 2, 2, 4, 3, 6, 3, 6, 9, 5, 3, 4, 3, 8, 9, 2, 1, 3, 5, 3, 2, 5, 3, 5, 1, 5, 6, 3, 7, 7, 3, 2, 7, 0, 8, 5, 4, 1, 0, 4, 2, 0, 7, 7, 8, 5, 0, 6, 7, 8, 0, 9, 6, 0, 9, 4, 3, 4, 2, 3, 4, 9, 8, 4, 6, 1, 0, 2, 5, 9, 7, 9, 5, 8, 1, 4, 0, 1, 6, 7, 7, 2, 2, 1, 9, 7, 7, 1, 9, 2, 5, 5, 6, 9, 5, 6, 2, 8, 6, 8, 2, 1, 8, 6, 1, 0, 7, 4, 5, 6, 5, 5, 7, 9, 3, 7, 5, 1, 0, 6, 1, 0, 1, 6, 3, 7, 8, 4, 4, 6, 9, 9, 4, 1, 5, 5, 1, 1, 8, 1, 6, 2, 8, 9, 9, 2, 0, 7, 1, 0, 2, 7, 3, 2, 4, 5, 5, 1, 6, 7, 7, 6, 8, 0, 9, 7, 0, 2, 1, 7, 2, 0, 3, 2, 4, 0, 5, 1, 6, 9, 7, 1, 8, 3, 9, 1, 0, 9, 1, 2, 2, 9, 3, 6, 4, 3, 5, 6, 6, 0, 7, 0, 8, 1, 9, 1, 0, 5, 8, 5, 7, 2, 8, 8, 9, 1, 9, 1, 0, 2, 1, 0, 4, 8, 5, 6, 1, 0, 6, 6, 7, 5, 3, 6, 2, 3, 9, 9, 0, 7, 5, 1, 6, 0, 7, 1, 3, 2, 9, 4, 9, 6, 3, 3, 8, 8, 9, 4, 6, 4, 7, 1, 5, 4, 6, 8, 3, 0, 5, 4, 0, 6, 5, 7, 4, 6, 0, 4, 3, 2, 4, 4, 7, 2, 7, 3, 4, 2, 3, 7, 2, 7, 1, 8, 5, 5, 5, 8, 0, 7, 5, 1, 0, 4, 8, 9, 4, 2, 6, 2, 7, 3, 0, 3, 2, 2, 9, 2, 3, 1, 4, 0, 4, 1, 8, 1, 1, 2, 2, 2, 2, 9, 3, 0, 1, 3, 3, 8, 6, 6, 7, 8, 3, 7, 4, 1, 9, 2, 1, 0, 9, 9, 8, 8, 5, 5, 0, 7, 2, 7, 8, 6, 6, 7, 6, 3, 8, 8, 2, 2, 8, 2, 4, 9, 4, 8, 2, 0, 2, 9, 8, 8, 0, 7, 0, 4, 1, 6, 2, 9, 3, 9, 4, 0, 5, 2, 6, 0, 8, 6, 9, 8, 0, 2, 1, 3, 2, 1, 3, 0, 4, 4, 5, 0, 6, 6, 7, 9, 8, 3, 0, 1, 1, 1, 4, 0, 5, 2, 6, 7, 7, 1, 8, 3, 9, 5, 8, 6, 7, 4, 4, 4, 7, 0, 7, 3, 3, 5, 9, 1, 8, 2, 8, 7, 3, 9, 1, 6, 5, 9, 2, 0, 7, 4, 4, 1, 2, 7, 6, 8, 1, 1, 5, 8, 2, 6, 4, 4, 5, 8, 5, 7, 8, 2, 6, 4, 4, 6, 4, 5, 4, 3, 1, 1, 8, 3, 7, 4, 5, 0, 5, 9, 1, 1, 8, 2, 9, 3, 1, 7, 3, 2, 6, 9, 3, 5, 3, 6, 2, 7, 2, 8, 6, 9, 5, 6, 5, 1, 3, 1, 3, 3, 8, 6, 1, 7, 6, 7, 5, 0, 6, 5, 8, 1, 1, 6, 9, 6, 7, 7, 6, 9, 8, 5, 3, 9, 7, 2, 4, 4, 7, 4, 0, 4, 9, 4, 0, 9, 0, 1, 3, 8, 7, 6, 9, 4, 3, 8, 0, 1, 1, 7, 0, 3, 1, 8, 0, 3, 4, 8, 0, 1, 1, 3, 0, 4, 4, 1, 7, 2, 9, 5, 2, 9, 0, 8, 6, 1, 2, 3, 6, 3, 2, 5, 2, 4, 9, 8, 9, 2, 0, 5, 1, 7, 2, 5, 3, 3, 4, 1, 5, 1, 6, 3, 7, 6, 8, 1, 9, 8, 0, 7, 1, 6, 2, 6, 3, 6, 4, 7, 5, 0, 6, 2, 9, 9, 0, 8, 1, 2, 2, 0, 3, 9, 4, 8, 5, 0, 6, 0, 7, 1, 8, 5, 5, 7, 7, 7, 0, 1, 8, 5, 4, 6, 0, 1, 2, 8, 1, 8, 0, 7, 2, 1, 8, 4, 5, 8, 4, 2, 4, 3, 1, 8, 6, 6, 1, 5, 3, 9, 6, 8, 9, 5, 3, 8, 7, 8, 4, 7, 9, 4, 7, 5, 4, 8, 8, 5, 3, 8, 2, 7, 7, 1, 7, 9, 9, 8, 5, 6, 7, 5, 6, 0, 5, 8, 2, 8, 4, 2, 8, 1, 9, 0, 6, 8, 9, 2, 7, 1, 6, 2, 1, 4, 6, 6, 1, 4, 7, 9, 2, 3, 3, 4, 6, 4, 6, 3, 6, 3, 2, 1, 1, 2, 0, 5, 5, 1, 0, 6, 1, 9, 2, 0, 1, 0, 7, 5, 8, 8, 1, 9, 4, 5, 9, 5, 3, 5, 9, 2, 0, 8, 1, 8, 2, 7, 3, 4, 4, 1, 5, 1, 6, 7, 7, 0, 8, 4, 9, 7, 0, 9, 1, 5, 2, 5, 3, 9, 4, 5, 7, 9, 8, 1, 9, 3, 0, 6, 1, 8, 2, 8, 3, 2, 4, 6, 5, 5, 6, 7, 7, 3, 8, 9, 9, 1, 6, 2, 0, 4, 3, 8, 4, 2, 1, 0, 4, 7, 0, 7, 8, 4, 6, 6, 4, 4, 5, 0, 4, 6, 0, 8, 7, 1, 8, 0, 7, 4, 7, 2, 9, 1, 0, 1, 4, 0, 9, 4, 9, 5, 7, 6, 4, 9, 2, 6, 0, 6, 5, 5, 8, 5, 5, 3, 9, 4, 8, 9, 8, 5, 4, 2, 0, 4, 7, 6, 1, 4, 3, 8, 5, 2, 6, 6, 5, 1, 3, 4, 8, 1, 7, 0, 3, 4, 1, 7, 6, 5, 8, 4, 5, 3, 9, 8, 2, 5, 2, 7, 0, 8, 9, 9, 2, 7, 4, 7, 6, 6, 5, 5, 2, 4, 1, 6, 3, 4, 6, 7, 6, 3, 2, 8, 1, 7, 2, 6, 6, 7, 0, 9, 7, 3, 4, 4, 7, 2, 8, 2, 9, 6, 2, 5, 9, 3, 5, 7, 1, 0, 8, 3, 3, 9, 5, 5, 6, 5, 8, 9, 0, 1, 0, 6, 9, 9, 9, 5, 3, 9, 1, 8, 1, 7, 0, 0, 1, 1, 2, 6, 3, 7, 4, 1, 5, 2, 6, 6, 7, 8, 8, 2, 9, 9, 0, 6, 1, 2, 2, 3, 3, 6, 4, 7, 5, 7, 6, 0, 7, 1, 8, 6, 9, 5, 0, 2, 1, 3, 2, 7, 3, 2, 4, 7, 7, 8, 8, 5, 9, 5, 0, 3, 7, 3, 0, 2, 7, 9, 8, 1, 3, 3, 0, 1, 0, 5, 5, 2, 5, 0, 3, 6, 8, 5, 8, 4, 1, 5, 4, 9, 6, 7, 1, 0, 8, 1, 0, 2, 2, 8, 7, 6, 3, 1, 9, 1, 4, 0, 1, 5, 2, 3, 5, 1, 9, 9, 8, 3, 9, 9, 5, 5, 4, 1, 3, 5, 0, 9, 3, 4, 3, 9, 4, 0, 7, 0, 1, 1, 2, 3, 1, 8, 0, 1, 6, 2, 2, 4, 3, 6, 8, 6, 9, 7, 5, 4, 6, 5, 6, 1, 7, 1, 1, 5, 4, 0, 6, 2, 2, 5, 9, 5, 1, 6, 5, 6, 5, 0, 5, 5, 3, 8, 1, 7, 4, 2, 8, 4, 6, 5, 3, 0, 7, 2, 0, 9, 9, 7, 5, 8, 6, 9, 7, 2, 1, 1, 3, 4, 2, 6, 6, 1, 2, 3, 6, 8, 7, 8, 8, 7, 7, 1, 0, 5, 1, 4, 2, 9, 3, 7, 4, 0, 5, 2, 6, 1, 7, 3, 8, 0, 9, 9, 0, 4, 1, 2, 2, 5, 3, 9, 4, 8, 5, 8, 6, 5, 7, 9, 8, 7, 9, 2, 0, 2, 1, 2, 2, 6, 3, 4, 4, 1, 5, 7, 6, 0, 7, 8, 8, 3, 9, 6, 6, 4, 4, 0, 2, 2, 6, 1, 4, 7, 7, 3, 5, 7, 5, 8, 4, 8, 7, 2, 8, 4, 9, 9, 2, 5, 9, 6, 3, 2, 9, 9, 3, 7, 8, 3, 2, 5, 0, 1, 9, 0, 8, 6, 0, 4, 5, 0, 6, 1, 0, 9, 1, 4, 0, 1, 4, 7, 2, 1, 6, 9, 5, 7, 3, 2, 5, 2, 3, 5, 8, 1, 0, 3, 0, 5, 5, 8, 4, 8, 3, 8, 4, 4, 1, 2, 5, 2, 3, 4, 0, 1, 8, 2, 3, 1, 6, 5, 2, 8, 7, 3, 1, 8, 1, 1, 8, 7, 1, 7, 7, 3, 1, 3, 3, 6, 8, 0, 5, 8, 0, 2, 9, 4, 7, 9, 6, 6, 7, 8, 4, 6, 1, 9, 6, 5, 8, 1, 4, 5, 7, 7, 5, 4, 1, 3, 2, 9, 6, 5, 7, 2, 1, 6, 9, 7, 8, 0, 0, 8, 6, 4, 9, 9, 4, 3, 9, 2, 9, 7, 6, 5, 2, 3, 3, 2, 7, 1, 1, 9, 9, 0, 2, 6, 2, 1, 5, 3, 3, 6, 7, 1, 8, 6, 0, 2, 1, 7, 2, 9, 3, 5, 4, 8, 5, 7, 6, 2, 7, 8, 8, 6, 9, 4, 0, 9, 1, 3, 2, 5, 3, 5, 4, 7, 5, 8, 6, 4, 7, 7, 8, 4, 9, 3, 0, 6, 1, 0, 2, 9, 3, 4, 4, 4, 5, 0, 6, 3, 1, 7, 3, 4, 5, 3, 9, 6, 4, 1, 1, 2, 7, 4, 1, 3, 4, 4, 8, 4, 3, 9, 8, 4, 2, 6, 9, 1, 3, 0, 8, 5, 8, 8, 9, 7, 7, 4, 5, 5, 9, 0, 2, 1, 5, 5, 7, 3, 4, 1, 1, 5, 2, 5, 3, 4, 5, 3, 9, 3, 1, 4, 1, 6, 0, 8, 0, 0, 2, 0, 8, 3, 7, 1, 5, 3, 1, 3, 1, 3, 8, 2, 5, 7, 6, 7, 4, 1, 0, 1, 3, 8, 0, 7, 3, 5, 7, 1, 6, 4, 9, 6, 2, 7, 6, 7, 6, 3, 9, 0, 0, 2, 4, 6, 0, 5, 6, 8, 1, 9, 0, 3, 9, 5, 5, 8, 1, 2, 3, 5, 7, 8, 6, 7, 9, 3, 7, 8, 3, 2, 0, 9, 5, 8, 6, 1, 2, 5, 2, 6, 0, 2, 1, 4, 2, 7, 3, 1, 4, 6, 5, 0, 6, 3, 7, 0, 0, 3, 1, 3, 2, 2, 3, 3, 6, 9, 7, 4, 8, 6, 9, 8, 1, 2, 0, 7, 1, 1, 2, 9, 3, 1, 4, 4, 5, 6, 6, 0, 7, 9, 8, 0, 3, 9, 1, 2, 2, 6, 1, 6, 9, 5, 2, 5, 4, 9, 0, 9, 9, 8, 9, 7, 3, 7, 7, 5, 7, 4, 9, 9, 1, 0, 4, 3, 2, 4, 7, 5, 2, 7, 5, 2, 8, 6, 6, 3, 0, 6, 4, 3, 0, 4, 3, 3, 8, 8, 1, 1, 0, 9, 3, 7, 0, 4, 4, 7, 7, 2, 4, 7, 9, 7, 2, 2, 9, 6, 1, 9, 2, 8, 5, 3, 7, 8, 1, 1, 7, 9, 1, 7, 6, 2, 7, 7, 3, 5, 3, 6, 6, 8, 5, 1, 6, 2, 7, 3, 6, 8, 8, 9, 8, 4, 2, 6, 9, 9, 5, 9, 3, 8, 7, 8, 4, 2, 3, 4, 0, 1, 4, 5, 6, 3, 6, 2, 9, 5, 0, 6, 1, 2, 1, 9, 3, 6, 2, 1, 1, 1, 0, 1, 0, 5, 1, 2, 2, 1, 3, 0, 4, 6, 7, 0, 8, 4, 9, 7, 0, 8, 1, 4, 2, 5, 3, 7, 4, 8, 7, 6, 8, 8, 9, 5, 0, 7, 1, 8, 2, 5, 3, 4, 4, 7, 5, 3, 6, 2, 7, 0, 8, 1, 8, 3, 0, 7, 5, 9, 6, 8, 6, 1, 0, 2, 8, 7, 0, 9, 2, 0, 3, 0, 7, 7, 9, 7, 4, 9, 7, 0, 1, 5, 7, 1, 1, 9, 4, 1, 0, 5, 0, 5, 4, 8, 1, 2, 7, 2, 5, 6, 7, 2, 1, 5, 3, 2, 3, 4, 3, 9, 1, 1, 6, 8, 9, 7, 7, 4, 4, 2, 3, 3, 0, 6, 2, 2, 6, 6, 0, 9, 8, 4, 9, 8, 4, 1, 3, 6, 5, 4, 4, 8, 8, 3, 1, 3, 5, 6, 9, 0, 0, 5, 6, 3, 4, 1, 3, 3, 6, 2, 3, 7, 3, 2, 8, 5, 1, 2, 4, 2, 7, 4, 5, 1, 7, 6, 2, 6, 2, 8, 0, 1, 0, 4, 1, 5, 7, 1, 7, 7, 9, 7, 5, 5, 9, 4, 8, 1, 9, 8, 6, 0, 8, 7, 8, 6, 2, 1, 3, 2, 6, 1, 1, 0, 2, 0, 9, 2, 8, 0, 5, 1, 2, 3, 6, 8, 2, 5, 4, 0, 8, 0, 5, 9, 0, 2, 1, 5, 2, 4, 3, 3, 4, 3, 6, 0, 7, 4, 8, 2, 0, 7, 1, 4, 2, 7, 3, 7, 4, 3, 5, 1, 8, 5, 9, 0, 0, 4, 1, 0, 2, 9, 3, 1, 4, 9, 5, 1, 6, 3, 7, 5, 8, 5, 9, 4, 0, 9, 1, 9, 7, 1, 9, 9, 5, 4, 1, 1, 8, 8, 9, 7, 4, 1, 3, 1, 1, 6, 7, 9, 8, 7, 2, 0, 4, 9, 3, 6, 6, 9, 9, 6, 9, 8, 5, 0, 8, 8, 6, 9, 6, 1, 8, 5, 2, 0, 6, 7, 3, 1, 9, 2, 3, 1, 2, 2, 1, 1, 7, 4, 4, 0, 8, 4, 8, 2, 9, 7, 0, 4, 3, 0, 3, 7, 9, 4, 0, 7, 5, 1, 2, 9, 9, 3, 4, 5, 1, 2, 0, 4, 3, 8, 7, 6, 7, 8, 7, 4, 8, 8, 2, 8, 9, 2, 7, 0, 5, 0, 5, 7, 1, 3, 2, 6, 6, 3, 3, 3, 6, 1, 6, 2, 0, 3, 2, 1, 8, 9, 1, 9, 6, 4, 1, 4, 0, 1, 4, 1, 3, 4, 1, 7, 6, 7, 1, 7, 9, 1, 0, 5, 1, 6, 2, 7, 3, 8, 4, 8, 5, 6, 6, 3, 7, 5, 8, 0, 9, 5, 0, 4, 1, 2, 2, 6, 3, 0, 4, 3, 7, 5, 8, 6, 9, 4, 0, 6, 1, 6, 2, 3, 3, 6, 4, 7, 5, 1, 6, 4, 7, 3, 8, 1, 9, 8, 7, 2, 7, 1, 7, 7, 3, 7, 1, 7, 8, 8, 7, 9, 6, 2, 0, 2, 2, 7, 6, 6, 8, 5, 3, 8, 2, 2, 8, 2, 1, 0, 1, 4, 7, 2, 2, 5, 0, 7, 7, 4, 1, 3, 6, 0, 0, 9, 4, 4, 6, 3, 4, 3, 4, 4, 5, 5, 8, 4, 0, 4, 6, 4, 2, 8, 3, 4, 1, 5, 3, 5, 6, 4, 8, 1, 4, 5, 0, 7, 7, 1, 5, 6, 8, 0, 8, 3, 3, 3, 7, 9, 8, 0, 9, 9, 2, 4, 6, 2, 2, 3, 5, 9, 3, 6, 1, 8, 7, 1, 3, 8, 9, 4, 1, 8, 9, 2, 9, 5, 6, 7, 0, 1, 3, 2, 9, 9, 2, 8, 8, 0, 1, 8, 4, 8, 3, 9, 5, 4, 2, 8, 9, 1, 2, 3, 9, 1, 1, 6, 6, 2, 5, 1, 8, 8, 9, 0, 4, 9, 2, 3, 5, 3, 0, 7, 1, 4, 2, 0, 3, 4, 4, 2, 5, 3, 6, 9, 7, 7, 8, 1, 9, 0, 0, 6, 1, 7, 2, 1, 3, 0, 4, 7, 5, 6, 6, 2, 7, 8, 8, 1, 9, 1, 0, 8, 1, 3, 2, 5, 3, 2, 4, 4, 5, 1, 6, 6, 7, 6, 8, 5, 9, 0, 6, 3, 4, 7, 2, 7, 6, 1, 4, 1, 7, 5, 5, 6, 5, 8, 4, 8, 7, 1, 8, 0, 9, 6, 2, 7, 9, 9, 3, 6, 9, 9, 3, 4, 8, 4, 2, 4, 0, 5, 9, 0, 8, 8, 0, 0, 5, 7, 6, 1, 0, 4, 1, 3, 0, 8, 4, 5, 2, 9, 6, 2, 5, 0, 3, 4, 5, 2, 3, 1, 8, 1, 3, 8, 4, 0, 1, 6, 5, 6, 3, 7, 0, 1, 8, 6, 3, 9, 0, 1, 6, 1, 2, 4, 7, 5, 1, 2, 1, 7, 8, 9, 1, 1, 7, 1, 1, 7, 3, 3, 8, 0, 5, 7, 2, 0, 0, 6, 9, 8, 7, 5, 6, 5, 7, 4, 4, 9, 1, 1, 6, 2, 8, 9, 4, 3, 7, 8, 5, 4, 1, 8, 2, 4, 6, 4, 7, 2, 9, 5, 8, 1, 0, 4, 6, 7, 9, 9, 4, 1, 6, 7, 2, 5, 3, 2, 7, 0, 1, 8, 9, 2, 2, 0, 2, 6, 5, 7, 3, 1, 7, 2, 8, 9, 0, 2, 1, 9, 2, 4, 3, 3, 1, 3, 5, 1, 6, 0, 7, 8, 8, 8, 0, 2, 1, 4, 2, 3, 3, 7, 4, 8, 5, 4, 6, 5, 7, 9, 8, 2, 9, 5, 0, 8, 1, 2, 2, 6, 3, 2, 4, 0, 5, 7, 6, 5, 7, 8, 8, 0, 9, 3, 8, 5, 9, 3, 2, 8, 6, 7, 1, 1, 7, 5, 6, 1, 3, 4, 5, 4, 4, 1, 8, 6, 2, 7, 6, 4, 4, 6, 7, 4, 2, 2, 3, 8, 4, 5, 5, 9, 9, 0, 2, 1, 0, 3, 3, 2, 9, 9, 4, 6, 9, 6, 7, 9, 3, 7, 9, 4, 3, 6, 8, 9, 7, 0, 1, 9, 4, 5, 9, 4, 8, 2, 5, 4, 8, 4, 2, 9, 6, 1, 9, 4, 5, 4, 3, 2, 6, 8, 5, 0, 2, 5, 5, 6, 7, 4, 2, 6, 3, 8, 1, 3, 3, 0, 2, 8, 7, 0, 3, 1, 1, 9, 9, 2, 0, 1, 1, 1, 7, 9, 0, 3, 8, 8, 5, 9, 6, 0, 8, 7, 2, 2, 1, 5, 3, 4, 5, 1, 0, 5, 7, 3, 0, 6, 8, 2, 7, 1, 2, 8, 4, 5, 4, 3, 8, 6, 0, 1, 1, 3, 5, 7, 1, 0, 1, 2, 6, 0, 0, 7, 0, 1, 4, 4, 9, 5, 8, 1, 5, 8, 1, 3, 6, 6, 6, 4, 0, 1, 7, 8, 6, 5, 1, 2, 1, 7, 0, 4, 1, 1, 2, 7, 3, 4, 4, 7, 5, 1, 6, 8, 7, 6, 8, 1, 9, 3, 0, 2, 1, 7, 2, 7, 3, 9, 4, 1, 5, 0, 6, 7, 7, 0, 8, 3, 9, 1, 0, 9, 1, 4, 2, 9, 3, 7, 4, 5, 7, 6, 8, 0, 9, 2, 0, 5, 7, 1, 8, 4, 4, 4, 1, 4, 8, 7, 8, 9, 1, 2, 3, 4, 1, 1, 8, 6, 3, 7, 7, 1, 9, 4, 3, 7, 4, 8, 7, 9, 8, 9, 4, 1, 7, 4, 8, 3, 9, 3, 3, 4, 1, 5, 4, 7, 6, 8, 5, 0, 6, 4, 7, 3, 7, 1, 1, 9, 6, 2, 4, 7, 9, 6, 2, 6, 9, 1, 3, 2, 5, 0, 3, 2, 6, 1, 0, 2, 0, 3, 2, 3, 4, 7, 2, 0, 7, 5, 4, 0, 9, 1, 5, 5, 1, 4, 2, 1, 3, 0, 6, 6, 1, 9, 8, 1, 3, 3, 8, 0, 0, 5, 3, 4, 0, 5, 6, 4, 1, 6, 6, 7, 9, 5, 5, 8, 9, 1, 4, 7, 5, 2, 8, 8, 6, 0, 7, 0, 1, 7, 1, 8, 7, 8, 0, 8, 1, 4, 2, 6, 3, 2, 4, 3, 5, 7, 6, 4, 7, 1, 8, 7, 9, 2, 0, 3, 1, 7, 2, 2, 3, 3, 4, 6, 5, 5, 6, 5, 7, 8, 8, 5, 9, 7, 0, 8, 1, 5, 2, 6, 3, 5, 4, 8, 5, 0, 6, 0, 7, 9, 8, 0, 9, 2, 7, 3, 7, 3, 7, 6, 3, 7, 0, 7, 3, 0, 1, 9, 8, 5, 7, 9, 6, 5, 4, 9, 5, 1, 6, 1, 0, 4, 2, 7, 6, 8, 8, 7, 3, 9, 2, 3, 8, 4, 1, 7, 1, 8, 7, 6, 2, 5, 0, 1, 7, 5, 1, 8, 6, 5, 0, 1, 4, 4, 6, 9, 4, 9, 4, 5, 5, 6, 8, 9, 0, 1, 6, 2, 2, 8, 3, 6, 1, 6, 3, 4, 6, 3, 5, 4, 1, 5, 8, 8, 4, 8, 0, 3, 7, 1, 5, 1, 8, 2, 8, 3, 3, 5, 7, 1, 8, 3, 9, 3, 2, 7, 6, 6, 2, 7, 5, 2, 3, 4, 1, 6, 7, 2, 3, 4, 9, 1, 1, 0, 9, 0, 9, 6, 6, 1, 0, 0, 9, 6, 3, 1, 7, 1, 0, 4, 4, 3, 5, 5, 0, 5, 9, 8, 2, 1, 8, 5, 1, 5, 4, 3, 3, 0, 5, 9, 2, 9, 9, 7, 4, 7, 0, 9, 2, 3, 9, 2, 1, 9, 6, 5, 5, 0, 8, 7, 9, 7, 4, 5, 2, 1, 5, 5, 0, 4, 1, 8, 2, 4, 3, 8, 4, 1, 5, 6, 6, 9, 7, 0, 8, 0, 9, 0, 0, 0, 1, 4, 2, 7, 3, 1, 4, 3, 7, 7, 8, 7, 9, 9, 0, 9, 1, 2, 4, 9, 5, 3, 6, 5, 7, 4, 8, 5, 3, 0, 4, 8, 1, 4, 4, 0, 6, 0, 6, 9, 7, 7, 3, 3, 3, 0, 4, 1, 3, 2, 5, 9, 0, 9, 1, 6, 4, 5, 6, 7, 0, 3, 2, 2, 8, 5, 2, 2, 5, 9, 2, 4, 1, 9, 7, 0, 0, 2, 2, 6, 0, 6, 6, 9, 6, 2, 9, 1, 8, 4, 9, 7, 2, 7, 2, 3, 9, 5, 9, 8, 5, 3, 4, 0, 4, 5, 0, 5, 0, 6, 8, 7, 6, 1, 6, 3, 8, 9, 5, 6, 3, 6, 8, 6, 5, 1, 0, 1, 3, 6, 6, 6, 7, 6, 8, 5, 3, 9, 1, 6, 3, 5, 9, 1, 5, 0, 1, 6, 5, 3, 5, 8, 0, 9, 7, 6, 3, 1, 1, 0, 7, 9, 6, 9, 0, 9, 1, 9, 2, 5, 3, 2, 4, 0, 5, 0, 6, 9, 7, 7, 8, 1, 1, 7, 2, 3, 3, 4, 5, 6, 6, 2, 7, 4, 0, 4, 1, 5, 2, 9, 3, 5, 4, 5, 5, 2, 6, 6, 8, 6, 1, 8, 0, 1, 2, 3, 1, 4, 5, 6, 6, 5, 1, 9, 1, 3, 7, 6, 8, 1, 5, 4, 1, 8, 6, 6, 7, 7, 0, 1, 3, 2, 3, 4, 0, 0, 2, 4, 6, 9, 9, 1, 8, 6, 5, 9, 8, 8, 6, 2, 8, 6, 9, 3, 9, 7, 7, 6, 1, 8, 2, 3, 1, 9, 1, 5, 1, 2, 2, 3, 8, 4, 0, 4, 5, 3, 7, 3, 6, 5, 5, 3, 3, 1, 8, 9, 1, 7, 3, 2, 6, 4, 0, 9, 4, 7, 8, 5, 9, 5, 4, 5, 7, 6, 2, 1, 7, 8, 1, 4, 8, 6, 2, 9, 1, 4, 7, 5, 7, 5, 3, 9, 2, 3, 0, 1, 4, 7, 6, 7, 6, 1, 8, 6, 5, 0, 9, 1, 8, 9, 2, 6, 5, 8, 1, 4, 0, 0, 5, 6, 0, 2, 3, 2, 4, 8, 3, 2, 9, 2, 6, 4, 2, 5, 5, 2, 0, 9, 6, 7, 9, 3, 0, 2, 1, 5, 2, 6, 3, 4, 4, 6, 5, 0, 6, 2, 7, 8, 8, 3, 9, 8, 0, 8, 1, 7, 2, 6, 3, 8, 4, 3, 5, 5, 6, 3, 7, 5, 8, 9, 9, 7, 0, 0, 1, 2, 2, 2, 3, 3, 4, 3, 5, 1, 6, 1, 7, 5, 8, 3, 9, 4, 7, 5, 7, 8, 7, 3, 3, 0, 0, 7, 3, 6, 1, 2, 8, 8, 7, 0, 6, 3, 4, 1, 5, 0, 6, 9, 0, 3, 2, 7, 6, 5, 8, 4, 3, 2, 2, 7, 8, 3, 1, 1, 1, 9, 7, 7, 2, 5, 0, 6, 7, 7, 1, 4, 6, 8, 0, 8, 4, 9, 6, 6, 4, 6, 4, 2, 5, 1, 8, 1, 0, 8, 6, 7, 2, 1, 3, 2, 3, 0, 6, 8, 5, 2, 1, 4, 8, 6, 5, 2, 9, 6, 4, 4, 0, 2, 7, 1, 5, 8, 8, 9, 8, 4, 3, 6, 7, 1, 8, 5, 9, 4, 2, 0, 6, 0, 2, 9, 5, 3, 3, 7, 1, 9, 7, 3, 3, 0, 9, 9, 1, 0, 9, 7, 9, 0, 6, 5, 0, 9, 9, 9, 4, 6, 3, 2, 7, 8, 0, 7, 4, 5, 5, 4, 0, 9, 9, 5, 2, 4, 8, 3, 1, 5, 4, 9, 3, 4, 5, 6, 2, 5, 9, 3, 4, 3, 0, 7, 2, 6, 9, 7, 1, 2, 6, 4, 5, 1, 8, 7, 9, 5, 4, 7, 2, 6, 5, 9, 0, 4, 1, 9, 2, 8, 3, 1, 4, 6, 5, 1, 6, 7, 7, 5, 8, 6, 9, 2, 0, 1, 1, 5, 2, 3, 3, 0, 6, 2, 7, 6, 8, 8, 0, 6, 1, 6, 2, 3, 3, 1, 7, 6, 8, 8, 9, 9, 1, 8, 8, 9, 6, 2, 7, 6, 1, 1, 1, 6, 4, 7, 3, 7, 7, 1, 7, 9, 8, 5, 9, 2, 3, 5, 6, 5, 0, 0, 3, 7, 6, 1, 4, 1, 8, 6, 3, 0, 1, 4, 1, 2, 5, 8, 9, 3, 0, 5, 4, 5, 1, 9, 7, 6, 9, 8, 5, 2, 1, 1, 1, 4, 9, 9, 8, 1, 6, 1, 6, 3, 0, 8, 1, 2, 8, 1, 8, 8, 3, 3, 2, 1, 0, 4, 9, 5, 7, 4, 4, 5, 5, 4, 8, 6, 3, 8, 5, 0, 8, 2, 5, 7, 4, 4, 7, 7, 7, 3, 7, 5, 1, 1, 5, 9, 3, 1, 0, 0, 1, 8, 2, 9, 3, 8, 4, 3, 5, 4, 6, 0, 7, 3, 8, 6, 9, 4, 0, 6, 1, 0, 2, 0, 3, 8, 4, 7, 5, 5, 6, 4, 7, 1, 8, 8, 9, 2, 0, 9, 1, 9, 2, 0, 3, 9, 5, 8, 6, 2, 8, 2, 1, 1, 4, 8, 5, 9, 4, 9, 2, 3, 3, 6, 3, 1, 0, 2, 5, 3, 4, 1, 3, 7, 0, 8, 8, 0, 6, 2, 7, 3, 0, 5, 7, 6, 7, 7, 1, 3, 6, 2, 9, 9, 2, 7, 3, 7, 6, 0, 2, 3, 3, 9, 6, 5, 8, 2, 5, 4, 2, 1, 3, 7, 8, 2, 1, 2, 2, 6, 9, 2, 5, 7, 8, 4, 8, 6, 7, 0, 1, 1, 7, 6, 1, 0, 1, 6, 0, 8, 3, 3, 4, 3, 2, 5, 6, 4, 7, 7, 4, 4, 2, 5, 7, 9, 4, 5, 2, 9, 9, 2, 2, 9, 7, 8, 9, 3, 2, 6, 8, 1, 6, 6, 1, 0, 0, 3, 6, 1, 8, 2, 5, 7, 5, 1, 0, 2, 5, 9, 3, 1, 5, 2, 7, 6, 4, 6, 8, 1, 5, 4, 9, 3, 6, 1, 9, 8, 3, 0, 0, 3, 0, 1, 6, 8, 3, 5, 0, 0, 5, 7, 8, 8, 9, 5, 1, 6, 8, 1, 1, 7, 6, 9, 0, 6, 0, 4, 1, 5, 2, 8, 3, 5, 4, 3, 5, 0, 6, 6, 7, 0, 8, 8, 9, 0, 0, 0, 1, 1, 2, 0, 3, 9, 4, 1, 5, 6, 6, 5, 7, 9, 0, 9, 1, 4, 2, 8, 3, 6, 4, 4, 5, 1, 6, 2, 7, 8, 8, 7, 9, 3, 6, 4, 4, 3, 2, 9, 6, 9, 4, 8, 7, 2, 5, 2, 5, 5, 7, 0, 8, 6, 9, 2, 2, 8, 9, 1, 3, 6, 9, 7, 2, 0, 0, 1, 9, 4, 8, 5, 0, 6, 5, 6, 6, 7, 0, 5, 1, 1, 0, 5, 2, 0, 6, 5, 5, 8, 3, 3, 5, 5, 3, 4, 8, 2, 0, 6, 0, 9, 5, 2, 4, 2, 3, 0, 4, 6, 1, 9, 5, 6, 3, 2, 0, 0, 8, 9, 6, 9, 2, 5, 7, 1, 1, 2, 1, 2, 8, 9, 1, 0, 7, 2, 1, 0, 3, 7, 8, 2, 5, 2, 4, 1, 2, 4, 0, 3, 9, 3, 7, 5, 6, 0, 7, 3, 4, 8, 1, 2, 6, 0, 8, 4, 4, 6, 7, 7, 5, 5, 1, 5, 2, 6, 6, 1, 7, 8, 1, 5, 9, 0, 8, 4, 9, 7, 4, 3, 9, 2, 9, 7, 6, 8, 2, 5, 3, 1, 7, 6, 1, 7, 9, 3, 2, 6, 2, 4, 5, 3, 3, 7, 7, 0, 8, 7, 0, 2, 1, 0, 2, 4, 3, 7, 4, 6, 5, 1, 6, 3, 7, 8, 8, 1, 9, 9, 0, 8, 1, 3, 2, 1, 3, 7, 4, 5, 7, 1, 8, 0, 9, 1, 0, 4, 1, 4, 2, 4, 3, 1, 4, 7, 5, 5, 6, 8, 7, 2, 8, 2, 9, 5, 0, 1, 9, 8, 5, 8, 0, 3, 9, 4, 8, 2, 9, 8, 4, 2, 1, 0, 7, 2, 7, 6, 3, 9, 5, 0, 1, 1, 0, 7, 0, 1, 7, 8, 0, 0, 1, 3, 2, 6, 2, 3, 3, 8, 7, 5, 3, 8, 3, 2, 6, 9, 6, 5, 1, 0, 0, 2, 9, 1, 0, 2, 1, 3, 7, 5, 6, 3, 3, 2, 2, 6, 3, 4, 1, 8, 9, 2, 1, 6, 7, 1, 6, 4, 8, 9, 4, 3, 3, 9, 1, 4, 4, 2, 0, 9, 5, 2, 3, 6, 6, 6, 9, 7, 1, 6, 7, 9, 5, 0, 4, 7, 4, 7, 7, 3, 2, 0, 2, 7, 7, 6, 9, 3, 5, 7, 8, 9, 9, 9, 8, 9, 0, 2, 1, 4, 2, 8, 3, 5, 4, 1, 5, 1, 7, 9, 0, 6, 1, 2, 2, 2, 3, 7, 6, 7, 1, 5, 2, 8, 3, 5, 4, 9, 5, 2, 6, 2, 9, 1, 9, 9, 6, 4, 5, 5, 9, 9, 2, 4, 3, 3, 1, 3, 2, 0, 1, 1, 2, 1, 1, 6, 3, 6, 2, 8, 6, 4, 5, 5, 3, 3, 0, 0, 6, 7, 4, 2, 0, 6, 5, 5, 9, 1, 9, 5, 8, 0, 1, 0, 7, 4, 4, 4, 7, 3, 0, 7, 1, 4, 6, 2, 3, 1, 7, 3, 9, 3, 0, 6, 9, 2, 5, 9, 3, 9, 8, 6, 8, 2, 7, 0, 1, 3, 4, 6, 0, 2, 3, 7, 9, 2, 0, 3, 7, 7, 2, 3, 1, 7, 9, 2, 1, 9, 5, 2, 1, 2, 7, 4, 2, 9, 1, 1, 6, 2, 8, 6, 8, 8, 0, 0, 1, 1, 2, 2, 3, 0, 4, 9, 5, 9, 6, 7, 8, 9, 9, 8, 0, 7, 1, 4, 2, 8, 3, 8, 4, 1, 5, 4, 6, 1, 7, 9, 8, 2, 9, 3, 0, 9, 1, 6, 2, 0, 3, 7, 4, 6, 5, 5, 6, 7, 7, 3, 8, 4, 9, 7, 0, 5, 9, 5, 4, 7, 2, 8, 4, 3, 1, 6, 5, 8, 6, 9, 1, 9, 1, 7, 7, 8, 8, 8, 5, 7, 3, 1, 4, 4, 6, 0, 7, 7, 0, 7, 3, 3, 2, 0, 6, 6, 9, 8, 8, 5, 5, 8, 8, 1, 6, 0, 8, 7, 9, 3, 9, 4, 7, 8, 7, 7, 2, 7, 1, 0, 1, 1, 1, 4, 2, 4, 8, 0, 7, 3, 6, 4, 5, 0, 3, 3, 8, 4, 1, 4, 3, 1, 6, 5, 0, 8, 4, 0, 8, 5, 9, 5, 4, 2, 9, 2, 7, 8, 9, 1, 5, 9, 2, 5, 7, 9, 1, 7, 8, 6, 2, 2, 1, 6, 7, 0, 7, 2, 3, 0, 2, 2, 0, 5, 4, 7, 6, 6, 6, 4, 9, 9, 4, 1, 2, 9, 8, 1, 2, 4, 5, 1, 1, 1, 0, 0, 5, 6, 0, 7, 3, 0, 4, 1, 3, 2, 9, 9, 6, 5, 7, 7, 3, 7, 4, 0, 3, 4, 0, 2, 6, 4, 9, 1, 0, 3, 1, 1, 2, 8, 3, 7, 4, 2, 5, 6, 6, 8, 7, 4, 8, 5, 9, 6, 0, 6, 1, 2, 2, 2, 3, 7, 4, 0, 5, 6, 6, 4, 0, 1, 1, 9, 2, 6, 3, 5, 4, 3, 5, 9, 6, 5, 7, 7, 8, 8, 9, 1, 2, 0, 1, 8, 2, 4, 1, 9, 3, 9, 9, 1, 9, 8, 3, 2, 7, 0, 0, 3, 7, 8, 7, 1, 5, 2, 7, 2, 9, 2, 9, 6, 4, 2, 7, 7, 0, 6, 1, 3, 4, 8, 4, 2, 7, 0, 5, 1, 8, 2, 1, 7, 4, 1, 9, 9, 8, 0, 4, 1, 1, 1, 8, 4, 6, 1, 6, 3, 4, 5, 6, 3, 0, 5, 5, 9, 5, 9, 3, 3, 3, 2, 5, 2, 2, 7, 5, 0, 7, 0, 2, 3, 5, 2, 9, 5, 6, 2, 9, 2, 2, 0, 6, 9, 2, 4, 1, 1, 2, 2, 0, 0, 8, 7, 3, 1, 8, 6, 3, 4, 0, 8, 8, 9, 7, 4, 4, 4, 9, 7, 5, 3, 0, 1, 9, 6, 7, 1, 0, 2, 0, 6, 4, 0, 9, 9, 1, 5, 6, 1, 2, 2, 7, 8, 6, 5, 8, 8, 3, 3, 5, 9, 2, 8, 1, 1, 8, 8, 6, 9, 1, 5, 0, 0, 3, 5, 1, 7, 4, 8, 0, 2, 1, 9, 2, 2, 3, 5, 4, 3, 5, 5, 6, 1, 7, 3, 8, 6, 9, 5, 0, 6, 1, 2, 2, 8, 3, 3, 4, 1, 5, 9, 6, 4, 7, 6, 8, 0, 0, 2, 1, 3, 2, 0, 3, 5, 1, 0, 5, 0, 6, 9, 7, 3, 8, 1, 7, 9, 0, 9, 6, 4, 0, 0, 7, 5, 3, 8, 8, 5, 6, 2, 7, 6, 1, 6, 3, 4, 7, 3, 9, 9, 7, 9, 4, 7, 0, 0, 2, 2, 5, 0, 0, 3, 6, 9, 4, 4, 9, 4, 5, 0, 6, 4, 5, 8, 2, 3, 9, 8, 8, 3, 5, 5, 1, 8, 9, 1, 8, 1, 3, 0, 4, 1, 0, 8, 5, 4, 4, 2, 8, 6, 6, 8, 3, 4, 4, 2, 8, 5, 0, 8, 6, 6, 4, 0, 8, 5, 1, 7, 3, 1, 4, 4, 0, 7, 1, 1, 9, 1, 2, 8, 3, 3, 7, 9, 1, 7, 2, 5, 7, 3, 2, 9, 8, 0, 7, 7, 0, 2, 1, 0, 9, 6, 6, 7, 4, 6, 9, 6, 2, 4, 1, 7, 2, 2, 3, 7, 7, 9, 0, 2, 2, 1, 1, 5, 3, 6, 4, 9, 7, 6, 2, 4, 5, 3, 8, 9, 1, 4, 6, 1, 8, 4, 5, 6, 6, 9, 0, 6, 8, 5, 9, 9, 4, 4, 9, 6, 2, 9, 6, 5, 0, 5, 1, 4, 2, 0, 3, 4, 4, 6, 5, 9, 6, 7, 7, 1, 8, 7, 9, 3, 0, 0, 1, 2, 2, 7, 3, 7, 4, 9, 5, 7, 6, 2, 7, 7, 8, 6, 9, 1, 0, 8, 1, 1, 2, 4, 3, 5, 4, 1, 5, 5, 6, 1, 7, 8, 8, 8, 9, 5, 0, 3, 4, 7, 0, 2, 1, 9, 7, 9, 9, 6, 5, 6, 1, 8, 4, 2, 2, 2, 8, 7, 9, 0, 4, 0, 3, 8, 1, 7, 7, 6, 8, 4, 2, 6, 4, 6, 4, 4, 3, 6, 3, 8, 6, 8, 9, 0, 9, 3, 5, 1, 8, 5, 6, 9, 7, 1, 0, 8, 6, 6, 8, 7, 2, 5, 6, 3, 3, 1, 9, 1, 8, 0, 6, 8, 1, 2, 7, 0, 4, 5, 8, 9, 8, 3, 9, 9, 0, 6, 3, 6, 3, 3, 9, 5, 0, 7, 9, 8, 4, 6, 1, 5, 0, 0, 3, 9, 7, 6, 5, 3, 8, 2, 7, 8, 7, 0, 8, 2, 2, 8, 9, 7, 7, 1, 1, 1, 2, 3, 6, 6, 4, 4, 2, 8, 3, 1, 6, 4, 6, 9, 0, 6, 2, 7, 8, 0, 1, 0, 6, 0, 1, 3, 0, 1, 4, 0, 3, 3, 1, 1, 6, 6, 1, 2, 9, 1, 0, 1, 1, 9, 2, 0, 3, 2, 4, 2, 5, 5, 6, 7, 7, 6, 8, 7, 9, 5, 0, 8, 1, 3, 2, 4, 3, 1, 4, 7, 5, 4, 6, 2, 7, 6, 8, 2, 9, 5, 0, 6, 1, 1, 2, 7, 3, 2, 6, 8, 7, 5, 8, 0, 9, 6, 8, 8, 1, 1, 0, 0, 7, 6, 5, 3, 1, 8, 8, 0, 6, 1, 4, 9, 1, 0, 9, 6, 3, 4, 8, 3, 4, 5, 4, 2, 7, 1, 0, 5, 1, 7, 9, 9, 2, 7, 8, 2, 7, 6, 8, 3, 2, 4, 5, 8, 9, 4, 6, 2, 0, 0, 6, 4, 5, 2, 5, 5, 3, 2, 3, 7, 3, 2, 8, 9, 1, 8, 4, 1, 0, 6, 6, 0, 1, 1, 0, 7, 0, 5, 6, 4, 2, 6, 1, 4, 1, 7, 3, 9, 2, 7, 8, 7, 8, 7, 7, 0, 0, 5, 3, 4, 6, 2, 8, 2, 9, 7, 9, 2, 2, 5, 4, 5, 9, 9, 4, 9, 3, 3, 6, 8, 2, 9, 2, 6, 5, 8, 3, 4, 2, 8, 5, 6, 5, 1, 9, 7, 1, 0, 6, 9, 5, 5, 0, 1, 1, 3, 2, 0, 3, 4, 4, 6, 5, 2, 7, 0, 8, 4, 0, 0, 1, 5, 2, 2, 3, 1, 4, 2, 5, 5, 0, 1, 1, 8, 2, 9, 3, 0, 4, 5, 5, 9, 6, 1, 2, 8, 1, 9, 2, 1, 1, 1, 3, 8, 9, 8, 9, 3, 8, 6, 3, 1, 7, 5, 0, 0, 7, 3, 7, 2, 5, 9, 7, 9, 9, 5, 9, 1, 4, 8, 7, 8, 0, 5, 3, 4, 4, 9, 1, 8, 7, 0, 5, 4, 8, 8, 1, 9, 4, 6, 9, 6, 8, 6, 4, 8, 1, 7, 8, 3, 6, 0, 6, 5, 0, 2, 3, 9, 5, 5, 5, 3, 7, 6, 9, 8, 6, 8, 9, 4, 2, 9, 6, 9, 2, 8, 1, 5, 2, 2, 0, 8, 8, 9, 3, 3, 8, 7, 3, 7, 0, 2, 8, 0, 7, 8, 4, 8, 9, 4, 5, 8, 0, 2, 9, 7, 0, 5, 0, 4, 4, 8, 6, 7, 0, 7, 9, 1, 1, 6, 6, 4, 2, 2, 6, 1, 8, 3, 3, 6, 1, 4, 8, 0, 3, 3, 1, 9, 0, 9, 3, 7, 1, 2, 4, 1, 0, 2, 1, 3, 2, 5, 3, 0, 4, 4, 5, 8, 6, 4, 7, 4, 8, 1, 9, 0, 0, 5, 1, 3, 2, 5, 3, 3, 4, 6, 5, 1, 6, 8, 7, 1, 8, 8, 9, 7, 0, 1, 1, 9, 2, 1, 3, 2, 4, 9, 5, 3, 6, 7, 7, 7, 8, 3, 9, 9, 8, 3, 9, 8, 5, 5, 7, 5, 0, 2, 3, 2, 1, 5, 6, 9, 8, 1, 4, 9, 1, 7, 7, 7, 6, 9, 5, 6, 6, 9, 7, 2, 8, 0, 1, 7, 4, 4, 0, 8, 5, 5, 0, 9, 1, 5, 9, 6, 2, 3, 3, 5, 2, 3, 3, 4, 5, 8, 5, 6, 7, 0, 8, 3, 4, 0, 9, 6, 9, 4, 7, 0, 1, 7, 1, 0, 9, 6, 8, 7, 3, 5, 4, 0, 8, 0, 6, 9, 3, 6, 8, 0, 0, 1, 9, 3, 6, 9, 2, 8, 1, 5, 0, 9, 1, 2, 0, 5, 6, 7, 2, 0, 3, 1, 8, 4, 9, 0, 0, 8, 7, 6, 2, 9, 3, 1, 4, 1, 8, 7, 5, 1, 4, 7, 6, 0, 6, 7, 6, 4, 7, 4, 9, 0, 1, 1, 2, 7, 1, 7, 2, 6, 6, 0, 5, 3, 3, 6, 4, 5, 7, 3, 9, 2, 4, 0, 0, 7, 0, 9, 5, 0, 9, 3, 0, 0, 1, 1, 2, 7, 3, 4, 4, 9, 5, 0, 6, 0, 7, 9, 8, 8, 9, 2, 0, 0, 1, 2, 2, 9, 4, 3, 5, 3, 6, 7, 7, 2, 8, 7, 9, 1, 0, 7, 1, 1, 2, 0, 3, 1, 4, 5, 5, 6, 6, 3, 7, 4, 8, 1, 9, 5, 8, 9, 6, 4, 5, 0, 0, 4, 6, 1, 8, 2, 9, 6, 4, 4, 1, 9, 9, 6, 5, 1, 3, 4, 0, 0, 4, 0, 8, 0, 9, 4, 1, 6, 5, 0, 5, 5, 2, 4, 1, 8, 4, 0, 0, 9, 7, 7, 6, 4, 0, 1, 1, 4, 8, 4, 9, 7, 4, 2, 7, 8, 6, 1, 0, 4, 8, 3, 1, 8, 7, 4, 7, 3, 1, 3, 2, 2, 3, 0, 1, 5, 4, 8, 2, 6, 0, 6, 0, 2, 7, 2, 8, 1, 8, 6, 4, 7, 7, 8, 2, 3, 5, 4, 6, 2, 3, 3, 6, 6, 4, 2, 6, 5, 5, 3, 1, 7, 3, 2, 9, 8, 2, 1, 5, 9, 7, 2, 9, 0, 8, 1, 2, 1, 1, 3, 3, 9, 1, 2, 3, 0, 0, 8, 1, 8, 2, 6, 4, 0, 5, 6, 6, 4, 7, 4, 8, 4, 9, 7, 0, 5, 1, 2, 2, 8, 3, 8, 4, 0, 5, 0, 6, 5, 7, 9, 8, 5, 0, 7, 1, 2, 2, 0, 3, 2, 4, 8, 5, 9, 6, 2, 7, 6, 8, 7, 9, 0, 7, 2, 2, 0, 9, 9, 4, 1, 2, 4, 9, 4, 8, 1, 4, 5, 5, 0, 8, 9, 8, 4, 0, 7, 3, 6, 5, 5, 4, 7, 3, 4, 3, 6, 4, 6, 6, 2, 5, 0, 1, 6, 7, 6, 8, 9, 4, 8, 5, 8, 7, 2, 3, 7, 5, 4, 2, 5, 3, 4, 6, 4, 6, 7, 7, 8, 7, 3, 7, 9, 6, 5, 0, 7, 1, 9, 0, 1, 1, 1, 6, 4, 5, 3, 5, 4, 2, 4, 9, 9, 3, 9, 1, 7, 4, 1, 8, 5, 8, 6, 7, 5, 6, 6, 2, 6, 2, 1, 9, 5, 6, 3, 5, 9, 9, 0, 1, 7, 2, 5, 2, 4, 7, 9, 9, 8, 7, 0, 9, 0, 8, 4, 9, 4, 7, 9, 0, 5, 5, 6, 0, 9, 3, 2, 8, 9, 4, 5, 6, 3, 1, 4, 4, 8, 0, 7, 3, 5, 6, 5, 2, 3, 0, 3, 1, 4, 3, 7, 1, 1, 0, 2, 9, 2, 0, 7, 1, 4, 2, 5, 3, 4, 5, 5, 6, 0, 7, 7, 8, 4, 9, 5, 0, 0, 1, 6, 4, 2, 7, 2, 8, 0, 9, 3, 0, 9, 1, 5, 4, 4, 7, 6, 8, 4, 9, 7, 1, 6, 7, 1, 9, 7, 5, 9, 1, 3, 9, 4, 1, 3, 7, 7, 8, 6, 2, 1, 3, 6, 6, 3, 9, 1, 9, 1, 5, 9, 8, 9, 6, 7, 7, 7, 0, 1, 6, 8, 8, 2, 3, 4, 9, 0, 8, 9, 6, 7, 1, 3, 7, 3, 9, 6, 4, 4, 1, 7, 0, 9, 3, 5, 8, 2, 7, 4, 7, 7, 8, 5, 7, 9, 6, 6, 6, 8, 2, 5, 8, 5, 1, 2, 6, 0, 1, 6, 0, 8, 4, 3, 3, 5, 1, 0, 6, 5, 1, 3, 9, 8, 0, 4, 1, 2, 2, 2, 3, 0, 4, 7, 5, 3, 6, 2, 7, 4, 8, 1, 9, 3, 0, 3, 1, 6, 2, 2, 3, 2, 4, 0, 5, 5, 6, 3, 9, 5, 0, 0, 1, 3, 2, 8, 3, 2, 9, 9, 0, 8, 9, 1, 0, 2, 9, 1, 3, 6, 2, 4, 7, 9, 8, 5, 4, 6, 6, 8, 1, 7, 0, 2, 4, 2, 0, 3, 5, 1, 0, 6, 1, 3, 3, 5, 2, 4, 9, 3, 1, 9, 6, 1, 0, 6, 1, 9, 1, 1, 8, 1, 0, 6, 4, 6, 7, 7, 7, 0, 6, 1, 3, 0, 6, 8, 0, 4, 7, 7, 4, 6, 4, 0, 1, 8, 8, 4, 3, 1, 7, 6, 1, 4, 9, 6, 3, 9, 8, 4, 0, 7, 1, 7, 2, 6, 3, 1, 4, 0, 5, 4, 6, 1, 7, 7, 8, 9, 9, 3, 0, 9, 1, 1, 2, 0, 3, 1, 4, 5, 5, 1, 8, 0, 9, 0, 0, 7, 1, 3, 2, 2, 3, 6, 4, 6, 5, 4, 8, 8, 9, 1, 8, 0, 3, 8, 4, 1, 7, 0, 8, 8, 6, 7, 3, 6, 4, 3, 0, 3, 9, 3, 7, 7, 1, 5, 9, 7, 3, 4, 8, 8, 4, 1, 7, 4, 3, 1, 0, 4, 9, 5, 6, 5, 1, 3, 4, 3, 5, 7, 4, 5, 6, 7, 2, 1, 0, 7, 6, 9, 2, 4, 1, 0, 1, 7, 1, 3, 1, 3, 7, 9, 2, 7, 4, 6, 7, 6, 5, 4, 2, 8, 9, 0, 4, 8, 5, 8, 8, 4, 4, 9, 2, 8, 0, 6, 5, 9, 1, 2, 1, 6, 7, 0, 6, 9, 6, 2, 6, 2, 8, 7, 2, 6, 5, 0, 2, 3, 2, 2, 7, 9, 7, 9, 4, 3, 0, 1, 2, 1, 4, 1, 2, 0, 5, 1, 0, 8, 3, 2, 3, 9, 3, 7, 1, 0, 8, 0, 9, 3, 6, 0, 1, 5, 0, 6, 5, 9, 9, 5, 8, 3, 5, 3, 8, 5, 5, 1, 5, 9, 8, 1, 0, 5, 3, 8, 0, 7, 8, 8, 3, 8, 9, 2, 6, 4, 3, 0, 0, 6, 1, 7, 2, 1, 3, 7, 7, 0, 8, 1, 9, 0, 0, 6, 1, 7, 2, 6, 3, 9, 4, 5, 7, 8, 8, 9, 9, 6, 0, 5, 1, 4, 2, 8, 3, 7, 4, 4, 7, 6, 8, 3, 9, 9, 1, 4, 0, 6, 1, 5, 2, 8, 7, 0, 7, 5, 3, 0, 2, 1, 2, 5, 3, 6, 9, 2, 1, 8, 7, 0, 9, 9, 5, 9, 7, 7, 2, 7, 9, 4, 6, 1, 1, 8, 3, 1, 7, 5, 3, 8, 9, 6, 8, 9, 8, 2, 8, 1, 8, 6, 8, 5, 4, 2, 7, 7, 2, 2, 1, 4, 9, 7, 8, 3, 7, 4, 8, 5, 8, 8, 0, 0, 7, 1, 9, 4, 5, 4, 0, 1, 6, 7, 8, 7, 2, 9, 6, 1, 0, 5, 1, 8, 2, 2, 3, 5, 4, 3, 5, 6, 6, 0, 7, 2, 8, 6, 9, 8, 0, 0, 1, 4, 2, 4, 3, 1, 4, 2, 5, 2, 6, 9, 7, 2, 8, 4, 9, 7, 0, 1, 1, 6, 2, 7, 3, 1, 4, 1, 5, 1, 6, 0, 7, 9, 8, 5, 9, 0, 0, 5, 9, 1, 9, 6, 8, 6, 9, 2, 8, 9, 4, 6, 1, 2, 7, 3, 7, 3, 3, 9, 5, 6, 1, 3, 0, 7, 0, 8, 2, 8, 7, 4, 7, 9, 8, 3, 2, 7, 0, 4, 1, 0, 2, 7, 6, 7, 3, 7, 3, 5, 7, 0, 3, 6, 3, 4, 4, 1, 6, 9, 6, 8, 6, 2, 4, 3, 9, 9, 1, 9, 5, 9, 0, 0, 9, 4, 8, 9, 2, 0, 0, 4, 0, 2, 1, 9, 7, 5, 6, 6, 3, 7, 2, 3, 1, 7, 7, 2, 4, 2, 6, 7, 3, 2, 1, 8, 3, 0, 9, 4, 1, 8, 7, 3, 6, 1, 8, 6, 4, 2, 3, 0, 1, 9, 0, 2, 9, 3, 6, 9, 1, 9, 7, 3, 5, 2, 4, 7, 4, 5, 7, 7, 2, 6, 8, 2, 4, 3, 8, 9, 8, 9, 4, 3, 8, 9, 9, 6, 8, 7, 0, 6, 1, 0, 2, 4, 3, 2, 4, 6, 5, 7, 6, 0, 7, 2, 8, 9, 9, 8, 0, 9, 1, 2, 2, 6, 3, 9, 4, 2, 5, 6, 6, 6, 7, 6, 8, 3, 9, 2, 0, 0, 1, 4, 2, 2, 3, 9, 4, 9, 5, 9, 6, 2, 7, 5, 8, 8, 9, 4, 1, 1, 0, 9, 4, 1, 5, 1, 6, 6, 6, 5, 3, 2, 4, 8, 4, 5, 2, 1, 8, 4, 1, 8, 0, 2, 6, 8, 4, 4, 9, 6, 7, 2, 2, 6, 3, 2, 3, 4, 9, 4, 2, 4, 0, 8, 9, 1, 3, 5, 3, 1, 9, 5, 1, 7, 5, 6, 2, 1, 3, 4, 1, 9, 6, 7, 7, 8, 3, 6, 7, 5, 8, 1, 4, 9, 0, 7, 2, 0, 4, 5, 0, 6, 2, 0, 4, 3, 7, 7, 8, 1, 0, 1, 7, 9, 0, 9, 6, 7, 9, 0, 3, 6, 2, 7, 4, 4, 0, 6, 5, 1, 7, 3, 5, 3, 1, 8, 0, 1, 8, 6, 1, 2, 6, 2, 7, 3, 2, 2, 9, 1, 7, 5, 9, 7, 5, 3, 8, 3, 9, 7, 6, 7, 5, 0, 2, 8, 6, 1, 2, 7, 8, 6, 1, 2, 7, 9, 5, 4, 5, 5, 7, 5, 3, 1, 5, 8, 0, 2, 1, 9, 1, 0, 3, 5, 8, 2, 4, 0, 9, 5, 4, 8, 5, 3, 1, 8, 8, 4, 6, 1, 8, 6, 9, 3, 0, 3, 1, 6, 2, 1, 3, 4, 4, 4, 5, 6, 7, 2, 9, 1, 0, 8, 1, 7, 2, 7, 3, 7, 4, 2, 5, 2, 6, 9, 7, 9, 8, 7, 9, 5, 0, 8, 1, 0, 4, 1, 7, 5, 8, 9, 9, 4, 8, 2, 1, 9, 0, 2, 9, 3, 5, 7, 7, 4, 8, 6, 6, 4, 9, 3, 0, 6, 4, 0, 1, 4, 9, 0, 3, 6, 8, 9, 4, 1, 4, 8, 7, 4, 0, 9, 1, 9, 9, 9, 2, 1, 8, 3, 7, 0, 8, 3, 9, 9, 6, 1, 0, 2, 6, 2, 5, 2, 5, 6, 3, 0, 3, 7, 3, 5, 4, 7, 9, 8, 4, 4, 0, 1, 6, 8, 1, 9, 0, 0, 0, 1, 6, 7, 2, 3, 1, 0, 1, 8, 3, 9, 2, 5, 7, 2, 7, 5, 8, 7, 6, 0, 0, 7, 2, 1, 0, 9, 3, 0, 6, 6, 8, 8, 7, 6, 1, 7, 5, 6, 9, 5, 9, 2, 3, 9, 7, 6, 2, 5, 4, 4, 9, 9, 4, 6, 3, 5, 6, 6, 2, 0, 4, 8, 1, 1, 7, 2, 2, 5, 0, 9, 1, 4, 2, 8, 3, 1, 4, 5, 5, 3, 6, 9, 7, 2, 8, 8, 9, 9, 0, 1, 1, 5, 2, 6, 3, 6, 7, 0, 8, 3, 9, 2, 0, 1, 1, 1, 2, 1, 3, 7, 4, 1, 5, 0, 6, 5, 7, 8, 8, 6, 9, 1, 0, 8, 9, 7, 5, 5, 6, 2, 4, 8, 1, 8, 9, 0, 3, 9, 8, 0, 4, 5, 4, 1, 7, 9, 0, 4, 1, 4, 9, 9, 2, 5, 8, 7, 7, 1, 8, 8, 5, 9, 9, 2, 6, 4, 0, 6, 6, 5, 3, 5, 3, 1, 3, 0, 9, 5, 9, 2, 8, 0, 1, 9, 4, 2, 0, 7, 6, 9, 1, 1, 0, 6, 0, 1, 6, 2, 2, 7, 1, 9, 1, 4, 3, 8, 2, 7, 7, 1, 7, 1, 7, 2, 0, 8, 7, 0, 0, 9, 3, 7, 6, 7, 8, 9, 2, 5, 4, 3, 9, 1, 4, 7, 3, 0, 6, 4, 5, 8, 5, 4, 9, 5, 4, 1, 1, 2, 7, 5, 0, 9, 1, 3, 2, 0, 3, 1, 4, 5, 5, 4, 6, 4, 7, 8, 8, 5, 9, 8, 0, 3, 1, 4, 2, 3, 3, 3, 4, 2, 5, 9, 6, 4, 7, 7, 8, 2, 0, 6, 1, 0, 2, 8, 3, 0, 4, 5, 5, 8, 6, 0, 7, 1, 8, 9, 6, 3, 2, 4, 7, 8, 1, 3, 5, 0, 6, 2, 2, 1, 5, 5, 0, 1, 5, 6, 4, 0, 2, 3, 0, 2, 8, 2, 0, 7, 1, 2, 2, 4, 3, 6, 4, 0, 5, 5, 6, 4, 7, 9, 8, 1, 7, 8, 1, 8, 7, 9, 7, 1, 0, 4, 1, 3, 4, 8, 4, 7, 4, 3, 5, 2, 7, 3, 4, 7, 9, 4, 7, 5, 2, 1, 6, 7, 3, 7, 9, 3, 4, 3, 9, 9, 0, 6, 8, 1, 7, 6, 9, 4, 0, 7, 6, 1, 3, 4, 0, 3, 4, 5, 6, 6, 3, 6, 7, 5, 8, 1, 9, 7, 3, 3, 1, 4, 8, 8, 4, 3, 2, 0, 9, 6, 8, 2, 2, 3, 8, 6, 6, 7, 5, 2, 2, 5, 6, 6, 9, 8, 6, 9, 0, 6, 3, 0, 6, 8, 3, 4, 1, 2, 2, 3, 5, 2, 0, 1, 3, 1, 7, 5, 6, 6, 1, 7, 5, 5, 5, 9, 9, 6, 8, 8, 0, 2, 9, 4, 0, 2, 1, 3, 2, 2, 3, 4, 4, 6, 7, 6, 8, 7, 9, 9, 0, 7, 1, 3, 2, 5, 0, 7, 1, 6, 5, 2, 1, 7, 3, 4, 9, 5, 0, 2, 9, 7, 7, 9, 1, 5, 3, 8, 6, 8, 9, 6, 2, 8, 4, 7, 7, 6, 7, 0, 4, 1, 3, 3, 8, 3, 3, 3, 7, 8, 1, 4, 1, 7, 7, 8, 9, 5, 3, 6, 9, 8, 1, 2, 6, 7, 4, 9, 3, 5, 9, 3, 8, 4, 1, 6, 0, 6, 1, 5, 2, 8, 3, 8, 4, 1, 5, 1, 8, 1, 9, 5, 0, 8, 1, 5, 2, 4, 3, 4, 4, 0, 5, 1, 8, 5, 9, 1, 0, 9, 1, 3, 2, 4, 3, 7, 4, 2, 5, 7, 6, 9, 7, 8, 8, 2, 9, 7, 3, 6, 2, 0, 9, 8, 3, 7, 2, 4, 1, 8, 4, 9, 5, 5, 5, 9, 2, 7, 3, 7, 2, 9, 1, 0, 3, 8, 9, 9, 7, 0, 2, 5, 1, 9, 9, 9, 1, 7, 8, 1, 8, 1, 7, 7, 8, 2, 1, 9, 0, 6, 0, 4, 6, 4, 7, 1, 5, 1, 0, 9, 6, 3, 1, 1, 1, 4, 2, 2, 5, 9, 0, 9, 7, 8, 8, 7, 4, 2, 4, 5, 1, 9, 8, 2, 5, 6, 9, 1, 0, 9, 3, 6, 7, 5, 1, 7, 6, 0, 2, 8, 6, 1, 6, 7, 1, 7, 3, 7, 8, 1, 9, 9, 9, 1, 5, 9, 9, 6, 3, 5, 7, 2, 5, 1, 6, 1, 2, 9, 2, 3, 0, 8, 9, 4, 4, 9, 0, 5, 1, 5, 2, 6, 3, 1, 4, 3, 5, 6, 6, 2, 7, 2, 8, 3, 9, 3, 1, 7, 4, 1, 7, 8, 0, 2, 1, 8, 2, 6, 3, 5, 4, 2, 5, 1, 6, 5, 7, 4, 8, 9, 9, 3, 3, 1, 7, 7, 1, 4, 0, 7, 7, 6, 5, 8, 5, 6, 6, 7, 1, 6, 0, 2, 0, 2, 8, 8, 3, 4, 4, 9, 3, 8, 1, 4, 9, 2, 5, 2, 3, 5, 4, 7, 9, 8, 3, 4, 9, 1, 2, 0, 4, 1, 5, 5, 1, 3, 6, 3, 4, 8, 9, 7, 4, 6, 9, 5, 4, 1, 1, 4, 2, 6, 5, 5, 8, 0, 1, 9, 2, 9, 9, 9, 4, 1, 3, 8, 8, 5, 2, 8, 2, 8, 1, 5, 2, 6, 1, 4, 1, 0, 3, 4, 9, 5, 3, 0, 8, 4, 7, 1, 0, 0, 7, 9, 4, 8, 8, 7, 8, 3, 5, 4, 0, 8, 6, 4, 6, 3, 3, 8, 7, 6, 6, 7, 9, 7, 9, 4, 4, 4, 8, 9, 1, 0, 0, 5, 1, 5, 2, 5, 3, 1, 4, 6, 5, 2, 6, 0, 7, 2, 8, 2, 9, 7, 0, 9, 1, 5, 2, 5, 3, 1, 7, 0, 8, 0, 9, 4, 0, 8, 1, 5, 2, 2, 3, 4, 7, 7, 8, 3, 9, 4, 1, 6, 8, 4, 6, 0, 7, 4, 1, 4, 1, 7, 4, 3, 3, 3, 7, 9, 7, 5, 8, 5, 9, 2, 3, 1, 6, 8, 0, 7, 3, 0, 6, 2, 4, 5, 7, 2, 5, 8, 6, 7, 0, 6, 3, 1, 8, 8, 3, 6, 1, 6, 1, 4, 5, 3, 9, 7, 0, 4, 9, 6, 6, 6, 2, 8, 1, 1, 7, 5, 9, 2, 9, 7, 8, 5, 6, 9, 6, 5, 8, 9, 8, 4, 2, 2, 6, 7, 3, 0, 2, 8, 9, 4, 0, 0, 3, 3, 5, 4, 8, 2, 3, 7, 5, 3, 8, 4, 5, 2, 7, 5, 7, 2, 0, 7, 1, 1, 2, 0, 3, 8, 4, 6, 5, 9, 6, 1, 7, 4, 8, 4, 9, 6, 0, 3, 1, 9, 2, 2, 3, 6, 4, 5, 5, 5, 6, 1, 7, 4, 8, 3, 9, 1, 0, 1, 1, 0, 2, 1, 3, 4, 4, 9, 5, 5, 6, 7, 7, 5, 8, 9, 9, 8, 1, 5, 8, 9, 6, 1, 7, 9, 2, 5, 7, 7, 1, 9, 1, 9, 4, 6, 3, 5, 7, 9, 8, 3, 9, 1, 3, 9, 6, 2, 0, 4, 3, 5, 4, 0, 8, 8, 4, 1, 5, 5, 7, 9, 5, 3, 0, 8, 3, 6, 9, 8, 2, 1, 8, 2, 3, 9, 1, 4, 1, 3, 5, 7, 9, 2, 4, 3, 3, 3, 0, 2, 4, 8, 0, 7, 9, 2, 6, 7, 9, 3, 2, 6, 2, 2, 1, 1, 7, 4, 9, 3, 5, 1, 1, 4, 1, 2, 9, 8, 8, 0, 6, 8, 9, 4, 0, 7, 0, 1, 0, 6, 1, 4, 8, 8, 4, 7, 8, 1, 8, 1, 2, 3, 6, 8, 3, 8, 2, 1, 9, 3, 2, 1, 4, 5, 0, 3, 9, 5, 0, 0, 3, 1, 7, 4, 4, 6, 5, 8, 8, 9, 3, 5, 5, 2, 8, 2, 5, 4, 4, 0, 7, 8, 6, 4, 5, 0, 2, 6, 2, 4, 2, 0, 7, 1, 7, 1, 0, 9, 5, 1, 1, 1, 5, 7, 3, 1, 0, 7, 1, 8, 2, 6, 5, 5, 6, 0, 7, 9, 8, 1, 9, 4, 0, 4, 1, 4, 2, 1, 3, 0, 4, 5, 5, 0, 6, 5, 7, 6, 8, 0, 0, 6, 1, 4, 2, 7, 3, 5, 4, 7, 5, 3, 6, 3, 7, 2, 8, 6, 9, 9, 2, 8, 1, 5, 7, 5, 2, 4, 5, 7, 0, 2, 8, 7, 0, 3, 2, 1, 7, 5, 8, 5, 8, 9, 3, 7, 0, 8, 6, 6, 0, 7, 2, 4, 7, 2, 6, 1, 6, 2, 1, 8, 2, 8, 8, 2, 8, 3, 7, 3, 7, 5, 4, 9, 7, 2, 7, 3, 3, 2, 7, 3, 4, 6, 5, 1, 4, 7, 3, 3, 3, 0, 8, 9, 4, 6, 5, 9, 4, 5, 1, 9, 1, 2, 9, 3, 7, 0, 4, 5, 3, 5, 7, 3, 3, 0, 3, 6, 0, 6, 2, 6, 5, 5, 5, 7, 6, 5, 3, 1, 1, 9, 5, 0, 2, 1, 5, 8, 9, 9, 9, 7, 8, 1, 4, 5, 1, 8, 0, 5, 6, 2, 0, 7, 9, 3, 6, 9, 8, 6, 8, 6, 5, 7, 6, 7, 1, 8, 1, 2, 9, 0, 8, 5, 9, 5, 2, 6, 3, 6, 5, 1, 5, 5, 9, 8, 4, 4, 2, 3, 1, 8, 9, 2, 4, 8, 9, 4, 1, 8, 3, 4, 9, 0, 2, 2, 0, 6, 6, 8, 0, 3, 4, 5, 0, 3, 6, 2, 0, 3, 1, 8, 2, 4, 3, 0, 4, 4, 6, 3, 8, 8, 1, 1, 2, 0, 3, 7, 4, 1, 5, 9, 6, 2, 7, 7, 9, 5, 1, 1, 2, 6, 3, 5, 4, 4, 5, 4, 6, 0, 7, 2, 8, 4, 6, 5, 6, 1, 0, 7, 2, 0, 3, 9, 7, 3, 4, 1, 7, 2, 1, 2, 9, 0, 1, 9, 7, 4, 1, 8, 4, 6, 0, 6, 0, 5, 1, 2, 7, 8, 5, 6, 7, 9, 1, 0, 3, 9, 3, 8, 3, 1, 1, 7, 6, 1, 9, 1, 7, 6, 4, 7, 3, 9, 0, 3, 2, 5, 6, 9, 0, 7, 8, 9, 9, 9, 4, 6, 3, 1, 5, 9, 4, 2, 8, 7, 1, 6, 5, 7, 0, 8, 6, 2, 6, 9, 3, 6, 3, 2, 8, 8, 1, 6, 4, 3, 7, 6, 5, 3, 7, 0, 2, 8, 2, 0, 0, 0, 0, 5, 7, 7, 7, 1, 9, 3, 5, 8, 9, 3, 8, 0, 9, 8, 6, 9, 8, 9, 2, 1, 3, 4, 6, 6, 1, 7, 2, 8, 9, 3, 2, 1, 5, 7, 2, 3, 2, 5, 4, 6, 8, 5, 4, 2, 6, 3, 5, 3, 0, 3, 1, 6, 2, 2, 3, 6, 4, 1, 5, 9, 6, 2, 7, 8, 8, 0, 9, 3, 0, 1, 1, 8, 2, 3, 3, 6, 4, 6, 5, 6, 6, 8, 7, 8, 8, 6, 9, 0, 0, 5, 1, 5, 2, 1, 3, 7, 4, 9, 5, 3, 6, 6, 7, 6, 8, 2, 9, 7, 6, 4, 2, 0, 7, 2, 1, 4, 5, 8, 6, 8, 2, 6, 5, 0, 0, 3, 5, 7, 4, 1, 2, 1, 0, 2, 8, 2, 1, 1, 7, 2, 1, 2, 8, 9, 3, 6, 8, 6, 7, 7, 1, 4, 7, 1, 7, 1, 0, 0, 1, 3, 4, 6, 4, 0, 4, 2, 5, 1, 7, 1, 4, 9, 4, 7, 9, 9, 7, 3, 2, 7, 6, 0, 5, 5, 3, 1, 9, 0, 4, 9, 3, 3, 9, 0, 0, 8, 8, 8, 7, 6, 9, 9, 0, 2, 6, 2, 3, 8, 0, 7, 4, 1, 6, 2, 3, 7, 7, 0, 0, 9, 1, 1, 4, 6, 8, 2, 8, 9, 1, 2, 2, 3, 9, 1, 3, 1, 1, 0, 8, 3, 4, 7, 2, 8, 9, 5, 8, 8, 2, 4, 8, 5, 6, 3, 6, 2, 9, 9, 2, 0, 9, 5, 6, 4, 0, 5, 5, 5, 3, 1, 3, 9, 6, 0, 3, 0, 1, 9, 2, 7, 5, 9, 0, 0, 3, 3, 7, 6, 1, 0, 5, 9, 5, 4, 9, 2, 8, 9, 0, 0, 9, 9, 0, 6, 1, 5, 2, 4, 3, 6, 4, 1, 5, 1, 6, 8, 7, 6, 8, 2, 9, 3, 0, 8, 1, 7, 2, 4, 3, 7, 4, 9, 7, 5, 8, 2, 9, 0, 0, 5, 1, 2, 2, 1, 3, 9, 4, 0, 5, 7, 6, 4, 7, 9, 8, 1, 9, 4, 9, 6, 7, 3, 4, 6, 1, 4, 5, 4, 8, 5, 8, 1, 0, 6, 9, 0, 3, 1, 2, 2, 7, 9, 8, 8, 1, 5, 6, 2, 1, 3, 0, 4, 4, 7, 5, 0, 3, 5, 9, 1, 4, 7, 3, 9, 4, 9, 2, 7, 0, 2, 5, 9, 0, 1, 1, 1, 3, 9, 2, 1, 9, 5, 1, 0, 6, 9, 0, 8, 1, 7, 1, 8, 8, 8, 0, 0, 4, 0, 7, 1, 7, 1, 6, 1, 3, 3, 6, 9, 0, 5, 7, 7, 3, 7, 5, 6, 4, 3, 2, 2, 4, 1, 1, 1, 8, 5, 3, 9, 7, 8, 1, 4, 0, 1, 6, 7, 7, 3, 1, 6, 2, 6, 5, 2, 8, 1, 1, 0, 9, 3, 3, 1, 8, 5, 2, 6, 8, 8, 8, 6, 7, 1, 1, 1, 7, 8, 9, 1, 2, 0, 0, 7, 1, 3, 2, 7, 3, 9, 4, 6, 5, 8, 6, 4, 7, 1, 8, 0, 9, 6, 0, 6, 1, 2, 2, 8, 3, 0, 4, 5, 5, 0, 6, 1, 7, 3, 0, 5, 1, 7, 2, 4, 3, 1, 4, 3, 5, 0, 6, 8, 7, 1, 8, 6, 8, 6, 7, 0, 4, 7, 7, 2, 7, 5, 3, 7, 9, 3, 8, 0, 1, 0, 5, 0, 8, 2, 2, 6, 7, 9, 4, 8, 2, 6, 6, 6, 4, 4, 5, 4, 5, 1, 8, 1, 6, 6, 4, 5, 4, 6, 4, 3, 1, 3, 8, 8, 7, 6, 5, 4, 5, 9, 1, 0, 8, 1, 9, 7, 3, 6, 6, 1, 3, 6, 3, 3, 2, 9, 2, 3, 6, 1, 9, 5, 9, 1, 6, 5, 5, 6, 5, 9, 3, 0, 3, 9, 8, 7, 1, 4, 6, 7, 5, 7, 6, 2, 8, 5, 1, 3, 9, 4, 7, 1, 6, 4, 8, 5, 3, 1, 7, 8, 4, 4, 7, 0, 0, 9, 9, 2, 0, 1, 0, 1, 3, 4, 7, 1, 9, 1, 3, 7, 0, 1, 2, 7, 0, 2, 1, 8, 0, 2, 1, 8, 0, 0, 4, 2, 0, 5, 1, 7, 0, 8, 4, 2, 7, 9, 9, 1, 2, 2, 0, 2, 6, 5, 2, 6, 6, 3, 2, 9, 2, 2, 9, 5, 9, 4, 0, 6, 1, 1, 2, 4, 3, 7, 4, 9, 5, 4, 6, 2, 7, 4, 8, 4, 9, 3, 0, 6, 1, 4, 2, 6, 3, 6, 4, 0, 5, 5, 6, 7, 7, 9, 0, 4, 1, 6, 2, 9, 3, 9, 4, 5, 5, 1, 6, 1, 7, 3, 8, 9, 9, 3, 7, 3, 4, 9, 3, 9, 8, 8, 5, 9, 1, 8, 8, 3, 5, 1, 2, 0, 8, 8, 6, 8, 1, 6, 9, 9, 2, 3, 4, 7, 0, 6, 9, 4, 9, 6, 3, 7, 7, 7, 1, 1, 8, 8, 4, 2, 4, 9, 2, 5, 7, 8, 5, 6, 8, 6, 5, 4, 3, 3, 2, 8, 2, 9, 0, 4, 5, 1, 8, 3, 6, 7, 0, 2, 4, 7, 0, 7, 3, 7, 8, 3, 1, 1, 0, 0, 3, 4, 0, 0, 4, 1, 7, 4, 4, 3, 9, 1, 2, 5, 9, 9, 1, 9, 2, 0, 1, 5, 7, 1, 1, 7, 6, 4, 7, 0, 3, 5, 3, 2, 6, 3, 2, 4, 8, 4, 7, 6, 6, 4, 4, 8, 9, 5, 8, 4, 8, 3, 2, 8, 9, 4, 6, 1, 5, 0, 5, 2, 9, 3, 5, 6, 3, 7, 7, 0, 4, 6, 3, 1, 6, 7, 0, 4, 0, 1, 4, 4, 6, 5, 6, 2, 9, 4, 0, 6, 1, 1, 1, 2, 3, 0, 2, 1, 1, 9, 0, 8, 0, 9, 1, 7, 2, 4, 3, 5, 4, 8, 7, 4, 8, 6, 9, 3, 0, 7, 1, 3, 2, 5, 3, 3, 4, 5, 5, 9, 6, 9, 7, 0, 8, 6, 9, 2, 0, 6, 1, 3, 2, 7, 3, 9, 4, 1, 5, 4, 7, 7, 8, 1, 9, 4, 8, 5, 6, 1, 5, 3, 0, 1, 6, 1, 8, 6, 9, 0, 4, 0, 1, 3, 9, 8, 5, 4, 3, 6, 0, 3, 4, 4, 8, 8, 9, 7, 1, 8, 4, 0, 0, 1, 5, 8, 5, 8, 4, 9, 0, 6, 7, 3, 6, 5, 0, 9, 1, 0, 7, 2, 0, 3, 6, 6, 8, 2, 9, 0, 5, 9, 4, 8, 7, 0, 6, 9, 0, 1, 8, 3, 1, 2, 7, 1, 7, 5, 1, 0, 3, 0, 2, 7, 3, 9, 1, 3, 4, 7, 2, 1, 0, 8, 0, 6, 4, 4, 9, 9, 3, 6, 8, 8, 4, 7, 7, 5, 2, 5, 5, 2, 6, 7, 3, 3, 6, 5, 9, 6, 6, 9, 3, 5, 2, 4, 2, 7, 4, 2, 6, 2, 5, 4, 5, 3, 1, 7, 3, 4, 3, 4, 9, 5, 7, 8, 8, 0, 7, 8, 2, 1, 2, 1, 5, 7, 7, 1, 9, 1, 8, 1, 2, 1, 1, 3, 3, 0, 1, 6, 3, 9, 0, 7, 1, 3, 2, 2, 3, 9, 4, 6, 5, 3, 6, 3, 7, 4, 8, 8, 9, 9, 0, 6, 1, 7, 2, 2, 3, 3, 4, 1, 7, 3, 8, 4, 9, 8, 0, 2, 1, 4, 2, 2, 3, 6, 4, 1, 7, 9, 8, 2, 9, 2, 7, 7, 7, 7, 7, 4, 3, 8, 0, 0, 3, 4, 1, 5, 8, 0, 7, 0, 6, 9, 4, 2, 0, 2, 2, 9, 6, 2, 8, 9, 3, 6, 1, 0, 1, 1, 7, 4, 7, 3, 1, 5, 6, 1, 0, 5, 4, 5, 6, 7, 4, 9, 4, 1, 0, 6, 6, 8, 2, 5, 3, 4, 1, 9, 3, 4, 6, 0, 8, 7, 5, 9, 9, 0, 4, 8, 0, 9, 7, 2, 5, 2, 8, 8, 8, 7, 3, 3, 7, 3, 8, 8, 9, 8, 2, 6, 5, 2, 3, 8, 1, 9, 7, 9, 3, 1, 9, 6, 1, 9, 9, 5, 9, 6, 6, 7, 0, 4, 9, 4, 4, 6, 3, 0, 7, 4, 0, 0, 4, 0, 1, 6, 4, 5, 3, 3, 5, 3, 4, 3, 0, 5, 2, 8, 1, 6, 8, 8, 9, 7, 4, 6, 0, 8, 1, 3, 2, 7, 3, 1, 4, 3, 5, 0, 6, 0, 7, 3, 8, 9, 9, 5, 0, 1, 1, 9, 2, 4, 3, 2, 4, 7, 5, 1, 6, 8, 7, 0, 8, 1, 9, 9, 0, 8, 1, 4, 2, 1, 3, 4, 4, 4, 5, 2, 6, 7, 7, 2, 8, 5, 9, 0, 2, 2, 2, 2, 7, 7, 6, 5, 4, 2, 0, 8, 5, 7, 8, 6, 0, 9, 7, 8, 3, 2, 5, 4, 4, 6, 1, 4, 8, 1, 0, 7, 5, 5, 2, 9, 7, 5, 2, 0, 3, 9, 1, 2, 7, 0, 7, 6, 9, 6, 9, 6, 1, 2, 2, 9, 4, 4, 6, 8, 7, 0, 7, 9, 5, 7, 4, 0, 5, 8, 0, 1, 1, 0, 1, 7, 9, 7, 0, 6, 2, 6, 0, 8, 3, 3, 5, 7, 6, 4, 1, 2, 8, 8, 6, 3, 4, 0, 6, 8, 0, 1, 6, 9, 4, 6, 3, 3, 9, 4, 3, 3, 0, 8, 0, 3, 5, 2, 2, 7, 5, 0, 8, 7, 8, 1, 8, 7, 9, 4, 4, 4, 2, 8, 8, 7, 8, 6, 5, 0, 5, 0, 7, 5, 1, 0, 3, 1, 6, 1, 9, 9, 4, 8, 1, 4, 3, 9, 7, 7, 6, 5, 9, 2, 3, 2, 3, 9, 7, 5, 4, 1, 1, 2, 9, 9, 1, 7, 0, 2, 6, 3, 0, 6, 1, 5, 2, 6, 3, 3, 4, 1, 7, 0, 8, 2, 9, 1, 0, 1, 1, 3, 2, 3, 3, 3, 7, 6, 8, 2, 9, 6, 0, 6, 1, 0, 2, 6, 3, 3, 7, 0, 8, 2, 9, 7, 1, 9, 8, 7, 6, 3, 7, 5, 2, 7, 7, 8, 1, 2, 1, 4, 4, 3, 3, 6, 7, 9, 7, 7, 8, 5, 9, 9, 3, 8, 6, 6, 0, 6, 3, 7, 6, 7, 1, 0, 8, 0, 4, 3, 5, 3, 3, 0, 9, 3, 2, 2, 8, 5, 3, 8, 1, 2, 1, 2, 5, 3, 9, 0, 0, 7, 4, 8, 4, 3, 0, 8, 9, 3, 6, 4, 9, 4, 2, 2, 2, 6, 1, 4, 7, 4, 9, 1, 5, 4, 1, 8, 1, 5, 9, 1, 8, 9, 6, 8, 6, 2, 9, 8, 0, 7, 0, 7, 0, 6, 1, 1, 8, 4, 4, 1, 6, 4, 8, 9, 8, 3, 2, 9, 6, 1, 3, 8, 2, 1, 9, 0, 2, 5, 9, 3, 0, 8, 3, 5, 7, 4, 4, 4, 5, 6, 8, 8, 3, 6, 5, 9, 8, 8, 5, 9, 4, 9, 7, 1, 6, 3, 5, 4, 2, 3, 2, 9, 7, 5, 7, 9, 0, 6, 5, 8, 5, 9, 3, 3, 0, 2, 1, 2, 2, 1, 3, 0, 4, 2, 5, 5, 6, 4, 7, 3, 8, 2, 9, 3, 0, 5, 1, 8, 2, 8, 3, 1, 4, 9, 5, 9, 6, 7, 7, 5, 8, 1, 9, 9, 0, 5, 1, 7, 2, 9, 3, 6, 4, 6, 6, 3, 7, 8, 8, 2, 9, 0, 6, 3, 2, 5, 7, 8, 1, 8, 5, 7, 6, 7, 2, 6, 0, 9, 8, 1, 1, 6, 7, 1, 1, 2, 8, 9, 3, 5, 8, 7, 7, 2, 1, 1, 7, 9, 7, 9, 0, 2, 1, 8, 4, 4, 4, 1, 7, 5, 4, 9, 4, 6, 9, 0, 7, 6, 2, 9, 6, 2, 5, 8, 3, 8, 9, 7, 4, 7, 3, 8, 9, 2, 0, 8, 8, 1, 7, 7, 9, 5, 0, 8, 3, 4, 0, 1, 4, 1, 6, 4, 3, 5, 7, 7, 0, 1, 1, 9, 4, 9, 8, 1, 8, 1, 1, 3, 2, 0, 9, 2, 3, 9, 8, 8, 9, 2, 8, 3, 2, 9, 8, 6, 6, 0, 5, 3, 2, 7, 6, 6, 2, 8, 6, 8, 0, 5, 5, 8, 3, 8, 3, 5, 6, 1, 3, 0, 2, 1, 7, 9, 6, 0, 5, 3, 9, 0, 8, 5, 0, 0, 9, 3, 0, 9, 1, 9, 2, 8, 3, 0, 4, 2, 5, 4, 6, 9, 7, 5, 8, 9, 9, 3, 0, 8, 1, 2, 2, 2, 3, 1, 4, 8, 5, 4, 6, 5, 7, 7, 8, 2, 9, 2, 0, 1, 1, 2, 2, 2, 3, 5, 4, 1, 5, 9, 6, 8, 7, 3, 8, 2, 9, 4, 9, 2, 8, 7, 6, 3, 5, 2, 9, 4, 2, 2, 3, 6, 4, 4, 3, 4, 8, 6, 5, 0, 1, 7, 5, 4, 2, 6, 3, 3, 0, 6, 1, 9, 2, 3, 1, 5, 3, 4, 2, 1, 6, 3, 5, 5, 3, 9, 0, 7, 7, 4, 4, 3, 6, 9, 4, 6, 0, 4, 5, 9, 9, 3, 9, 0, 8, 9, 3, 7, 1, 2, 7, 6, 4, 2, 7, 6, 6, 6, 5, 3, 0, 6, 6, 1, 6, 5, 2, 2, 0, 9, 6, 2, 3, 6, 7, 5, 7, 3, 4, 5, 4, 8, 3, 8, 9, 4, 2, 1, 8, 6, 9, 2, 6, 8, 0, 1, 9, 8, 5, 3, 3, 2, 8, 1, 8, 4, 7, 4, 1, 4, 4, 7, 0, 0, 4, 8, 8, 1, 5, 5, 2, 1, 3, 3, 9, 5, 0, 5, 7, 1, 2, 6, 1, 0, 9, 6, 1, 1, 5, 2, 1, 2, 7, 9, 4, 0, 8, 9, 6, 2, 1, 8, 2, 0, 1, 4, 6, 7, 8, 8, 8, 5, 0, 4, 1, 4, 2, 7, 3, 6, 4, 0, 7, 6, 8, 4, 9, 5, 0, 1, 1, 9, 2, 9, 3, 7, 4, 3, 7, 8, 8, 2, 9, 6, 0, 2, 1, 3, 2, 0, 3, 5, 7, 1, 8, 3, 9, 2, 1, 9, 1, 1, 7, 4, 4, 8, 8, 3, 1, 9, 5, 1, 7, 7, 2, 9, 8, 3, 6, 2, 3, 9, 3, 7, 8, 9, 6, 1, 9, 5, 1, 5, 7, 4, 2, 5, 1, 1, 5, 8, 1, 0, 3, 4, 2, 1, 2, 5, 3, 0, 0, 2, 6, 4, 4, 1, 3, 7, 7, 4, 6, 5, 9, 3, 0, 6, 4, 6, 1, 8, 4, 1, 0, 0, 6, 3, 1, 1, 2, 8, 6, 9, 9, 4, 2, 9, 2, 7, 3, 1, 0, 7, 7, 6, 2, 2, 9, 2, 2, 3, 3, 8, 4, 5, 0, 9, 0, 5, 8, 6, 7, 6, 8, 4, 0, 7, 9, 7, 8, 2, 9, 9, 0, 4, 2, 8, 0, 3, 1, 0, 2, 4, 3, 2, 4, 2, 5, 1, 6, 3, 7, 5, 8, 0, 9, 3, 0, 9, 1, 1, 2, 2, 3, 7, 4, 1, 5, 0, 6, 7, 7, 3, 8, 3, 9, 9, 0, 8, 1, 3, 2, 3, 3, 9, 4, 4, 5, 0, 6, 1, 7, 6, 8, 3, 9, 7, 5, 4, 8, 3, 7, 3, 4, 1, 7, 1, 7, 9, 3, 1, 8, 7, 8, 3, 3, 6, 1, 6, 5, 3, 8, 5, 2, 2, 7, 3, 6, 8, 8, 6, 6, 7, 4, 3, 4, 4, 4, 1, 1, 6, 8, 4, 8, 1, 9, 7, 1, 1, 2, 9, 2, 1, 6, 5, 9, 8, 9, 2, 6, 5, 5, 3, 5, 0, 3, 6, 3, 6, 8, 5, 8, 0, 1, 3, 9, 4, 7, 4, 6, 5, 8, 2, 3, 0, 7, 0, 4, 7, 7, 2, 0, 3, 9, 1, 3, 2, 7, 0, 9, 7, 3, 5, 0, 2, 2, 1, 0, 4, 1, 3, 0, 0, 1, 4, 0, 6, 4, 9, 0, 7, 1, 2, 0, 9, 4, 5, 7, 9, 9, 2, 2, 0, 0, 6, 6, 6, 2, 4, 6, 3, 2, 2, 2, 3, 9, 9, 9, 7, 0, 1, 1, 0, 2, 5, 3, 8, 4, 8, 5, 0, 6, 1, 7, 0, 8, 6, 9, 4, 0, 6, 1, 0, 2, 1, 3, 9, 4, 6, 5, 7, 6, 8, 7, 9, 8, 6, 9, 6, 1, 5, 0, 0, 9, 0, 5, 3, 7, 0, 5, 4, 1, 6, 8, 4, 6, 7, 9, 1, 0, 2, 4, 9, 1, 8, 9, 8, 3, 5, 8, 6, 4, 2, 4, 8, 7, 1, 0, 8, 1, 0, 2, 4, 7, 0, 8, 5, 2, 9, 5, 8, 9, 7, 6, 1, 0, 3, 6, 3, 5, 1, 5, 0, 3, 2, 3, 9, 3, 3, 9, 6, 8, 6, 1, 9, 4, 3, 0, 0, 6, 4, 1, 1, 0, 4, 0, 9, 6, 1, 2, 6, 1, 4, 1, 2, 3, 7, 2, 9, 7, 5, 7, 4, 8, 7, 8, 6, 7, 6, 8, 8, 4, 2, 6, 4, 0, 9, 7, 1, 0, 5, 3, 7, 6, 1, 7, 5, 1, 4, 5, 6, 3, 3, 7, 2, 2, 3, 4, 3, 9, 9, 4, 1, 3, 2, 6, 4, 2, 6, 2, 6, 5, 3, 3, 9, 9, 9, 4, 0, 1, 3, 7, 1, 2, 2, 5, 4, 0, 5, 1, 1, 2, 6, 3, 1, 4, 3, 5, 8, 6, 6, 7, 7, 8, 3, 0, 8, 1, 4, 2, 8, 3, 2, 4, 8, 5, 0, 6, 0, 7, 7, 8, 8, 9, 1, 0, 3, 1, 4, 2, 6, 3, 8, 4, 4, 5, 3, 6, 9, 7, 8, 0, 7, 7, 6, 0, 4, 7, 4, 8, 6, 3, 2, 0, 0, 0, 2, 5, 5, 5, 7, 3, 7, 8, 0, 8, 3, 1, 3, 8, 6, 4, 1, 9, 2, 6, 0, 1, 9, 8, 7, 0, 9, 2, 6, 7, 9, 3, 2, 9, 8, 2, 8, 5, 7, 9, 6, 5, 2, 4, 3, 0, 8, 3, 0, 3, 9, 4, 5, 7, 5, 9, 1, 0, 3, 1, 8, 9, 6, 1, 6, 2, 0, 7, 1, 9, 9, 1, 3, 0, 3, 6, 9, 2, 7, 4, 8, 0, 2, 3, 9, 5, 5, 6, 9, 6, 2, 5, 8, 6, 6, 7, 6, 1, 2, 4, 9, 4, 3, 2, 3, 6, 9, 2, 3, 9, 0, 1, 5, 5, 7, 5, 0, 5, 4, 3, 1, 1, 8, 4, 1, 8, 2, 6, 9, 3, 9, 7, 1, 0, 1, 9, 1, 5, 2, 6, 8, 7, 0, 1, 5, 3, 2, 8, 9, 2, 1, 6, 5, 2, 3, 6, 3, 4, 3, 2, 7, 7, 7, 8, 0, 7, 7, 1, 2, 0, 6, 1, 0, 2, 9, 3, 7, 4, 7, 5, 3, 6, 7, 7, 7, 8, 4, 9, 9, 0, 1, 1, 2, 2, 0, 3, 2, 4, 9, 5, 4, 6, 6, 7, 7, 8, 3, 9, 8, 0, 6, 1, 9, 2, 7, 3, 4, 4, 8, 5, 9, 6, 9, 7, 0, 8, 4, 9, 4, 9, 4, 7, 3, 5, 4, 2, 8, 9, 4, 0, 5, 1, 3, 5, 4, 8, 6, 8, 4, 0, 8, 9, 4, 3, 4, 2, 7, 7, 6, 8, 7, 4, 5, 6, 7, 1, 1, 0, 3, 4, 5, 5, 4, 3, 3, 9, 8, 0, 5, 5, 6, 0, 5, 1, 7, 6, 0, 9, 3, 3, 1, 1, 2, 6, 5, 0, 8, 1, 0, 1, 6, 8, 1, 0, 6, 4, 4, 7, 9, 7, 7, 6, 4, 3, 1, 5, 0, 6, 2, 6, 6, 3, 4, 1, 3, 8, 8, 3, 7, 5, 0, 6, 9, 7, 6, 5, 6, 2, 0, 7, 4, 1, 7, 1, 0, 9, 8, 2, 4, 8, 3, 8, 2, 3, 9, 3, 5, 0, 5, 1, 7, 2, 4, 3, 3, 4, 7, 5, 4, 6, 6, 7, 4, 8, 9, 9, 4, 0, 7, 1, 5, 2, 1, 3, 6, 4, 9, 5, 0, 6, 4, 7, 5, 8, 1, 9, 9, 0, 6, 1, 2, 2, 0, 3, 9, 4, 1, 5, 1, 6, 4, 7, 8, 8, 1, 9, 6, 0, 9, 0, 4, 7, 2, 2, 7, 4, 4, 2, 9, 6, 7, 5, 3, 5, 1, 3, 1, 7, 0, 8, 0, 6, 6, 6, 9, 4, 9, 3, 1, 2, 5, 6, 1, 3, 4, 8, 7, 0, 3, 1, 4, 4, 7, 5, 9, 6, 0, 4, 1, 7, 6, 8, 6, 0, 1, 3, 2, 1, 5, 5, 5, 4, 9, 1, 3, 9, 2, 1, 2, 2, 9, 7, 4, 0, 0, 1, 5, 3, 7, 8, 9, 2, 0, 9, 8, 7, 5, 9, 5, 4, 0, 2, 9, 5, 3, 8, 1, 6, 8, 5, 4, 5, 6, 9, 7, 9, 9, 1, 4, 8, 6, 2, 0, 9, 5, 1, 9, 3, 7, 4, 5, 3, 5, 1, 4, 0, 1, 9, 2, 6, 0, 3, 9, 6, 5, 8, 7, 7, 1, 0, 7, 1, 1, 0, 9, 5, 4, 8, 3, 2, 5, 7, 7, 7, 4, 0, 9, 1, 4, 2, 7, 3, 5, 4, 1, 5, 0, 6, 0, 7, 0, 8, 3, 9, 2, 0, 6, 1, 3, 2, 6, 3, 8, 4, 6, 5, 7, 6, 8, 7, 4, 8, 0, 9, 5, 0, 6, 1, 3, 2, 1, 3, 4, 4, 8, 5, 2, 6, 5, 7, 3, 8, 9, 9, 1, 5, 8, 7, 7, 7, 2, 7, 6, 0, 1, 4, 0, 0, 8, 3, 2, 1, 1, 8, 0, 9, 4, 2, 4, 1, 4, 8, 6, 6, 5, 5, 4, 4, 5, 7, 3, 3, 0, 4, 8, 1, 7, 8, 8, 6, 7, 9, 8, 1, 5, 4, 6, 5, 2, 5, 4, 6, 9, 0, 4, 1, 9, 3, 8, 6, 4, 4, 4, 8, 9, 9, 2, 8, 1, 5, 3, 2, 6, 1, 7, 0, 5, 7, 0, 2, 2, 5, 8, 5, 6, 6, 7, 6, 6, 6, 2, 3, 4, 3, 8, 3, 8, 1, 0, 7, 6, 2, 3, 2, 2, 7, 9, 2, 5, 3, 6, 6, 4, 8, 2, 5, 7, 1, 3, 4, 0, 9, 5, 0, 1, 5, 3, 0, 4, 6, 1, 8, 6, 8, 7, 0, 5, 8, 8, 2, 8, 3, 5, 9, 7, 4, 7, 3, 7, 7, 0, 1, 6, 7, 2, 6, 8, 9, 6, 4, 5, 2, 8, 9, 1, 9, 0, 2, 9, 0, 6, 8, 1, 5, 0, 0, 4, 4, 6, 9, 1, 4, 7, 0, 6, 7, 5, 1, 3, 3, 5, 2, 7, 9, 9, 0, 6, 1, 5, 2, 1, 3, 8, 4, 7, 5, 8, 6, 1, 7, 0, 8, 6, 9, 8, 0, 9, 1, 9, 2, 8, 3, 4, 4, 6, 5, 7, 6, 0, 7, 2, 8, 2, 9, 0, 0, 5, 1, 3, 2, 8, 3, 7, 6, 2, 7, 9, 8, 3, 9, 1, 8, 6, 4, 2, 0, 8, 0, 3, 7, 0, 2, 7, 4, 8, 2, 9, 6, 0, 5, 2, 5, 9, 3, 5, 7, 6, 8, 1, 6, 0, 6, 5, 4, 1, 3, 5, 2, 7, 6, 2, 6, 9, 4, 1, 4, 6, 3, 3, 8, 2, 8, 7, 3, 5, 0, 9, 1, 9, 4, 1, 7, 7, 8, 1, 0, 9, 3, 4, 1, 9, 9, 2, 0, 4, 5, 4, 4, 2, 1, 8, 9, 3, 1, 0, 2, 2, 7, 4, 0, 7, 1, 1, 3, 2, 8, 9, 2, 4, 9, 7, 2, 6, 7, 1, 7, 4, 9, 7, 9, 8, 0, 4, 4, 2, 2, 6, 5, 2, 8, 5, 6, 8, 5, 9, 5, 3, 9, 1, 9, 0, 1, 6, 1, 2, 5, 4, 7, 9, 6, 5, 8, 5, 2, 1, 9, 4, 1, 1, 3, 1, 2, 5, 3, 6, 4, 2, 3, 3, 1, 1, 9, 9, 0, 6, 9, 8, 5, 8, 6, 7, 3, 1, 6, 1, 8, 2, 7, 3, 0, 6, 1, 9, 0, 9, 5, 6, 8, 0, 2, 3, 7, 5, 7, 1, 0, 9, 1, 9, 2, 7, 3, 5, 4, 7, 5, 5, 6, 5, 7, 4, 8, 4, 9, 8, 0, 4, 1, 3, 2, 2, 3, 5, 4, 9, 5, 7, 6, 0, 7, 8, 8, 8, 9, 7, 0, 7, 1, 1, 2, 4, 3, 8, 7, 9, 8, 1, 9, 4, 0, 5, 9, 1, 5, 3, 5, 2, 6, 8, 9, 3, 8, 9, 9, 4, 8, 8, 7, 3, 7, 3, 3, 9, 5, 1, 1, 6, 0, 6, 2, 4, 2, 7, 7, 5, 8, 9, 2, 8, 0, 1, 1, 4, 2, 0, 6, 5, 3, 9, 3, 5, 7, 3, 3, 7, 3, 8, 4, 2, 6, 3, 6, 4, 6, 8, 1, 5, 5, 1, 0, 8, 8, 3, 2, 3, 0, 1, 1, 0, 7, 6, 6, 1, 3, 8, 2, 1, 1, 8, 7, 3, 3, 9, 1, 6, 3, 2, 9, 7, 1, 2, 7, 5, 6, 6, 8, 0, 4, 6, 3, 0, 1, 5, 4, 6, 3, 6, 6, 1, 9, 2, 6, 6, 1, 6, 4, 8, 2, 9, 2, 3, 7, 6, 9, 4, 5, 3, 4, 0, 8, 6, 8, 6, 4, 2, 9, 3, 0, 4, 8, 4, 9, 3, 8, 9, 0, 5, 3, 4, 4, 2, 5, 5, 6, 8, 7, 3, 8, 6, 9, 3, 1, 1, 0, 7, 1, 1, 2, 6, 3, 4, 4, 2, 7, 7, 8, 5, 9, 4, 0, 3, 1, 9, 2, 5, 3, 6, 4, 8, 5, 3, 6, 8, 7, 9, 8, 2, 9, 2, 0, 8, 8, 9, 7, 4, 8, 1, 9, 3, 9, 6, 0, 6, 1, 9, 4, 6, 5, 8, 1, 8, 6, 6, 2, 7, 9, 6, 6, 9, 7, 1, 3, 6, 9, 5, 9, 2, 3, 3, 8, 5, 1, 4, 2, 3, 9, 6, 6, 4, 3, 3, 5, 9, 0, 1, 5, 5, 4, 0, 3, 1, 4, 2, 7, 4, 7, 6, 9, 4, 1, 7, 4, 8, 3, 8, 7, 9, 6, 7, 2, 3, 1, 8, 5, 0, 5, 4, 0, 2, 5, 5, 0, 2, 8, 2, 4, 7, 6, 3, 7, 9, 0, 2, 2, 8, 4, 9, 8, 0, 1, 8, 2, 8, 2, 5, 3, 2, 1, 6, 3, 8, 6, 2, 4, 5, 9, 4, 6, 0, 5, 3, 1, 8, 9, 8, 8, 8, 1, 2, 1, 3, 5, 9, 0, 3, 2, 3, 7, 5, 8, 9, 6, 6, 6, 3, 8, 7, 2, 1, 8, 2, 4, 2, 4, 8, 2, 4, 2, 4, 8, 7, 0, 4, 0, 9, 1, 7, 2, 6, 3, 2, 4, 0, 5, 7, 6, 0, 0, 8, 1, 2, 2, 4, 3, 1, 4, 9, 5, 8, 6, 3, 7, 2, 8, 4, 0, 4, 1, 2, 2, 9, 6, 7, 7, 9, 8, 3, 9, 6, 0, 6, 2, 4, 1, 5, 6, 7, 5, 5, 9, 0, 3, 7, 5, 5, 0, 2, 7, 4, 1, 1, 1, 3, 5, 2, 3, 2, 0, 3, 7, 5, 9, 6, 6, 3, 1, 2, 6, 5, 7, 5, 4, 9, 9, 2, 5, 5, 7, 5, 9, 4, 8, 7, 5, 1, 6, 8, 2, 7, 4, 3, 8, 5, 1, 8, 5, 2, 9, 7, 2, 1, 2, 4, 8, 1, 0, 8, 6, 3, 4, 1, 3, 3, 3, 8, 1, 2, 2, 2, 4, 4, 1, 3, 9, 2, 6, 4, 9, 0, 3, 8, 4, 2, 0, 4, 3, 1, 9, 3, 0, 9, 2, 0, 7, 3, 1, 2, 1, 5, 0, 9, 7, 6, 6, 2, 2, 1, 2, 8, 7, 1, 6, 6, 0, 0, 6, 5, 9, 9, 4, 7, 8, 0, 4, 9, 3, 3, 3, 3, 7, 7, 8, 2, 0, 5, 5, 3, 8, 9, 3, 8, 0, 7, 6, 0, 8, 8, 3, 4, 7, 0, 8, 1, 5, 3, 1, 8, 8, 4, 0, 6, 1, 5, 2, 1, 3, 3, 4, 1, 7, 2, 8, 4, 9, 0, 0, 5, 1, 1, 2, 0, 3, 3, 4, 9, 5, 5, 6, 0, 7, 9, 8, 3, 9, 0, 0, 2, 1, 7, 2, 9, 3, 2, 4, 8, 7, 7, 8, 9, 9, 8, 7, 8, 2, 8, 9, 0, 9, 1, 8, 7, 4, 3, 0, 6, 3, 0, 5, 3, 4, 4, 3, 3, 3, 2, 4, 4, 6, 1, 6, 6, 5, 2, 5, 8, 1, 8, 7, 2, 8, 0, 4, 1, 5, 7, 7, 5, 3, 0, 5, 9, 2, 4, 3, 1, 6, 5, 6, 2, 7, 7, 7, 5, 0, 2, 1, 4, 0, 5, 1, 0, 6, 4, 3, 3, 1, 5, 4, 5, 7, 0, 3, 0, 8, 4, 6, 3, 2, 1, 2, 5, 5, 9, 9, 8, 1, 8, 7, 6, 9, 5, 7, 7, 9, 7, 9, 2, 1, 1, 0, 4, 8, 3, 9, 6, 3, 3, 8, 6, 4, 5, 6, 3, 1, 7, 4, 7, 0, 0, 3, 2, 6, 9, 4, 3, 8, 8, 1, 3, 3, 0, 1, 4, 0, 2, 9, 1, 0, 7, 1, 8, 2, 1, 3, 3, 5, 7, 6, 9, 8, 9, 9, 1, 0, 1, 1, 3, 2, 2, 3, 3, 4, 0, 7, 1, 8, 0, 9, 8, 0, 0, 1, 8, 2, 4, 3, 7, 4, 8, 7, 2, 9, 6, 2, 0, 2, 0, 7, 1, 6, 2, 4, 9, 0, 1, 8, 0, 0, 6, 5, 7, 2, 4, 7, 4, 2, 6, 3, 5, 6, 7, 2, 3, 1, 6, 7, 8, 7, 1, 9, 7, 9, 9, 1, 0, 2, 2, 4, 4, 6, 8, 7, 1, 7, 7, 5, 9, 4, 6, 5, 2, 0, 7, 1, 6, 1, 9, 9, 6, 2, 7, 0, 2, 3, 5, 1, 2, 4, 0, 0, 8, 6, 9, 4, 9, 3, 6, 9, 4, 3, 0, 0, 1, 0, 3, 5, 5, 2, 0, 8, 9, 8, 3, 8, 2, 8, 2, 5, 4, 5, 8, 7, 7, 1, 2, 4, 2, 1, 9, 3, 6, 8, 3, 9, 7, 3, 5, 7, 8, 4, 2, 1, 7, 1, 7, 0, 0, 6, 0, 0, 6, 1, 0, 2, 2, 3, 0, 4, 8, 5, 6, 6, 3, 7, 9, 8, 2, 9, 4, 0, 2, 1, 0, 2, 0, 3, 3, 4, 4, 7, 5, 8, 8, 9, 0, 0, 2, 1, 8, 2, 7, 3, 8, 4, 2, 7, 4, 8, 6, 9, 9, 0, 6, 0, 8, 1, 1, 0, 0, 1, 1, 5, 3, 3, 4, 4, 2, 2, 6, 4, 3, 4, 6, 0, 7, 0, 3, 6, 9, 9, 7, 6, 7, 6, 4, 5, 6, 7, 6, 3, 5, 2, 1, 2, 0, 3, 0, 4, 5, 4, 9, 9, 1, 1, 2, 4, 7, 0, 0, 7, 6, 7, 2, 5, 3, 6, 7, 2, 5, 3, 7, 1, 1, 4, 0, 4, 9, 0, 0, 9, 5, 1, 4, 8, 3, 3, 5, 3, 7, 7, 7, 3, 7, 9, 9, 8, 5, 8, 5, 4, 5, 7, 2, 7, 6, 6, 6, 2, 4, 1, 1, 9, 5, 8, 2, 7, 4, 8, 1, 8, 4, 2, 1, 3, 7, 9, 5, 3, 7, 3, 4, 5, 4, 5, 2, 0, 6, 7, 9, 9, 3, 5, 4, 0, 5, 6, 7, 4, 6, 1, 7, 1, 6, 2, 6, 8, 0, 1, 9, 5, 5, 0, 4, 1, 6, 2, 7, 3, 6, 4, 8, 5, 2, 6, 1, 7, 2, 8, 0, 9, 6, 0, 4, 1, 7, 2, 1, 3, 6, 4, 9, 5, 3, 6, 6, 7, 7, 8, 6, 9, 2, 0, 2, 1, 9, 2, 5, 3, 5, 4, 0, 5, 2, 6, 3, 9, 4, 6, 4, 4, 7, 4, 6, 3, 5, 6, 0, 2, 8, 3, 1, 4, 8, 8, 1, 7, 6, 8, 4, 6, 6, 9, 2, 8, 1, 3, 6, 2, 4, 2, 0, 8, 2, 4, 5, 2, 3, 0, 0, 1, 5, 1, 6, 2, 8, 9, 8, 6, 7, 8, 1, 1, 9, 2, 4, 0, 2, 6, 1, 5, 8, 2, 1, 7, 2, 5, 0, 3, 8, 9, 6, 3, 0, 7, 6, 1, 6, 3, 8, 8, 1, 1, 9, 9, 7, 5, 6, 0, 1, 1, 1, 1, 1, 9, 7, 2, 9, 6, 6, 0, 6, 4, 8, 5, 6, 6, 1, 5, 1, 0, 0, 3, 5, 1, 0, 8, 1, 6, 1, 9, 0, 3, 4, 0, 4, 1, 4, 0, 7, 4, 7, 7, 7, 3, 5, 2, 8, 6, 5, 5, 6, 4, 1, 7, 4, 9, 3, 7, 1, 0, 4, 1, 1, 2, 1, 3, 2, 4, 1, 5, 7, 6, 3, 7, 1, 8, 0, 9, 2, 0, 8, 1, 5, 2, 6, 3, 7, 4, 9, 5, 1, 6, 7, 7, 1, 0, 2, 1, 9, 2, 5, 3, 8, 4, 4, 5, 1, 6, 1, 0, 0, 7, 6, 5, 6, 0, 3, 8, 1, 4, 6, 1, 7, 8, 8, 8, 0, 1, 5, 3, 5, 1, 8, 9, 7, 0, 9, 4, 3, 4, 5, 0, 8, 7, 5, 2, 5, 9, 5, 8, 0, 7, 4, 2, 2, 4, 7, 7, 4, 8, 5, 9, 5, 3, 5, 1, 4, 4, 9, 6, 6, 2, 2, 2, 8, 7, 6, 8, 6, 6, 0, 4, 9, 9, 5, 2, 7, 9, 2, 3, 4, 5, 5, 3, 5, 6, 0, 6, 0, 0, 1, 2, 1, 2, 4, 7, 3, 4, 7, 9, 9, 5, 6, 1, 5, 2, 9, 6, 1, 1, 1, 8, 0, 3, 7, 5, 9, 0, 2, 0, 6, 6, 0, 1, 5, 6, 1, 9, 8, 6, 9, 7, 0, 1, 5, 1, 4, 7, 3, 1, 3, 2, 4, 4, 1, 5, 2, 6, 0, 7, 1, 8, 5, 9, 7, 0, 6, 1, 3, 2, 8, 3, 1, 4, 7, 5, 9, 6, 8, 7, 0, 8, 0, 9, 9, 0, 1, 1, 3, 2, 6, 3, 5, 4, 7, 5, 9, 6, 5, 7, 1, 8, 0, 9, 9, 1, 2, 3, 3, 5, 1, 9, 7, 4, 8, 1, 6, 7, 6, 7, 2, 2, 4, 1, 7, 4, 2, 8, 5, 2, 7, 9, 6, 3, 5, 8, 2, 5, 0, 4, 3, 8, 1, 8, 0, 9, 7, 3, 4, 9, 7, 2, 0, 5, 5, 7, 6, 4, 4, 1, 1, 2, 2, 3, 1, 9, 5, 1, 8, 6, 4, 0, 7, 1, 7, 2, 1, 8, 8, 5, 8, 1, 2, 1, 5, 8, 0, 5, 4, 6, 6, 4, 6, 7, 8, 3, 1, 6, 2, 8, 5, 0, 8, 3, 1, 7, 8, 4, 4, 0, 0, 6, 6, 9, 8, 2, 9, 6, 3, 5, 2, 6, 2, 9, 5, 0, 7, 4, 3, 0, 3, 6, 5, 1, 4, 9, 3, 2, 5, 0, 3, 9, 4, 5, 7, 1, 9, 3, 8, 7, 0, 6, 7, 9, 1, 4, 7, 7, 4, 7, 2, 6, 0, 3, 1, 0, 9, 5, 5, 6, 5, 2, 6, 2, 4, 0, 5, 1, 8, 7, 5, 8, 0, 9, 8, 0, 9, 1, 2, 2, 7, 3, 8, 4, 6, 5, 4, 6, 2, 0, 7, 1, 4, 8, 1, 9, 3, 8, 7, 4, 1, 1, 1, 8, 4, 8, 6, 1, 3, 3, 4, 1, 3, 8, 6, 3, 3, 3, 9, 0, 7, 9, 6, 4, 3, 9, 9, 8, 2, 7, 6, 8, 2, 1, 2, 7, 7, 8, 1, 7, 7, 5, 9, 1, 1, 6, 2, 5, 2, 0, 4, 9, 7, 5, 0, 0, 9, 2, 2, 1, 9, 8, 6, 0, 7, 0, 3, 1, 2, 6, 0, 6, 4, 7, 7, 1, 0, 1, 1, 7, 0, 0, 7, 1, 4, 2, 7, 3, 7, 4, 9, 5, 3, 6, 8, 7, 8, 8, 1, 9, 2, 0, 1, 1, 4, 2, 4, 3, 7, 4, 1, 5, 6, 6, 7, 7, 2, 8, 8, 0, 8, 1, 9, 2, 6, 3, 3, 4, 1, 5, 8, 6, 1, 7, 3, 8, 4, 9, 6, 7, 5, 0, 3, 4, 2, 0, 5, 6, 3, 4, 3, 3, 5, 3, 4, 4, 6, 8, 5, 7, 9, 8, 3, 6, 1, 9, 3, 8, 8, 3, 8, 2, 2, 2, 9, 8, 7, 4, 1, 2, 6, 0, 0, 1, 5, 1, 1, 2, 2, 9, 6, 6, 9, 8, 2, 1, 2, 2, 9, 1, 9, 0, 5, 6, 8, 9, 6, 3, 4, 7, 3, 1, 4, 8, 6, 3, 7, 8, 9, 1, 0, 9, 1, 5, 2, 9, 6, 8, 0, 2, 4, 6, 6, 0, 5, 4, 2, 5, 6, 0, 5, 3, 2, 1, 4, 8, 0, 6, 3, 7, 0, 5, 6, 9, 2, 9, 5, 3, 1, 0, 9, 3, 0, 1, 8, 4, 3, 4, 8, 0, 7, 4, 7, 9, 4, 2, 6, 6, 7, 5, 7, 4, 2, 7, 6, 9, 6, 7, 1, 0, 8, 1, 8, 3, 1, 4, 1, 5, 4, 6, 5, 7, 7, 8, 6, 0, 5, 1, 2, 2, 2, 3, 9, 4, 1, 7, 3, 8, 6, 9, 7, 0, 2, 1, 4, 2, 1, 3, 4, 4, 4, 7, 0, 8, 8, 0, 7, 5, 3, 6, 7, 8, 7, 3, 6, 9, 6, 0, 8, 2, 4, 3, 0, 3, 1, 3, 2, 9, 6, 9, 0, 5, 6, 6, 2, 4, 6, 4, 2, 2, 8, 7, 0, 0, 7, 3, 8, 9, 1, 6, 1, 8, 6, 7, 7, 3, 0, 4, 1, 0, 1, 4, 3, 1, 4, 6, 9, 7, 6, 8, 5, 4, 0, 9, 8, 6, 5, 5, 8, 6, 3, 6, 4, 7, 6, 8, 7, 8, 2, 1, 6, 8, 4, 3, 2, 7, 5, 7, 1, 1, 4, 5, 6, 0, 2, 5, 5, 2, 3, 4, 4, 3, 5, 1, 9, 8, 2, 2, 0, 9, 5, 9, 7, 5, 9, 2, 6, 6, 8, 4, 2, 4, 5, 1, 8, 7, 6, 1, 8, 4, 1, 3, 0, 9, 9, 7, 8, 1, 3, 2, 1, 6, 8, 0, 4, 7, 5, 3, 1, 0, 9, 1, 6, 2, 5, 3, 2, 4, 9, 5, 0, 6, 2, 7, 8, 8, 9, 9, 5, 0, 1, 1, 4, 2, 2, 3, 7, 4, 4, 5, 0, 6, 6, 7, 0, 8, 7, 9, 5, 0, 0, 1, 6, 2, 6, 3, 2, 4, 1, 5, 4, 6, 5, 7, 2, 8, 3, 9, 4, 7, 7, 4, 5, 0, 6, 4, 8, 0, 9, 1, 7, 7, 4, 9, 9, 5, 7, 1, 1, 4, 7, 2, 1, 8, 4, 9, 1, 4, 1, 3, 1, 1, 5, 7, 4, 8, 1, 2, 5, 4, 0, 3, 3, 6, 1, 9, 0, 9, 2, 5, 5, 8, 9, 6, 9, 7, 7, 0, 2, 6, 4, 8, 7, 2, 9, 6, 4, 3, 2, 9, 1, 3, 8, 2, 9, 8, 0, 6, 8, 1, 8, 7, 0, 4, 8, 8, 6, 8, 0, 9, 9, 0, 7, 3, 3, 3, 0, 9, 1, 0, 0, 5, 6, 2, 0, 5, 6, 0, 6, 9, 4, 4, 4, 1, 4, 0, 9, 3, 9, 7, 2, 5, 1, 8, 9, 7, 6, 7, 1, 8, 9, 2, 0, 9, 8, 7, 9, 1, 8, 2, 0, 6, 5, 4, 8, 2, 4, 5, 7, 2, 4, 3, 7, 6, 3, 6, 4, 5, 2, 0, 1, 0, 3, 7, 2, 5, 4, 2, 9, 8, 9, 1, 3, 6, 2, 1, 5, 0, 9, 4, 3, 3, 3, 1, 2, 6, 0, 1, 7, 9, 0, 0, 1, 1, 9, 2, 4, 3, 5, 4, 9, 5, 2, 6, 3, 7, 4, 8, 9, 9, 2, 0, 6, 1, 4, 2, 0, 3, 6, 4, 3, 5, 0, 6, 5, 7, 9, 8, 7, 9, 9, 0, 8, 1, 0, 2, 7, 3, 9, 4, 8, 5, 6, 6, 3, 7, 3, 8, 2, 5, 3, 0, 1, 6, 8, 8, 5, 9, 1, 4, 7, 1, 3, 9, 0, 0, 2, 4, 6, 8, 2, 9, 1, 1, 3, 4, 0, 0, 9, 5, 3, 1, 8, 5, 5, 4, 2, 0, 4, 7, 3, 6, 9, 0, 1, 1, 3, 7, 9, 0, 6, 6, 7, 8, 1, 9, 1, 5, 8, 4, 9, 7, 3, 6, 1, 0, 2, 8, 9, 1, 4, 7, 1, 7, 0, 1, 0, 3, 3, 2, 0, 3, 0, 1, 5, 0, 2, 0, 2, 7, 8, 8, 4, 4, 7, 9, 6, 3, 8, 8, 0, 4, 8, 7, 1, 2, 7, 5, 8, 6, 3, 3, 4, 6, 1, 9, 0, 4, 2, 6, 4, 9, 1, 0, 0, 2, 3, 5, 8, 5, 3, 1, 0, 3, 6, 3, 5, 9, 1, 7, 2, 8, 4, 7, 2, 2, 7, 2, 8, 5, 9, 7, 8, 9, 3, 2, 2, 1, 9, 3, 6, 0, 1, 1, 8, 2, 5, 3, 9, 4, 0, 5, 5, 6, 8, 7, 1, 8, 5, 9, 4, 0, 0, 1, 5, 2, 0, 3, 5, 4, 5, 5, 5, 6, 0, 7, 2, 8, 5, 9, 9, 0, 4, 1, 5, 2, 1, 3, 3, 4, 1, 5, 1, 6, 1, 7, 4, 8, 0, 9, 8, 8, 5, 9, 9, 5, 7, 7, 0, 0, 1, 3, 9, 1, 5, 6, 6, 8, 8, 4, 5, 1, 8, 7, 7, 6, 3, 5, 8, 6, 1, 4, 9, 2, 9, 7, 4, 8, 5, 1, 6, 3, 6, 2, 0, 0, 0, 5, 0, 0, 2, 1, 7, 9, 8, 2, 9, 3, 1, 2, 2, 3, 1, 5, 1, 5, 7, 7, 4, 9, 8, 9, 4, 7, 3, 1, 7, 1, 6, 9, 0, 0, 2, 7, 3, 3, 7, 4, 0, 8, 2, 6, 1, 3, 5, 8, 2, 0, 8, 6, 4, 2, 2, 1, 1, 0, 3, 1, 9, 0, 3, 6, 8, 2, 0, 3, 8, 8, 4, 9, 7, 0, 4, 7, 7, 2, 2, 3, 0, 4, 6, 5, 9, 5, 9, 2, 4, 8, 1, 5, 8, 4, 9, 6, 8, 6, 1, 6, 1, 7, 5, 9, 8, 1, 1, 8, 0, 2, 2, 1, 5, 2, 4, 6, 8, 5, 2, 3, 0, 4, 4, 7, 3, 9, 4, 4, 7, 0, 5, 0, 9, 5, 6, 9, 1, 0, 0, 1, 5, 2, 3, 3, 7, 4, 0, 5, 1, 6, 8, 7, 5, 8, 1, 9, 2, 0, 0, 1, 3, 2, 7, 3, 2, 5, 0, 6, 1, 7, 2, 8, 7, 9, 7, 0, 0, 1, 1, 2, 7, 3, 4, 4, 4, 5, 0, 6, 6, 7, 7, 8, 4, 9, 4, 0, 4, 7, 0, 0, 7, 7, 6, 8, 0, 3, 1, 0, 9, 0, 8, 5, 3, 5, 3, 3, 5, 8, 0, 8, 0, 1, 9, 8, 0, 4, 5, 9, 9, 6, 2, 1, 8, 8, 1, 0, 6, 2, 0, 3, 6, 9, 0, 4, 0, 1, 4, 2, 5, 5, 9, 9, 1, 8, 8, 9, 3, 4, 9, 3, 9, 0, 6, 3, 8, 3, 7, 4, 1, 7, 0, 0, 1, 1, 4, 9, 2, 1, 0, 2, 0, 7, 8, 9, 5, 1, 9, 0, 9, 6, 6, 2, 4, 0, 0, 3, 7, 8, 0, 9, 6, 4, 7, 2, 5, 5, 1, 6, 5, 6, 1, 5, 4, 6, 6, 7, 7, 1, 2, 4, 1, 4, 8, 2, 2, 6, 7, 2, 7, 9, 9, 1, 3, 3, 2, 1, 7, 4, 1, 8, 3, 6, 3, 3, 7, 7, 2, 0, 0, 9, 4, 5, 6, 6, 0, 7, 8, 1, 0, 3, 4, 8, 3, 2, 7, 6, 8, 2, 8, 6, 0, 2, 0, 7, 2, 8, 0, 7, 2, 0, 5, 1, 4, 2, 4, 3, 0, 4, 7, 5, 5, 6, 5, 7, 7, 8, 1, 9, 9, 0, 7, 1, 4, 2, 9, 3, 9, 4, 4, 7, 3, 8, 0, 9, 0, 0, 9, 1, 4, 2, 3, 3, 1, 7, 8, 8, 1, 9, 7, 0, 8, 5, 5, 6, 7, 9, 5, 0, 3, 3, 1, 3, 6, 9, 0, 9, 8, 5, 3, 6, 6, 4, 0, 4, 4, 2, 2, 9, 7, 6, 3, 8, 1, 7, 7, 9, 9, 1, 7, 5, 7, 2, 6, 6, 1, 3, 5, 4, 3, 0, 9, 4, 7, 1, 6, 6, 9, 4, 2, 9, 3, 6, 5, 5, 2, 1, 6, 2, 3, 6, 2, 6, 0, 7, 5, 8, 4, 8, 3, 1, 4, 8, 6, 3, 2, 7, 8, 7, 6, 1, 2, 0, 6, 0, 2, 5, 1, 2, 3, 8, 3, 4, 3, 3, 4, 1, 3, 8, 2, 2, 0, 9, 9, 9, 0, 5, 3, 2, 7, 6, 2, 4, 6, 8, 6, 2, 2, 5, 4, 4, 4, 7, 1, 1, 4, 2, 9, 6, 1, 0, 0, 0, 2, 1, 6, 2, 3, 3, 3, 4, 2, 5, 5, 6, 8, 7, 9, 8, 0, 9, 2, 0, 9, 1, 3, 2, 7, 3, 5, 6, 6, 7, 1, 8, 8, 9, 0, 0, 6, 1, 8, 2, 5, 3, 9, 4, 1, 5, 4, 6, 3, 7, 1, 8, 9, 9, 7, 5, 9, 4, 4, 8, 5, 7, 6, 4, 5, 7, 4, 7, 1, 3, 7, 9, 2, 8, 5, 8, 0, 3, 1, 1, 1, 5, 1, 8, 8, 2, 7, 7, 4, 4, 5, 2, 8, 6, 8, 4, 7, 5, 7, 5, 1, 8, 1, 6, 2, 4, 3, 4, 3, 4, 1, 1, 8, 8, 7, 7, 7, 5, 0, 5, 3, 1, 5, 8, 5, 3, 2, 6, 7, 3, 1, 3, 0, 2, 5, 2, 8, 6, 3, 9, 6, 9, 5, 6, 8, 5, 0, 5, 9, 3, 9, 3, 4, 8, 7, 1, 1, 6, 9, 5, 7, 6, 5, 8, 0, 1, 0, 9, 2, 7, 7, 6, 9, 8, 2, 3, 1, 7, 8, 4, 7, 7, 1, 0, 6, 9, 9, 0, 1, 0, 9, 3, 4, 7, 8, 9, 7, 3, 2, 0, 8, 2, 2, 0, 3, 1, 0, 0, 7, 1, 5, 0, 1, 4, 6, 0, 3, 1, 2, 0, 4, 4, 3, 7, 7, 9, 5, 2, 4, 0, 0, 6, 4, 2, 1, 6, 0, 2, 8, 2, 9, 9, 8, 9, 3, 0, 1, 1, 6, 2, 1, 3, 3, 4, 5, 5, 2, 6, 7, 7, 6, 8, 9, 0, 1, 1, 1, 2, 8, 3, 1, 4, 2, 5, 0, 6, 9, 7, 3, 8, 6, 0, 1, 1, 3, 2, 2, 3, 5, 4, 3, 5, 7, 6, 1, 1, 4, 7, 4, 4, 3, 0, 7, 6, 1, 4, 5, 1, 0, 4, 1, 3, 3, 6, 8, 2, 5, 3, 3, 4, 4, 8, 2, 7, 9, 8, 3, 6, 8, 9, 1, 8, 4, 3, 2, 2, 4, 2, 6, 8, 1, 4, 2, 8, 0, 5, 8, 6, 3, 5, 5, 0, 5, 2, 2, 0, 4, 1, 5, 1, 1, 2, 1, 9, 9, 6, 6, 8, 1, 1, 9, 2, 6, 1, 2, 0, 4, 6, 4, 5, 9, 2, 3, 9, 8, 1, 5, 5, 7, 3, 2, 9, 4, 3, 9, 7, 3, 1, 0, 8, 9, 3, 5, 8, 6, 1, 4, 9, 4, 5, 7, 5, 7, 0, 4, 1, 0, 1, 5, 9, 8, 8, 4, 2, 0, 6, 9, 0, 9, 4, 7, 5, 8, 6, 3, 5, 6, 0, 0, 3, 7, 1, 0, 8, 9, 6, 6, 7, 7, 5, 8, 9, 4, 3, 4, 0, 9, 3, 5, 1, 2, 4, 1, 0, 8, 4, 2, 9, 2, 7, 9, 3, 6, 2, 7, 6, 1, 5, 8, 4, 5, 7, 4, 9, 4, 7, 0, 0, 9, 1, 1, 2, 8, 3, 0, 4, 3, 6, 2, 7, 9, 8, 9, 0, 8, 1, 4, 2, 0, 3, 8, 4, 0, 5, 9, 6, 8, 7, 8, 8, 6, 9, 3, 0, 0, 1, 5, 2, 6, 3, 5, 4, 1, 5, 7, 6, 1, 7, 5, 8, 8, 9, 0, 6, 0, 4, 6, 7, 9, 4, 7, 3, 4, 6, 7, 2, 6, 3, 6, 4, 7, 8, 7, 9, 9, 2, 8, 2, 2, 8, 7, 5, 5, 0, 6, 2, 6, 0, 4, 1, 7, 1, 9, 2, 6, 9, 8, 6, 5, 8, 2, 1, 4, 2, 5, 1, 1, 0, 3, 6, 6, 5, 2, 2, 8, 9, 4, 7, 1, 5, 7, 3, 1, 9, 0, 3, 5, 8, 7, 3, 2, 8, 7, 1, 1, 9, 7, 5, 6, 5, 7, 0, 6, 1, 1, 1, 7, 9, 0, 8, 9, 2, 2, 6, 5, 0, 2, 6, 6, 5, 2, 0, 1, 3, 6, 1, 9, 8, 6, 6, 9, 7, 2, 5, 5, 9, 7, 9, 1, 3, 2, 0, 0, 3, 0, 1, 2, 0, 2, 4, 2, 9, 0, 7, 4, 3, 7, 2, 9, 6, 8, 5, 9, 4, 6, 7, 7, 9, 5, 7, 5, 0, 6, 3, 0, 4, 0, 5, 5, 6, 7, 7, 9, 8, 7, 9, 2, 0, 1, 1, 9, 2, 7, 3, 0, 7, 2, 0, 4, 3, 6, 7, 6, 8, 2, 9, 0, 6, 0, 0, 4, 4, 3, 0, 0, 8, 1, 6, 7, 8, 9, 7, 2, 7, 0, 9, 5, 0, 1, 4, 0, 9, 0, 9, 3, 7, 6, 4, 2, 0, 0, 3, 1, 5, 0, 5, 5, 3, 1, 8, 8, 9, 8, 2, 2, 2, 6, 0, 5, 9, 3, 7, 0, 3, 6, 1, 6, 3, 0, 6, 7, 6, 8, 2, 1, 1, 2, 2, 9, 6, 1, 0, 4, 2, 3, 2, 6, 8, 0, 9, 9, 5, 3, 1, 2, 6, 4, 8, 6, 0, 4, 0, 1, 0, 7, 1, 7, 2, 6, 3, 1, 4, 4, 5, 2, 6, 2, 7, 5, 8, 8, 0, 2, 1, 8, 2, 7, 3, 7, 4, 1, 5, 3, 6, 2, 7, 9, 8, 4, 9, 2, 0, 5, 1, 6, 2, 0, 3, 1, 7, 3, 8, 7, 9, 5, 4, 6, 9, 9, 9, 8, 8, 0, 3, 6, 5, 9, 4, 2, 3, 1, 3, 2, 6, 1, 6, 7, 5, 5, 5, 1, 1, 1, 7, 4, 8, 7, 4, 7, 5, 0, 7, 1, 3, 6, 5, 2, 2, 1, 3, 8, 6, 6, 6, 5, 7, 8, 7, 3, 0, 1, 1, 0, 0, 7, 1, 8, 6, 9, 9, 8, 3, 5, 1, 4, 4, 0, 7, 6, 3, 4, 8, 4, 6, 8, 2, 4, 2, 5, 9, 7, 1, 6, 5, 0, 9, 3, 1, 8, 2, 9, 2, 1, 7, 8, 9, 1, 7, 5, 9, 7, 9, 0, 1, 3, 0, 5, 8, 0, 9, 0, 7, 0, 0, 5, 3, 0, 8, 8, 1, 3, 4, 4, 0, 5, 3, 7, 6, 3, 2, 0, 0, 6, 1, 1, 3, 1, 1, 6, 0, 9, 9, 0, 0, 4, 1, 7, 2, 8, 3, 6, 4, 7, 5, 1, 6, 7, 7, 2, 8, 4, 9, 6, 0, 2, 1, 5, 4, 2, 5, 5, 6, 6, 7, 4, 8, 4, 9, 5, 0, 9, 1, 4, 2, 6, 3, 6, 4, 7, 5, 1, 6, 0, 7, 7, 8, 7, 9, 2, 6, 3, 8, 9, 7, 2, 8, 2, 6, 8, 0, 4, 1, 4, 7, 8, 5, 3, 2, 4, 1, 4, 7, 6, 3, 1, 0, 2, 5, 1, 1, 9, 6, 6, 5, 9, 1, 3, 2, 3, 0, 1, 2, 6, 3, 1, 4, 1, 8, 5, 3, 5, 3, 0, 6, 8, 5, 7, 9, 7, 9, 8, 3, 2, 3, 9, 7, 0, 9, 5, 3, 4, 4, 3, 1, 6, 7, 4, 3, 6, 9, 1, 6, 5, 9, 7, 0, 6, 9, 9, 6, 2, 0, 4, 6, 5, 1, 6, 8, 2, 5, 4, 1, 0, 0, 5, 1, 0, 0, 1, 9, 6, 5, 1, 9, 4, 0, 3, 2, 3, 1, 1, 4, 1, 9, 6, 6, 2, 8, 2, 9, 3, 2, 1, 0, 4, 1, 9, 2, 6, 3, 7, 4, 4, 5, 6, 6, 3, 7, 1, 8, 7, 9, 0, 0, 1, 1, 2, 2, 1, 3, 4, 4, 8, 5, 5, 6, 4, 7, 7, 8, 6, 9, 6, 0, 2, 1, 0, 2, 8, 3, 1, 4, 4, 5, 1, 6, 6, 7, 7, 8, 1, 9, 0, 1, 1, 6, 2, 8, 3, 9, 5, 9, 4, 0, 1, 1, 7, 2, 6, 4, 1, 4, 2, 3, 9, 7, 7, 4, 0, 4, 9, 4, 5, 0, 7, 3, 4, 8, 9, 5, 5, 8, 2, 2, 5, 1, 6, 7, 9, 3, 1, 5, 2, 8, 9, 5, 4, 5, 8, 9, 1, 2, 1, 5, 7, 1, 3, 1, 9, 6, 4, 2, 2, 1, 3, 3, 5, 1, 7, 8, 6, 6, 6, 4, 3, 9, 5, 4, 9, 9, 2, 2, 1, 0, 6, 0, 4, 4, 8, 4, 3, 6, 8, 2, 7, 0, 1, 2, 1, 8, 7, 0, 8, 6, 0, 8, 0, 7, 2, 9, 2, 1, 7, 9, 4, 2, 9, 6, 6, 7, 3, 6, 1, 6, 1, 8, 7, 7, 4, 4, 8, 9, 7, 2, 0, 1, 1, 3, 4, 3, 1, 0, 5, 5, 9, 5, 2, 8, 9, 0, 3, 3, 3, 7, 1, 9, 8, 7, 7, 0, 7, 2, 6, 7, 2, 9, 3, 1, 6, 3, 0, 6, 8, 7, 4, 8, 6, 0, 3, 3, 0, 5, 9, 3, 3, 6, 9, 0, 2, 1, 7, 2, 8, 3, 1, 4, 0, 5, 1, 6, 8, 7, 9, 8, 5, 9, 5, 0, 8, 1, 3, 2, 4, 3, 9, 4, 3, 5, 5, 6, 9, 7, 2, 8, 4, 9, 8, 0, 1, 1, 7, 2, 0, 3, 2, 4, 3, 5, 2, 6, 9, 7, 7, 8, 7, 9, 3, 6, 9, 0, 6, 8, 1, 0, 2, 2, 6, 3, 6, 7, 7, 9, 6, 4, 2, 7, 0, 1, 6, 9, 6, 1, 1, 7, 3, 1, 0, 4, 1, 0, 1, 0, 3, 4, 2, 1, 6, 7, 9, 5, 1, 7, 8, 1, 4, 3, 7, 3, 7, 3, 7, 1, 2, 6, 8, 9, 3, 7, 3, 4, 9, 3, 4, 0, 8, 2, 3, 5, 9, 2, 0, 6, 8, 0, 9, 8, 0, 9, 5, 4, 6, 3, 4, 5, 8, 4, 2, 8, 1, 1, 5, 0, 9, 6, 3, 4, 0, 3, 5, 6, 3, 3, 6, 3, 9, 8, 1, 1, 0, 4, 3, 7, 8, 5, 1, 7, 0, 2, 4, 2, 5, 0, 1, 0, 2, 1, 2, 7, 7, 7, 3, 9, 4, 5, 1, 9, 7, 8, 7, 9, 0, 6, 7, 8, 9, 8, 4, 2, 4, 3, 4, 6, 9, 1, 2, 2, 2, 9, 5, 8, 8, 9, 1, 5, 9, 2, 7, 5, 5, 2, 0, 6, 1, 2, 2, 4, 4, 8, 1, 4, 5, 6, 2, 5, 5, 1, 6, 2, 0, 3, 9, 4, 4, 8, 1, 0, 6, 1, 7, 2, 7, 3, 9, 4, 0, 5, 9, 6, 0, 7, 8, 8, 2, 9, 7, 0, 6, 1, 5, 2, 0, 3, 9, 4, 7, 5, 1, 6, 4, 8, 8, 9, 6, 5, 8, 0, 5, 3, 5, 1, 2, 6, 6, 8, 3, 4, 9, 1, 0, 7, 1, 6, 1, 5, 8, 6, 7, 4, 1, 2, 5, 7, 7, 8, 7, 3, 6, 4, 1, 3, 1, 4, 9, 7, 5, 2, 7, 5, 3, 0, 3, 1, 5, 9, 9, 2, 1, 3, 8, 2, 0, 3, 0, 5, 0, 5, 6, 7, 6, 8, 2, 4, 0, 9, 9, 9, 1, 7, 1, 1, 4, 9, 7, 8, 7, 3, 8, 4, 2, 8, 2, 6, 3, 3, 8, 8, 5, 6, 9, 0, 4, 1, 1, 0, 0, 6, 6, 2, 9, 3, 1, 8, 2, 9, 6, 0, 9, 7, 1, 2, 8, 3, 1, 4, 3, 5, 1, 5, 9, 2, 7, 8, 9, 5, 1, 4, 5, 6, 2, 6, 9, 6, 3, 7, 7, 9, 6, 1, 2, 8, 3, 2, 4, 1, 2, 2, 8, 6, 9, 5, 7, 3, 1, 4, 7, 7, 9, 9, 0, 4, 5, 5, 5, 9, 6, 0, 5, 1, 2, 2, 9, 3, 9, 4, 2, 5, 6, 6, 5, 7, 4, 8, 8, 9, 1, 0, 8, 1, 7, 2, 1, 3, 1, 4, 3, 5, 5, 6, 7, 7, 7, 8, 2, 9, 2, 0, 6, 1, 1, 2, 5, 3, 7, 4, 0, 5, 0, 6, 0, 7, 0, 8, 4, 8, 1, 7, 4, 7, 2, 0, 8, 1, 5, 3, 9, 7, 1, 5, 0, 2, 0, 8, 3, 0, 4, 7, 9, 5, 9, 9, 1, 9, 7, 6, 7, 0, 7, 9, 5, 4, 2, 1, 8, 1, 0, 5, 5, 8, 8, 5, 0, 8, 1, 6, 9, 3, 7, 2, 7, 1, 0, 2, 4, 3, 3, 8, 5, 3, 8, 2, 4, 6, 2, 5, 8, 6, 1, 8, 2, 2, 6, 7, 9, 4, 5, 8, 6, 1, 1, 0, 8, 5, 8, 3, 2, 9, 4, 4, 8, 1, 6, 9, 1, 2, 9, 1, 0, 9, 7, 6, 8, 7, 2, 9, 9, 6, 6, 1, 0, 7, 2, 3, 8, 8, 9, 7, 1, 2, 4, 9, 0, 6, 2, 5, 7, 8, 4, 7, 0, 5, 2, 3, 5, 9, 3, 0, 5, 5, 5, 7, 0, 1, 4, 6, 1, 1, 4, 0, 7, 9, 4, 3, 0, 3, 8, 4, 7, 4, 7, 0, 7, 6, 1, 4, 6, 2, 7, 3, 2, 4, 3, 0, 9, 0, 7, 2, 7, 0, 9, 1, 3, 2, 1, 3, 9, 4, 2, 7, 4, 8, 2, 9, 4, 0, 0, 1, 8, 2, 4, 3, 7, 4, 9, 5, 7, 6, 2, 7, 8, 8, 1, 0, 5, 1, 9, 2, 3, 3, 2, 6, 7, 9, 1, 6, 0, 1, 5, 9, 1, 9, 4, 9, 6, 4, 4, 1, 9, 2, 0, 5, 5, 0, 2, 0, 8, 6, 9, 0, 8, 8, 1, 1, 7, 0, 8, 9, 8, 1, 9, 2, 9, 2, 3, 2, 1, 5, 9, 2, 7, 1, 1, 4, 0, 7, 3, 1, 8, 7, 3, 9, 6, 6, 3, 3, 3, 3, 5, 1, 6, 0, 3, 0, 2, 5, 2, 6, 8, 6, 6, 8, 9, 0, 2, 1, 7, 2, 3, 3, 1, 4, 2, 5, 2, 6, 3, 7, 5, 8, 6, 9, 8, 0, 9, 1, 6, 2, 2, 3, 4, 4, 3, 5, 4, 6, 2, 7, 6, 8, 3, 9, 5, 0, 3, 1, 1, 2, 5, 3, 6, 4, 1, 6, 7, 7, 6, 8, 0, 0, 2, 5, 5, 0, 1, 8, 8, 0, 8, 2, 6, 9, 3, 4, 6, 7, 8, 1, 9, 9, 2, 1, 8, 7, 1, 1, 8, 4, 4, 0, 3, 0, 3, 4, 1, 1, 8, 7, 0, 5, 4, 7, 7, 1, 4, 3, 9, 3, 1, 3, 2, 1, 9, 6, 7, 9, 4, 7, 2, 4, 8, 3, 1, 0, 7, 2, 5, 6, 0, 8, 7, 1, 6, 5, 5, 9, 9, 0, 8, 6, 8, 6, 3, 3, 5, 3, 4, 8, 3, 1, 8, 4, 0, 7, 3, 2, 4, 2, 3, 0, 7, 0, 5, 1, 9, 7, 0, 7, 3, 8, 0, 9, 9, 6, 8, 8, 5, 8, 3, 2, 0, 3, 7, 2, 4, 9, 7, 8, 8, 5, 4, 2, 9, 6, 2, 2, 1, 4, 9, 8, 2, 4, 2, 6, 3, 5, 1, 0, 4, 1, 3, 2, 0, 3, 5, 4, 9, 5, 3, 6, 1, 7, 5, 8, 9, 9, 5, 0, 4, 1, 4, 2, 6, 3, 4, 4, 9, 5, 7, 6, 1, 7, 6, 8, 6, 9, 7, 0, 0, 3, 2, 4, 9, 5, 2, 6, 7, 7, 3, 8, 8, 9, 2, 9, 0, 7, 0, 5, 7, 2, 3, 9, 8, 0, 3, 1, 3, 5, 3, 8, 7, 8, 3, 0, 5, 9, 3, 3, 9, 2, 5, 7, 1, 8, 0, 4, 5, 4, 2, 5, 7, 9, 3, 6, 8, 1, 4, 0, 3, 4, 1, 5, 8, 3, 0, 9, 7, 4, 2, 2, 8, 0, 5, 5, 1, 0, 9, 1, 8, 6, 3, 9, 2, 3, 3, 2, 0, 9, 6, 1, 5, 6, 6, 0, 0, 1, 8, 1, 6, 8, 4, 0, 4, 4, 0, 7, 4, 7, 3, 6, 9, 0, 7, 7, 1, 3, 7, 5, 8, 4, 2, 2, 2, 4, 1, 1, 3, 8, 1, 3, 4, 5, 6, 6, 8, 7, 5, 0, 9, 6, 2, 7, 2, 1, 1, 2, 5, 5, 6, 8, 8, 1, 9, 9, 2, 3, 5, 8, 3, 2, 1, 8, 8, 8, 1, 7, 2, 1, 7, 7, 8, 9, 1, 2, 7, 0, 6, 1, 1, 2, 7, 3, 7, 4, 7, 5, 9, 6, 2, 7, 7, 8, 4, 9, 0, 0, 5, 1, 4, 2, 8, 3, 7, 4, 2, 5, 7, 6, 3, 7, 7, 8, 7, 9, 6, 0, 8, 1, 7, 2, 9, 3, 2, 4, 6, 5, 4, 6, 7, 7, 5, 8, 0, 9, 1, 2, 7, 5, 8, 1, 5, 6, 7, 4, 9, 3, 0, 9, 6, 9, 0, 0, 6, 9, 1, 7, 3, 1, 2, 6, 5, 4, 2, 3, 2, 6, 3, 2, 6, 2, 5, 0, 1, 0, 1, 8, 3, 2, 2, 5, 4, 9, 5, 8, 3, 6, 1, 5, 3, 7, 6, 0, 8, 0, 3, 4, 0, 1, 7, 7, 0, 4, 3, 3, 3, 2, 9, 2, 1, 4, 3, 7, 1, 6, 2, 4, 5, 7, 1, 7, 3, 7, 3, 2, 7, 0, 6, 9, 1, 8, 9, 5, 8, 6, 5, 4, 5, 3, 5, 8, 9, 2, 2, 8, 4, 3, 6, 8, 7, 9, 8, 5, 8, 8, 9, 0, 7, 5, 4, 4, 8, 7, 8, 1, 0, 3, 8, 1, 5, 7, 7, 9, 9, 6, 2, 2, 8, 0, 9, 9, 3, 1, 0, 7, 0, 3, 8, 8, 5, 0, 3, 3, 6, 9, 2, 1, 5, 6, 1, 4, 6, 3, 5, 2, 2, 1, 1, 8, 8, 6, 6, 1, 7, 5, 6, 5, 8, 6, 2, 5, 6, 0, 6, 1, 9, 2, 7, 3, 4, 4, 0, 5, 4, 6, 8, 7, 4, 8, 0, 9, 4, 0, 4, 1, 1, 2, 7, 3, 6, 4, 4, 5, 0, 6, 4, 7, 7, 8, 2, 0, 2, 1, 4, 2, 4, 3, 5, 4, 6, 5, 2, 6, 3, 7, 6, 8, 5, 2, 9, 5, 1, 1, 3, 6, 8, 4, 3, 3, 9, 9, 0, 9, 1, 0, 3, 9, 6, 7, 3, 1, 3, 6, 2, 4, 5, 3, 6, 6, 5, 2, 6, 2, 1, 0, 7, 8, 4, 2, 8, 5, 8, 9, 6, 8, 5, 6, 8, 5, 4, 0, 3, 4, 1, 1, 0, 7, 1, 4, 7, 3, 0, 4, 1, 1, 5, 3, 9, 7, 6, 4, 7, 7, 8, 7, 6, 0, 0, 9, 3, 8, 4, 5, 9, 6, 6, 4, 9, 3, 4, 8, 6, 2, 6, 8, 1, 3, 5, 8, 9, 9, 6, 5, 8, 8, 4, 4, 3, 3, 2, 1, 3, 7, 1, 9, 5, 6, 2, 2, 1, 7, 5, 3, 7, 3, 5, 9, 0, 1, 5, 4, 3, 3, 1, 9, 9, 8, 8, 2, 1, 1, 9, 8, 2, 6, 7, 4, 7, 5, 6, 1, 7, 5, 6, 5, 2, 6, 1, 5, 9, 0, 4, 1, 9, 2, 3, 3, 2, 4, 5, 7, 6, 8, 8, 9, 2, 0, 8, 1, 9, 2, 4, 3, 0, 4, 1, 5, 5, 6, 7, 7, 2, 8, 1, 9, 8, 0, 8, 1, 2, 2, 2, 3, 2, 5, 5, 6, 4, 7, 7, 8, 9, 9, 9, 3, 6, 5, 3, 3, 9, 2, 1, 9, 2, 3, 8, 2, 2, 1, 8, 4, 5, 3, 0, 2, 7, 1, 9, 3, 7, 9, 6, 7, 8, 2, 9, 1, 7, 2, 8, 8, 3, 9, 4, 1, 4, 8, 6, 8, 1, 7, 7, 0, 6, 0, 9, 7, 9, 7, 9, 8, 3, 7, 7, 6, 7, 1, 4, 4, 8, 6, 0, 1, 4, 2, 5, 5, 8, 0, 6, 0, 3, 3, 8, 8, 5, 4, 1, 4, 9, 1, 3, 8, 4, 6, 7, 5, 8, 9, 0, 0, 3, 0, 2, 0, 9, 3, 8, 7, 9, 1, 1, 6, 2, 2, 0, 6, 3, 6, 1, 0, 9, 4, 1, 5, 8, 4, 2, 1, 7, 3, 9, 8, 2, 6, 2, 3, 7, 9, 0, 9, 8, 5, 3, 7, 5, 8, 9, 5, 9, 6, 1, 4, 5, 7, 9, 6, 5, 2, 3, 2, 9, 0, 8, 9, 9, 4, 9, 0, 0, 1, 3, 2, 3, 3, 1, 4, 1, 7, 0, 8, 7, 9, 9, 0, 1, 1, 9, 2, 7, 3, 4, 4, 2, 5, 8, 6, 3, 7, 0, 8, 7, 0, 7, 1, 6, 7, 4, 8, 6, 9, 8, 6, 9, 9, 0, 6, 6, 1, 7, 9, 6, 9, 9, 9, 4, 8, 4, 1, 2, 4, 2, 1, 0, 2, 0, 9, 2, 5, 4, 3, 6, 0, 9, 4, 5, 9, 1, 1, 4, 7, 3, 1, 6, 8, 9, 7, 8, 6, 1, 0, 8, 8, 4, 1, 1, 0, 6, 9, 0, 1, 6, 2, 3, 5, 1, 4, 3, 7, 2, 7, 3, 2, 8, 7, 3, 5, 5, 2, 7, 1, 5, 4, 9, 4, 7, 3, 1, 0, 7, 0, 3, 8, 5, 5, 2, 4, 6, 7, 7, 8, 8, 8, 3, 7, 8, 9, 7, 6, 8, 3, 9, 1, 0, 7, 2, 9, 3, 6, 4, 3, 3, 3, 7, 2, 8, 6, 1, 0, 8, 6, 8, 8, 6, 0, 8, 1, 0, 2, 1, 3, 7, 4, 9, 5, 3, 6, 6, 7, 1, 8, 1, 9, 4, 0, 2, 1, 9, 2, 9, 3, 4, 4, 9, 5, 9, 6, 6, 7, 3, 8, 1, 0, 9, 1, 7, 2, 2, 3, 6, 4, 7, 5, 7, 6, 4, 7, 6, 8, 2, 9, 5, 5, 4, 2, 0, 8, 0, 1, 8, 7, 8, 2, 2, 4, 0, 1, 0, 4, 3, 1, 3, 4, 4, 9, 8, 6, 1, 8, 1, 4, 5, 5, 4, 3, 1, 7, 2, 8, 6, 4, 2, 3, 2, 3, 1, 5, 8, 6, 8, 7, 3, 0, 0, 6, 2, 1, 6, 6, 8, 8, 7, 7, 1, 0, 0, 1, 9, 5, 6, 6, 4, 0, 2, 0, 6, 6, 3, 1, 9, 5, 4, 8, 0, 4, 6, 2, 9, 3, 3, 9, 4, 7, 6, 6, 4, 9, 6, 1, 8, 9, 2, 0, 2, 6, 1, 7, 1, 1, 1, 2, 0, 3, 2, 9, 9, 2, 7, 4, 3, 5, 6, 5, 9, 3, 4, 7, 3, 1, 5, 8, 7, 2, 6, 2, 9, 3, 7, 0, 9, 2, 9, 9, 5, 4, 5, 9, 3, 7, 6, 0, 2, 0, 2, 2, 3, 7, 1, 4, 6, 9, 1, 9, 2, 2, 3, 8, 6, 9, 9, 1, 1, 8, 7, 3, 8, 8, 9, 3, 3, 6, 8, 7, 6, 0, 1, 4, 0, 0, 9, 0, 6, 1, 1, 2, 3, 3, 8, 4, 6, 5, 3, 6, 4, 7, 4, 8, 3, 9, 7, 0, 7, 1, 0, 2, 5, 3, 3, 4, 5, 5, 1, 6, 8, 7, 9, 8, 5, 9, 2, 0, 2, 1, 5, 2, 4, 3, 6, 4, 7, 5, 2, 6, 3, 7, 5, 8, 5, 9, 3, 1, 7, 0, 8, 4, 7, 6, 0, 3, 2, 4, 3, 4, 1, 2, 7, 8, 4, 1, 4, 0, 8, 6, 9, 4, 7, 9, 7, 7, 3, 2, 1, 3, 4, 3, 3, 9, 1, 2, 9, 0, 7, 9, 5, 3, 1, 3, 0, 9, 0, 1, 7, 5, 5, 2, 7, 3, 8, 1, 7, 6, 7, 7, 7, 3, 8, 7, 0, 8, 3, 4, 1, 0, 4, 2, 9, 4, 7, 0, 7, 2, 9, 4, 4, 7, 3, 8, 0, 0, 9, 7, 6, 0, 8, 6, 0, 9, 3, 3, 7, 2, 2, 4, 0, 8, 8, 6, 9, 0, 4, 5, 1, 7, 8, 5, 7, 1, 1, 0, 3, 8, 4, 1, 5, 6, 4, 7, 8, 2, 7, 9, 5, 7, 6, 9, 4, 5, 1, 6, 1, 5, 8, 2, 8, 6, 0, 2, 7, 8, 0, 1, 5, 7, 5, 5, 6, 5, 4, 7, 9, 3, 2, 5, 5, 0, 8, 1, 9, 1, 1, 3, 1, 8, 3, 4, 8, 9, 4, 4, 6, 5, 0, 1, 4, 8, 0, 6, 1, 8, 0, 9, 8, 0, 0, 1, 5, 2, 7, 3, 2, 4, 4, 5, 8, 6, 3, 7, 2, 8, 0, 9, 6, 0, 1, 1, 7, 2, 6, 3, 0, 4, 6, 5, 7, 6, 5, 7, 5, 8, 2, 9, 6, 0, 0, 1, 9, 2, 8, 3, 0, 4, 5, 5, 6, 6, 7, 7, 2, 8, 5, 4, 9, 9, 3, 4, 0, 2, 0, 9, 1, 4, 7, 5, 7, 8, 9, 0, 9, 3, 9, 5, 3, 5, 2, 1, 1, 7, 0, 8, 6, 4, 1, 5, 2, 7, 0, 2, 4, 3, 1, 6, 5, 7, 5, 7, 8, 7, 6, 6, 5, 0, 8, 1, 6, 0, 5, 6, 7, 5, 5, 5, 9, 2, 9, 9, 0, 3, 2, 1, 5, 4, 7, 8, 8, 7, 7, 3, 0, 8, 7, 2, 4, 6, 0, 5, 0, 2, 3, 7, 4, 9, 5, 7, 9, 9, 1, 1, 5, 0, 4, 8, 0, 9, 1, 7, 8, 0, 7, 5, 6, 0, 0, 3, 8, 8, 1, 4, 9, 6, 8, 2, 9, 0, 9, 4, 1, 1, 3, 3, 9, 1, 9, 0, 4, 9, 7, 0, 2, 1, 0, 2, 2, 3, 4, 4, 3, 5, 7, 6, 5, 7, 7, 8, 7, 9, 5, 0, 8, 1, 7, 4, 4, 5, 5, 6, 9, 7, 5, 8, 5, 9, 6, 0, 2, 1, 9, 4, 5, 5, 7, 6, 4, 7, 8, 8, 9, 9, 9, 7, 2, 0, 6, 6, 7, 0, 4, 7, 0, 3, 4, 8, 9, 6, 5, 7, 1, 1, 8, 3, 5, 7, 7, 9, 8, 7, 5, 4, 2, 0, 8, 6, 9, 4, 6, 9, 1, 5, 1, 6, 4, 5, 9, 2, 1, 9, 1, 8, 4, 5, 3, 1, 1, 5, 7, 3, 1, 9, 3, 4, 6, 5, 5, 6, 7, 3, 8, 4, 5, 8, 7, 0, 2, 6, 5, 4, 8, 8, 2, 1, 6, 3, 1, 4, 9, 0, 5, 1, 4, 9, 7, 2, 0, 3, 9, 7, 3, 2, 4, 5, 8, 1, 5, 7, 7, 2, 8, 8, 0, 7, 7, 0, 9, 1, 4, 9, 0, 6, 7, 4, 5, 9, 5, 2, 9, 1, 1, 2, 1, 3, 6, 7, 8, 0, 9, 2, 9, 1, 3, 3, 6, 5, 1, 3, 2, 4, 2, 7, 8, 2, 4, 5, 7, 8, 6, 1, 8, 6, 3, 8, 8, 5, 0, 6, 7, 0, 8, 8, 5, 9, 9, 4, 8, 9, 5, 2, 0, 6, 0, 0, 2, 1, 5, 2, 5, 3, 2, 4, 6, 5, 1, 6, 9, 7, 9, 0, 0, 1, 4, 2, 3, 3, 0, 4, 6, 5, 8, 6, 2, 7, 5, 8, 0, 9, 3, 0, 5, 1, 8, 2, 7, 3, 4, 4, 9, 5, 9, 6, 9, 7, 7, 8, 1, 9, 4, 7, 1, 7, 7, 0, 0, 4, 7, 0, 8, 3, 3, 1, 4, 8, 7, 9, 8, 2, 1, 1, 2, 8, 8, 6, 4, 5, 5, 4, 4, 7, 2, 3, 0, 4, 1, 1, 5, 8, 6, 6, 5, 9, 6, 1, 0, 4, 9, 5, 4, 0, 9, 1, 4, 3, 1, 6, 9, 4, 9, 8, 3, 9, 6, 8, 5, 2, 4, 1, 1, 0, 5, 7, 7, 2, 3, 5, 6, 5, 3, 6, 3, 6, 2, 6, 8, 3, 3, 3, 6, 3, 0, 1, 4, 7, 4, 2, 5, 2, 1, 7, 8, 2, 0, 3, 1, 6, 5, 8, 6, 5, 4, 1, 8, 4, 6, 9, 1, 0, 9, 5, 2, 0, 9, 6, 7, 8, 3, 8, 7, 0, 4, 8, 4, 2, 1, 3, 9, 9, 6, 4, 8, 3, 3, 7, 4, 1, 2, 7, 5, 6, 3, 9, 6, 4, 3, 2, 2, 9, 5, 9, 2, 2, 2, 0, 2, 8, 9, 4, 0, 9, 8, 4, 2, 0, 5, 7, 2, 1, 3, 3, 1, 2, 6, 9, 9, 0, 1, 1, 7, 2, 6, 3, 2, 8, 9, 9, 7, 0, 0, 1, 0, 2, 9, 3, 5, 4, 7, 5, 4, 6, 3, 7, 3, 8, 3, 0, 0, 1, 4, 2, 2, 3, 3, 6, 6, 7, 2, 8, 2, 9, 8, 0, 0, 3, 2, 9, 0, 5, 4, 6, 0, 8, 7, 4, 2, 9, 5, 1, 0, 7, 3, 1, 1, 2, 9, 3, 0, 5, 1, 9, 7, 6, 6, 9, 9, 1, 5, 2, 8, 0, 7, 7, 8, 2, 6, 9, 2, 8, 2, 9, 7, 0, 3, 7, 5, 1, 4, 3, 3, 0, 0, 3, 6, 6, 3, 8, 5, 7, 2, 4, 2, 9, 2, 7, 5, 5, 7, 8, 0, 1, 7, 5, 2, 1, 2, 2, 1, 0, 0, 2, 6, 4, 3, 3, 6, 0, 5, 0, 6, 0, 1, 3, 7, 5, 8, 7, 0, 6, 7, 9, 5, 9, 9, 8, 7, 2, 1, 7, 5, 7, 5, 1, 4, 0, 0, 1, 6, 2, 0, 3, 1, 5, 7, 6, 4, 7, 6, 8, 3, 9, 1, 0, 6, 1, 4, 2, 5, 3, 4, 4, 6, 5, 2, 6, 7, 7, 1, 8, 4, 9, 8, 0, 4, 1, 6, 6, 5, 7, 2, 8, 3, 9, 1, 0, 4, 5, 7, 6, 7, 8, 0, 3, 1, 3, 7, 3, 5, 9, 5, 9, 7, 5, 0, 6, 3, 4, 3, 4, 6, 7, 5, 0, 7, 3, 2, 9, 6, 6, 5, 9, 7, 1, 3, 5, 6, 2, 9, 6, 6, 6, 3, 7, 2, 8, 6, 1, 3, 6, 3, 7, 8, 8, 2, 8, 1, 1, 7, 8, 9, 3, 3, 7, 3, 1, 8, 2, 2, 7, 6, 1, 1, 5, 6, 0, 4, 9, 2, 8, 4, 3, 0, 1, 8, 8, 7, 4, 0, 1, 8, 4, 6, 3, 9, 9, 1, 7, 8, 1, 9, 0, 3, 7, 2, 3, 9, 0, 6, 1, 3, 2, 8, 3, 9, 4, 8, 5, 3, 6, 2, 7, 5, 8, 4, 9, 7, 0, 0, 1, 4, 2, 5, 3, 0, 4, 1, 5, 3, 6, 3, 7, 3, 8, 8, 9, 4, 0, 6, 1, 7, 2, 8, 3, 0, 4, 6, 4, 4, 5, 1, 6, 9, 6, 3, 3, 0, 4, 9, 2, 3, 8, 0, 1, 1, 0, 5, 6, 8, 4, 3, 9, 7, 7, 4, 2, 5, 3, 1, 3, 9, 9, 3, 9, 4, 3, 1, 3, 2, 9, 4, 1, 3, 5, 8, 2, 9, 3, 8, 1, 7, 6, 7, 7, 5, 3, 9, 7, 0, 8, 3, 4, 1, 0, 2, 2, 1, 4, 3, 0, 9, 2, 5, 4, 9, 7, 0, 8, 2, 0, 4, 7, 3, 0, 2, 6, 0, 9, 8, 3, 7, 2, 6, 4, 3, 8, 3, 6, 2, 0, 3, 1, 6, 0, 1, 8, 4, 1, 3, 6, 9, 7, 8, 2, 2, 9, 5, 7, 5, 9, 8, 5, 4, 8, 3, 9, 2, 6, 8, 5, 8, 2, 5, 6, 9, 2, 5, 8, 9, 1, 5, 7, 8, 5, 8, 5, 1, 7, 3, 3, 2, 0, 2, 1, 0, 1, 6, 3, 4, 8, 6, 4, 4, 9, 8, 5, 2, 1, 9, 8, 5, 9, 1, 1, 4, 2, 7, 1, 2, 5, 6, 6, 4, 7, 8, 0, 3, 1, 0, 2, 9, 3, 3, 5, 8, 6, 4, 7, 0, 0, 8, 1, 8, 2, 2, 3, 0, 1, 1, 5, 2, 6, 0, 7, 8, 9, 3, 8, 2, 7, 1, 0, 8, 2, 7, 3, 9, 4, 4, 3, 6, 8, 6, 5, 8, 1, 3, 5, 7, 2, 1, 3, 1, 0, 2, 1, 9, 2, 2, 6, 4, 3, 1, 0, 9, 7, 0, 2, 1, 6, 0, 1, 7, 0, 8, 5, 9, 9, 4, 9, 6, 8, 1, 3, 2, 1, 9, 7, 9, 4, 8, 7, 2, 4, 4, 0, 1, 0, 7, 6, 2, 6, 1, 2, 7, 6, 2, 3, 4, 7, 0, 7, 2, 4, 1, 4, 5, 3, 3, 8, 9, 9, 9, 6, 3, 0, 3, 9, 3, 5, 6, 3, 7, 1, 7, 3, 8, 7, 2, 2, 7, 1, 5, 9, 6, 1, 0, 5, 2, 1, 2, 7, 6, 4, 3, 8, 9, 6, 5, 1, 4, 2, 7, 1, 5, 6, 8, 0, 4, 1, 0, 2, 2, 3, 8, 7, 6, 8, 2, 9, 4, 0, 3, 1, 4, 2, 3, 6, 7, 7, 3, 8, 3, 9, 3, 0, 4, 1, 1, 2, 0, 3, 9, 7, 9, 5, 4, 7, 5, 7, 8, 7, 7, 3, 1, 1, 7, 9, 2, 2, 4, 1, 0, 6, 9, 5, 6, 7, 4, 1, 7, 8, 9, 6, 1, 9, 5, 1, 3, 0, 3, 1, 6, 3, 5, 6, 7, 8, 0, 9, 4, 5, 1, 2, 6, 1, 8, 7, 7, 5, 1, 6, 9, 6, 3, 6, 1, 3, 2, 1, 2, 7, 8, 2, 6, 2, 4, 3, 8, 8, 2, 1, 8, 0, 3, 6, 4, 8, 4, 8, 4, 0, 1, 8, 9, 2, 1, 3, 3, 9, 5, 4, 3, 3, 7, 7, 2, 1, 8, 7, 1, 9, 1, 4, 8, 2, 7, 9, 2, 9, 7, 7, 2, 1, 1, 3, 8, 9, 6, 0, 7, 1, 1, 2, 7, 3, 3, 4, 9, 7, 9, 8, 2, 9, 2, 0, 5, 1, 0, 2, 0, 3, 3, 7, 9, 8, 5, 9, 1, 0, 1, 4, 3, 5, 9, 6, 6, 7, 5, 8, 4, 9, 9, 2, 9, 2, 8, 7, 5, 6, 4, 4, 1, 7, 0, 3, 8, 5, 0, 4, 1, 1, 9, 8, 8, 0, 7, 7, 1, 2, 0, 2, 8, 1, 8, 7, 3, 7, 4, 9, 3, 9, 7, 4, 5, 6, 1, 7, 9, 7, 2, 5, 5, 4, 8, 5, 3, 0, 1, 9, 4, 0, 7, 2, 5, 3, 8, 5, 6, 6, 4, 1, 2, 8, 4, 6, 6, 0, 6, 6, 2, 8, 8, 8, 0, 8, 2, 4, 4, 3, 7, 8, 3, 1, 2, 3, 0, 6, 0, 9, 2, 4, 1, 1, 5, 7, 6, 6, 7, 9, 3, 3, 7, 3, 8, 7, 0, 4, 6, 1, 1, 9, 0, 1, 0, 0, 6, 6, 3, 0, 9, 1, 0, 2, 5, 3, 8, 4, 1, 5, 3, 6, 4, 7, 5, 0, 4, 1, 7, 2, 2, 3, 7, 4, 1, 5, 1, 6, 4, 7, 9, 8, 5, 9, 8, 0, 3, 1, 6, 2, 0, 3, 2, 4, 0, 5, 9, 6, 9, 7, 0, 8, 1, 9, 4, 1, 3, 7, 8, 4, 8, 8, 3, 1, 8, 5, 2, 6, 1, 5, 7, 7, 0, 2, 1, 8, 1, 6, 5, 3, 6, 3, 6, 8, 8, 6, 4, 5, 3, 4, 3, 0, 6, 9, 6, 1, 2, 7, 1, 2, 5, 9, 2, 1, 3, 3, 4, 2, 1, 2, 5, 3, 2, 0, 6, 6, 0, 4, 0, 3, 4, 7, 3, 6, 4, 9, 3, 0, 9, 8, 2, 1, 5, 4, 9, 0, 6, 6, 0, 1, 8, 2, 2, 6, 3, 9, 6, 2, 3, 2, 6, 3, 0, 5, 1, 5, 3, 1, 9, 0, 0, 7, 2, 7, 5, 9, 5, 6, 5, 4, 8, 7, 8, 0, 7, 2, 2, 3, 4, 4, 4, 0, 6, 0, 0, 8, 7, 8, 6, 8, 3, 5, 7, 1, 7, 3, 5, 7, 7, 4, 4, 9, 6, 8, 7, 8, 8, 9, 3, 0, 0, 9, 2, 8, 8, 9, 9, 0, 9, 2, 1, 6, 3, 5, 4, 6, 6, 7, 7, 7, 3, 5, 6, 4, 2, 1, 0, 3, 6, 0, 6, 1, 7, 2, 7, 3, 2, 4, 3, 5, 2, 6, 1, 7, 9, 8, 5, 9, 3, 0, 6, 1, 9, 2, 2, 3, 2, 4, 4, 5, 9, 6, 4, 7, 1, 8, 5, 9, 1, 0, 7, 1, 0, 2, 4, 3, 8, 4, 6, 5, 4, 6, 3, 7, 8, 8, 0, 9, 9, 3, 7, 4, 0, 1, 0, 4, 6, 0, 7, 8, 4, 6, 8, 4, 8, 5, 2, 4, 9, 0, 8, 7, 4, 8, 5, 7, 7, 7, 0, 9, 5, 0, 8, 4, 9, 7, 1, 4, 1, 2, 9, 0, 4, 5, 6, 8, 4, 8, 1, 8, 8, 4, 0, 0, 4, 7, 9, 1, 9, 3, 6, 5, 4, 3, 5, 1, 0, 6, 0, 5, 9, 3, 8, 8, 0, 7, 7, 3, 0, 1, 5, 6, 0, 8, 9, 5, 2, 9, 7, 2, 3, 2, 7, 0, 3, 9, 1, 2, 1, 4, 6, 6, 4, 5, 3, 2, 1, 7, 4, 3, 3, 1, 3, 3, 7, 6, 0, 6, 5, 2, 8, 1, 9, 2, 0, 6, 9, 0, 8, 7, 7, 7, 8, 4, 5, 7, 1, 4, 3, 8, 4, 9, 4, 2, 7, 9, 5, 5, 0, 1, 4, 5, 0, 8, 6, 3, 3, 5, 3, 6, 8, 0, 7, 9, 3, 9, 2, 3, 2, 1, 5, 1, 1, 0, 3, 1, 4, 2, 4, 3, 5, 4, 0, 8, 7, 9, 1, 0, 3, 1, 1, 2, 1, 3, 7, 4, 2, 5, 8, 6, 0, 7, 9, 0, 5, 1, 7, 2, 0, 3, 1, 4, 2, 7, 9, 8, 4, 9, 0, 0, 7, 5, 2, 6, 5, 8, 9, 3, 9, 9, 2, 0, 4, 2, 2, 3, 0, 3, 8, 3, 1, 9, 3, 9, 8, 5, 5, 6, 0, 4, 6, 4, 5, 2, 8, 5, 0, 4, 4, 7, 1, 0, 6, 3, 8, 9, 9, 6, 2, 8, 6, 7, 5, 9, 6, 1, 5, 5, 1, 2, 2, 6, 6, 3, 4, 4, 8, 0, 6, 4, 8, 1, 2, 6, 8, 5, 9, 1, 0, 2, 4, 6, 0, 6, 9, 7, 1, 8, 8, 8, 1, 1, 9, 8, 4, 3, 5, 7, 7, 1, 6, 2, 8, 7, 4, 0, 4, 7, 0, 0, 8, 1, 8, 5, 0, 0, 8, 5, 9, 2, 6, 8, 4, 0, 2, 4, 3, 9, 4, 8, 4, 3, 0, 1, 5, 8, 8, 2, 2, 9, 5, 9, 6, 5, 1, 4, 7, 8, 6, 2, 2, 5, 8, 7, 1, 1, 9, 4, 8, 3, 0, 9, 9, 7, 4, 1, 5, 2, 2, 6, 9, 0, 8, 7, 5, 0, 3, 1, 2, 2, 8, 3, 5, 6, 9, 7, 0, 8, 8, 1, 8, 2, 0, 3, 1, 4, 7, 7, 6, 8, 2, 9, 0, 0, 7, 1, 7, 2, 0, 3, 0, 4, 8, 5, 9, 6, 7, 7, 7, 8, 7, 9, 0, 1, 8, 2, 0, 6, 3, 5, 1, 3, 9, 0, 4, 2, 1, 8, 0, 7, 5, 0, 7, 3, 5, 6, 4, 4, 8, 1, 6, 4, 1, 3, 8, 6, 6, 7, 1, 2, 1, 3, 2, 9, 2, 1, 2, 2, 7, 1, 1, 2, 1, 9, 2, 6, 4, 0, 7, 1, 9, 3, 2, 0, 7, 2, 5, 5, 4, 7, 2, 2, 5, 9, 2, 1, 6, 9, 7, 0, 9, 6, 7, 0, 1, 6, 2, 0, 1, 2, 8, 0, 4, 6, 5, 1, 3, 5, 4, 8, 5, 4, 7, 3, 6, 0, 2, 1, 9, 4, 0, 8, 5, 8, 8, 4, 6, 5, 2, 7, 8, 5, 2, 7, 4, 8, 1, 3, 8, 4, 5, 8, 0, 8, 4, 5, 5, 2, 8, 9, 0, 7, 4, 1, 8, 3, 4, 8, 9, 1, 4, 0, 4, 7, 1, 5, 1, 9, 2, 6, 0, 9, 0, 4, 5, 7, 1, 7, 3, 9, 2, 9, 3, 5, 6, 8, 1, 3, 7, 4, 7, 4, 5, 3, 4, 2, 0, 0, 0, 1, 7, 2, 6, 3, 2, 4, 3, 5, 1, 6, 1, 7, 0, 8, 1, 0, 9, 1, 8, 2, 1, 3, 0, 4, 9, 7, 1, 8, 7, 9, 6, 0, 0, 1, 2, 2, 4, 3, 5, 4, 5, 6, 7, 7, 6, 0, 8, 8, 0, 7, 3, 8, 3, 9, 5, 1, 6, 4, 6, 5, 1, 1, 6, 6, 8, 7, 1, 3, 1, 2, 5, 9, 1, 0, 2, 5, 6, 6, 0, 7, 6, 3, 9, 9, 6, 9, 2, 3, 8, 8, 7, 1, 0, 2, 5, 3, 0, 5, 6, 0, 6, 5, 0, 4, 8, 0, 0, 3, 0, 4, 8, 7, 6, 7, 0, 9, 1, 4, 6, 3, 5, 7, 3, 6, 8, 2, 4, 1, 1, 5, 7, 8, 8, 4, 2, 6, 3, 7, 8, 0, 3, 2, 1, 9, 4, 3, 3, 4, 2, 4, 6, 8, 5, 1, 5, 2, 2, 2, 4, 3, 2, 1, 7, 7, 8, 3, 9, 4, 1, 5, 7, 1, 8, 9, 8, 8, 8, 1, 0, 1, 5, 0, 9, 2, 4, 7, 7, 6, 6, 8, 6, 2, 4, 8, 7, 4, 7, 4, 0, 2, 6, 2, 1, 8, 2, 0, 1, 0, 8, 1, 6, 2, 5, 3, 9, 4, 2, 5, 3, 6, 3, 7, 7, 8, 2, 0, 7, 1, 3, 2, 7, 3, 4, 4, 4, 5, 2, 6, 2, 7, 2, 8, 0, 9, 3, 0, 3, 1, 5, 2, 5, 3, 0, 4, 3, 5, 5, 6, 8, 7, 8, 8, 6, 9, 1, 0, 7, 5, 1, 3, 1, 9, 5, 0, 8, 2, 2, 3, 2, 3, 3, 3, 8, 9, 2, 9, 8, 5, 9, 6, 9, 4, 7, 2, 1, 3, 1, 9, 1, 6, 4, 8, 3, 7, 3, 9, 4, 1, 7, 5, 3, 2, 2, 6, 2, 3, 0, 4, 1, 0, 6, 4, 0, 1, 7, 6, 7, 4, 1, 9, 0, 6, 2, 5, 4, 1, 2, 2, 9, 6, 0, 6, 0, 7, 5, 8, 3, 1, 0, 8, 3, 3, 8, 7, 8, 1, 8, 2, 4, 7, 1, 1, 0, 5, 6, 0, 0, 5, 3, 2, 4, 9, 3, 8, 8, 3, 4, 1, 0, 8, 2, 9, 0, 5, 1, 2, 3, 6, 9, 4, 4, 8, 9, 2, 5, 5, 1, 4, 6, 1, 6, 7, 1, 1, 6, 4, 2, 3, 2, 9, 1, 1, 0, 2, 9, 6, 1, 0, 6, 7, 6, 3, 1, 0, 6, 1, 7, 2, 3, 3, 2, 4, 7, 6, 6, 7, 6, 8, 0, 9, 4, 0, 0, 1, 3, 2, 0, 3, 0, 4, 6, 5, 4, 6, 5, 7, 1, 8, 5, 9, 3, 0, 9, 1, 3, 2, 6, 3, 2, 4, 7, 5, 5, 6, 5, 7, 1, 8, 7, 9, 5, 0, 5, 8, 5, 7, 0, 8, 2, 9, 6, 9, 5, 0, 1, 1, 9, 4, 3, 5, 9, 1, 3, 6, 9, 7, 1, 3, 8, 2, 4, 9, 8, 0, 8, 5, 2, 6, 8, 7, 9, 3, 8, 9, 7, 9, 2, 3, 0, 8, 1, 1, 7, 2, 1, 9, 1, 6, 2, 3, 0, 5, 6, 0, 9, 5, 5, 4, 2, 0, 2, 3, 8, 4, 1, 7, 3, 7, 6, 9, 5, 1, 8, 4, 5, 3, 5, 7, 8, 6, 5, 2, 3, 1, 8, 5, 3, 5, 5, 0, 6, 5, 2, 0, 9, 8, 1, 4, 6, 6, 8, 2, 2, 8, 5, 1, 3, 2, 5, 2, 9, 3, 0, 1, 7, 3, 6, 4, 1, 5, 2, 1, 1, 9, 7, 8, 2, 1, 3, 1, 1, 5, 4, 0, 1, 2, 4, 7, 8, 8, 5, 6, 6, 8, 2, 2, 7, 8, 0, 4, 3, 4, 5, 2, 4, 2, 4, 8, 1, 0, 1, 0, 0, 1, 8, 2, 9, 3, 6, 6, 2, 7, 9, 8, 3, 0, 1, 1, 9, 2, 1, 3, 5, 4, 4, 5, 7, 6, 6, 7, 6, 8, 4, 9, 5, 0, 8, 1, 8, 2, 3, 3, 6, 4, 4, 5, 2, 6, 9, 7, 1, 8, 3, 9, 5, 1, 7, 8, 6, 6, 4, 1, 6, 4, 3, 9, 6, 3, 8, 7, 5, 7, 7, 9, 7, 1, 7, 8, 7, 4, 8, 7, 8, 2, 7, 2, 8, 0, 1, 5, 6, 8, 6, 6, 2, 1, 4, 0, 7, 4, 7, 7, 1, 1, 0, 2, 9, 1, 5, 6, 5, 7, 0, 3, 8, 3, 8, 6, 0, 5, 7, 6, 7, 2, 9, 8, 8, 7, 6, 6, 9, 8, 6, 9, 2, 9, 8, 5, 8, 3, 3, 7, 7, 0, 0, 6, 7, 9, 4, 0, 3, 1, 0, 1, 2, 3, 0, 2, 9, 1, 1, 0, 9, 0, 6, 1, 7, 2, 8, 3, 4, 4, 0, 5, 4, 6, 0, 7, 4, 8, 8, 9, 8, 0, 7, 1, 0, 2, 2, 3, 5, 4, 4, 5, 0, 6, 2, 7, 9, 8, 9, 9, 1, 0, 7, 1, 5, 2, 1, 3, 9, 4, 1, 5, 2, 6, 4, 7, 7, 8, 9, 9, 2, 7, 2, 5, 7, 5, 4, 1, 1, 9, 8, 9, 3, 7, 5, 1, 6, 0, 3, 9, 1, 0, 0, 5, 2, 7, 9, 1, 0, 7, 6, 2, 6, 2, 8, 3, 4, 6, 0, 8, 4, 0, 4, 8, 9, 3, 2, 2, 2, 0, 8, 9, 7, 0, 3, 6, 3, 1, 9, 7, 1, 5, 7, 8, 4, 3, 8, 4, 4, 7, 4, 6, 1, 6, 2, 3, 0, 2, 3, 3, 1, 4, 6, 8, 9, 8, 2, 7, 2, 1, 3, 0, 6, 8, 6, 7, 4, 7, 9, 5, 6, 9, 5, 2, 0, 8, 3, 5, 2, 3, 2, 4, 5, 6, 3, 1, 6, 1, 0, 4, 6, 5, 1, 5, 6, 0, 8, 4, 5, 8, 4, 7, 2, 4, 6, 9, 8, 2, 9, 3, 3, 6, 9, 4, 1, 2, 3, 4, 8, 1, 3, 5, 6, 4, 5, 2, 4, 0, 7, 4, 8, 8, 5, 6, 4, 1, 0, 9, 0, 3, 7, 2, 4, 0, 2, 0, 7, 2, 5, 5, 3, 6, 8, 9, 6, 3, 7, 6, 0, 3, 4, 6, 0, 0, 5, 1, 4, 2, 1, 3, 2, 4, 4, 5, 7, 6, 7, 7, 1, 8, 1, 9, 1, 0, 2, 1, 2, 2, 1, 3, 4, 4, 1, 5, 4, 6, 8, 7, 2, 8, 2, 9, 4, 0, 3, 1, 3, 2, 9, 3, 4, 4, 0, 5, 7, 6, 6, 6, 8, 8, 4, 2, 3, 3, 3, 7, 2, 8, 9, 6, 2, 6, 4, 8, 1, 0, 5, 1, 4, 7, 2, 1, 1, 7, 4, 3, 4, 0, 9, 2, 0, 2, 8, 0, 9, 2, 0, 5, 1, 4, 2, 1, 6, 6, 8, 5, 0, 1, 8, 2, 4, 0, 9, 2, 2, 3, 8, 4, 0, 8, 7, 3, 4, 8, 8, 5, 7, 3, 5, 6, 9, 5, 6, 9, 6, 8, 5, 1, 0, 7, 5, 9, 0, 3, 9, 4, 4, 1, 9, 7, 5, 3, 8, 9, 6, 6, 1, 7, 6, 4, 4, 9, 2, 3, 1, 0, 0, 9, 0, 6, 5, 0, 4, 6, 7, 1, 0, 0, 7, 5, 9, 8, 9, 7, 6, 2, 7, 5, 2, 1, 3, 0, 3, 1, 6, 0, 6, 9, 9, 4, 6, 5, 0, 7, 2, 0, 3, 2, 5, 1, 4, 9, 7, 6, 1, 7, 8, 4, 9, 8, 6, 8, 8, 5, 4, 0, 3, 1, 1, 2, 3, 3, 8, 4, 0, 5, 7, 6, 2, 7, 0, 0, 7, 1, 5, 2, 3, 3, 8, 4, 2, 5, 8, 6, 4, 7, 6, 8, 7, 0, 2, 1, 2, 2, 3, 3, 3, 4, 8, 5, 6, 6, 9, 7, 4, 8, 7, 9, 6, 0, 0, 7, 9, 0, 1, 7, 3, 8, 7, 3, 8, 0, 4, 0, 4, 5, 3, 5, 8, 3, 7, 8, 2, 8, 6, 1, 0, 8, 6, 4, 3, 9, 2, 6, 9, 1, 8, 8, 4, 0, 8, 2, 9, 7, 6, 3, 7, 4, 4, 1, 9, 2, 7, 5, 3, 9, 6, 8, 5, 9, 6, 5, 6, 4, 0, 3, 4, 3, 2, 4, 4, 7, 3, 9, 0, 0, 6, 1, 3, 9, 8, 1, 3, 2, 5, 7, 9, 9, 9, 1, 3, 0, 0, 6, 6, 2, 5, 4, 5, 0, 9, 3, 9, 4, 2, 6, 2, 6, 8, 5, 5, 6, 8, 7, 0, 1, 7, 4, 0, 4, 9, 2, 5, 6, 4, 2, 8, 9, 1, 1, 4, 5, 1, 3, 5, 1, 7, 4, 4, 8, 5, 6, 6, 3, 1, 7, 1, 0, 6, 5, 7, 6, 3, 7, 4, 1, 5, 3, 7, 8, 4, 2, 7, 6, 4, 2, 9, 6, 2, 4, 6, 2, 9, 7, 4, 8, 4, 7, 9, 0, 1, 1, 2, 2, 1, 3, 1, 4, 3, 5, 8, 6, 1, 7, 7, 0, 2, 1, 7, 2, 1, 3, 6, 4, 0, 5, 3, 7, 9, 8, 2, 9, 4, 0, 3, 1, 3, 2, 2, 3, 4, 4, 9, 5, 9, 6, 4, 1, 7, 6, 2, 0, 7, 1, 5, 2, 7, 4, 2, 7, 1, 4, 6, 4, 0, 4, 4, 0, 9, 3, 5, 8, 9, 7, 4, 5, 4, 8, 3, 2, 7, 1, 3, 7, 9, 3, 2, 5, 4, 5, 2, 9, 7, 1, 4, 2, 7, 1, 6, 3, 9, 8, 3, 6, 4, 4, 1, 9, 6, 4, 3, 9, 1, 2, 9, 0, 7, 0, 0, 4, 8, 4, 3, 6, 3, 2, 6, 5, 7, 5, 6, 0, 2, 2, 9, 6, 5, 8, 2, 1, 6, 1, 5, 9, 5, 2, 1, 6, 8, 7, 8, 6, 5, 6, 4, 8, 8, 7, 3, 3, 7, 3, 7, 0, 6, 5, 5, 7, 8, 0, 6, 2, 1, 7, 2, 7, 4, 8, 2, 0, 1, 3, 4, 5, 3, 3, 3, 6, 6, 0, 0, 1, 8, 2, 2, 3, 4, 7, 5, 8, 9, 0, 2, 1, 5, 2, 4, 3, 6, 4, 2, 5, 3, 6, 0, 0, 9, 1, 8, 2, 7, 3, 1, 7, 7, 9, 3, 1, 0, 7, 8, 4, 9, 8, 9, 1, 5, 6, 1, 3, 7, 3, 4, 6, 5, 5, 3, 9, 4, 1, 4, 3, 2, 3, 0, 0, 5, 6, 1, 4, 3, 3, 2, 7, 2, 6, 4, 9, 2, 8, 3, 1, 2, 4, 8, 0, 4, 6, 7, 6, 8, 9, 6, 2, 7, 2, 9, 3, 7, 0, 1, 7, 3, 2, 5, 2, 2, 3, 1, 4, 4, 0, 1, 0, 0, 8, 5, 5, 9, 1, 4, 3, 0, 7, 1, 4, 7, 9, 0, 8, 6, 8, 0, 9, 0, 0, 3, 9, 0, 8, 9, 9, 3, 0, 3, 2, 1, 6, 3, 7, 5, 4, 8, 7, 7, 5, 7, 0, 0, 1, 1, 2, 2, 3, 8, 4, 6, 5, 3, 6, 4, 7, 6, 8, 1, 9, 9, 0, 2, 1, 8, 2, 0, 3, 5, 4, 9, 5, 4, 6, 8, 7, 0, 8, 0, 0, 2, 1, 1, 2, 3, 3, 3, 4, 8, 5, 1, 6, 3, 8, 6, 3, 9, 4, 3, 7, 8, 8, 0, 6, 0, 3, 1, 4, 0, 0, 3, 9, 2, 7, 5, 1, 3, 9, 7, 3, 0, 8, 3, 4, 1, 7, 6, 3, 7, 0, 8, 9, 5, 9, 0, 6, 1, 1, 2, 4, 0, 5, 6, 4, 6, 6, 5, 2, 3, 0, 5, 6, 0, 1, 7, 1, 9, 1, 5, 7, 1, 2, 7, 7, 8, 5, 1, 2, 0, 9, 7, 4, 0, 5, 3, 8, 3, 4, 1, 2, 4, 9, 1, 7, 9, 0, 9, 0, 3, 7, 1, 5, 0, 1, 6, 1, 4, 7, 8, 6, 5, 6, 3, 6, 3, 8, 2, 2, 3, 2, 7, 7, 8, 7, 2, 4, 6, 0, 1, 2, 8, 4, 5, 2, 6, 5, 5, 0, 2, 3, 9, 3, 2, 3, 6, 1, 8, 8, 1, 1, 9, 0, 7, 5, 3, 9, 6, 6, 3, 9, 2, 8, 2, 5, 6, 8, 7, 0, 5, 3, 9, 0, 9, 8, 9, 3, 9, 9, 5, 0, 7, 1, 2, 2, 5, 3, 6, 4, 4, 5, 1, 6, 6, 7, 2, 8, 1, 9, 5, 7, 9, 8, 3, 9, 8, 0, 2, 1, 0, 4, 8, 5, 1, 6, 9, 7, 5, 8, 6, 9, 1, 4, 4, 2, 7, 6, 0, 1, 5, 1, 8, 7, 6, 8, 6, 5, 0, 3, 0, 7, 8, 0, 1, 0, 5, 2, 1, 6, 7, 9, 4, 8, 9, 8, 4, 9, 8, 9, 6, 7, 4, 7, 7, 2, 3, 1, 5, 1, 3, 0, 9, 8, 9, 9, 3, 2, 5, 1, 3, 7, 8, 2, 9, 0, 0, 6, 8, 8, 2, 5, 2, 0, 7, 3, 3, 4, 1, 3, 7, 9, 1, 6, 0, 0, 0, 6, 2, 9, 1, 0, 3, 1, 5, 2, 1, 3, 9, 4, 1, 5, 1, 6, 2, 7, 7, 8, 8, 9, 8, 0, 0, 1, 6, 2, 6, 3, 1, 4, 8, 5, 5, 6, 8, 7, 5, 8, 3, 0, 9, 1, 2, 2, 7, 3, 4, 4, 3, 5, 3, 6, 5, 9, 3, 5, 9, 0, 5, 6, 8, 8, 7, 9, 1, 4, 7, 1, 5, 9, 3, 5, 5, 3, 2, 0, 4, 8, 3, 9, 1, 1, 5, 4, 5, 0, 5, 5, 4, 5, 9, 7, 4, 6, 7, 0, 9, 1, 7, 6, 4, 8, 2, 9, 8, 5, 1, 4, 5, 7, 9, 6, 4, 0, 9, 8, 0, 1, 6, 7, 0, 7, 4, 1, 8, 3, 5, 2, 5, 3, 9, 1, 3, 4, 9, 2, 7, 0, 7, 0, 9, 4, 7, 6, 8, 4, 3, 9, 3, 3, 0, 8, 9, 4, 4, 7, 8, 2, 7, 5, 5, 6, 2, 3, 9, 6, 8, 9, 1, 6, 0, 3, 6, 2, 0, 2, 2, 4, 2, 6, 0, 2, 2, 5, 5, 5, 1, 1, 5, 3, 2, 3, 2, 9, 5, 2, 1, 5, 9, 7, 0, 9, 6, 8, 8, 2, 7, 1, 8, 3, 3, 1, 7, 3, 3, 0, 6, 1, 7, 2, 5, 3, 8, 4, 8, 5, 3, 6, 6, 7, 8, 8, 1, 9, 2, 0, 9, 1, 6, 2, 1, 3, 5, 4, 9, 5, 7, 6, 0, 7, 4, 8, 1, 0, 9, 1, 2, 2, 4, 3, 1, 4, 7, 5, 3, 6, 7, 7, 3, 8, 9, 9, 0, 2, 4, 2, 1, 7, 1, 6, 9, 4, 3, 0, 1, 5, 6, 8, 1, 0, 5, 7, 5, 3, 0, 5, 3, 4, 9, 1, 6, 8, 1, 0, 9, 5, 7, 2, 2, 7, 6, 2, 3, 3, 2, 6, 2, 2, 7, 1, 4, 7, 5, 7, 0, 9, 3, 1, 5, 2, 6, 6, 1, 7, 4, 5, 2, 4, 3, 0, 4, 1, 4, 1, 9, 9, 3, 8, 3, 0, 5, 2, 0, 0, 0, 3, 9, 5, 7, 6, 6, 1, 2, 8, 1, 6, 3, 4, 3, 6, 6, 0, 1, 9, 0, 2, 2, 6, 7, 4, 7, 3, 4, 9, 9, 3, 7, 0, 9, 0, 8, 5, 5, 2, 4, 5, 0, 8, 4, 8, 3, 8, 6, 9, 6, 4, 5, 3, 8, 4, 5, 2, 3, 8, 4, 8, 1, 5, 0, 5, 9, 7, 4, 1, 0, 3, 0, 6, 2, 9, 9, 4, 1, 3, 6, 8, 0, 7, 7, 6, 8, 9, 0, 3, 8, 3, 7, 7, 8, 4, 4, 1, 2, 9, 8, 1, 1, 0, 6, 6, 5, 0, 1, 1, 7, 2, 7, 3, 1, 4, 0, 5, 0, 6, 8, 7, 6, 8, 9, 9, 4, 0, 6, 1, 9, 2, 6, 3, 9, 4, 4, 5, 6, 6, 1, 7, 2, 8, 6, 9, 7, 0, 9, 1, 6, 2, 8, 3, 6, 4, 9, 5, 8, 6, 8, 7, 8, 8, 6, 9, 1, 7, 6, 0, 9, 6, 7, 0, 9, 7, 1, 3, 6, 8, 4, 6, 1, 7, 5, 1, 3, 3, 5, 7, 9, 9, 6, 7, 3, 4, 1, 0, 4, 2, 4, 5, 0, 0, 1, 6, 6, 4, 7, 9, 4, 6, 5, 2, 6, 9, 8, 8, 8, 5, 9, 3, 8, 9, 8, 8, 8, 3, 4, 4, 3, 0, 9, 5, 4, 4, 1, 8, 0, 6, 1, 3, 2, 0, 8, 6, 0, 3, 5, 4, 9, 0, 3, 1, 0, 9, 3, 2, 3, 3, 3, 7, 4, 9, 2, 1, 6, 2, 1, 5, 7, 1, 9, 7, 9, 2, 2, 8, 1, 7, 7, 0, 0, 1, 8, 9, 0, 6, 6, 4, 7, 9, 8, 2, 9, 1, 5, 2, 5, 3, 7, 7, 0, 0, 8, 2, 3, 1, 3, 5, 1, 3, 6, 4, 8, 7, 6, 2, 8, 1, 8, 6, 6, 8, 7, 5, 6, 0, 4, 8, 4, 9, 3, 2, 3, 6, 2, 0, 1, 1, 6, 2, 5, 3, 0, 4, 3, 5, 8, 6, 9, 7, 8, 8, 3, 9, 0, 0, 3, 1, 4, 2, 5, 3, 9, 4, 5, 5, 5, 6, 0, 7, 1, 8, 0, 9, 3, 0, 5, 1, 2, 2, 3, 3, 1, 4, 3, 5, 8, 6, 0, 7, 8, 8, 2, 9, 1, 7, 5, 0, 0, 6, 1, 0, 9, 7, 7, 3, 1, 8, 3, 7, 5, 1, 2, 3, 7, 7, 3, 9, 3, 7, 7, 4, 3, 0, 7, 2, 7, 5, 9, 0, 9, 6, 4, 4, 0, 9, 7, 8, 8, 5, 1, 1, 5, 5, 1, 3, 6, 3, 1, 4, 5, 0, 9, 5, 8, 4, 3, 8, 9, 6, 4, 3, 6, 4, 5, 8, 5, 0, 0, 6, 7, 4, 6, 8, 5, 3, 4, 4, 0, 0, 9, 1, 7, 9, 7, 2, 8, 7, 0, 9, 2, 1, 8, 2, 4, 5, 2, 1, 2, 7, 5, 2, 9, 8, 5, 7, 9, 0, 7, 1, 4, 9, 7, 6, 3, 4, 1, 9, 2, 2, 0, 1, 2, 2, 0, 3, 1, 7, 5, 0, 4, 2, 7, 1, 9, 3, 0, 1, 6, 2, 2, 5, 1, 8, 3, 1, 4, 6, 2, 8, 6, 5, 2, 6, 4, 0, 8, 8, 8, 9, 3, 4, 0, 9, 7, 2, 9, 0, 8, 1, 0, 2, 9, 3, 8, 4, 8, 5, 0, 8, 7, 9, 2, 0, 5, 1, 0, 2, 9, 3, 2, 4, 8, 5, 1, 6, 8, 7, 3, 8, 6, 9, 9, 0, 3, 1, 9, 2, 4, 3, 0, 4, 2, 5, 5, 8, 1, 5, 5, 2, 2, 1, 9, 7, 6, 2, 1, 4, 6, 1, 0, 4, 6, 1, 6, 4, 5, 9, 6, 6, 8, 8, 6, 4, 1, 5, 5, 3, 8, 7, 4, 8, 1, 4, 6, 3, 6, 3, 7, 5, 4, 0, 6, 6, 7, 1, 6, 6, 5, 8, 8, 7, 0, 0, 0, 1, 1, 5, 8, 6, 4, 0, 0, 8, 2, 5, 2, 0, 3, 6, 1, 1, 7, 5, 5, 8, 1, 4, 0, 7, 4, 6, 3, 9, 8, 1, 5, 9, 7, 7, 6, 1, 7, 2, 6, 3, 3, 4, 2, 5, 2, 5, 1, 3, 3, 7, 1, 3, 0, 1, 9, 8, 3, 2, 5, 2, 8, 3, 4, 2, 0, 7, 9, 4, 2, 9, 8, 9, 4, 2, 7, 8, 7, 1, 9, 8, 4, 3, 8, 8, 2, 3, 5, 6, 2, 7, 2, 0, 9, 4, 3, 0, 3, 0, 7, 1, 7, 2, 5, 3, 2, 4, 8, 5, 8, 6, 7, 7, 2, 8, 9, 9, 2, 0, 0, 1, 9, 2, 9, 3, 2, 4, 9, 5, 7, 6, 8, 7, 5, 8, 5, 9, 5, 0, 3, 1, 1, 2, 0, 3, 6, 4, 5, 5, 6, 6, 5, 7, 9, 8, 5, 9, 1, 1, 8, 8, 7, 6, 7, 7, 7, 1, 9, 1, 5, 4, 2, 3, 0, 7, 9, 9, 0, 3, 6, 6, 2, 0, 2, 3, 9, 6, 6, 4, 0, 8, 7, 6, 3, 0, 2, 1, 0, 1, 1, 5, 9, 9, 3, 4, 6, 3, 1, 0, 2, 4, 1, 6, 4, 9, 4, 1, 5, 7, 1, 9, 0, 5, 9, 1, 6, 1, 4, 9, 8, 8, 0, 6, 1, 6, 6, 9, 7, 8, 6, 8, 7, 8, 7, 2, 0, 7, 7, 4, 6, 5, 9, 8, 7, 3, 8, 5, 6, 4, 6, 7, 3, 6, 7, 5, 9, 2, 2, 2, 8, 2, 8, 7, 5, 7, 3, 1, 9, 0, 7, 1, 6, 2, 1, 3, 4, 4, 1, 5, 7, 6, 3, 7, 0, 8, 5, 9, 1, 0, 0, 1, 6, 2, 6, 3, 3, 4, 6, 5, 3, 6, 7, 7, 0, 8, 3, 9, 4, 0, 3, 1, 1, 2, 5, 3, 1, 4, 0, 5, 3, 6, 2, 7, 3, 8, 2, 9, 0, 3, 8, 2, 7, 9, 0, 3, 3, 2, 7, 1, 4, 4, 3, 5, 7, 5, 2, 2, 8, 3, 0, 2, 7, 1, 7, 3, 8, 9, 4, 7, 7, 2, 0, 1, 7, 1, 0, 8, 8, 8, 1, 7, 9, 8, 8, 1, 2, 0, 4, 0, 9, 6, 9, 7, 0, 7, 4, 5, 4, 0, 3, 6, 9, 1, 7, 1, 9, 2, 3, 5, 5, 0, 9, 7, 0, 0, 4, 4, 1, 4, 5, 1, 0, 8, 3, 6, 4, 0, 8, 0, 1, 0, 7, 3, 2, 7, 6, 1, 7, 6, 7, 4, 5, 2, 7, 6, 4, 4, 8, 5, 7, 4, 9, 1, 7, 3, 5, 8, 7, 6, 2, 3, 3, 9, 8, 9, 6, 5, 4, 9, 2, 3, 7, 7, 8, 8, 3, 5, 0, 6, 1, 4, 1, 7, 4, 6, 3, 2, 2, 2, 1, 0, 0, 9, 5, 4, 7, 0, 8, 1, 5, 2, 9, 3, 8, 4, 1, 5, 7, 6, 9, 7, 3, 8, 5, 9, 4, 0, 0, 1, 0, 2, 6, 3, 3, 4, 9, 5, 8, 6, 8, 7, 7, 8, 8, 9, 7, 0, 9, 1, 4, 2, 8, 3, 7, 4, 5, 5, 7, 6, 7, 7, 4, 8, 8, 9, 0, 1, 1, 8, 1, 6, 9, 7, 9, 1, 3, 1, 7, 4, 9, 3, 4, 7, 7, 7, 1, 8, 8, 9, 0, 3, 2, 6, 2, 0, 2, 3, 8, 6, 6, 4, 3, 8, 8, 4, 0, 5, 0, 7, 3, 5, 6, 6, 5, 0, 7, 3, 2, 9, 9, 2, 8, 8, 8, 3, 6, 1, 9, 1, 1, 5, 1, 9, 5, 4, 2, 3, 5, 0, 3, 4, 2, 4, 4, 0, 8, 9, 3, 6, 4, 9, 8, 2, 3, 2, 6, 1, 5, 7, 9, 9, 7, 5, 9, 1, 0, 1, 4, 9, 0, 8, 7, 6, 7, 6, 5, 9, 5, 0, 7, 0, 8, 0, 7, 1, 7, 8, 0, 4, 6, 6, 4, 8, 0, 8, 9, 2, 9, 6, 2, 3, 7, 2, 8, 4, 8, 0, 4, 9, 8, 0, 3, 3, 9, 7, 0, 4, 4, 5, 2, 8, 5, 3, 7, 5, 7, 8, 0, 5, 4, 4, 0, 7, 6, 6, 2, 2, 7, 2, 4, 7, 5, 7, 5, 0, 5, 5, 4, 1, 6, 5, 1, 3, 4, 0, 3, 1, 6, 2, 5, 3, 4, 4, 7, 5, 6, 6, 3, 7, 1, 8, 5, 9, 8, 0, 4, 1, 2, 2, 6, 3, 6, 4, 0, 5, 6, 6, 6, 7, 6, 8, 8, 9, 8, 0, 5, 1, 2, 2, 7, 3, 0, 4, 8, 5, 1, 6, 3, 7, 9, 8, 1, 5, 0, 2, 1, 8, 6, 1, 8, 7, 9, 2, 5, 4, 6, 1, 2, 4, 8, 1, 7, 4, 4, 9, 6, 6, 2, 8, 7, 5, 3, 3, 0, 7, 0, 8, 1, 3, 9, 3, 9, 5, 3, 6, 6, 7, 0, 0, 6, 6, 4, 1, 8, 6, 3, 8, 8, 7, 0, 0, 5, 1, 5, 5, 7, 6, 5, 0, 7, 8, 7, 5, 8, 0, 2, 6, 6, 1, 8, 5, 9, 8, 6, 4, 9, 2, 6, 3, 0, 9, 3, 7, 5, 6, 7, 9, 6, 1, 2, 9, 7, 0, 3, 6, 3, 7, 6, 1, 1, 2, 2, 3, 1, 9, 0, 2, 1, 4, 2, 5, 9, 5, 1, 3, 1, 7, 7, 5, 7, 3, 5, 1, 1, 8, 1, 2, 7, 2, 6, 3, 5, 0, 9, 2, 8, 9, 3, 4, 2, 9, 9, 7, 9, 0, 7, 0, 8, 2, 9, 7, 9, 4, 1, 9, 6, 9, 0, 2, 4, 8, 6, 1, 4, 5, 1, 6, 2, 9, 5, 8, 8, 3, 2, 8, 3, 3, 0, 6, 6, 7, 4, 0, 6, 4, 5, 0, 6, 0, 2, 1, 9, 2, 7, 3, 7, 4, 0, 5, 3, 6, 2, 7, 9, 8, 5, 9, 2, 0, 7, 1, 4, 2, 9, 3, 8, 4, 2, 5, 2, 6, 6, 7, 6, 8, 1, 9, 8, 0, 8, 1, 1, 2, 5, 3, 6, 4, 4, 5, 0, 6, 2, 7, 4, 0, 3, 6, 9, 4, 6, 7, 5, 4, 4, 3, 6, 6, 2, 2, 6, 3, 2, 4, 7, 8, 3, 7, 9, 8, 1, 6, 4, 9, 1, 8, 9, 3, 5, 2, 8, 2, 4, 4, 1, 8, 2, 5, 6, 6, 9, 5, 8, 0, 6, 2, 5, 0, 2, 1, 5, 1, 1, 2, 5, 6, 8, 8, 2, 1, 1, 2, 7, 0, 8, 6, 3, 9, 0, 3, 2, 9, 5, 3, 5, 7, 7, 1, 3, 8, 9, 3, 1, 8, 0, 5, 3, 0, 6, 1, 4, 1, 2, 9, 1, 8, 2, 2, 6, 0, 3, 4, 5, 5, 5, 5, 9, 0, 3, 3, 5, 1, 7, 8, 6, 6, 7, 9, 2, 0, 2, 3, 9, 1, 4, 0, 3, 4, 0, 7, 4, 5, 5, 4, 0, 7, 0, 9, 0, 7, 8, 0, 7, 1, 0, 2, 1, 3, 4, 7, 9, 8, 9, 9, 5, 0, 8, 1, 3, 2, 8, 3, 5, 4, 5, 5, 7, 6, 7, 7, 4, 8, 7, 9, 8, 0, 0, 1, 4, 2, 2, 3, 6, 4, 5, 5, 1, 6, 8, 7, 8, 8, 1, 0, 2, 7, 5, 5, 1, 0, 3, 8, 0, 4, 4, 1, 3, 8, 2, 8, 1, 1, 4, 3, 8, 1, 8, 8, 1, 3, 9, 7, 6, 9, 7, 3, 7, 0, 3, 9, 6, 4, 2, 4, 6, 0, 4, 7, 5, 4, 9, 2, 1, 8, 3, 7, 1, 2, 9, 4, 3, 7, 9, 8, 4, 9, 3, 3, 8, 1, 5, 4, 1, 6, 8, 5, 9, 2, 7, 2, 0, 2, 4, 5, 8, 6, 4, 7, 8, 8, 3, 7, 5, 5, 7, 1, 2, 6, 0, 4, 0, 9, 9, 2, 7, 9, 2, 3, 7, 5, 5, 3, 0, 6, 5, 6, 7, 0, 3, 0, 6, 2, 1, 5, 6, 6, 2, 4, 7, 9, 7, 2, 8, 7, 3, 4, 2, 9, 9, 5, 1, 0, 3, 2, 4, 2, 5, 3, 0, 6, 9, 1, 1, 8, 9, 3, 0, 8, 3, 0, 5, 3, 1, 5, 8, 0, 1, 0, 0, 6, 8, 1, 7, 6, 6, 9, 1, 5, 1, 3, 9, 9, 6, 4, 0, 5, 6, 8, 2, 6, 8, 7, 8, 1, 4, 1, 6, 7, 1, 0, 8, 1, 1, 2, 1, 3, 5, 4, 1, 7, 8, 8, 7, 9, 9, 0, 3, 1, 3, 2, 6, 3, 6, 4, 3, 0, 5, 1, 5, 2, 7, 3, 4, 7, 0, 8, 3, 9, 2, 1, 1, 5, 5, 9, 7, 6, 0, 9, 4, 3, 0, 5, 2, 0, 3, 0, 1, 7, 9, 9, 4, 6, 2, 1, 2, 6, 7, 7, 9, 7, 6, 9, 2, 2, 0, 4, 6, 8, 4, 8, 3, 0, 7, 6, 3, 4, 7, 1, 3, 2, 5, 8, 5, 7, 1, 1, 7, 1, 7, 0, 9, 7, 0, 6, 9, 0, 2, 1, 2, 2, 5, 3, 5, 4, 6, 5, 7, 6, 6, 7, 4, 8, 0, 9, 0, 1, 6, 2, 2, 3, 5, 4, 6, 5, 9, 6, 7, 7, 8, 8, 1, 0, 4, 1, 2, 2, 0, 3, 0, 4, 9, 5, 9, 6, 1, 7, 9, 8, 0, 9, 3, 8, 2, 4, 1, 0, 4, 0, 1, 7, 8, 2, 3, 6, 1, 5, 7, 5, 9, 3, 4, 7, 1, 6, 5, 6, 5, 4, 1, 3, 9, 2, 3, 6, 4, 6, 0, 4, 1, 4, 8, 3, 6, 8, 5, 8, 9, 3, 0, 0, 8, 1, 8, 4, 0, 5, 8, 6, 3, 4, 3, 7, 7, 8, 9, 0, 8, 3, 4, 1, 5, 9, 0, 0, 5, 9, 2, 1, 0, 2, 0, 7, 7, 0, 9, 1, 5, 3, 9, 8, 7, 2, 5, 9, 1, 2, 0, 7, 6, 7, 9, 9, 1, 4, 4, 2, 4, 5, 4, 8, 3, 6, 8, 5, 0, 9, 9, 9, 2, 1, 1, 1, 1, 7, 5, 6, 2, 9, 1, 1, 2, 3, 9, 2, 6, 3, 1, 4, 3, 3, 6, 1, 1, 9, 4, 3, 3, 6, 5, 8, 8, 7, 1, 0, 3, 1, 0, 0, 8, 5, 2, 8, 4, 2, 3, 7, 9, 7, 2, 0, 2, 1, 6, 2, 4, 3, 1, 4, 1, 5, 6, 6, 2, 7, 4, 8, 6, 9, 0, 0, 8, 1, 3, 2, 6, 3, 7, 4, 0, 5, 2, 6, 4, 7, 1, 8, 3, 9, 4, 0, 1, 1, 5, 2, 1, 3, 2, 4, 5, 5, 7, 6, 9, 7, 3, 8, 7, 9, 8, 8, 0, 7, 6, 4, 5, 7, 3, 7, 9, 3, 7, 9, 6, 8, 7, 8, 7, 3, 2, 1, 7, 5, 1, 8, 6, 2, 8, 7, 1, 4, 9, 2, 6, 6, 6, 1, 9, 5, 0, 5, 9, 8, 2, 6, 6, 4, 6, 4, 6, 4, 0, 1, 4, 8, 7, 7, 0, 5, 7, 5, 1, 1, 4, 8, 6, 9, 8, 1, 9, 3, 5, 6, 6, 3, 6, 3, 9, 2, 2, 2, 2, 6, 1, 9, 0, 9, 9, 6, 0, 5, 6, 5, 1, 3, 4, 3, 4, 8, 7, 1, 9, 6, 4, 8, 2, 1, 9, 9, 6, 7, 4, 6, 2, 8, 6, 3, 1, 7, 7, 4, 3, 7, 8, 0, 7, 9, 0, 0, 6, 0, 4, 3, 2, 7, 4, 9, 7, 3, 5, 0, 5, 2, 8, 0, 1, 1, 1, 0, 9, 1, 6, 0, 1, 4, 1, 0, 6, 1, 0, 0, 2, 4, 8, 7, 2, 9, 3, 2, 9, 0, 6, 6, 4, 2, 7, 6, 9, 2, 1, 2, 5, 9, 4, 9, 1, 0, 2, 1, 4, 2, 2, 3, 8, 4, 3, 5, 7, 6, 1, 7, 7, 8, 9, 0, 6, 1, 3, 2, 6, 3, 7, 4, 4, 5, 2, 6, 5, 7, 6, 8, 3, 0, 3, 1, 2, 2, 0, 3, 0, 8, 3, 7, 3, 4, 4, 7, 5, 7, 4, 9, 1, 8, 9, 3, 9, 1, 0, 5, 9, 8, 0, 4, 8, 2, 6, 6, 2, 4, 0, 4, 7, 1, 7, 8, 4, 7, 7, 5, 1, 5, 3, 1, 6, 9, 7, 1, 8, 3, 4, 6, 7, 3, 7, 3, 6, 2, 4, 2, 1, 6, 7, 9, 2, 9, 8, 6, 0, 5, 6, 5, 9, 3, 9, 3, 2, 8, 5, 1, 5, 7, 1, 6, 2, 8, 2, 3, 7, 7, 6, 4, 3, 7, 5, 0, 3, 9, 2, 0, 5, 0, 9, 2, 2, 7, 0, 9, 6, 1, 8, 0, 3, 1, 2, 0, 9, 4, 3, 0, 3, 1, 6, 0, 1, 4, 7, 7, 5, 9, 3, 2, 8, 0, 0, 6, 2, 2, 0, 6, 4, 2, 2, 2, 7, 9, 6, 9, 9, 0, 8, 1, 1, 2, 4, 3, 1, 4, 6, 5, 6, 6, 8, 7, 8, 8, 3, 0, 7, 1, 1, 2, 5, 3, 1, 4, 2, 5, 4, 6, 1, 7, 6, 8, 1, 9, 8, 0, 7, 1, 1, 2, 8, 3, 8, 4, 2, 5, 5, 6, 2, 7, 8, 8, 5, 9, 3, 8, 1, 3, 6, 4, 9, 7, 6, 8, 5, 6, 1, 3, 6, 4, 4, 0, 3, 9, 3, 7, 7, 1, 0, 9, 0, 3, 8, 8, 0, 4, 3, 7, 2, 3, 3, 0, 2, 9, 8, 4, 6, 5, 9, 4, 8, 6, 7, 2, 8, 0, 2, 6, 4, 2, 7, 1, 5, 1, 7, 1, 3, 1, 8, 7, 5, 2, 3, 4, 3, 2, 6, 9, 0, 4, 8, 5, 2, 8, 1, 4, 6, 2, 4, 9, 1, 7, 7, 0, 3, 0, 4, 7, 7, 5, 5, 1, 8, 7, 1, 6, 8, 6, 2, 6, 9, 8, 1, 2, 0, 5, 1, 2, 1, 2, 9, 7, 9, 7, 5, 4, 2, 0, 8, 2, 0, 4, 4, 2, 2, 3, 8, 3, 0, 3, 1, 1, 3, 8, 9, 9, 5, 6, 3, 1, 5, 0, 4, 5, 5, 9, 2, 6, 1, 9, 7, 8, 4, 5, 8, 8, 7, 5, 6, 5, 9, 8, 2, 0, 7, 3, 2, 0, 4, 8, 1, 6, 8, 3, 3, 0, 5, 1, 2, 2, 8, 3, 8, 4, 7, 6, 5, 7, 1, 8, 5, 0, 7, 1, 3, 2, 6, 3, 3, 4, 8, 6, 8, 7, 5, 8, 0, 0, 0, 1, 5, 2, 5, 3, 0, 4, 9, 6, 8, 7, 4, 8, 2, 8, 4, 1, 3, 7, 2, 2, 1, 4, 9, 1, 4, 4, 9, 1, 6, 4, 8, 9, 5, 6, 9, 8, 3, 4, 3, 7, 1, 8, 1, 4, 7, 3, 9, 3, 1, 6, 8, 7, 5, 0, 0, 6, 1, 1, 1, 6, 1, 8, 3, 7, 8, 0, 8, 1, 7, 0, 9, 8, 4, 5, 1, 0, 9, 6, 6, 1, 5, 5, 9, 8, 9, 4, 1, 2, 8, 3, 7, 9, 0, 7, 7, 6, 9, 9, 2, 0, 6, 6, 4, 3, 2, 3, 4, 7, 6, 5, 6, 3, 7, 1, 7, 8, 8, 2, 9, 2, 8, 3, 7, 0, 5, 2, 3, 9, 8, 4, 9, 9, 3, 7, 4, 0, 0, 0, 7, 2, 4, 7, 3, 4, 2, 9, 2, 9, 5, 2, 0, 8, 5, 1, 7, 5, 9, 6, 4, 9, 9, 8, 3, 3, 2, 8, 8, 3, 4, 6, 0, 7, 5, 0, 8, 4, 5, 0, 0, 0, 4, 1, 7, 2, 1, 3, 5, 4, 1, 5, 1, 6, 8, 7, 1, 8, 5, 9, 6, 0, 6, 1, 2, 2, 9, 3, 1, 4, 0, 5, 1, 6, 3, 7, 7, 8, 6, 9, 7, 0, 2, 1, 9, 2, 0, 3, 4, 4, 1, 9, 0, 1, 5, 0, 0, 0, 5, 3, 3, 6, 0, 1, 4, 4, 4, 3, 2, 2, 7, 9, 9, 1, 7, 2, 3, 1, 3, 2, 4, 9, 0, 0, 3, 1, 4, 3, 9, 0, 2, 6, 2, 2, 7, 9, 1, 1, 9, 9, 6, 0, 8, 0, 3, 0, 0, 1, 6, 0, 5, 1, 5, 4, 3, 5, 5, 7, 6, 8, 7, 3, 8, 4, 6, 7, 0, 1, 4, 1, 5, 0, 2, 7, 0, 5, 2, 9, 1, 9, 9, 4, 8, 7, 9, 5, 0, 8, 4, 3, 1, 4, 4, 4, 4, 3, 0, 2, 9, 3, 4, 4, 0, 5, 8, 6, 8, 7, 5, 1, 1, 0, 5, 1, 6, 2, 3, 3, 4, 4, 7, 5, 3, 6, 3, 7, 1, 8, 8, 0, 3, 1, 7, 2, 4, 3, 2, 4, 9, 5, 1, 6, 2, 7, 0, 0, 2, 9, 8, 5, 8, 0, 7, 9, 2, 8, 3, 9, 6, 8, 1, 4, 8, 1, 2, 7, 0, 7, 6, 3, 4, 5, 9, 1, 9, 0, 6, 0, 0, 0, 5, 1, 6, 2, 3, 6, 9, 3, 4, 3, 7, 7, 9, 4, 5, 6, 3, 6, 8, 6, 3, 4, 3, 9, 0, 1, 4, 9, 3, 5, 5, 8, 3, 2, 5, 0, 8, 0, 4, 1, 6, 7, 8, 6, 4, 3, 3, 2, 3, 1, 6, 7, 5, 3, 9, 1, 1, 3, 4, 9, 5, 1, 7, 7, 4, 6, 1, 8, 6, 4, 2, 3, 1, 1, 7, 4, 7, 0, 9, 5, 4, 3, 5, 6, 4, 9, 7, 6, 5, 1, 2, 7, 3, 4, 0, 4, 5, 7, 8, 2, 5, 2, 8, 5, 5, 7, 2, 9, 6, 5, 8, 4, 2, 8, 6, 8, 4, 4, 2, 0, 2, 8, 8, 9, 1, 8, 1, 0, 7, 1, 2, 2, 0, 3, 8, 4, 4, 5, 9, 6, 0, 7, 9, 8, 9, 9, 0, 0, 8, 1, 3, 2, 5, 3, 2, 4, 7, 5, 5, 6, 9, 7, 9, 8, 7, 9, 3, 0, 6, 1, 2, 2, 4, 3, 3, 4, 1, 5, 3, 6, 5, 7, 2, 8, 3, 9, 3, 7, 1, 2, 8, 9, 8, 4, 5, 2, 0, 9, 9, 8, 4, 4, 3, 5, 2, 8, 2, 8, 1, 0, 2, 3, 1, 5, 9, 4, 6, 3, 8, 3, 3, 5, 4, 1, 2, 7, 9, 8, 7, 4, 4, 5, 7, 7, 2, 2, 8, 6, 4, 6, 9, 7, 1, 7, 8, 7, 9, 0, 8, 1, 0, 0, 2, 1, 1, 6, 5, 5, 5, 5, 6, 2, 0, 9, 5, 3, 1, 1, 8, 4, 4, 8, 9, 8, 5, 7, 0, 3, 1, 8, 6, 2, 4, 9, 5, 1, 1, 2, 5, 6, 6, 5, 6, 9, 7, 1, 4, 2, 7, 2, 3, 7, 6, 9, 1, 7, 5, 9, 3, 9, 8, 1, 4, 0, 7, 9, 8, 7, 4, 0, 7, 5, 8, 0, 2, 3, 8, 8, 7, 4, 9, 6, 1, 1, 8, 4, 3, 3, 2, 6, 2, 2, 0, 0, 9, 4, 2, 8, 7, 1, 4, 3, 2, 1, 6, 0, 0, 9, 1, 0, 4, 1, 6, 2, 4, 3, 1, 4, 8, 5, 1, 6, 2, 7, 4, 8, 4, 9, 0, 0, 6, 1, 5, 2, 5, 3, 0, 4, 2, 5, 0, 6, 1, 7, 0, 8, 0, 9, 0, 0, 3, 1, 0, 2, 5, 3, 7, 4, 5, 5, 9, 6, 9, 9, 8, 8, 3, 4, 7, 0, 3, 0, 3, 7, 7, 2, 9, 4, 1, 2, 5, 6, 8, 5, 2, 5, 4, 3, 9, 7, 5, 8, 1, 6, 0, 6, 2, 4, 7, 3, 4, 2, 4, 6, 5, 6, 0, 3, 8, 8, 9, 8, 5, 3, 5, 0, 0, 1, 8, 4, 3, 4, 0, 7, 0, 3, 3, 5, 3, 4, 6, 1, 3, 9, 7, 1, 5, 2, 9, 1, 3, 3, 8, 9, 6, 2, 8, 7, 9, 7, 9, 9, 8, 4, 4, 2, 5, 5, 4, 8, 9, 6, 9, 5, 2, 5, 8, 9, 8, 9, 2, 1, 3, 1, 3, 5, 9, 7, 7, 6, 6, 9, 1, 1, 7, 3, 3, 2, 9, 3, 2, 1, 0, 9, 8, 0, 3, 9, 6, 1, 3, 0, 2, 5, 5, 8, 1, 2, 7, 7, 9, 7, 7, 0, 0, 1, 0, 2, 7, 3, 0, 4, 2, 5, 4, 6, 7, 7, 4, 8, 7, 9, 8, 0, 5, 1, 6, 2, 3, 3, 2, 4, 4, 5, 8, 6, 2, 7, 8, 8, 9, 9, 3, 0, 5, 1, 9, 2, 9, 3, 7, 4, 6, 5, 7, 6, 9, 7, 4, 8, 4, 5, 2, 2, 8, 8, 1, 1, 9, 7, 2, 2, 9, 4, 6, 1, 3, 4, 7, 1, 8, 4, 8, 9, 1, 6, 5, 8, 7, 4, 6, 5, 8, 3, 8, 7, 7, 8, 6, 4, 8, 3, 6, 3, 5, 5, 6, 6, 6, 7, 3, 0, 1, 6, 7, 1, 0, 6, 8, 8, 7, 7, 2, 0, 9, 1, 6, 5, 8, 6, 3, 0, 5, 8, 0, 5, 4, 0, 1, 6, 2, 1, 2, 5, 3, 8, 9, 4, 5, 2, 3, 3, 3, 9, 6, 7, 1, 6, 7, 9, 3, 1, 5, 9, 2, 0, 4, 6, 9, 7, 8, 1, 3, 2, 0, 3, 7, 9, 4, 2, 7, 4, 8, 5, 5, 5, 0, 3, 2, 7, 6, 5, 0, 3, 2, 1, 4, 8, 3, 2, 6, 2, 9, 3, 5, 0, 3, 2, 2, 9, 8, 4, 1, 9, 9, 0, 2, 2, 6, 7, 2, 4, 0, 9, 3, 9, 4, 2, 2, 8, 0, 1, 2, 5, 6, 6, 9, 9, 8, 8, 2, 3, 1, 8, 1, 3, 8, 6, 8, 4, 6, 0, 2, 0, 8, 1, 0, 2, 0, 3, 4, 4, 6, 5, 8, 6, 7, 7, 5, 8, 0, 9, 6, 0, 7, 1, 4, 2, 4, 3, 7, 4, 1, 5, 9, 6, 1, 7, 9, 8, 1, 9, 6, 0, 0, 1, 8, 2, 7, 3, 3, 4, 5, 5, 3, 6, 0, 7, 3, 8, 2, 6, 4, 0, 4, 3, 0, 4, 1, 1, 1, 4, 6, 0, 4, 8, 2, 6, 7, 4, 1, 5, 3, 4, 2, 0, 1, 7, 3, 8, 1, 7, 2, 7, 5, 9, 3, 0, 5, 4, 2, 9, 8, 9, 4, 7, 2, 4, 2, 2, 1, 0, 3, 5, 6, 8, 0, 5, 4, 9, 1, 8, 5, 8, 7, 4, 0, 0, 3, 7, 7, 1, 2, 3, 7, 5, 2, 1, 0, 3, 8, 1, 6, 5, 8, 3, 7, 8, 6, 7, 8, 3, 5, 1, 0, 6, 9, 8, 1, 5, 9, 9, 5, 2, 0, 2, 0, 0, 3, 9, 6, 2, 9, 4, 7, 6, 3, 5, 3, 2, 5, 7, 3, 3, 7, 1, 3, 3, 7, 6, 9, 6, 7, 2, 7, 1, 1, 2, 9, 6, 9, 0, 8, 2, 1, 2, 8, 7, 2, 1, 7, 3, 3, 7, 5, 4, 8, 7, 5, 4, 3, 8, 6, 9, 6, 2, 2, 9, 1, 5, 9, 1, 1, 5, 4, 6, 9, 8, 9, 3, 4, 5, 8, 6, 9, 8, 8, 0, 8, 0, 5, 9, 0, 9, 6, 3, 5, 1, 7, 1, 0, 0, 6, 1, 8, 2, 1, 3, 3, 4, 6, 5, 0, 6, 3, 7, 8, 8, 8, 9, 4, 0, 6, 1, 7, 2, 4, 3, 8, 4, 7, 5, 5, 6, 0, 7, 7, 8, 6, 9, 3, 0, 4, 1, 6, 2, 8, 3, 8, 4, 3, 5, 3, 6, 6, 7, 1, 8, 9, 9, 4, 7, 5, 5, 4, 5, 2, 1, 2, 9, 7, 9, 2, 7, 2, 1, 8, 0, 4, 9, 7, 0, 0, 7, 1, 1, 3, 7, 7, 3, 9, 6, 3, 8, 9, 0, 3, 8, 3, 3, 1, 2, 4, 0, 8, 9, 2, 0, 1, 6, 4, 1, 1, 7, 3, 5, 3, 8, 8, 3, 0, 4, 3, 7, 7, 6, 7, 3, 3, 2, 9, 3, 7, 8, 4, 9, 5, 4, 3, 8, 4, 8, 5, 7, 1, 1, 2, 0, 2, 8, 2, 7, 7, 7, 2, 9, 0, 2, 9, 3, 2, 4, 4, 6, 3, 1, 5, 1, 5, 4, 4, 5, 3, 5, 3, 0, 1, 4, 1, 8, 6, 7, 2, 4, 7, 9, 2, 2, 2, 3, 3, 6, 0, 4, 6, 1, 0, 2, 2, 4, 0, 1, 0, 5, 0, 4, 4, 2, 1, 0, 7, 4, 6, 8, 0, 6, 1, 1, 4, 9, 5, 3, 6, 2, 0, 0, 2, 0, 0, 2, 2, 5, 2, 6, 8, 9, 0, 3, 8, 6, 2, 3, 9, 6, 4, 0, 2, 1, 3, 2, 3, 3, 9, 4, 5, 7, 1, 0, 2, 3, 5, 4, 8, 7, 1, 0, 9, 1, 1, 2, 4, 3, 5, 4, 7, 5, 8, 6, 1, 7, 3, 8, 7, 7, 3, 2, 2, 4, 8, 1, 3, 4, 0, 1, 5, 4, 5, 9, 4, 6, 2, 8, 3, 4, 7, 5, 5, 3, 8, 7, 4, 8, 8, 4, 0, 6, 2, 7, 8, 0, 5, 6, 3, 1, 5, 6, 5, 8, 4, 7, 5, 0, 7, 0, 0, 0, 9, 6, 1, 1, 6, 5, 8, 2, 3, 3, 8, 9, 2, 7, 8, 6, 4, 9, 9, 1, 7, 9, 7, 0, 1, 6, 5, 7, 3, 2, 1, 5, 3, 3, 2, 1, 0, 2, 0, 3, 9, 0, 8, 2, 5, 9, 8, 4, 4, 9, 6, 7, 3, 0, 4, 0, 1, 2, 8, 7, 4, 4, 0, 9, 3, 9, 5, 2, 6, 9, 1, 8, 6, 3, 6, 6, 8, 7, 8, 0, 4, 4, 8, 0, 3, 0, 0, 1, 2, 2, 7, 3, 1, 4, 3, 6, 2, 7, 5, 8, 2, 0, 1, 1, 0, 2, 3, 3, 7, 4, 3, 5, 0, 6, 5, 7, 5, 8, 3, 9, 9, 0, 6, 1, 9, 2, 2, 3, 9, 4, 4, 5, 5, 6, 7, 7, 1, 8, 7, 1, 7, 4, 7, 4, 7, 2, 7, 3, 9, 3, 7, 0, 6, 9, 4, 5, 2, 4, 9, 3, 3, 0, 3, 8, 5, 4, 0, 6, 6, 7, 9, 0, 3, 7, 8, 7, 9, 1, 8, 6, 4, 9, 9, 1, 8, 2, 0, 9, 8, 3, 6, 6, 4, 2, 6, 3, 1, 4, 1, 6, 3, 8, 8, 7, 5, 2, 1, 3, 0, 8, 6, 1, 8, 2, 2, 9, 4, 5, 6, 8, 5, 8, 6, 7, 6, 1, 2, 7, 2, 1, 7, 1, 2, 0, 4, 3, 7, 4, 8, 2, 5, 6, 2, 4, 2, 7, 3, 4, 8, 2, 3, 7, 6, 4, 3, 2, 9, 9, 2, 2, 5, 7, 4, 9, 5, 2, 7, 8, 5, 6, 1, 1, 7, 0, 8, 6, 2, 8, 1, 5, 9, 5, 6, 0, 2, 5, 6, 3, 1, 5, 8, 9, 1, 7, 7, 4, 9, 8, 0, 9, 7, 6, 0, 9, 5, 3, 8, 0, 6, 0, 0, 6, 8, 3, 4, 0, 5, 5, 1, 8, 8, 9, 7, 1, 8, 8, 7, 1, 8, 6, 6, 0, 7, 0, 0, 1, 4, 2, 4, 3, 8, 4, 1, 5, 0, 6, 0, 7, 3, 8, 4, 9, 9, 0, 5, 1, 2, 3, 0, 4, 2, 5, 1, 6, 2, 7, 1, 8, 3, 9, 6, 0, 2, 1, 4, 2, 4, 3, 5, 4, 1, 5, 2, 6, 4, 7, 8, 8, 4, 9, 3, 1, 3, 4, 1, 4, 4, 3, 5, 3, 7, 0, 7, 9, 0, 5, 6, 4, 2, 3, 0, 0, 5, 8, 1, 4, 2, 0, 6, 7, 9, 7, 0, 6, 8, 9, 9, 1, 6, 2, 7, 9, 5, 3, 3, 6, 1, 2, 6, 3, 7, 4, 1, 6, 5, 5, 6, 2, 8, 3, 5, 8, 5, 1, 0, 2, 0, 9, 0, 5, 2, 8, 9, 8, 0, 7, 0, 1, 1, 7, 5, 1, 4, 1, 4, 3, 6, 4, 7, 4, 4, 7, 7, 4, 5, 2, 8, 7, 3, 2, 5, 9, 8, 2, 8, 7, 3, 9, 5, 2, 7, 8, 7, 6, 7, 1, 5, 8, 7, 5, 9, 5, 6, 0, 6, 5, 5, 3, 8, 5, 9, 9, 7, 7, 9, 4, 3, 8, 3, 9, 3, 6, 7, 9, 1, 0, 7, 0, 3, 6, 0, 3, 7, 0, 3, 5, 4, 8, 7, 9, 7, 1, 9, 8, 5, 1, 1, 0, 1, 0, 2, 1, 5, 2, 2, 3, 9, 4, 6, 5, 7, 6, 4, 7, 7, 8, 6, 0, 4, 1, 1, 2, 2, 3, 2, 4, 8, 5, 4, 6, 8, 7, 6, 8, 4, 9, 2, 0, 2, 1, 7, 2, 4, 3, 3, 4, 3, 6, 4, 7, 5, 8, 0, 8, 6, 2, 7, 6, 7, 9, 4, 6, 3, 1, 9, 9, 9, 9, 5, 9, 1, 4, 0, 4, 8, 3, 3, 8, 0, 1, 6, 4, 8, 1, 0, 2, 6, 5, 3, 0, 1, 9, 1, 4, 4, 9, 9, 1, 5, 7, 8, 4, 8, 4, 7, 1, 8, 8, 9, 7, 8, 6, 6, 0, 8, 8, 8, 1, 0, 8, 0, 2, 6, 6, 3, 2, 4, 0, 8, 9, 1, 1, 9, 2, 6, 5, 3, 4, 9, 5, 1, 6, 0, 7, 9, 3, 8, 0, 9, 2, 4, 2, 0, 2, 4, 7, 6, 5, 2, 0, 0, 3, 0, 5, 7, 2, 6, 1, 5, 4, 8, 4, 4, 3, 2, 0, 0, 0, 0, 8, 4, 5, 1, 4, 3, 7, 4, 9, 2, 7, 3, 8, 8, 8, 3, 7, 7, 9, 9, 6, 2, 3, 8, 1, 5, 7, 1, 9, 5, 6, 1, 3, 1, 3, 5, 1, 6, 0, 5, 2, 7, 6, 3, 0, 5, 5, 9, 6, 3, 8, 5, 7, 4, 3, 6, 5, 1, 8, 6, 3, 7, 0, 3, 1, 5, 2, 7, 3, 0, 4, 6, 5, 7, 6, 3, 7, 6, 8, 8, 9, 8, 0, 8, 1, 1, 2, 6, 3, 8, 4, 4, 5, 4, 6, 9, 7, 9, 8, 2, 9, 1, 0, 1, 1, 4, 2, 8, 3, 9, 4, 5, 5, 3, 6, 6, 7, 5, 8, 7, 9, 5, 0, 0, 8, 2, 7, 4, 8, 4, 9, 9, 9, 2, 0, 5, 1, 6, 4, 0, 5, 6, 1, 7, 6, 4, 7, 0, 3, 1, 2, 9, 9, 2, 0, 5, 5, 0, 6, 7, 7, 3, 3, 1, 9, 7, 9, 9, 3, 8, 8, 7, 1, 9, 2, 3, 9, 4, 6, 2, 7, 3, 5, 3, 6, 8, 3, 1, 5, 4, 0, 3, 5, 3, 4, 5, 0, 8, 3, 7, 4, 9, 7, 5, 7, 1, 9, 0, 4, 0, 3, 5, 7, 7, 6, 4, 2, 6, 1, 5, 5, 6, 5, 2, 0, 5, 5, 5, 0, 2, 6, 3, 7, 7, 0, 7, 2, 1, 9, 0, 3, 4, 4, 3, 4, 7, 8, 4, 1, 3, 2, 7, 2, 6, 3, 9, 1, 8, 3, 6, 6, 4, 7, 8, 3, 4, 9, 2, 6, 2, 5, 4, 1, 6, 9, 5, 8, 3, 1, 3, 1, 4, 5, 3, 0, 8, 2, 9, 7, 2, 8, 3, 6, 4, 6, 9, 8, 5, 4, 2, 4, 6, 2, 0, 2, 1, 8, 4, 0, 9, 0, 6, 1, 2, 2, 3, 3, 1, 8, 5, 9, 8, 0, 3, 1, 3, 2, 1, 4, 3, 5, 5, 6, 1, 7, 9, 8, 1, 9, 6, 0, 5, 1, 8, 2, 7, 3, 7, 4, 5, 5, 7, 6, 5, 7, 5, 8, 2, 9, 7, 3, 6, 5, 1, 3, 1, 2, 0, 9, 7, 3, 5, 2, 8, 1, 7, 4, 4, 5, 9, 5, 7, 2, 7, 3, 8, 2, 8, 1, 4, 3, 7, 9, 7, 7, 9, 2, 4, 1, 8, 2, 4, 8, 7, 9, 2, 1, 9, 8, 9, 8, 4, 7, 7, 8, 6, 1, 2, 0, 9, 0, 2, 6, 4, 7, 5, 7, 1, 7, 7, 5, 1, 6, 5, 1, 9, 5, 2, 7, 4, 1, 0, 2, 8, 5, 5, 0, 6, 7, 7, 9, 3, 9, 3, 0, 1, 3, 0, 8, 4, 4, 6, 8, 4, 4, 6, 1, 4, 8, 9, 6, 2, 5, 9, 9, 0, 0, 7, 0, 6, 0, 3, 3, 9, 7, 2, 1, 8, 6, 6, 4, 0, 2, 0, 6, 9, 6, 8, 0, 6, 4, 4, 5, 6, 4, 2, 1, 4, 3, 1, 8, 8, 6, 7, 3, 3, 9, 5, 9, 5, 5, 3, 9, 5, 3, 1, 7, 6, 6, 9, 2, 5, 2, 9, 0, 7, 0, 7, 1, 2, 2, 5, 3, 1, 4, 3, 5, 9, 6, 6, 7, 3, 8, 0, 9, 9, 0, 6, 1, 9, 2, 4, 3, 5, 4, 0, 5, 8, 6, 1, 7, 8, 8, 0, 9, 4, 0, 3, 1, 5, 2, 2, 3, 7, 4, 4, 5, 9, 9, 7, 1, 7, 3, 4, 5, 1, 9, 4, 4, 2, 1, 8, 7, 8, 7, 3, 2, 8, 1, 9, 4, 7, 8, 8, 3, 2, 8, 9, 2, 4, 9, 9, 3, 5, 8, 1, 5, 5, 4, 2, 8, 5, 8, 4, 9, 0, 4, 4, 3, 8, 9, 3, 2, 1, 5, 1, 7, 4, 4, 0, 1, 4, 2, 1, 3, 1, 5, 2, 9, 6, 1, 5, 6, 7, 0, 9, 1, 4, 0, 0, 0, 7, 2, 7, 8, 6, 7, 5, 2, 0, 5, 4, 1, 5, 1, 5, 8, 5, 5, 2, 6, 1, 4, 4, 0, 8, 4, 4, 7, 7, 3, 1, 6, 8, 8, 0, 0, 7, 3, 7, 7, 2, 4, 8, 0, 3, 6, 4, 9, 8, 2, 0, 6, 4, 5, 9, 8, 7, 6, 8, 9, 9, 0, 7, 4, 7, 0, 3, 6, 4, 1, 0, 9, 7, 2, 8, 0, 8, 9, 7, 5, 3, 1, 0, 3, 7, 7, 4, 6, 9, 9, 0, 4, 6, 8, 3, 3, 0, 7, 4, 7, 0, 6, 1, 3, 9, 0, 0, 5, 7, 6, 9, 2, 9, 2, 5, 0, 1, 1, 7, 2, 3, 3, 5, 4, 9, 5, 9, 6, 7, 7, 4, 8, 9, 9, 3, 0, 1, 1, 3, 2, 9, 3, 4, 4, 2, 5, 7, 6, 8, 7, 3, 8, 1, 9, 2, 0, 7, 1, 0, 2, 2, 3, 4, 5, 7, 6, 6, 7, 0, 8, 3, 8, 6, 9, 3, 5, 0, 7, 4, 0, 7, 3, 8, 1, 1, 4, 2, 1, 7, 7, 8, 6, 7, 5, 6, 6, 4, 4, 6, 2, 5, 7, 0, 8, 2, 1, 8, 3, 6, 4, 4, 3, 5, 7, 6, 2, 0, 5, 1, 0, 3, 1, 1, 9, 3, 2, 9, 3, 6, 2, 1, 3, 5, 5, 7, 5, 2, 7, 6, 8, 8, 4, 4, 9, 2, 9, 8, 7, 1, 1, 7, 1, 0, 9, 0, 0, 1, 7, 2, 8, 2, 3, 3, 8, 9, 6, 4, 3, 9, 8, 3, 0, 0, 9, 8, 6, 5, 2, 6, 1, 9, 0, 8, 1, 7, 0, 7, 6, 4, 2, 1, 3, 4, 8, 4, 9, 7, 0, 7, 7, 3, 2, 1, 3, 5, 4, 1, 5, 0, 5, 2, 2, 5, 8, 1, 5, 7, 4, 8, 6, 0, 6, 4, 6, 6, 7, 7, 9, 2, 1, 9, 8, 0, 2, 1, 1, 9, 2, 6, 6, 7, 5, 1, 3, 4, 4, 4, 7, 9, 9, 0, 4, 6, 0, 9, 0, 8, 5, 5, 9, 1, 0, 8, 1, 6, 2, 5, 3, 7, 4, 0, 5, 9, 6, 1, 7, 3, 8, 5, 9, 1, 0, 6, 1, 3, 2, 4, 3, 9, 4, 1, 5, 6, 6, 5, 7, 1, 8, 2, 9, 3, 0, 7, 1, 4, 2, 9, 3, 2, 4, 1, 5, 0, 6, 1, 7, 4, 8, 1, 9, 9, 0, 3, 0, 0, 1, 7, 0, 5, 1, 4, 2, 5, 7, 9, 5, 6, 3, 9, 4, 7, 2, 6, 4, 7, 4, 9, 0, 4, 0, 5, 6, 7, 9, 4, 6, 1, 6, 5, 5, 7, 7, 7, 3, 4, 2, 3, 2, 7, 3, 2, 4, 4, 4, 7, 9, 6, 1, 7, 4, 1, 0, 1, 7, 5, 9, 6, 7, 8, 5, 7, 6, 7, 2, 2, 3, 7, 1, 5, 4, 6, 4, 4, 0, 8, 9, 5, 9, 6, 6, 2, 1, 8, 8, 0, 3, 1, 3, 8, 7, 8, 3, 2, 9, 6, 8, 7, 8, 1, 9, 9, 6, 4, 8, 7, 8, 5, 8, 7, 4, 8, 7, 9, 7, 5, 6, 7, 2, 1, 1, 6, 9, 9, 8, 0, 7, 1, 8, 1, 8, 0, 7, 6, 2, 6, 2, 7, 3, 2, 9, 7, 3, 2, 3, 5, 0, 9, 7, 7, 9, 3, 5, 6, 6, 5, 5, 0, 0, 0, 6, 9, 1, 4, 5, 9, 0, 0, 4, 8, 1, 0, 1, 8, 2, 4, 8, 1, 2, 5, 6, 6, 1, 3, 5, 0, 0, 4, 1, 6, 2, 3, 3, 8, 4, 8, 5, 1, 6, 5, 7, 0, 8, 1, 9, 6, 0, 5, 1, 7, 2, 3, 3, 9, 4, 2, 5, 0, 8, 4, 0, 3, 1, 9, 2, 9, 3, 6, 4, 6, 5, 1, 6, 3, 7, 9, 8, 0, 8, 1, 6, 9, 5, 4, 0, 5, 6, 8, 8, 7, 9, 0, 4, 6, 1, 8, 9, 3, 0, 8, 4, 7, 8, 1, 9, 7, 1, 9, 4, 9, 0, 8, 5, 3, 1, 1, 4, 8, 0, 8, 7, 0, 6, 7, 0, 0, 1, 8, 7, 9, 0, 7, 6, 4, 8, 7, 9, 8, 5, 4, 7, 8, 9, 2, 8, 5, 6, 8, 0, 0, 8, 1, 1, 2, 7, 7, 7, 9, 1, 4, 3, 2, 2, 5, 3, 8, 1, 7, 4, 2, 2, 4, 0, 8, 0, 8, 7, 0, 8, 6, 4, 5, 6, 4, 4, 5, 9, 2, 3, 5, 8, 7, 4, 5, 7, 6, 2, 6, 3, 2, 6, 4, 9, 4, 6, 9, 3, 7, 2, 9, 2, 0, 4, 5, 6, 6, 9, 1, 0, 0, 2, 8, 5, 3, 5, 5, 1, 1, 3, 3, 3, 8, 9, 0, 7, 7, 8, 5, 7, 5, 2, 4, 2, 0, 9, 7, 8, 1, 2, 1, 1, 3, 3, 7, 1, 6, 3, 8, 0, 0, 1, 7, 2, 9, 3, 4, 4, 8, 5, 8, 6, 0, 7, 8, 8, 6, 9, 1, 0, 1, 1, 4, 2, 6, 3, 4, 4, 7, 5, 5, 6, 5, 7, 9, 8, 8, 9, 5, 0, 5, 1, 8, 2, 9, 3, 5, 4, 1, 5, 0, 6, 6, 7, 5, 8, 9, 9, 6, 0, 2, 8, 3, 3, 1, 9, 1, 5, 2, 5, 1, 2, 9, 6, 8, 8, 3, 4, 7, 9, 7, 1, 2, 7, 7, 1, 0, 2, 9, 3, 7, 5, 9, 9, 0, 6, 0, 9, 3, 1, 5, 1, 8, 1, 3, 2, 3, 9, 1, 5, 3, 6, 6, 8, 8, 1, 8, 2, 5, 0, 1, 7, 8, 7, 0, 5, 4, 8, 5, 2, 8, 9, 7, 8, 3, 7, 2, 1, 1, 3, 2, 4, 7, 5, 6, 6, 8, 0, 7, 3, 8, 6, 4, 8, 0, 7, 2, 0, 6, 4, 1, 2, 0, 7, 2, 7, 4, 5, 4, 4, 7, 3, 9, 4, 7, 2, 1, 8, 7, 1, 4, 5, 0, 1, 7, 2, 2, 4, 0, 3, 8, 0, 2, 0, 3, 0, 2, 3, 1, 3, 3, 5, 8, 7, 9, 0, 0, 6, 1, 8, 1, 6, 7, 3, 2, 4, 1, 6, 0, 9, 4, 9, 3, 8, 3, 2, 9, 7, 1, 7, 9, 1, 8, 0, 1, 1, 6, 2, 1, 3, 2, 4, 9, 7, 2, 8, 2, 9, 8, 0, 9, 1, 1, 2, 6, 3, 7, 4, 1, 5, 5, 6, 1, 7, 4, 8, 3, 9, 5, 0, 3, 1, 3, 2, 9, 3, 2, 7, 5, 8, 4, 9, 8, 7, 0, 9, 3, 5, 6, 0, 3, 8, 0, 3, 2, 5, 6, 4, 2, 8, 7, 2, 7, 1, 2, 0, 6, 2, 5, 5, 7, 8, 6, 8, 1, 1, 6, 6, 2, 1, 3, 3, 4, 0, 7, 3, 5, 6, 4, 9, 8, 3, 7, 7, 0, 4, 4, 9, 7, 7, 0, 0, 4, 9, 7, 7, 4, 7, 7, 9, 1, 5, 6, 7, 7, 6, 0, 4, 7, 8, 8, 9, 7, 6, 5, 9, 3, 4, 7, 1, 7, 2, 2, 0, 7, 6, 6, 1, 8, 7, 4, 2, 3, 4, 0, 6, 2, 4, 9, 6, 2, 5, 3, 0, 8, 2, 3, 1, 7, 0, 8, 1, 2, 2, 2, 1, 3, 7, 5, 8, 3, 1, 1, 2, 8, 8, 8, 2, 2, 7, 6, 9, 2, 3, 2, 9, 2, 0, 4, 1, 2, 2, 0, 3, 9, 4, 9, 5, 8, 6, 0, 7, 1, 0, 7, 1, 8, 2, 0, 3, 7, 7, 2, 8, 6, 9, 2, 0, 3, 1, 5, 7, 8, 8, 8, 9, 8, 2, 9, 5, 7, 1, 9, 6, 7, 4, 8, 3, 3, 9, 0, 9, 1, 0, 0, 4, 9, 3, 4, 6, 7, 0, 2, 0, 8, 8, 3, 9, 0, 8, 7, 7, 4, 0, 4, 0, 4, 4, 5, 1, 4, 4, 1, 1, 2, 3, 7, 6, 0, 4, 1, 7, 4, 7, 2, 0, 9, 9, 0, 8, 9, 4, 3, 3, 8, 8, 1, 3, 1, 8, 6, 5, 9, 8, 0, 4, 7, 1, 3, 7, 2, 9, 6, 2, 6, 0, 6, 9, 0, 1, 3, 7, 6, 3, 3, 8, 5, 0, 6, 3, 8, 8, 7, 1, 9, 6, 1, 4, 1, 3, 9, 6, 0, 1, 9, 5, 3, 5, 2, 6, 7, 5, 9, 0, 9, 1, 0, 2, 8, 3, 6, 4, 3, 5, 3, 6, 2, 7, 0, 0, 5, 1, 5, 2, 1, 3, 5, 4, 3, 5, 0, 6, 5, 7, 8, 0, 7, 1, 1, 2, 8, 3, 1, 4, 7, 5, 2, 7, 4, 4, 6, 0, 4, 4, 6, 0, 5, 1, 6, 7, 5, 5, 9, 1, 3, 4, 7, 2, 6, 4, 4, 3, 3, 1, 7, 7, 3, 8, 8, 2, 3, 4, 9, 4, 2, 3, 2, 3, 9, 6, 0, 6, 7, 7, 3, 0, 1, 2, 2, 6, 4, 3, 2, 9, 9, 3, 8, 2, 5, 8, 5, 1, 2, 7, 1, 0, 2, 3, 2, 2, 0, 9, 3, 4, 0, 0, 8, 3, 3, 7, 8, 7, 0, 7, 5, 7, 2, 1, 2, 1, 3, 2, 4, 6, 2, 4, 4, 2, 4, 3, 5, 6, 5, 6, 4, 5, 1, 7, 4, 5, 3, 2, 6, 8, 2, 1, 7, 6, 1, 1, 0, 0, 2, 4, 2, 3, 1, 1, 7, 6, 4, 1, 3, 9, 2, 0, 7, 1, 7, 2, 5, 3, 8, 4, 9, 5, 8, 6, 3, 7, 2, 8, 6, 0, 7, 1, 1, 2, 2, 3, 0, 4, 9, 5, 9, 6, 1, 7, 6, 8, 0, 9, 0, 0, 6, 1, 4, 2, 8, 3, 1, 4, 8, 5, 2, 6, 8, 7, 2, 8, 2, 1, 9, 0, 0, 4, 0, 5, 5, 6, 7, 6, 2, 3, 8, 4, 3, 4, 6, 1, 1, 0, 9, 6, 1, 4, 8, 9, 2, 7, 0, 2, 3, 3, 4, 3, 2, 9, 8, 2, 1, 0, 0, 9, 9, 3, 7, 3, 3, 9, 1, 1, 3, 5, 3, 2, 9, 3, 7, 1, 7, 6, 7, 7, 9, 3, 2, 7, 8, 4, 0, 2, 2, 4, 7, 8, 0, 7, 0, 6, 9, 3, 2, 6, 0, 5, 7, 5, 1, 0, 8, 1, 6, 7, 2, 9, 7, 9, 5, 8, 9, 6, 5, 2, 6, 2, 8, 1, 7, 5, 5, 7, 3, 5, 0, 1, 1, 3, 8, 4, 9, 4, 5, 1, 8, 6, 8, 9, 0, 1, 2, 3, 4, 5, 6, 7, 8, 9, 0, 1, 2, 3, 4, 5, 6, 7, 8, 9, 0, 1, 2, 3, 4, 7, 8, 9, 7, 1, 5, 6, 2, 5, 4, 8, 1, 7, 1, 8, 3, 8, 7, 1, 7, 7, 0, 1, 4, 4, 4, 4, 4, 9, 7, 2, 6, 5, 4, 3, 8, 7, 9, 0, 6, 4, 6, 3, 7, 0, 1, 4, 8, 8, 1, 2, 9, 3, 1, 8, 4, 2, 9, 9, 2, 9, 6, 0, 5, 3, 3, 6, 3, 1, 2, 5, 0, 3, 7, 6, 1, 5, 5, 9, 9, 0, 1, 2, 3, 4, 5, 6, 7, 8, 9, 0, 1, 2, 3, 4, 5, 6, 7, 8, 9, 0, 1, 2, 3, 4, 5, 6, 7, 8, 9, 6, 8, 2, 3, 7, 4, 6, 8, 6, 6, 8, 0, 1, 7, 1, 7, 3, 5, 0, 2, 2, 0, 2, 5, 4, 1, 5, 1, 2, 3, 4, 8, 3, 3, 6, 5, 9, 9, 3, 8, 1, 3, 7, 9, 3, 4, 1, 7, 3, 9, 6, 7, 4, 9, 7, 0, 9, 6, 0, 6, 1, 0, 5, 8, 5, 0, 1, 0, 9, 4, 5, 9, 7, 1, 9, 6, 8, 9, 2, 8, 5, 0, 1, 2, 3, 4, 5, 6, 7, 8, 9, 0, 1, 2, 3, 4, 5, 6, 7, 8, 9, 0, 1, 2, 3, 4, 9, 0, 5, 6, 8, 3, 9, 0, 2, 3, 3, 3, 9, 5, 6, 4, 4, 2, 5, 4, 3, 9, 6, 8, 7, 9, 1, 5, 2, 6, 3, 4, 4, 1, 6, 4, 9, 6, 5, 1, 2, 6, 6, 7, 8, 8, 1, 8, 3, 7, 1, 2, 7, 0, 7, 5, 0, 0, 1, 5, 0, 0, 4, 8, 3, 1, 8, 2, 9, 9, 5, 2, 6, 4, 8, 2, 5, 4, 1, 7, 1, 4, 3, 9, 7, 1, 2, 6, 0, 7, 3, 0, 1, 2, 3, 4, 7, 8, 9, 0, 1, 2, 3, 4, 5, 6, 7, 8, 9, 0, 1, 2, 3, 4, 5, 6, 7, 8, 9, 7, 0, 6, 0, 7, 3, 7, 3, 7, 9, 7, 4, 0, 2, 6, 5, 6, 5, 2, 9, 5, 3, 9, 8, 3, 4, 0, 5, 4, 6, 3, 4, 8, 0, 6, 4, 8, 1, 3, 4, 0, 1, 9, 2, 3, 7, 9, 1, 2, 5, 1, 7, 2, 8, 7, 0, 1, 9, 6, 4, 1, 2, 3, 7, 0, 2, 1, 3, 1, 7, 2, 1, 6, 8, 0, 8, 9, 1, 6, 0, 1, 2, 3, 4, 5, 6, 7, 8, 9, 0, 1, 2, 3, 4, 7, 8, 9, 0, 1, 2, 3, 4, 5, 6, 7, 8, 6, 4, 2, 6, 4, 7, 5, 5, 4, 7, 8, 9, 2, 9, 3, 9, 3, 8, 2, 0, 5, 0, 7, 0, 4, 2, 6, 5, 3, 5, 3, 8, 0, 0, 3, 4, 1, 5, 3, 0, 8, 3, 0, 6, 2, 7, 1, 1, 8, 1, 7, 1, 3, 8, 9, 7, 6, 7, 4, 1, 6, 7, 5, 1, 7, 1, 9, 8, 0, 6, 9, 4, 9, 9, 3, 7, 1, 9, 2, 2, 5, 3, 7, 8, 2, 3, 4, 5, 6, 7, 8, 9, 0, 1, 2, 3, 4, 5, 6, 7, 0, 1, 2, 3, 4, 5, 6, 7, 8, 9, 8, 1, 0, 5, 5, 1, 9, 0, 4, 1, 9, 3, 8, 4, 7, 7, 8, 5, 0, 6, 5, 5, 3, 3, 3, 9, 8, 1, 4, 0, 6, 1, 0, 0, 6, 2, 1, 1, 3, 2, 8, 8, 7, 8, 4, 6, 0, 2, 0, 3, 6, 8, 7, 1, 5, 9, 9, 3, 2, 4, 9, 4, 6, 5, 3, 2, 5, 5, 9, 4, 1, 6, 5, 0, 1, 2, 3, 4, 5, 6, 7, 8, 9, 0, 1, 2, 3, 4, 5, 6, 7, 8, 9, 0, 1, 2, 3, 4, 5, 6, 7, 8, 9, 6, 4, 2, 6, 4, 7, 5, 5, 4, 7, 8, 9, 2, 9, 3, 9, 3, 8, 2, 0, 9, 8, 0, 5, 6, 0, 1, 0, 4, 2, 6, 5, 5, 5, 4, 3, 4, 1, 5, 3, 0, 8, 3, 0, 6, 2, 7, 1, 1, 8, 1, 7, 1, 3, 8, 5, 4, 2, 0, 9, 7, 6, 7, 4, 1, 6, 8, 4, 7, 5, 1, 2, 6, 7, 1, 9, 8, 0, 6, 9, 4, 9, 9, 6, 2, 3, 7, 1, 9, 2, 2, 5, 3, 7, 8, 0, 1, 2, 3, 4, 5, 6, 7, 8, 0, 1, 2, 3, 4, 5, 6, 7, 8, 0, 1, 2, 3, 4, 5, 6, 7, 8, 9, 2, 1, 2, 1, 3, 9, 9, 8, 5, 3, 7, 0, 7, 7, 5, 7, 9, 9, 4, 7, 0, 3, 4, 1, 4, 4, 7, 5, 8, 1, 4, 8, 4, 1, 8, 6, 6, 4, 6, 3, 5, 7, 2, 5, 9, 2, 6, 2, 1, 2, 0, 8, 3, 8, 3, 0, 8, 7, 4, 9, 5, 0, 9, 7, 4, 9, 1, 6, 2, 7, 6, 1, 8, 6, 1, 0, 3, 6, 2, 1, 4, 0, 1, 2, 3, 4, 7, 8, 9, 0, 1, 2, 3, 4, 7, 8, 9, 0, 1, 2, 3, 4, 5, 6, 7, 8, 7, 4, 3, 1, 8, 6, 1, 9, 2, 4, 0, 9, 9, 3, 7, 7, 9, 1, 8, 4, 7, 5, 8, 5, 3, 2, 2, 0, 5, 8, 6, 0, 3, 8, 1, 0, 3, 0, 4, 7, 4, 9, 2, 9, 1, 2, 1, 7, 1, 6, 7, 3, 3, 6, 2, 8, 7, 6, 4, 9, 8, 8, 2, 9, 6, 5, 5, 9, 5, 3, 7, 4, 7, 6, 0, 0, 4, 6, 6, 9, 0, 1, 1, 3, 2, 1, 0, 0, 1, 2, 3, 4, 5, 6, 7, 8, 9, 0, 1, 2, 3, 4, 5, 6, 7, 8, 9, 0, 1, 2, 3, 4, 5, 6, 7, 8, 9, 4, 2, 0, 2, 1, 5, 9, 6, 5, 9, 3, 5, 0, 7, 1, 1, 5, 3, 0, 7, 9, 6, 1, 6, 7, 4, 9, 5, 7, 9, 8, 5, 6, 2, 4, 8, 9, 2, 2, 8, 0, 6, 4, 3, 3, 1, 2, 4, 1, 5, 8, 9, 6, 9, 3, 4, 0, 3, 9, 0, 2, 7, 1, 1, 0, 7, 6, 2, 2, 7, 6, 0, 6, 9, 4, 8, 4, 3, 3, 7, 8, 1, 0, 4, 5, 8, 3, 0, 6, 8, 3, 7, 8, 5, 7, 8, 2, 3, 4, 6, 7, 8, 9, 0, 1, 2, 5, 6, 7, 8, 9, 0, 1, 2, 3, 4, 5, 6, 8, 7, 5, 7, 3, 3, 8, 6, 5, 4, 0, 9, 3, 2, 2, 3, 0, 6, 4, 3, 7, 6, 9, 2, 2, 3, 5, 5, 0, 7, 2, 3, 4, 0, 0, 5, 1, 8, 9, 0, 8, 9, 6, 5, 6, 7, 5, 3, 5, 3, 0, 1, 2, 3, 4, 5, 6, 7, 8, 9, 0, 1, 2, 3, 4, 5, 6, 7, 9, 0, 1, 2, 3, 4, 5, 6, 7, 8, 9, 1, 3, 5, 9, 4, 1, 7, 7, 2, 1, 4, 8, 3, 8, 2, 9, 3, 8, 5, 4, 8, 8, 9, 7, 5, 4, 3, 9, 2, 5, 7, 4, 1, 2, 3, 6, 0, 1, 0, 0, 2, 8, 7, 2, 5, 1, 1, 8, 5, 6, 4, 0, 4, 7, 3, 6, 8, 0, 3, 7, 6, 9, 2, 6, 5, 8, 6, 9, 0, 4, 0, 6, 1, 9, 2, 0, 9, 5, 1, 3, 7, 6, 9, 4, 8, 3, 7, 7, 6, 3, 0, 5, 6, 2, 2, 0, 1, 2, 3, 4, 5, 6, 7, 8, 9, 0, 1, 2, 3, 4, 5, 6, 7, 8, 9, 0, 1, 2, 3, 4, 5, 6, 7, 8, 9, 5, 6, 6, 0, 8, 3, 7, 9, 4, 7, 1, 9, 1, 7, 1, 4, 1, 7, 5, 7, 1, 3, 3, 1, 6, 9, 7, 4, 3, 0, 2, 5, 2, 6, 0, 8, 4, 8, 1, 5, 0, 6, 6, 3, 4, 7, 5, 7, 2, 2, 0, 0, 1, 7, 7, 9, 5, 9, 8, 9, 6, 8, 3, 6, 1, 2, 9, 5, 2, 5, 2, 6, 2, 4, 8, 4, 6, 5, 0, 1, 2, 3, 4, 5, 6, 7, 8, 9, 0, 1, 2, 3, 4, 5, 6, 7, 8, 9, 0, 1, 2, 4, 5, 6, 7, 8, 0, 4, 0, 1, 7, 5, 1, 4, 2, 8, 4, 3, 1, 7, 8, 2, 4, 3, 3, 6, 9, 9, 5, 8, 6, 7, 0, 6, 2, 6, 3, 9, 1, 7, 4, 8, 8, 9, 0, 3, 0, 5, 2, 9, 4, 1, 0, 3, 7, 5, 8, 7, 7, 8, 2, 9, 5, 5, 1, 2, 6, 4, 2, 5, 2, 3, 6, 0, 0, 7, 5, 2, 8, 1, 6, 1, 0, 4, 3, 1, 6, 1, 9, 0, 1, 2, 3, 4, 5, 6, 7, 0, 1, 2, 3, 4, 6, 7, 8, 0, 1, 2, 3, 4, 7, 8, 9, 2, 2, 4, 0, 7, 3, 5, 4, 1, 8, 0, 5, 2, 7, 2, 3, 6, 2, 1, 7, 7, 9, 2, 4, 6, 7, 7, 5, 9, 9, 1, 8, 6, 4, 6, 0, 9, 2, 6, 4, 3, 9, 0, 8, 8, 9, 4, 7, 1, 3, 6, 9, 4, 1, 7, 6, 9, 3, 3, 7, 4, 1, 9, 1, 0, 6, 0, 1, 2, 4, 5, 6, 7, 8, 9, 0, 1, 2, 3, 4, 5, 6, 7, 8, 9, 0, 1, 2, 3, 4, 5, 6, 7, 8, 9, 3, 2, 9, 3, 2, 1, 4, 5, 5, 2, 3, 2, 1, 3, 9, 7, 2, 1, 2, 8, 9, 1, 8, 8, 7, 0, 6, 7, 7, 8, 7, 5, 0, 6, 1, 5, 7, 4, 6, 1, 2, 7, 9, 9, 0, 3, 8, 4, 4, 1, 8, 6, 5, 0, 0, 3, 7, 1, 6, 4, 2, 6, 6, 0, 4, 5, 4, 1, 3, 8, 6, 3, 9, 9, 5, 9, 3, 6, 4, 7, 6, 2, 2, 0, 9, 4, 0, 1, 2, 3, 4, 5, 6, 7, 8, 9, 0, 1, 2, 3, 4, 8, 9, 0, 1, 2, 3, 4, 5, 6, 7, 8, 9, 6, 0, 3, 4, 1, 4, 0, 7, 8, 7, 7, 9, 0, 4, 9, 4, 0, 5, 8, 5, 9, 8, 8, 4, 0, 7, 1, 3, 5, 3, 1, 6, 5, 3, 8, 7, 3, 1, 6, 8, 5, 9, 2, 2, 0, 9, 2, 4, 6, 7, 3, 1, 3, 6, 6, 2, 1, 2, 6, 0, 7, 8, 9, 2, 9, 5, 1, 8, 3, 5, 6, 8]\n"
          ]
        }
      ]
    },
    {
      "cell_type": "markdown",
      "source": [
        "# **Question 1.ii(B)**"
      ],
      "metadata": {
        "id": "_GgtU4IF1UaS"
      }
    },
    {
      "cell_type": "markdown",
      "source": [
        "Class vs Count of each class histogram plot"
      ],
      "metadata": {
        "id": "bHT6ncQlaQ5f"
      }
    },
    {
      "cell_type": "code",
      "source": [
        "l1=[]\n",
        "l2=[]\n",
        "for i in train_y:\n",
        "  l1.append(i)\n",
        "for i in test_y:\n",
        "  l2.append(i)  \n",
        "\n",
        "l1.extend(l2)\n",
        "\n",
        "import matplotlib.pyplot as plt\n",
        "plt.figure(figsize=(20,20))\n",
        "plt.plot(tight_layout = True)\n",
        "plt.hist(l1,bins=[0,1,2,3,4,5,6,7,8,9,10],edgecolor='black')\n",
        "plt.xlabel('Class')\n",
        "plt.xticks([0,1,2,3,4,5,6,7,8,9])\n",
        "#plt.yticks([c0,c1,c2,c3,c4,c5,c6,c7,c8,c9]) #count values are geeting overlapped on one another\n",
        "plt.ylabel('Count')\n",
        "plt.title('Assignment1')\n",
        "plt.show()\n",
        "\n",
        "c0,c1,c2,c3,c4,c5,c6,c7,c8,c9"
      ],
      "metadata": {
        "colab": {
          "base_uri": "https://localhost:8080/",
          "height": 1000
        },
        "id": "a8rl20Nmv0RI",
        "outputId": "7414ad08-8ee2-4e4a-bbd4-4495eb3ac995"
      },
      "execution_count": null,
      "outputs": [
        {
          "output_type": "display_data",
          "data": {
            "text/plain": [
              "<Figure size 1440x1440 with 1 Axes>"
            ],
            "image/png": "[encoded data removed]"
          },
          "metadata": {
            "needs_background": "light"
          }
        },
        {
          "output_type": "execute_result",
          "data": {
            "text/plain": [
              "(6903, 7877, 6990, 7141, 6824, 6313, 6876, 7293, 6825, 6958)"
            ]
          },
          "metadata": {},
          "execution_count": 12
        }
      ]
    },
    {
      "cell_type": "markdown",
      "source": [
        "# **Question 1.ii(C)**"
      ],
      "metadata": {
        "id": "k7sdmz1S1Z15"
      }
    },
    {
      "cell_type": "markdown",
      "source": [
        "Normalization(dividing each pixel of train and test data by 255(max pixel value)."
      ],
      "metadata": {
        "id": "aZreEtnraYK2"
      }
    },
    {
      "cell_type": "code",
      "source": [
        "#Normalization\n",
        "train_X=train_X/np.max(train_X)\n",
        "test_X=test_X/np.max(test_X)"
      ],
      "metadata": {
        "id": "b_zGzbJE04C6"
      },
      "execution_count": null,
      "outputs": []
    },
    {
      "cell_type": "code",
      "source": [
        "train_X"
      ],
      "metadata": {
        "colab": {
          "base_uri": "https://localhost:8080/"
        },
        "id": "eE9a7X9n097k",
        "outputId": "7be4b694-b2ae-4bc8-f88e-48b5900e8f69"
      },
      "execution_count": null,
      "outputs": [
        {
          "output_type": "execute_result",
          "data": {
            "text/plain": [
              "array([[[0., 0., 0., ..., 0., 0., 0.],\n",
              "        [0., 0., 0., ..., 0., 0., 0.],\n",
              "        [0., 0., 0., ..., 0., 0., 0.],\n",
              "        ...,\n",
              "        [0., 0., 0., ..., 0., 0., 0.],\n",
              "        [0., 0., 0., ..., 0., 0., 0.],\n",
              "        [0., 0., 0., ..., 0., 0., 0.]],\n",
              "\n",
              "       [[0., 0., 0., ..., 0., 0., 0.],\n",
              "        [0., 0., 0., ..., 0., 0., 0.],\n",
              "        [0., 0., 0., ..., 0., 0., 0.],\n",
              "        ...,\n",
              "        [0., 0., 0., ..., 0., 0., 0.],\n",
              "        [0., 0., 0., ..., 0., 0., 0.],\n",
              "        [0., 0., 0., ..., 0., 0., 0.]],\n",
              "\n",
              "       [[0., 0., 0., ..., 0., 0., 0.],\n",
              "        [0., 0., 0., ..., 0., 0., 0.],\n",
              "        [0., 0., 0., ..., 0., 0., 0.],\n",
              "        ...,\n",
              "        [0., 0., 0., ..., 0., 0., 0.],\n",
              "        [0., 0., 0., ..., 0., 0., 0.],\n",
              "        [0., 0., 0., ..., 0., 0., 0.]],\n",
              "\n",
              "       ...,\n",
              "\n",
              "       [[0., 0., 0., ..., 0., 0., 0.],\n",
              "        [0., 0., 0., ..., 0., 0., 0.],\n",
              "        [0., 0., 0., ..., 0., 0., 0.],\n",
              "        ...,\n",
              "        [0., 0., 0., ..., 0., 0., 0.],\n",
              "        [0., 0., 0., ..., 0., 0., 0.],\n",
              "        [0., 0., 0., ..., 0., 0., 0.]],\n",
              "\n",
              "       [[0., 0., 0., ..., 0., 0., 0.],\n",
              "        [0., 0., 0., ..., 0., 0., 0.],\n",
              "        [0., 0., 0., ..., 0., 0., 0.],\n",
              "        ...,\n",
              "        [0., 0., 0., ..., 0., 0., 0.],\n",
              "        [0., 0., 0., ..., 0., 0., 0.],\n",
              "        [0., 0., 0., ..., 0., 0., 0.]],\n",
              "\n",
              "       [[0., 0., 0., ..., 0., 0., 0.],\n",
              "        [0., 0., 0., ..., 0., 0., 0.],\n",
              "        [0., 0., 0., ..., 0., 0., 0.],\n",
              "        ...,\n",
              "        [0., 0., 0., ..., 0., 0., 0.],\n",
              "        [0., 0., 0., ..., 0., 0., 0.],\n",
              "        [0., 0., 0., ..., 0., 0., 0.]]])"
            ]
          },
          "metadata": {},
          "execution_count": 14
        }
      ]
    },
    {
      "cell_type": "markdown",
      "source": [
        "## **Question 1(b)(i)**"
      ],
      "metadata": {
        "id": "GwZeIPUR1o8k"
      }
    },
    {
      "cell_type": "markdown",
      "source": [
        "AQI-India(2015-19)"
      ],
      "metadata": {
        "id": "5dl3Xme2c2wb"
      }
    },
    {
      "cell_type": "code",
      "source": [
        "import pandas as pd\n",
        "\n",
        "#$url_data = (r'https://github.com/adityarc19/aqi-india/blob/main/city_day.csv')\n",
        "data = pd.read_csv('https://raw.githubusercontent.com/adityarc19/aqi-india/main/city_day.csv', on_bad_lines='skip')\n",
        "\n",
        "#data_csv = pd.read_csv(url_data)\n",
        "\n",
        "data.head()"
      ],
      "metadata": {
        "id": "XyisYmWxUR-D",
        "colab": {
          "base_uri": "https://localhost:8080/",
          "height": 206
        },
        "outputId": "ba21bd54-a371-4ea7-c2c8-2acb094f66a7"
      },
      "execution_count": null,
      "outputs": [
        {
          "output_type": "execute_result",
          "data": {
            "text/plain": [
              "        City        Date  PM2.5  PM10     NO    NO2    NOx  NH3     CO    SO2  \\\n",
              "0  Ahmedabad  2015-01-01    NaN   NaN   0.92  18.22  17.15  NaN   0.92  27.64   \n",
              "1  Ahmedabad  2015-01-02    NaN   NaN   0.97  15.69  16.46  NaN   0.97  24.55   \n",
              "2  Ahmedabad  2015-01-03    NaN   NaN  17.40  19.30  29.70  NaN  17.40  29.07   \n",
              "3  Ahmedabad  2015-01-04    NaN   NaN   1.70  18.48  17.97  NaN   1.70  18.59   \n",
              "4  Ahmedabad  2015-01-05    NaN   NaN  22.10  21.42  37.76  NaN  22.10  39.33   \n",
              "\n",
              "       O3  Benzene  Toluene  Xylene  AQI AQI_Bucket  \n",
              "0  133.36     0.00     0.02    0.00  NaN        NaN  \n",
              "1   34.06     3.68     5.50    3.77  NaN        NaN  \n",
              "2   30.70     6.80    16.40    2.25  NaN        NaN  \n",
              "3   36.08     4.43    10.14    1.00  NaN        NaN  \n",
              "4   39.31     7.01    18.89    2.78  NaN        NaN  "
            ],
            "text/html": [
              "\n",
              "  <div id=\"df-48a99b2f-1cdd-445e-b23c-663b7dfc6d0c\">\n",
              "    <div class=\"colab-df-container\">\n",
              "      <div>\n",
              "<style scoped>\n",
              "    .dataframe tbody tr th:only-of-type {\n",
              "        vertical-align: middle;\n",
              "    }\n",
              "\n",
              "    .dataframe tbody tr th {\n",
              "        vertical-align: top;\n",
              "    }\n",
              "\n",
              "    .dataframe thead th {\n",
              "        text-align: right;\n",
              "    }\n",
              "</style>\n",
              "<table border=\"1\" class=\"dataframe\">\n",
              "  <thead>\n",
              "    <tr style=\"text-align: right;\">\n",
              "      <th></th>\n",
              "      <th>City</th>\n",
              "      <th>Date</th>\n",
              "      <th>PM2.5</th>\n",
              "      <th>PM10</th>\n",
              "      <th>NO</th>\n",
              "      <th>NO2</th>\n",
              "      <th>NOx</th>\n",
              "      <th>NH3</th>\n",
              "      <th>CO</th>\n",
              "      <th>SO2</th>\n",
              "      <th>O3</th>\n",
              "      <th>Benzene</th>\n",
              "      <th>Toluene</th>\n",
              "      <th>Xylene</th>\n",
              "      <th>AQI</th>\n",
              "      <th>AQI_Bucket</th>\n",
              "    </tr>\n",
              "  </thead>\n",
              "  <tbody>\n",
              "    <tr>\n",
              "      <th>0</th>\n",
              "      <td>Ahmedabad</td>\n",
              "      <td>2015-01-01</td>\n",
              "      <td>NaN</td>\n",
              "      <td>NaN</td>\n",
              "      <td>0.92</td>\n",
              "      <td>18.22</td>\n",
              "      <td>17.15</td>\n",
              "      <td>NaN</td>\n",
              "      <td>0.92</td>\n",
              "      <td>27.64</td>\n",
              "      <td>133.36</td>\n",
              "      <td>0.00</td>\n",
              "      <td>0.02</td>\n",
              "      <td>0.00</td>\n",
              "      <td>NaN</td>\n",
              "      <td>NaN</td>\n",
              "    </tr>\n",
              "    <tr>\n",
              "      <th>1</th>\n",
              "      <td>Ahmedabad</td>\n",
              "      <td>2015-01-02</td>\n",
              "      <td>NaN</td>\n",
              "      <td>NaN</td>\n",
              "      <td>0.97</td>\n",
              "      <td>15.69</td>\n",
              "      <td>16.46</td>\n",
              "      <td>NaN</td>\n",
              "      <td>0.97</td>\n",
              "      <td>24.55</td>\n",
              "      <td>34.06</td>\n",
              "      <td>3.68</td>\n",
              "      <td>5.50</td>\n",
              "      <td>3.77</td>\n",
              "      <td>NaN</td>\n",
              "      <td>NaN</td>\n",
              "    </tr>\n",
              "    <tr>\n",
              "      <th>2</th>\n",
              "      <td>Ahmedabad</td>\n",
              "      <td>2015-01-03</td>\n",
              "      <td>NaN</td>\n",
              "      <td>NaN</td>\n",
              "      <td>17.40</td>\n",
              "      <td>19.30</td>\n",
              "      <td>29.70</td>\n",
              "      <td>NaN</td>\n",
              "      <td>17.40</td>\n",
              "      <td>29.07</td>\n",
              "      <td>30.70</td>\n",
              "      <td>6.80</td>\n",
              "      <td>16.40</td>\n",
              "      <td>2.25</td>\n",
              "      <td>NaN</td>\n",
              "      <td>NaN</td>\n",
              "    </tr>\n",
              "    <tr>\n",
              "      <th>3</th>\n",
              "      <td>Ahmedabad</td>\n",
              "      <td>2015-01-04</td>\n",
              "      <td>NaN</td>\n",
              "      <td>NaN</td>\n",
              "      <td>1.70</td>\n",
              "      <td>18.48</td>\n",
              "      <td>17.97</td>\n",
              "      <td>NaN</td>\n",
              "      <td>1.70</td>\n",
              "      <td>18.59</td>\n",
              "      <td>36.08</td>\n",
              "      <td>4.43</td>\n",
              "      <td>10.14</td>\n",
              "      <td>1.00</td>\n",
              "      <td>NaN</td>\n",
              "      <td>NaN</td>\n",
              "    </tr>\n",
              "    <tr>\n",
              "      <th>4</th>\n",
              "      <td>Ahmedabad</td>\n",
              "      <td>2015-01-05</td>\n",
              "      <td>NaN</td>\n",
              "      <td>NaN</td>\n",
              "      <td>22.10</td>\n",
              "      <td>21.42</td>\n",
              "      <td>37.76</td>\n",
              "      <td>NaN</td>\n",
              "      <td>22.10</td>\n",
              "      <td>39.33</td>\n",
              "      <td>39.31</td>\n",
              "      <td>7.01</td>\n",
              "      <td>18.89</td>\n",
              "      <td>2.78</td>\n",
              "      <td>NaN</td>\n",
              "      <td>NaN</td>\n",
              "    </tr>\n",
              "  </tbody>\n",
              "</table>\n",
              "</div>\n",
              "      <button class=\"colab-df-convert\" onclick=\"convertToInteractive('df-48a99b2f-1cdd-445e-b23c-663b7dfc6d0c')\"\n",
              "              title=\"Convert this dataframe to an interactive table.\"\n",
              "              style=\"display:none;\">\n",
              "        \n",
              "  <svg xmlns=\"http://www.w3.org/2000/svg\" height=\"24px\"viewBox=\"0 0 24 24\"\n",
              "       width=\"24px\">\n",
              "    <path d=\"M0 0h24v24H0V0z\" fill=\"none\"/>\n",
              "    <path d=\"M18.56 5.44l.94 2.06.94-2.06 2.06-.94-2.06-.94-.94-2.06-.94 2.06-2.06.94zm-11 1L8.5 8.5l.94-2.06 2.06-.94-2.06-.94L8.5 2.5l-.94 2.06-2.06.94zm10 10l.94 2.06.94-2.06 2.06-.94-2.06-.94-.94-2.06-.94 2.06-2.06.94z\"/><path d=\"M17.41 7.96l-1.37-1.37c-.4-.4-.92-.59-1.43-.59-.52 0-1.04.2-1.43.59L10.3 9.45l-7.72 7.72c-.78.78-.78 2.05 0 2.83L4 21.41c.39.39.9.59 1.41.59.51 0 1.02-.2 1.41-.59l7.78-7.78 2.81-2.81c.8-.78.8-2.07 0-2.86zM5.41 20L4 18.59l7.72-7.72 1.47 1.35L5.41 20z\"/>\n",
              "  </svg>\n",
              "      </button>\n",
              "      \n",
              "  <style>\n",
              "    .colab-df-container {\n",
              "      display:flex;\n",
              "      flex-wrap:wrap;\n",
              "      gap: 12px;\n",
              "    }\n",
              "\n",
              "    .colab-df-convert {\n",
              "      background-color: #E8F0FE;\n",
              "      border: none;\n",
              "      border-radius: 50%;\n",
              "      cursor: pointer;\n",
              "      display: none;\n",
              "      fill: #1967D2;\n",
              "      height: 32px;\n",
              "      padding: 0 0 0 0;\n",
              "      width: 32px;\n",
              "    }\n",
              "\n",
              "    .colab-df-convert:hover {\n",
              "      background-color: #E2EBFA;\n",
              "      box-shadow: 0px 1px 2px rgba(60, 64, 67, 0.3), 0px 1px 3px 1px rgba(60, 64, 67, 0.15);\n",
              "      fill: #174EA6;\n",
              "    }\n",
              "\n",
              "    [theme=dark] .colab-df-convert {\n",
              "      background-color: #3B4455;\n",
              "      fill: #D2E3FC;\n",
              "    }\n",
              "\n",
              "    [theme=dark] .colab-df-convert:hover {\n",
              "      background-color: #434B5C;\n",
              "      box-shadow: 0px 1px 3px 1px rgba(0, 0, 0, 0.15);\n",
              "      filter: drop-shadow(0px 1px 2px rgba(0, 0, 0, 0.3));\n",
              "      fill: #FFFFFF;\n",
              "    }\n",
              "  </style>\n",
              "\n",
              "      <script>\n",
              "        const buttonEl =\n",
              "          document.querySelector('#df-48a99b2f-1cdd-445e-b23c-663b7dfc6d0c button.colab-df-convert');\n",
              "        buttonEl.style.display =\n",
              "          google.colab.kernel.accessAllowed ? 'block' : 'none';\n",
              "\n",
              "        async function convertToInteractive(key) {\n",
              "          const element = document.querySelector('#df-48a99b2f-1cdd-445e-b23c-663b7dfc6d0c');\n",
              "          const dataTable =\n",
              "            await google.colab.kernel.invokeFunction('convertToInteractive',\n",
              "                                                     [key], {});\n",
              "          if (!dataTable) return;\n",
              "\n",
              "          const docLinkHtml = 'Like what you see? Visit the ' +\n",
              "            '<a target=\"_blank\" href=https://colab.research.google.com/notebooks/data_table.ipynb>data table notebook</a>'\n",
              "            + ' to learn more about interactive tables.';\n",
              "          element.innerHTML = '';\n",
              "          dataTable['output_type'] = 'display_data';\n",
              "          await google.colab.output.renderOutput(dataTable, element);\n",
              "          const docLink = document.createElement('div');\n",
              "          docLink.innerHTML = docLinkHtml;\n",
              "          element.appendChild(docLink);\n",
              "        }\n",
              "      </script>\n",
              "    </div>\n",
              "  </div>\n",
              "  "
            ]
          },
          "metadata": {},
          "execution_count": 15
        }
      ]
    },
    {
      "cell_type": "markdown",
      "source": [
        "As I am in Mtech so I have taken only 2 years of data(2015-16)"
      ],
      "metadata": {
        "id": "xObZ5ZnWdFgf"
      }
    },
    {
      "cell_type": "code",
      "source": [
        "data=data.loc[(data['Date'] >= \"2015-01-01\") & (data['Date'] <= \"2016-12-31\")]"
      ],
      "metadata": {
        "id": "TxKZTe_cbYj4"
      },
      "execution_count": null,
      "outputs": []
    },
    {
      "cell_type": "code",
      "source": [
        "data"
      ],
      "metadata": {
        "id": "3quDLyvZMWCH",
        "colab": {
          "base_uri": "https://localhost:8080/",
          "height": 424
        },
        "outputId": "9be34a12-bc80-4211-9d53-689cf75f5e06"
      },
      "execution_count": null,
      "outputs": [
        {
          "output_type": "execute_result",
          "data": {
            "text/plain": [
              "                City        Date  PM2.5    PM10     NO    NO2    NOx    NH3  \\\n",
              "0          Ahmedabad  2015-01-01    NaN     NaN   0.92  18.22  17.15    NaN   \n",
              "1          Ahmedabad  2015-01-02    NaN     NaN   0.97  15.69  16.46    NaN   \n",
              "2          Ahmedabad  2015-01-03    NaN     NaN  17.40  19.30  29.70    NaN   \n",
              "3          Ahmedabad  2015-01-04    NaN     NaN   1.70  18.48  17.97    NaN   \n",
              "4          Ahmedabad  2015-01-05    NaN     NaN  22.10  21.42  37.76    NaN   \n",
              "...              ...         ...    ...     ...    ...    ...    ...    ...   \n",
              "28248  Visakhapatnam  2016-12-27  66.59  108.45  31.18  53.96  53.86  15.33   \n",
              "28249  Visakhapatnam  2016-12-28  56.00   94.00   4.13  41.25  24.23  18.30   \n",
              "28250  Visakhapatnam  2016-12-29  56.00   94.00  20.37  57.45  44.24  17.17   \n",
              "28251  Visakhapatnam  2016-12-30  56.00   94.00  29.71  53.10  49.12  15.55   \n",
              "28252  Visakhapatnam  2016-12-31  71.19  112.65  19.61  55.17  42.59  13.73   \n",
              "\n",
              "          CO    SO2      O3  Benzene  Toluene  Xylene    AQI AQI_Bucket  \n",
              "0       0.92  27.64  133.36     0.00     0.02    0.00    NaN        NaN  \n",
              "1       0.97  24.55   34.06     3.68     5.50    3.77    NaN        NaN  \n",
              "2      17.40  29.07   30.70     6.80    16.40    2.25    NaN        NaN  \n",
              "3       1.70  18.59   36.08     4.43    10.14    1.00    NaN        NaN  \n",
              "4      22.10  39.33   39.31     7.01    18.89    2.78    NaN        NaN  \n",
              "...      ...    ...     ...      ...      ...     ...    ...        ...  \n",
              "28248   1.55  12.91   55.78     7.90    11.25    9.40  133.0   Moderate  \n",
              "28249   1.52  11.00   92.97     7.57     7.69    5.05  127.0   Moderate  \n",
              "28250   1.69   8.02   65.25     9.40    10.33    9.09  116.0   Moderate  \n",
              "28251   1.67   5.13   65.98     8.39     9.70    7.70  116.0   Moderate  \n",
              "28252   1.57   6.80   56.32     8.04    10.17    8.13  107.0   Moderate  \n",
              "\n",
              "[6279 rows x 16 columns]"
            ],
            "text/html": [
              "\n",
              "  <div id=\"df-ee527b8a-67a8-4ab6-89ee-508274eb8f0a\">\n",
              "    <div class=\"colab-df-container\">\n",
              "      <div>\n",
              "<style scoped>\n",
              "    .dataframe tbody tr th:only-of-type {\n",
              "        vertical-align: middle;\n",
              "    }\n",
              "\n",
              "    .dataframe tbody tr th {\n",
              "        vertical-align: top;\n",
              "    }\n",
              "\n",
              "    .dataframe thead th {\n",
              "        text-align: right;\n",
              "    }\n",
              "</style>\n",
              "<table border=\"1\" class=\"dataframe\">\n",
              "  <thead>\n",
              "    <tr style=\"text-align: right;\">\n",
              "      <th></th>\n",
              "      <th>City</th>\n",
              "      <th>Date</th>\n",
              "      <th>PM2.5</th>\n",
              "      <th>PM10</th>\n",
              "      <th>NO</th>\n",
              "      <th>NO2</th>\n",
              "      <th>NOx</th>\n",
              "      <th>NH3</th>\n",
              "      <th>CO</th>\n",
              "      <th>SO2</th>\n",
              "      <th>O3</th>\n",
              "      <th>Benzene</th>\n",
              "      <th>Toluene</th>\n",
              "      <th>Xylene</th>\n",
              "      <th>AQI</th>\n",
              "      <th>AQI_Bucket</th>\n",
              "    </tr>\n",
              "  </thead>\n",
              "  <tbody>\n",
              "    <tr>\n",
              "      <th>0</th>\n",
              "      <td>Ahmedabad</td>\n",
              "      <td>2015-01-01</td>\n",
              "      <td>NaN</td>\n",
              "      <td>NaN</td>\n",
              "      <td>0.92</td>\n",
              "      <td>18.22</td>\n",
              "      <td>17.15</td>\n",
              "      <td>NaN</td>\n",
              "      <td>0.92</td>\n",
              "      <td>27.64</td>\n",
              "      <td>133.36</td>\n",
              "      <td>0.00</td>\n",
              "      <td>0.02</td>\n",
              "      <td>0.00</td>\n",
              "      <td>NaN</td>\n",
              "      <td>NaN</td>\n",
              "    </tr>\n",
              "    <tr>\n",
              "      <th>1</th>\n",
              "      <td>Ahmedabad</td>\n",
              "      <td>2015-01-02</td>\n",
              "      <td>NaN</td>\n",
              "      <td>NaN</td>\n",
              "      <td>0.97</td>\n",
              "      <td>15.69</td>\n",
              "      <td>16.46</td>\n",
              "      <td>NaN</td>\n",
              "      <td>0.97</td>\n",
              "      <td>24.55</td>\n",
              "      <td>34.06</td>\n",
              "      <td>3.68</td>\n",
              "      <td>5.50</td>\n",
              "      <td>3.77</td>\n",
              "      <td>NaN</td>\n",
              "      <td>NaN</td>\n",
              "    </tr>\n",
              "    <tr>\n",
              "      <th>2</th>\n",
              "      <td>Ahmedabad</td>\n",
              "      <td>2015-01-03</td>\n",
              "      <td>NaN</td>\n",
              "      <td>NaN</td>\n",
              "      <td>17.40</td>\n",
              "      <td>19.30</td>\n",
              "      <td>29.70</td>\n",
              "      <td>NaN</td>\n",
              "      <td>17.40</td>\n",
              "      <td>29.07</td>\n",
              "      <td>30.70</td>\n",
              "      <td>6.80</td>\n",
              "      <td>16.40</td>\n",
              "      <td>2.25</td>\n",
              "      <td>NaN</td>\n",
              "      <td>NaN</td>\n",
              "    </tr>\n",
              "    <tr>\n",
              "      <th>3</th>\n",
              "      <td>Ahmedabad</td>\n",
              "      <td>2015-01-04</td>\n",
              "      <td>NaN</td>\n",
              "      <td>NaN</td>\n",
              "      <td>1.70</td>\n",
              "      <td>18.48</td>\n",
              "      <td>17.97</td>\n",
              "      <td>NaN</td>\n",
              "      <td>1.70</td>\n",
              "      <td>18.59</td>\n",
              "      <td>36.08</td>\n",
              "      <td>4.43</td>\n",
              "      <td>10.14</td>\n",
              "      <td>1.00</td>\n",
              "      <td>NaN</td>\n",
              "      <td>NaN</td>\n",
              "    </tr>\n",
              "    <tr>\n",
              "      <th>4</th>\n",
              "      <td>Ahmedabad</td>\n",
              "      <td>2015-01-05</td>\n",
              "      <td>NaN</td>\n",
              "      <td>NaN</td>\n",
              "      <td>22.10</td>\n",
              "      <td>21.42</td>\n",
              "      <td>37.76</td>\n",
              "      <td>NaN</td>\n",
              "      <td>22.10</td>\n",
              "      <td>39.33</td>\n",
              "      <td>39.31</td>\n",
              "      <td>7.01</td>\n",
              "      <td>18.89</td>\n",
              "      <td>2.78</td>\n",
              "      <td>NaN</td>\n",
              "      <td>NaN</td>\n",
              "    </tr>\n",
              "    <tr>\n",
              "      <th>...</th>\n",
              "      <td>...</td>\n",
              "      <td>...</td>\n",
              "      <td>...</td>\n",
              "      <td>...</td>\n",
              "      <td>...</td>\n",
              "      <td>...</td>\n",
              "      <td>...</td>\n",
              "      <td>...</td>\n",
              "      <td>...</td>\n",
              "      <td>...</td>\n",
              "      <td>...</td>\n",
              "      <td>...</td>\n",
              "      <td>...</td>\n",
              "      <td>...</td>\n",
              "      <td>...</td>\n",
              "      <td>...</td>\n",
              "    </tr>\n",
              "    <tr>\n",
              "      <th>28248</th>\n",
              "      <td>Visakhapatnam</td>\n",
              "      <td>2016-12-27</td>\n",
              "      <td>66.59</td>\n",
              "      <td>108.45</td>\n",
              "      <td>31.18</td>\n",
              "      <td>53.96</td>\n",
              "      <td>53.86</td>\n",
              "      <td>15.33</td>\n",
              "      <td>1.55</td>\n",
              "      <td>12.91</td>\n",
              "      <td>55.78</td>\n",
              "      <td>7.90</td>\n",
              "      <td>11.25</td>\n",
              "      <td>9.40</td>\n",
              "      <td>133.0</td>\n",
              "      <td>Moderate</td>\n",
              "    </tr>\n",
              "    <tr>\n",
              "      <th>28249</th>\n",
              "      <td>Visakhapatnam</td>\n",
              "      <td>2016-12-28</td>\n",
              "      <td>56.00</td>\n",
              "      <td>94.00</td>\n",
              "      <td>4.13</td>\n",
              "      <td>41.25</td>\n",
              "      <td>24.23</td>\n",
              "      <td>18.30</td>\n",
              "      <td>1.52</td>\n",
              "      <td>11.00</td>\n",
              "      <td>92.97</td>\n",
              "      <td>7.57</td>\n",
              "      <td>7.69</td>\n",
              "      <td>5.05</td>\n",
              "      <td>127.0</td>\n",
              "      <td>Moderate</td>\n",
              "    </tr>\n",
              "    <tr>\n",
              "      <th>28250</th>\n",
              "      <td>Visakhapatnam</td>\n",
              "      <td>2016-12-29</td>\n",
              "      <td>56.00</td>\n",
              "      <td>94.00</td>\n",
              "      <td>20.37</td>\n",
              "      <td>57.45</td>\n",
              "      <td>44.24</td>\n",
              "      <td>17.17</td>\n",
              "      <td>1.69</td>\n",
              "      <td>8.02</td>\n",
              "      <td>65.25</td>\n",
              "      <td>9.40</td>\n",
              "      <td>10.33</td>\n",
              "      <td>9.09</td>\n",
              "      <td>116.0</td>\n",
              "      <td>Moderate</td>\n",
              "    </tr>\n",
              "    <tr>\n",
              "      <th>28251</th>\n",
              "      <td>Visakhapatnam</td>\n",
              "      <td>2016-12-30</td>\n",
              "      <td>56.00</td>\n",
              "      <td>94.00</td>\n",
              "      <td>29.71</td>\n",
              "      <td>53.10</td>\n",
              "      <td>49.12</td>\n",
              "      <td>15.55</td>\n",
              "      <td>1.67</td>\n",
              "      <td>5.13</td>\n",
              "      <td>65.98</td>\n",
              "      <td>8.39</td>\n",
              "      <td>9.70</td>\n",
              "      <td>7.70</td>\n",
              "      <td>116.0</td>\n",
              "      <td>Moderate</td>\n",
              "    </tr>\n",
              "    <tr>\n",
              "      <th>28252</th>\n",
              "      <td>Visakhapatnam</td>\n",
              "      <td>2016-12-31</td>\n",
              "      <td>71.19</td>\n",
              "      <td>112.65</td>\n",
              "      <td>19.61</td>\n",
              "      <td>55.17</td>\n",
              "      <td>42.59</td>\n",
              "      <td>13.73</td>\n",
              "      <td>1.57</td>\n",
              "      <td>6.80</td>\n",
              "      <td>56.32</td>\n",
              "      <td>8.04</td>\n",
              "      <td>10.17</td>\n",
              "      <td>8.13</td>\n",
              "      <td>107.0</td>\n",
              "      <td>Moderate</td>\n",
              "    </tr>\n",
              "  </tbody>\n",
              "</table>\n",
              "<p>6279 rows × 16 columns</p>\n",
              "</div>\n",
              "      <button class=\"colab-df-convert\" onclick=\"convertToInteractive('df-ee527b8a-67a8-4ab6-89ee-508274eb8f0a')\"\n",
              "              title=\"Convert this dataframe to an interactive table.\"\n",
              "              style=\"display:none;\">\n",
              "        \n",
              "  <svg xmlns=\"http://www.w3.org/2000/svg\" height=\"24px\"viewBox=\"0 0 24 24\"\n",
              "       width=\"24px\">\n",
              "    <path d=\"M0 0h24v24H0V0z\" fill=\"none\"/>\n",
              "    <path d=\"M18.56 5.44l.94 2.06.94-2.06 2.06-.94-2.06-.94-.94-2.06-.94 2.06-2.06.94zm-11 1L8.5 8.5l.94-2.06 2.06-.94-2.06-.94L8.5 2.5l-.94 2.06-2.06.94zm10 10l.94 2.06.94-2.06 2.06-.94-2.06-.94-.94-2.06-.94 2.06-2.06.94z\"/><path d=\"M17.41 7.96l-1.37-1.37c-.4-.4-.92-.59-1.43-.59-.52 0-1.04.2-1.43.59L10.3 9.45l-7.72 7.72c-.78.78-.78 2.05 0 2.83L4 21.41c.39.39.9.59 1.41.59.51 0 1.02-.2 1.41-.59l7.78-7.78 2.81-2.81c.8-.78.8-2.07 0-2.86zM5.41 20L4 18.59l7.72-7.72 1.47 1.35L5.41 20z\"/>\n",
              "  </svg>\n",
              "      </button>\n",
              "      \n",
              "  <style>\n",
              "    .colab-df-container {\n",
              "      display:flex;\n",
              "      flex-wrap:wrap;\n",
              "      gap: 12px;\n",
              "    }\n",
              "\n",
              "    .colab-df-convert {\n",
              "      background-color: #E8F0FE;\n",
              "      border: none;\n",
              "      border-radius: 50%;\n",
              "      cursor: pointer;\n",
              "      display: none;\n",
              "      fill: #1967D2;\n",
              "      height: 32px;\n",
              "      padding: 0 0 0 0;\n",
              "      width: 32px;\n",
              "    }\n",
              "\n",
              "    .colab-df-convert:hover {\n",
              "      background-color: #E2EBFA;\n",
              "      box-shadow: 0px 1px 2px rgba(60, 64, 67, 0.3), 0px 1px 3px 1px rgba(60, 64, 67, 0.15);\n",
              "      fill: #174EA6;\n",
              "    }\n",
              "\n",
              "    [theme=dark] .colab-df-convert {\n",
              "      background-color: #3B4455;\n",
              "      fill: #D2E3FC;\n",
              "    }\n",
              "\n",
              "    [theme=dark] .colab-df-convert:hover {\n",
              "      background-color: #434B5C;\n",
              "      box-shadow: 0px 1px 3px 1px rgba(0, 0, 0, 0.15);\n",
              "      filter: drop-shadow(0px 1px 2px rgba(0, 0, 0, 0.3));\n",
              "      fill: #FFFFFF;\n",
              "    }\n",
              "  </style>\n",
              "\n",
              "      <script>\n",
              "        const buttonEl =\n",
              "          document.querySelector('#df-ee527b8a-67a8-4ab6-89ee-508274eb8f0a button.colab-df-convert');\n",
              "        buttonEl.style.display =\n",
              "          google.colab.kernel.accessAllowed ? 'block' : 'none';\n",
              "\n",
              "        async function convertToInteractive(key) {\n",
              "          const element = document.querySelector('#df-ee527b8a-67a8-4ab6-89ee-508274eb8f0a');\n",
              "          const dataTable =\n",
              "            await google.colab.kernel.invokeFunction('convertToInteractive',\n",
              "                                                     [key], {});\n",
              "          if (!dataTable) return;\n",
              "\n",
              "          const docLinkHtml = 'Like what you see? Visit the ' +\n",
              "            '<a target=\"_blank\" href=https://colab.research.google.com/notebooks/data_table.ipynb>data table notebook</a>'\n",
              "            + ' to learn more about interactive tables.';\n",
              "          element.innerHTML = '';\n",
              "          dataTable['output_type'] = 'display_data';\n",
              "          await google.colab.output.renderOutput(dataTable, element);\n",
              "          const docLink = document.createElement('div');\n",
              "          docLink.innerHTML = docLinkHtml;\n",
              "          element.appendChild(docLink);\n",
              "        }\n",
              "      </script>\n",
              "    </div>\n",
              "  </div>\n",
              "  "
            ]
          },
          "metadata": {},
          "execution_count": 17
        }
      ]
    },
    {
      "cell_type": "markdown",
      "source": [
        "##EDA on the 2 year data "
      ],
      "metadata": {
        "id": "o8FBMNRLdQRe"
      }
    },
    {
      "cell_type": "code",
      "source": [
        "data.info()"
      ],
      "metadata": {
        "id": "K_Gdw7ePco7S",
        "colab": {
          "base_uri": "https://localhost:8080/"
        },
        "outputId": "e82bc753-e940-40de-97d7-2078ca80b5e3"
      },
      "execution_count": null,
      "outputs": [
        {
          "output_type": "stream",
          "name": "stdout",
          "text": [
            "<class 'pandas.core.frame.DataFrame'>\n",
            "Int64Index: 6279 entries, 0 to 28252\n",
            "Data columns (total 16 columns):\n",
            " #   Column      Non-Null Count  Dtype  \n",
            "---  ------      --------------  -----  \n",
            " 0   City        6279 non-null   object \n",
            " 1   Date        6279 non-null   object \n",
            " 2   PM2.5       4500 non-null   float64\n",
            " 3   PM10        1669 non-null   float64\n",
            " 4   NO          5029 non-null   float64\n",
            " 5   NO2         5034 non-null   float64\n",
            " 6   NOx         5515 non-null   float64\n",
            " 7   NH3         2518 non-null   float64\n",
            " 8   CO          5782 non-null   float64\n",
            " 9   SO2         5044 non-null   float64\n",
            " 10  O3          4955 non-null   float64\n",
            " 11  Benzene     4777 non-null   float64\n",
            " 12  Toluene     4920 non-null   float64\n",
            " 13  Xylene      2595 non-null   float64\n",
            " 14  AQI         4400 non-null   float64\n",
            " 15  AQI_Bucket  4400 non-null   object \n",
            "dtypes: float64(13), object(3)\n",
            "memory usage: 833.9+ KB\n"
          ]
        }
      ]
    },
    {
      "cell_type": "code",
      "source": [
        "data.describe()"
      ],
      "metadata": {
        "id": "V8gOzNKcc0Yd",
        "colab": {
          "base_uri": "https://localhost:8080/",
          "height": 364
        },
        "outputId": "958ead1d-0dd4-4945-8a3a-6a59d2228c90"
      },
      "execution_count": null,
      "outputs": [
        {
          "output_type": "execute_result",
          "data": {
            "text/plain": [
              "             PM2.5         PM10           NO          NO2          NOx  \\\n",
              "count  4500.000000  1669.000000  5029.000000  5034.000000  5515.000000   \n",
              "mean     88.552982   157.929886    18.087538    27.788552    33.171443   \n",
              "std      83.282291   115.922054    24.938392    21.701525    36.710470   \n",
              "min       2.000000     8.220000     0.060000     0.040000     0.000000   \n",
              "25%      38.730000    84.490000     5.560000    12.732500    11.190000   \n",
              "50%      60.850000   109.290000     9.520000    20.590000    19.720000   \n",
              "75%     105.390000   202.910000    18.920000    36.485000    40.895000   \n",
              "max     914.940000   763.580000   287.140000   220.260000   467.630000   \n",
              "\n",
              "               NH3           CO          SO2           O3      Benzene  \\\n",
              "count  2518.000000  5782.000000  5044.000000  4955.000000  4777.000000   \n",
              "mean     38.657431     2.933599    11.647994    35.665229     3.222439   \n",
              "std      38.311116     6.612484    15.555558    24.971074    13.714989   \n",
              "min       0.020000     0.000000     0.520000     0.020000     0.000000   \n",
              "25%      15.132500     0.620000     4.417500    17.800000     0.160000   \n",
              "50%      28.790000     1.260000     7.310000    30.490000     0.950000   \n",
              "75%      44.117500     2.210000    12.720000    46.700000     2.930000   \n",
              "max     352.890000   145.320000   187.020000   257.730000   391.880000   \n",
              "\n",
              "           Toluene       Xylene          AQI  \n",
              "count  4920.000000  2595.000000  4400.000000  \n",
              "mean      6.331911     1.610778   203.508409  \n",
              "std      14.039497     3.167237   131.794763  \n",
              "min       0.000000     0.000000    20.000000  \n",
              "25%       0.590000     0.000000   107.000000  \n",
              "50%       2.500000     0.490000   159.000000  \n",
              "75%       7.572500     1.610000   283.000000  \n",
              "max     411.520000    42.030000  1842.000000  "
            ],
            "text/html": [
              "\n",
              "  <div id=\"df-91b5f81d-1e7c-42c2-aacd-f554314523f6\">\n",
              "    <div class=\"colab-df-container\">\n",
              "      <div>\n",
              "<style scoped>\n",
              "    .dataframe tbody tr th:only-of-type {\n",
              "        vertical-align: middle;\n",
              "    }\n",
              "\n",
              "    .dataframe tbody tr th {\n",
              "        vertical-align: top;\n",
              "    }\n",
              "\n",
              "    .dataframe thead th {\n",
              "        text-align: right;\n",
              "    }\n",
              "</style>\n",
              "<table border=\"1\" class=\"dataframe\">\n",
              "  <thead>\n",
              "    <tr style=\"text-align: right;\">\n",
              "      <th></th>\n",
              "      <th>PM2.5</th>\n",
              "      <th>PM10</th>\n",
              "      <th>NO</th>\n",
              "      <th>NO2</th>\n",
              "      <th>NOx</th>\n",
              "      <th>NH3</th>\n",
              "      <th>CO</th>\n",
              "      <th>SO2</th>\n",
              "      <th>O3</th>\n",
              "      <th>Benzene</th>\n",
              "      <th>Toluene</th>\n",
              "      <th>Xylene</th>\n",
              "      <th>AQI</th>\n",
              "    </tr>\n",
              "  </thead>\n",
              "  <tbody>\n",
              "    <tr>\n",
              "      <th>count</th>\n",
              "      <td>4500.000000</td>\n",
              "      <td>1669.000000</td>\n",
              "      <td>5029.000000</td>\n",
              "      <td>5034.000000</td>\n",
              "      <td>5515.000000</td>\n",
              "      <td>2518.000000</td>\n",
              "      <td>5782.000000</td>\n",
              "      <td>5044.000000</td>\n",
              "      <td>4955.000000</td>\n",
              "      <td>4777.000000</td>\n",
              "      <td>4920.000000</td>\n",
              "      <td>2595.000000</td>\n",
              "      <td>4400.000000</td>\n",
              "    </tr>\n",
              "    <tr>\n",
              "      <th>mean</th>\n",
              "      <td>88.552982</td>\n",
              "      <td>157.929886</td>\n",
              "      <td>18.087538</td>\n",
              "      <td>27.788552</td>\n",
              "      <td>33.171443</td>\n",
              "      <td>38.657431</td>\n",
              "      <td>2.933599</td>\n",
              "      <td>11.647994</td>\n",
              "      <td>35.665229</td>\n",
              "      <td>3.222439</td>\n",
              "      <td>6.331911</td>\n",
              "      <td>1.610778</td>\n",
              "      <td>203.508409</td>\n",
              "    </tr>\n",
              "    <tr>\n",
              "      <th>std</th>\n",
              "      <td>83.282291</td>\n",
              "      <td>115.922054</td>\n",
              "      <td>24.938392</td>\n",
              "      <td>21.701525</td>\n",
              "      <td>36.710470</td>\n",
              "      <td>38.311116</td>\n",
              "      <td>6.612484</td>\n",
              "      <td>15.555558</td>\n",
              "      <td>24.971074</td>\n",
              "      <td>13.714989</td>\n",
              "      <td>14.039497</td>\n",
              "      <td>3.167237</td>\n",
              "      <td>131.794763</td>\n",
              "    </tr>\n",
              "    <tr>\n",
              "      <th>min</th>\n",
              "      <td>2.000000</td>\n",
              "      <td>8.220000</td>\n",
              "      <td>0.060000</td>\n",
              "      <td>0.040000</td>\n",
              "      <td>0.000000</td>\n",
              "      <td>0.020000</td>\n",
              "      <td>0.000000</td>\n",
              "      <td>0.520000</td>\n",
              "      <td>0.020000</td>\n",
              "      <td>0.000000</td>\n",
              "      <td>0.000000</td>\n",
              "      <td>0.000000</td>\n",
              "      <td>20.000000</td>\n",
              "    </tr>\n",
              "    <tr>\n",
              "      <th>25%</th>\n",
              "      <td>38.730000</td>\n",
              "      <td>84.490000</td>\n",
              "      <td>5.560000</td>\n",
              "      <td>12.732500</td>\n",
              "      <td>11.190000</td>\n",
              "      <td>15.132500</td>\n",
              "      <td>0.620000</td>\n",
              "      <td>4.417500</td>\n",
              "      <td>17.800000</td>\n",
              "      <td>0.160000</td>\n",
              "      <td>0.590000</td>\n",
              "      <td>0.000000</td>\n",
              "      <td>107.000000</td>\n",
              "    </tr>\n",
              "    <tr>\n",
              "      <th>50%</th>\n",
              "      <td>60.850000</td>\n",
              "      <td>109.290000</td>\n",
              "      <td>9.520000</td>\n",
              "      <td>20.590000</td>\n",
              "      <td>19.720000</td>\n",
              "      <td>28.790000</td>\n",
              "      <td>1.260000</td>\n",
              "      <td>7.310000</td>\n",
              "      <td>30.490000</td>\n",
              "      <td>0.950000</td>\n",
              "      <td>2.500000</td>\n",
              "      <td>0.490000</td>\n",
              "      <td>159.000000</td>\n",
              "    </tr>\n",
              "    <tr>\n",
              "      <th>75%</th>\n",
              "      <td>105.390000</td>\n",
              "      <td>202.910000</td>\n",
              "      <td>18.920000</td>\n",
              "      <td>36.485000</td>\n",
              "      <td>40.895000</td>\n",
              "      <td>44.117500</td>\n",
              "      <td>2.210000</td>\n",
              "      <td>12.720000</td>\n",
              "      <td>46.700000</td>\n",
              "      <td>2.930000</td>\n",
              "      <td>7.572500</td>\n",
              "      <td>1.610000</td>\n",
              "      <td>283.000000</td>\n",
              "    </tr>\n",
              "    <tr>\n",
              "      <th>max</th>\n",
              "      <td>914.940000</td>\n",
              "      <td>763.580000</td>\n",
              "      <td>287.140000</td>\n",
              "      <td>220.260000</td>\n",
              "      <td>467.630000</td>\n",
              "      <td>352.890000</td>\n",
              "      <td>145.320000</td>\n",
              "      <td>187.020000</td>\n",
              "      <td>257.730000</td>\n",
              "      <td>391.880000</td>\n",
              "      <td>411.520000</td>\n",
              "      <td>42.030000</td>\n",
              "      <td>1842.000000</td>\n",
              "    </tr>\n",
              "  </tbody>\n",
              "</table>\n",
              "</div>\n",
              "      <button class=\"colab-df-convert\" onclick=\"convertToInteractive('df-91b5f81d-1e7c-42c2-aacd-f554314523f6')\"\n",
              "              title=\"Convert this dataframe to an interactive table.\"\n",
              "              style=\"display:none;\">\n",
              "        \n",
              "  <svg xmlns=\"http://www.w3.org/2000/svg\" height=\"24px\"viewBox=\"0 0 24 24\"\n",
              "       width=\"24px\">\n",
              "    <path d=\"M0 0h24v24H0V0z\" fill=\"none\"/>\n",
              "    <path d=\"M18.56 5.44l.94 2.06.94-2.06 2.06-.94-2.06-.94-.94-2.06-.94 2.06-2.06.94zm-11 1L8.5 8.5l.94-2.06 2.06-.94-2.06-.94L8.5 2.5l-.94 2.06-2.06.94zm10 10l.94 2.06.94-2.06 2.06-.94-2.06-.94-.94-2.06-.94 2.06-2.06.94z\"/><path d=\"M17.41 7.96l-1.37-1.37c-.4-.4-.92-.59-1.43-.59-.52 0-1.04.2-1.43.59L10.3 9.45l-7.72 7.72c-.78.78-.78 2.05 0 2.83L4 21.41c.39.39.9.59 1.41.59.51 0 1.02-.2 1.41-.59l7.78-7.78 2.81-2.81c.8-.78.8-2.07 0-2.86zM5.41 20L4 18.59l7.72-7.72 1.47 1.35L5.41 20z\"/>\n",
              "  </svg>\n",
              "      </button>\n",
              "      \n",
              "  <style>\n",
              "    .colab-df-container {\n",
              "      display:flex;\n",
              "      flex-wrap:wrap;\n",
              "      gap: 12px;\n",
              "    }\n",
              "\n",
              "    .colab-df-convert {\n",
              "      background-color: #E8F0FE;\n",
              "      border: none;\n",
              "      border-radius: 50%;\n",
              "      cursor: pointer;\n",
              "      display: none;\n",
              "      fill: #1967D2;\n",
              "      height: 32px;\n",
              "      padding: 0 0 0 0;\n",
              "      width: 32px;\n",
              "    }\n",
              "\n",
              "    .colab-df-convert:hover {\n",
              "      background-color: #E2EBFA;\n",
              "      box-shadow: 0px 1px 2px rgba(60, 64, 67, 0.3), 0px 1px 3px 1px rgba(60, 64, 67, 0.15);\n",
              "      fill: #174EA6;\n",
              "    }\n",
              "\n",
              "    [theme=dark] .colab-df-convert {\n",
              "      background-color: #3B4455;\n",
              "      fill: #D2E3FC;\n",
              "    }\n",
              "\n",
              "    [theme=dark] .colab-df-convert:hover {\n",
              "      background-color: #434B5C;\n",
              "      box-shadow: 0px 1px 3px 1px rgba(0, 0, 0, 0.15);\n",
              "      filter: drop-shadow(0px 1px 2px rgba(0, 0, 0, 0.3));\n",
              "      fill: #FFFFFF;\n",
              "    }\n",
              "  </style>\n",
              "\n",
              "      <script>\n",
              "        const buttonEl =\n",
              "          document.querySelector('#df-91b5f81d-1e7c-42c2-aacd-f554314523f6 button.colab-df-convert');\n",
              "        buttonEl.style.display =\n",
              "          google.colab.kernel.accessAllowed ? 'block' : 'none';\n",
              "\n",
              "        async function convertToInteractive(key) {\n",
              "          const element = document.querySelector('#df-91b5f81d-1e7c-42c2-aacd-f554314523f6');\n",
              "          const dataTable =\n",
              "            await google.colab.kernel.invokeFunction('convertToInteractive',\n",
              "                                                     [key], {});\n",
              "          if (!dataTable) return;\n",
              "\n",
              "          const docLinkHtml = 'Like what you see? Visit the ' +\n",
              "            '<a target=\"_blank\" href=https://colab.research.google.com/notebooks/data_table.ipynb>data table notebook</a>'\n",
              "            + ' to learn more about interactive tables.';\n",
              "          element.innerHTML = '';\n",
              "          dataTable['output_type'] = 'display_data';\n",
              "          await google.colab.output.renderOutput(dataTable, element);\n",
              "          const docLink = document.createElement('div');\n",
              "          docLink.innerHTML = docLinkHtml;\n",
              "          element.appendChild(docLink);\n",
              "        }\n",
              "      </script>\n",
              "    </div>\n",
              "  </div>\n",
              "  "
            ]
          },
          "metadata": {},
          "execution_count": 19
        }
      ]
    },
    {
      "cell_type": "code",
      "source": [
        "data.duplicated().sum()"
      ],
      "metadata": {
        "id": "sosmriu9dT26",
        "colab": {
          "base_uri": "https://localhost:8080/"
        },
        "outputId": "c356bdce-574c-49a2-d5eb-c6b324d84d0e"
      },
      "execution_count": null,
      "outputs": [
        {
          "output_type": "execute_result",
          "data": {
            "text/plain": [
              "0"
            ]
          },
          "metadata": {},
          "execution_count": 21
        }
      ]
    },
    {
      "cell_type": "code",
      "source": [
        "data['PM2.5'].unique()"
      ],
      "metadata": {
        "id": "-yADEgCvdZlJ",
        "colab": {
          "base_uri": "https://localhost:8080/"
        },
        "outputId": "5a85d064-91c0-4b39-8c98-c8d6f77fe4d0"
      },
      "execution_count": null,
      "outputs": [
        {
          "output_type": "execute_result",
          "data": {
            "text/plain": [
              "array([  nan, 73.24, 83.13, ..., 63.52, 78.21, 66.59])"
            ]
          },
          "metadata": {},
          "execution_count": 22
        }
      ]
    },
    {
      "cell_type": "code",
      "source": [
        "data['AQI_Bucket'].value_counts()"
      ],
      "metadata": {
        "id": "9DXKCyQodwoQ",
        "colab": {
          "base_uri": "https://localhost:8080/"
        },
        "outputId": "40c7dd6c-0469-4d3a-92d8-efbc203e583b"
      },
      "execution_count": null,
      "outputs": [
        {
          "output_type": "execute_result",
          "data": {
            "text/plain": [
              "Moderate        1796\n",
              "Satisfactory     772\n",
              "Poor             714\n",
              "Very Poor        650\n",
              "Severe           361\n",
              "Good             107\n",
              "Name: AQI_Bucket, dtype: int64"
            ]
          },
          "metadata": {},
          "execution_count": 23
        }
      ]
    },
    {
      "cell_type": "markdown",
      "source": [
        "Checking for null values in each column if present"
      ],
      "metadata": {
        "id": "8CyTGCZEdj_R"
      }
    },
    {
      "cell_type": "code",
      "source": [
        "data['PM2.5'].isnull().values.any()"
      ],
      "metadata": {
        "id": "WrX5Jr-Kesxs",
        "colab": {
          "base_uri": "https://localhost:8080/"
        },
        "outputId": "b18347b4-723a-4ca8-a7dd-0ae5a4b24ffc"
      },
      "execution_count": null,
      "outputs": [
        {
          "output_type": "execute_result",
          "data": {
            "text/plain": [
              "True"
            ]
          },
          "metadata": {},
          "execution_count": 25
        }
      ]
    },
    {
      "cell_type": "code",
      "source": [
        "data['PM2.5'].isnull().sum()"
      ],
      "metadata": {
        "id": "swbTXZLMEULc",
        "colab": {
          "base_uri": "https://localhost:8080/"
        },
        "outputId": "3964eaf4-6f28-4d20-ddca-fad372f8961a"
      },
      "execution_count": null,
      "outputs": [
        {
          "output_type": "execute_result",
          "data": {
            "text/plain": [
              "1779"
            ]
          },
          "metadata": {},
          "execution_count": 24
        }
      ]
    },
    {
      "cell_type": "code",
      "source": [
        "data['PM10'].isnull().values.any()"
      ],
      "metadata": {
        "id": "4bnV7i3xEUDz",
        "colab": {
          "base_uri": "https://localhost:8080/"
        },
        "outputId": "4515b026-f54e-4e6e-a5c0-5423643a6a59"
      },
      "execution_count": null,
      "outputs": [
        {
          "output_type": "execute_result",
          "data": {
            "text/plain": [
              "True"
            ]
          },
          "metadata": {},
          "execution_count": 26
        }
      ]
    },
    {
      "cell_type": "code",
      "source": [
        "data['PM10'].isnull().sum()"
      ],
      "metadata": {
        "id": "oeAGO065Eq0b",
        "colab": {
          "base_uri": "https://localhost:8080/"
        },
        "outputId": "efb97d47-016e-4548-9701-0114604c96aa"
      },
      "execution_count": null,
      "outputs": [
        {
          "output_type": "execute_result",
          "data": {
            "text/plain": [
              "4610"
            ]
          },
          "metadata": {},
          "execution_count": 27
        }
      ]
    },
    {
      "cell_type": "code",
      "source": [
        "data['NO'].isnull().values.any()"
      ],
      "metadata": {
        "id": "k07Ly4llEuU3",
        "colab": {
          "base_uri": "https://localhost:8080/"
        },
        "outputId": "249f347e-c8a8-41b0-b2e5-09b73555f40a"
      },
      "execution_count": null,
      "outputs": [
        {
          "output_type": "execute_result",
          "data": {
            "text/plain": [
              "True"
            ]
          },
          "metadata": {},
          "execution_count": 28
        }
      ]
    },
    {
      "cell_type": "code",
      "source": [
        "data['NO'].isnull().sum()"
      ],
      "metadata": {
        "id": "23w9LyMFExl4",
        "colab": {
          "base_uri": "https://localhost:8080/"
        },
        "outputId": "3b11e363-d79a-4abd-8f61-a582b7d8d74a"
      },
      "execution_count": null,
      "outputs": [
        {
          "output_type": "execute_result",
          "data": {
            "text/plain": [
              "1250"
            ]
          },
          "metadata": {},
          "execution_count": 29
        }
      ]
    },
    {
      "cell_type": "code",
      "source": [
        "data['NO2'].isnull().sum()"
      ],
      "metadata": {
        "id": "B_KVvC0zE0W9",
        "colab": {
          "base_uri": "https://localhost:8080/"
        },
        "outputId": "a4768585-b3db-479c-d784-67c0eeed465b"
      },
      "execution_count": null,
      "outputs": [
        {
          "output_type": "execute_result",
          "data": {
            "text/plain": [
              "1245"
            ]
          },
          "metadata": {},
          "execution_count": 30
        }
      ]
    },
    {
      "cell_type": "code",
      "source": [
        "data['NOx'].isnull().sum()"
      ],
      "metadata": {
        "id": "ncLL1J_6E5x0",
        "colab": {
          "base_uri": "https://localhost:8080/"
        },
        "outputId": "d074e8ce-6adf-4364-ec16-fc11ed337d28"
      },
      "execution_count": null,
      "outputs": [
        {
          "output_type": "execute_result",
          "data": {
            "text/plain": [
              "764"
            ]
          },
          "metadata": {},
          "execution_count": 31
        }
      ]
    },
    {
      "cell_type": "code",
      "source": [
        "data['NH3'].isnull().sum()"
      ],
      "metadata": {
        "id": "lCmw42W3E8th",
        "colab": {
          "base_uri": "https://localhost:8080/"
        },
        "outputId": "77b2a6c5-aae7-4707-c6e5-e50ff101766d"
      },
      "execution_count": null,
      "outputs": [
        {
          "output_type": "execute_result",
          "data": {
            "text/plain": [
              "3761"
            ]
          },
          "metadata": {},
          "execution_count": 32
        }
      ]
    },
    {
      "cell_type": "code",
      "source": [
        "data['CO'].isnull().sum()"
      ],
      "metadata": {
        "id": "Y23Tw9pCFDRe",
        "colab": {
          "base_uri": "https://localhost:8080/"
        },
        "outputId": "5e3ef42d-0451-4cc4-f021-e472d651ae92"
      },
      "execution_count": null,
      "outputs": [
        {
          "output_type": "execute_result",
          "data": {
            "text/plain": [
              "497"
            ]
          },
          "metadata": {},
          "execution_count": 33
        }
      ]
    },
    {
      "cell_type": "code",
      "source": [
        "data['SO2'].isnull().sum()"
      ],
      "metadata": {
        "id": "n1yo286FFD3A",
        "colab": {
          "base_uri": "https://localhost:8080/"
        },
        "outputId": "b9e4da94-71ee-42c3-dd6c-031cb5155459"
      },
      "execution_count": null,
      "outputs": [
        {
          "output_type": "execute_result",
          "data": {
            "text/plain": [
              "1235"
            ]
          },
          "metadata": {},
          "execution_count": 34
        }
      ]
    },
    {
      "cell_type": "code",
      "source": [
        "data['O3'].isnull().sum()"
      ],
      "metadata": {
        "id": "FAGZbPW2FEcV",
        "colab": {
          "base_uri": "https://localhost:8080/"
        },
        "outputId": "af5b6e06-a57b-4be0-ed04-d67926720d55"
      },
      "execution_count": null,
      "outputs": [
        {
          "output_type": "execute_result",
          "data": {
            "text/plain": [
              "1324"
            ]
          },
          "metadata": {},
          "execution_count": 35
        }
      ]
    },
    {
      "cell_type": "code",
      "source": [
        "data['Benzene'].isnull().sum()"
      ],
      "metadata": {
        "id": "Y3-zTLk4FFNK",
        "colab": {
          "base_uri": "https://localhost:8080/"
        },
        "outputId": "9e70ce01-5e90-4e6e-b8c7-6d844dda00f5"
      },
      "execution_count": null,
      "outputs": [
        {
          "output_type": "execute_result",
          "data": {
            "text/plain": [
              "1502"
            ]
          },
          "metadata": {},
          "execution_count": 36
        }
      ]
    },
    {
      "cell_type": "code",
      "source": [
        "data['Toluene'].isnull().sum()"
      ],
      "metadata": {
        "id": "wCCcBYtIFFwk",
        "colab": {
          "base_uri": "https://localhost:8080/"
        },
        "outputId": "e27edc90-a237-4fc4-fd86-820b79176340"
      },
      "execution_count": null,
      "outputs": [
        {
          "output_type": "execute_result",
          "data": {
            "text/plain": [
              "1359"
            ]
          },
          "metadata": {},
          "execution_count": 37
        }
      ]
    },
    {
      "cell_type": "code",
      "source": [
        "data['AQI'].isnull().sum()"
      ],
      "metadata": {
        "id": "b2xadcy4FTZF",
        "colab": {
          "base_uri": "https://localhost:8080/"
        },
        "outputId": "0ca6a58d-b935-43ff-a7c2-d6da67a7dc75"
      },
      "execution_count": null,
      "outputs": [
        {
          "output_type": "execute_result",
          "data": {
            "text/plain": [
              "1879"
            ]
          },
          "metadata": {},
          "execution_count": 38
        }
      ]
    },
    {
      "cell_type": "markdown",
      "source": [
        "Counting of the values in each column"
      ],
      "metadata": {
        "id": "h2zU_SA7eASC"
      }
    },
    {
      "cell_type": "code",
      "source": [
        "data['City'].value_counts()"
      ],
      "metadata": {
        "colab": {
          "base_uri": "https://localhost:8080/"
        },
        "id": "Bdgb7tSP-54N",
        "outputId": "49b45cb3-7f77-455b-bafc-c828746fcf71"
      },
      "execution_count": null,
      "outputs": [
        {
          "output_type": "execute_result",
          "data": {
            "text/plain": [
              "Ahmedabad        731\n",
              "Bengaluru        731\n",
              "Chennai          731\n",
              "Delhi            731\n",
              "Lucknow          731\n",
              "Mumbai           731\n",
              "Hyderabad        728\n",
              "Patna            580\n",
              "Gurugram         401\n",
              "Visakhapatnam    184\n",
              "Name: City, dtype: int64"
            ]
          },
          "metadata": {},
          "execution_count": 117
        }
      ]
    },
    {
      "cell_type": "code",
      "source": [
        "data['Date'].value_counts()"
      ],
      "metadata": {
        "colab": {
          "base_uri": "https://localhost:8080/"
        },
        "id": "tTtZoXf3-9fL",
        "outputId": "889e6717-f9a8-4359-b571-e14746014b2b"
      },
      "execution_count": null,
      "outputs": [
        {
          "output_type": "execute_result",
          "data": {
            "text/plain": [
              "2016-12-31    10\n",
              "2016-08-27    10\n",
              "2016-09-05    10\n",
              "2016-09-04    10\n",
              "2016-09-03    10\n",
              "              ..\n",
              "2015-04-10     7\n",
              "2015-01-04     7\n",
              "2015-01-03     6\n",
              "2015-01-02     6\n",
              "2015-01-01     6\n",
              "Name: Date, Length: 731, dtype: int64"
            ]
          },
          "metadata": {},
          "execution_count": 118
        }
      ]
    },
    {
      "cell_type": "code",
      "source": [
        "data['PM2.5'].value_counts()"
      ],
      "metadata": {
        "colab": {
          "base_uri": "https://localhost:8080/"
        },
        "id": "MmfYKx3M_CSU",
        "outputId": "2b9b9071-211f-4c69-dab1-dd30870d70a9"
      },
      "execution_count": null,
      "outputs": [
        {
          "output_type": "execute_result",
          "data": {
            "text/plain": [
              "56.00     1784\n",
              "43.91        4\n",
              "44.79        4\n",
              "42.06        4\n",
              "51.67        4\n",
              "          ... \n",
              "63.76        1\n",
              "76.10        1\n",
              "72.66        1\n",
              "121.94       1\n",
              "66.59        1\n",
              "Name: PM2.5, Length: 3864, dtype: int64"
            ]
          },
          "metadata": {},
          "execution_count": 119
        }
      ]
    },
    {
      "cell_type": "code",
      "source": [
        "data['NO'].value_counts()"
      ],
      "metadata": {
        "colab": {
          "base_uri": "https://localhost:8080/"
        },
        "id": "UvQNUzhd_Hmq",
        "outputId": "4f10a67d-79cf-4624-dfe5-742406793ff1"
      },
      "execution_count": null,
      "outputs": [
        {
          "output_type": "execute_result",
          "data": {
            "text/plain": [
              "3.99     1263\n",
              "5.24       13\n",
              "6.62       10\n",
              "9.63        9\n",
              "7.88        9\n",
              "         ... \n",
              "29.85       1\n",
              "25.48       1\n",
              "75.17       1\n",
              "16.26       1\n",
              "19.61       1\n",
              "Name: NO, Length: 2591, dtype: int64"
            ]
          },
          "metadata": {},
          "execution_count": 120
        }
      ]
    },
    {
      "cell_type": "code",
      "source": [
        "data['NO2'].value_counts()"
      ],
      "metadata": {
        "colab": {
          "base_uri": "https://localhost:8080/"
        },
        "id": "vIGB_PKg_LEX",
        "outputId": "3cab4dc5-29be-43d1-b3f1-f36564bb6284"
      },
      "execution_count": null,
      "outputs": [
        {
          "output_type": "execute_result",
          "data": {
            "text/plain": [
              "10.10    1253\n",
              "10.21       8\n",
              "10.14       8\n",
              "10.99       7\n",
              "12.82       7\n",
              "         ... \n",
              "52.53       1\n",
              "54.93       1\n",
              "62.84       1\n",
              "75.42       1\n",
              "55.17       1\n",
              "Name: NO2, Length: 3239, dtype: int64"
            ]
          },
          "metadata": {},
          "execution_count": 121
        }
      ]
    },
    {
      "cell_type": "code",
      "source": [
        "data['NOx'].value_counts()"
      ],
      "metadata": {
        "colab": {
          "base_uri": "https://localhost:8080/"
        },
        "id": "x10c-HRG_OZm",
        "outputId": "36d2277b-62c0-4653-9f70-1b9d0b55a92a"
      },
      "execution_count": null,
      "outputs": [
        {
          "output_type": "execute_result",
          "data": {
            "text/plain": [
              "4.22      971\n",
              "0.00       87\n",
              "6.24       80\n",
              "4.30       31\n",
              "2.21       28\n",
              "         ... \n",
              "78.07       1\n",
              "80.91       1\n",
              "105.26      1\n",
              "117.20      1\n",
              "42.59       1\n",
              "Name: NOx, Length: 3422, dtype: int64"
            ]
          },
          "metadata": {},
          "execution_count": 122
        }
      ]
    },
    {
      "cell_type": "code",
      "source": [
        "data['NH3'].value_counts()"
      ],
      "metadata": {
        "colab": {
          "base_uri": "https://localhost:8080/"
        },
        "id": "nBTEQ4hm_Qv8",
        "outputId": "d6784a8c-d619-4cd6-89fa-7b05e8c63a6f"
      },
      "execution_count": null,
      "outputs": [
        {
          "output_type": "execute_result",
          "data": {
            "text/plain": [
              "10.42    3771\n",
              "10.46       7\n",
              "10.39       6\n",
              "10.47       6\n",
              "10.40       6\n",
              "         ... \n",
              "59.74       1\n",
              "45.27       1\n",
              "48.22       1\n",
              "47.76       1\n",
              "15.55       1\n",
              "Name: NH3, Length: 2047, dtype: int64"
            ]
          },
          "metadata": {},
          "execution_count": 123
        }
      ]
    },
    {
      "cell_type": "code",
      "source": [
        "data['CO'].value_counts()"
      ],
      "metadata": {
        "colab": {
          "base_uri": "https://localhost:8080/"
        },
        "id": "DdNuu7HZ_T2l",
        "outputId": "e2e71567-0e0b-4565-a8ca-8a23bdd2731b"
      },
      "execution_count": null,
      "outputs": [
        {
          "output_type": "execute_result",
          "data": {
            "text/plain": [
              "0.00     1274\n",
              "1.14       39\n",
              "1.02       37\n",
              "1.16       34\n",
              "1.22       34\n",
              "         ... \n",
              "16.41       1\n",
              "8.09        1\n",
              "4.05        1\n",
              "18.30       1\n",
              "6.23        1\n",
              "Name: CO, Length: 1068, dtype: int64"
            ]
          },
          "metadata": {},
          "execution_count": 124
        }
      ]
    },
    {
      "cell_type": "code",
      "source": [
        "data['SO2'].value_counts()"
      ],
      "metadata": {
        "colab": {
          "base_uri": "https://localhost:8080/"
        },
        "id": "4xT9KV7o_V-B",
        "outputId": "b9f81f81-6f54-42dc-8ebe-26d31aa863c3"
      },
      "execution_count": null,
      "outputs": [
        {
          "output_type": "execute_result",
          "data": {
            "text/plain": [
              "5.53     1248\n",
              "2.63       11\n",
              "5.13       11\n",
              "2.85       10\n",
              "2.96        9\n",
              "         ... \n",
              "18.15       1\n",
              "15.04       1\n",
              "20.30       1\n",
              "14.85       1\n",
              "12.91       1\n",
              "Name: SO2, Length: 2105, dtype: int64"
            ]
          },
          "metadata": {},
          "execution_count": 125
        }
      ]
    },
    {
      "cell_type": "code",
      "source": [
        "data['O3'].value_counts()"
      ],
      "metadata": {
        "colab": {
          "base_uri": "https://localhost:8080/"
        },
        "id": "yCc1Tbb2_X5H",
        "outputId": "8dc29c32-3d9d-48ef-e91b-4b93b4907262"
      },
      "execution_count": null,
      "outputs": [
        {
          "output_type": "execute_result",
          "data": {
            "text/plain": [
              "13.38    1329\n",
              "10.34       5\n",
              "20.18       5\n",
              "0.10        5\n",
              "25.90       5\n",
              "         ... \n",
              "52.78       1\n",
              "59.49       1\n",
              "77.04       1\n",
              "83.13       1\n",
              "65.98       1\n",
              "Name: O3, Length: 3586, dtype: int64"
            ]
          },
          "metadata": {},
          "execution_count": 126
        }
      ]
    },
    {
      "cell_type": "code",
      "source": [
        "data['Benzene'].value_counts()"
      ],
      "metadata": {
        "colab": {
          "base_uri": "https://localhost:8080/"
        },
        "id": "RZOmhj3P_aPo",
        "outputId": "1a9ca90f-45e9-43aa-cb12-e1cb20585e12"
      },
      "execution_count": null,
      "outputs": [
        {
          "output_type": "execute_result",
          "data": {
            "text/plain": [
              "0.00     2259\n",
              "0.14       54\n",
              "0.13       45\n",
              "0.17       43\n",
              "0.11       42\n",
              "         ... \n",
              "16.19       1\n",
              "10.10       1\n",
              "11.10       1\n",
              "10.04       1\n",
              "8.04        1\n",
              "Name: Benzene, Length: 967, dtype: int64"
            ]
          },
          "metadata": {},
          "execution_count": 127
        }
      ]
    },
    {
      "cell_type": "code",
      "source": [
        "data['Toluene'].value_counts()"
      ],
      "metadata": {
        "colab": {
          "base_uri": "https://localhost:8080/"
        },
        "id": "8HBdky-q_doN",
        "outputId": "e91cef23-5b57-429d-c6e3-2b8ac20013e7"
      },
      "execution_count": null,
      "outputs": [
        {
          "output_type": "execute_result",
          "data": {
            "text/plain": [
              "0.00     2102\n",
              "0.21       25\n",
              "0.75       23\n",
              "0.18       18\n",
              "0.74       17\n",
              "         ... \n",
              "12.65       1\n",
              "11.93       1\n",
              "7.56        1\n",
              "11.05       1\n",
              "9.70        1\n",
              "Name: Toluene, Length: 1606, dtype: int64"
            ]
          },
          "metadata": {},
          "execution_count": 128
        }
      ]
    },
    {
      "cell_type": "code",
      "source": [
        "data['Xylene'].value_counts()"
      ],
      "metadata": {
        "colab": {
          "base_uri": "https://localhost:8080/"
        },
        "id": "xfgcLQ1-_gkg",
        "outputId": "10aa9422-ac14-40a0-8961-c1ae6d34db9a"
      },
      "execution_count": null,
      "outputs": [
        {
          "output_type": "execute_result",
          "data": {
            "text/plain": [
              "0.00     4409\n",
              "0.13       22\n",
              "0.01       20\n",
              "0.02       19\n",
              "0.09       19\n",
              "         ... \n",
              "9.41        1\n",
              "4.38        1\n",
              "12.44       1\n",
              "14.17       1\n",
              "8.13        1\n",
              "Name: Xylene, Length: 604, dtype: int64"
            ]
          },
          "metadata": {},
          "execution_count": 129
        }
      ]
    },
    {
      "cell_type": "code",
      "source": [
        "data['AQI'].value_counts()"
      ],
      "metadata": {
        "colab": {
          "base_uri": "https://localhost:8080/"
        },
        "id": "09hprgmw_jJu",
        "outputId": "dc612dfa-f7a7-43a5-d856-7279d119d84b"
      },
      "execution_count": null,
      "outputs": [
        {
          "output_type": "execute_result",
          "data": {
            "text/plain": [
              "117.0    1921\n",
              "102.0      42\n",
              "104.0      40\n",
              "106.0      40\n",
              "120.0      38\n",
              "         ... \n",
              "255.0       1\n",
              "449.0       1\n",
              "434.0       1\n",
              "798.0       1\n",
              "565.0       1\n",
              "Name: AQI, Length: 553, dtype: int64"
            ]
          },
          "metadata": {},
          "execution_count": 130
        }
      ]
    },
    {
      "cell_type": "code",
      "source": [
        "data['AQI_Bucket'].value_counts()"
      ],
      "metadata": {
        "colab": {
          "base_uri": "https://localhost:8080/"
        },
        "id": "hyB1pujA_llx",
        "outputId": "80750f1a-8a20-4b8c-dda0-456dd0750b48"
      },
      "execution_count": null,
      "outputs": [
        {
          "output_type": "execute_result",
          "data": {
            "text/plain": [
              "Moderate        3675\n",
              "Satisfactory     772\n",
              "Poor             714\n",
              "Very Poor        650\n",
              "Severe           361\n",
              "Good             107\n",
              "Name: AQI_Bucket, dtype: int64"
            ]
          },
          "metadata": {},
          "execution_count": 131
        }
      ]
    },
    {
      "cell_type": "code",
      "source": [
        "print(data['City'].isna().sum())\n",
        "print(data['Date'].isna().sum())\n",
        "print(data['PM2.5'].isna().sum())\n",
        "print(data['PM10'].isna().sum())\n",
        "print(data['NO'].isna().sum())\n",
        "print(data['NO2'].isna().sum())\n",
        "print(data['NOx'].isna().sum())\n",
        "print(data['NH3'].isna().sum())\n",
        "print(data['CO'].isna().sum())\n",
        "print(data['SO2'].isna().sum())\n",
        "print(data['O3'].isna().sum())\n",
        "print(data['Benzene'].isna().sum())\n",
        "print(data['Toluene'].isna().sum())\n",
        "print(data['Xylene'].isna().sum())\n",
        "print(data['AQI'].isna().sum())\n",
        "print(data['AQI_Bucket'].isna().sum())"
      ],
      "metadata": {
        "id": "F2CkYC8HmVf6",
        "colab": {
          "base_uri": "https://localhost:8080/"
        },
        "outputId": "0109f578-371c-43fc-ceea-c05c63700df6"
      },
      "execution_count": null,
      "outputs": [
        {
          "output_type": "stream",
          "name": "stdout",
          "text": [
            "0\n",
            "0\n",
            "1779\n",
            "4610\n",
            "1250\n",
            "1245\n",
            "764\n",
            "3761\n",
            "497\n",
            "1235\n",
            "1324\n",
            "1502\n",
            "1359\n",
            "3684\n",
            "1879\n",
            "1879\n"
          ]
        }
      ]
    },
    {
      "cell_type": "markdown",
      "source": [
        "Showing correlation between each feature(non-categorical) via heatmap"
      ],
      "metadata": {
        "id": "KdxbmhQceMjr"
      }
    },
    {
      "cell_type": "code",
      "source": [
        "corr = data.corr()\n",
        "corr\n",
        "\n",
        "# Figure size\n",
        "plt.figure(figsize=(16,8))\n",
        "\n",
        "# Heatmap\n",
        "sns.heatmap(corr, cmap=\"YlGnBu\", annot=True)\n",
        "plt.show()"
      ],
      "metadata": {
        "colab": {
          "base_uri": "https://localhost:8080/",
          "height": 487
        },
        "id": "mViEP-Ve_y4D",
        "outputId": "03d74610-104c-49c9-afb1-43ef993ebbbe"
      },
      "execution_count": null,
      "outputs": [
        {
          "output_type": "display_data",
          "data": {
            "text/plain": [
              "<Figure size 1152x576 with 2 Axes>"
            ],
            "image/png": "[encoded data removed]"
          },
          "metadata": {
            "needs_background": "light"
          }
        }
      ]
    },
    {
      "cell_type": "markdown",
      "source": [
        "visualization of null value distribution across feature"
      ],
      "metadata": {
        "id": "6Wmg5HfR-rit"
      }
    },
    {
      "cell_type": "code",
      "source": [
        "import missingno as msno\n",
        "msno.bar(data)"
      ],
      "metadata": {
        "id": "CCdQnHMTpXSu",
        "colab": {
          "base_uri": "https://localhost:8080/",
          "height": 608
        },
        "outputId": "f41e1de7-4303-4293-8ccc-99a82b1f3b21"
      },
      "execution_count": null,
      "outputs": [
        {
          "output_type": "execute_result",
          "data": {
            "text/plain": [
              "<matplotlib.axes._subplots.AxesSubplot at 0x7f0e6ca115e0>"
            ]
          },
          "metadata": {},
          "execution_count": 40
        },
        {
          "output_type": "display_data",
          "data": {
            "text/plain": [
              "<Figure size 1800x720 with 3 Axes>"
            ],
            "image/png": "[encoded data removed]"
          },
          "metadata": {
            "needs_background": "light"
          }
        }
      ]
    },
    {
      "cell_type": "markdown",
      "source": [
        "Each bar represents a column within the dataframe. The height of the bar indicates the level of missing values in that column: the lower the bar is, the more missing values it has.PM10 Column has highest number of missing values followed by NH3 column.\n",
        "City column does not any null value as seen from the above null value distribution."
      ],
      "metadata": {
        "id": "TRaHNqbsqs1g"
      }
    },
    {
      "cell_type": "code",
      "source": [
        "data['City'].value_counts()"
      ],
      "metadata": {
        "id": "BOd66atfstPK",
        "colab": {
          "base_uri": "https://localhost:8080/"
        },
        "outputId": "8d1ae637-032e-43b4-ba52-49294f2efbca"
      },
      "execution_count": null,
      "outputs": [
        {
          "output_type": "execute_result",
          "data": {
            "text/plain": [
              "Ahmedabad        731\n",
              "Bengaluru        731\n",
              "Chennai          731\n",
              "Delhi            731\n",
              "Lucknow          731\n",
              "Mumbai           731\n",
              "Hyderabad        728\n",
              "Patna            580\n",
              "Gurugram         401\n",
              "Visakhapatnam    184\n",
              "Name: City, dtype: int64"
            ]
          },
          "metadata": {},
          "execution_count": 41
        }
      ]
    },
    {
      "cell_type": "markdown",
      "source": [
        "City distibution visualization"
      ],
      "metadata": {
        "id": "yV5PfMS7eiVZ"
      }
    },
    {
      "cell_type": "code",
      "source": [
        "\n",
        "l1=['Ahmedabad','Bengaluru','Chennai','Delhi','Lucknow','Mumbai','Hyderabad','Patna','Gurugram','Visakhapatnam']\n",
        "l2=[731,731,731,731,731,731,728,580,401,184]    \n",
        "\n",
        "plt.figure(figsize=(20,20))\n",
        "plt.bar(l1,l2,color='blue')\n",
        "plt.xlabel('City')\n",
        "plt.ylabel('Count')\n",
        "plt.title('Assignment 1')\n",
        "plt.show()"
      ],
      "metadata": {
        "id": "pTb8-dM1sF_H",
        "colab": {
          "base_uri": "https://localhost:8080/",
          "height": 1000
        },
        "outputId": "e6d4da68-8c0d-4af1-cf4f-b7c5942b8427"
      },
      "execution_count": null,
      "outputs": [
        {
          "output_type": "display_data",
          "data": {
            "text/plain": [
              "<Figure size 1440x1440 with 1 Axes>"
            ],
            "image/png": "[encoded data removed]"
          },
          "metadata": {
            "needs_background": "light"
          }
        }
      ]
    },
    {
      "cell_type": "markdown",
      "source": [
        "Data imputation is basically handling missing values.Some of the techniques are\n",
        "(1)Drop rows or samples having missing values(n/a)if sufficient data\n",
        "(2)Replace missing value by mean of rest of values in column\n",
        "(3)Replace missing value by median of rest of values in column\n",
        "(4)Missing data by models like k-nn,Regression,Deep learning\n",
        "(5)MaCH is a tool for genotype imputation and haplotyping using WGS sequence data.It uses a Markov chain approach\n",
        "(6)AutoImpute:Autoencoder based imputation of single-cell-RNA-seq data\n",
        "(7)mice:Multivariate Imputation by Chained Equation"
      ],
      "metadata": {
        "id": "uGB6hXn8vx3k"
      }
    },
    {
      "cell_type": "code",
      "source": [
        "data.isnull().mean()"
      ],
      "metadata": {
        "id": "xDRXAYcH6s4Z",
        "colab": {
          "base_uri": "https://localhost:8080/"
        },
        "outputId": "4b5d71a3-fad6-4837-9b58-4bd6ed22f81f"
      },
      "execution_count": null,
      "outputs": [
        {
          "output_type": "execute_result",
          "data": {
            "text/plain": [
              "City          0.000000\n",
              "Date          0.000000\n",
              "PM2.5         0.283325\n",
              "PM10          0.734193\n",
              "NO            0.199076\n",
              "NO2           0.198280\n",
              "NOx           0.121675\n",
              "NH3           0.598981\n",
              "CO            0.079153\n",
              "SO2           0.196687\n",
              "O3            0.210862\n",
              "Benzene       0.239210\n",
              "Toluene       0.216436\n",
              "Xylene        0.586718\n",
              "AQI           0.299251\n",
              "AQI_Bucket    0.299251\n",
              "dtype: float64"
            ]
          },
          "metadata": {},
          "execution_count": 43
        }
      ]
    },
    {
      "cell_type": "code",
      "source": [
        "data['Date'].value_counts()"
      ],
      "metadata": {
        "id": "1Gjpz-YvFNTw",
        "colab": {
          "base_uri": "https://localhost:8080/"
        },
        "outputId": "ec890621-31e2-4cfa-e4ec-5b9ff85c65de"
      },
      "execution_count": null,
      "outputs": [
        {
          "output_type": "execute_result",
          "data": {
            "text/plain": [
              "2016-12-31    10\n",
              "2016-08-27    10\n",
              "2016-09-05    10\n",
              "2016-09-04    10\n",
              "2016-09-03    10\n",
              "              ..\n",
              "2015-04-10     7\n",
              "2015-01-04     7\n",
              "2015-01-03     6\n",
              "2015-01-02     6\n",
              "2015-01-01     6\n",
              "Name: Date, Length: 731, dtype: int64"
            ]
          },
          "metadata": {},
          "execution_count": 44
        }
      ]
    },
    {
      "cell_type": "code",
      "source": [
        "data['PM2.5'].value_counts()"
      ],
      "metadata": {
        "id": "Zc8Eal6wFQ1N"
      },
      "execution_count": null,
      "outputs": []
    },
    {
      "cell_type": "code",
      "source": [
        "data['PM10'].value_counts()"
      ],
      "metadata": {
        "id": "k-cA1-CAGOA0",
        "colab": {
          "base_uri": "https://localhost:8080/"
        },
        "outputId": "f9b35e93-8168-4d8f-a6e2-6f890ed50e8e"
      },
      "execution_count": null,
      "outputs": [
        {
          "output_type": "execute_result",
          "data": {
            "text/plain": [
              "94.00     8\n",
              "101.42    3\n",
              "99.88     3\n",
              "48.92     3\n",
              "96.69     3\n",
              "         ..\n",
              "175.39    1\n",
              "236.80    1\n",
              "239.12    1\n",
              "275.60    1\n",
              "112.65    1\n",
              "Name: PM10, Length: 1596, dtype: int64"
            ]
          },
          "metadata": {},
          "execution_count": 46
        }
      ]
    },
    {
      "cell_type": "code",
      "source": [
        "data['NO'].value_counts()"
      ],
      "metadata": {
        "id": "4bsdq_qjGQ9D",
        "colab": {
          "base_uri": "https://localhost:8080/"
        },
        "outputId": "b30417fa-75a0-4d8e-b192-aa4e2c713d57"
      },
      "execution_count": null,
      "outputs": [
        {
          "output_type": "execute_result",
          "data": {
            "text/plain": [
              "3.99     13\n",
              "5.24     13\n",
              "6.62     10\n",
              "5.93      9\n",
              "5.41      9\n",
              "         ..\n",
              "58.30     1\n",
              "29.85     1\n",
              "25.48     1\n",
              "75.17     1\n",
              "19.61     1\n",
              "Name: NO, Length: 2591, dtype: int64"
            ]
          },
          "metadata": {},
          "execution_count": 47
        }
      ]
    },
    {
      "cell_type": "code",
      "source": [
        "data['NO2'].value_counts()"
      ],
      "metadata": {
        "id": "WESj2SHXGdDf",
        "colab": {
          "base_uri": "https://localhost:8080/"
        },
        "outputId": "36a0259f-7343-4724-fb20-475370a31242"
      },
      "execution_count": null,
      "outputs": [
        {
          "output_type": "execute_result",
          "data": {
            "text/plain": [
              "10.10    8\n",
              "10.14    8\n",
              "10.21    8\n",
              "10.99    7\n",
              "10.13    7\n",
              "        ..\n",
              "52.53    1\n",
              "54.93    1\n",
              "62.84    1\n",
              "75.42    1\n",
              "55.17    1\n",
              "Name: NO2, Length: 3239, dtype: int64"
            ]
          },
          "metadata": {},
          "execution_count": 48
        }
      ]
    },
    {
      "cell_type": "code",
      "source": [
        "data['NOx'].value_counts()"
      ],
      "metadata": {
        "id": "NLym3P0bGfQm",
        "colab": {
          "base_uri": "https://localhost:8080/"
        },
        "outputId": "47b6911f-af39-4bd7-b257-1d2444d3dd81"
      },
      "execution_count": null,
      "outputs": [
        {
          "output_type": "execute_result",
          "data": {
            "text/plain": [
              "4.22      207\n",
              "0.00       87\n",
              "6.24       80\n",
              "4.30       31\n",
              "2.21       28\n",
              "         ... \n",
              "78.07       1\n",
              "80.91       1\n",
              "105.26      1\n",
              "117.20      1\n",
              "42.59       1\n",
              "Name: NOx, Length: 3422, dtype: int64"
            ]
          },
          "metadata": {},
          "execution_count": 49
        }
      ]
    },
    {
      "cell_type": "code",
      "source": [
        "data['NH3'].value_counts()"
      ],
      "metadata": {
        "id": "YFSDoX-hGhsD",
        "colab": {
          "base_uri": "https://localhost:8080/"
        },
        "outputId": "e2d18403-64ed-41bd-836e-4ea348c73082"
      },
      "execution_count": null,
      "outputs": [
        {
          "output_type": "execute_result",
          "data": {
            "text/plain": [
              "10.42    10\n",
              "10.46     7\n",
              "10.39     6\n",
              "10.40     6\n",
              "10.35     6\n",
              "         ..\n",
              "47.49     1\n",
              "59.74     1\n",
              "45.27     1\n",
              "48.22     1\n",
              "15.55     1\n",
              "Name: NH3, Length: 2047, dtype: int64"
            ]
          },
          "metadata": {},
          "execution_count": 50
        }
      ]
    },
    {
      "cell_type": "code",
      "source": [
        "data['CO'].value_counts()"
      ],
      "metadata": {
        "id": "g0vxzjBgGhiw",
        "colab": {
          "base_uri": "https://localhost:8080/"
        },
        "outputId": "c6920ae0-038e-4635-fab5-bbbc991bebfe"
      },
      "execution_count": null,
      "outputs": [
        {
          "output_type": "execute_result",
          "data": {
            "text/plain": [
              "0.00     777\n",
              "1.14      39\n",
              "1.02      37\n",
              "1.22      34\n",
              "1.16      34\n",
              "        ... \n",
              "16.41      1\n",
              "8.09       1\n",
              "4.05       1\n",
              "18.30      1\n",
              "6.23       1\n",
              "Name: CO, Length: 1068, dtype: int64"
            ]
          },
          "metadata": {},
          "execution_count": 51
        }
      ]
    },
    {
      "cell_type": "code",
      "source": [
        "data['SO2'].value_counts()"
      ],
      "metadata": {
        "id": "6zJxPckfGmqn",
        "colab": {
          "base_uri": "https://localhost:8080/"
        },
        "outputId": "5eb029a8-9253-47ed-b49d-791f495a89e7"
      },
      "execution_count": null,
      "outputs": [
        {
          "output_type": "execute_result",
          "data": {
            "text/plain": [
              "5.53     13\n",
              "5.13     11\n",
              "2.63     11\n",
              "2.85     10\n",
              "4.43      9\n",
              "         ..\n",
              "18.15     1\n",
              "15.04     1\n",
              "20.30     1\n",
              "14.85     1\n",
              "12.91     1\n",
              "Name: SO2, Length: 2105, dtype: int64"
            ]
          },
          "metadata": {},
          "execution_count": 52
        }
      ]
    },
    {
      "cell_type": "code",
      "source": [
        "data['O3'].value_counts()"
      ],
      "metadata": {
        "id": "9zSQOC3QGpUH",
        "colab": {
          "base_uri": "https://localhost:8080/"
        },
        "outputId": "b4aadb33-3218-4405-eb19-a9dd2be9c44a"
      },
      "execution_count": null,
      "outputs": [
        {
          "output_type": "execute_result",
          "data": {
            "text/plain": [
              "13.38    5\n",
              "20.18    5\n",
              "25.90    5\n",
              "0.10     5\n",
              "10.34    5\n",
              "        ..\n",
              "52.78    1\n",
              "59.49    1\n",
              "77.04    1\n",
              "83.13    1\n",
              "65.98    1\n",
              "Name: O3, Length: 3586, dtype: int64"
            ]
          },
          "metadata": {},
          "execution_count": 53
        }
      ]
    },
    {
      "cell_type": "code",
      "source": [
        "data['Benzene'].value_counts()"
      ],
      "metadata": {
        "id": "72UpAI0oGrnD",
        "colab": {
          "base_uri": "https://localhost:8080/"
        },
        "outputId": "7a28cae2-e51f-4bef-99ae-ac4358748d6e"
      },
      "execution_count": null,
      "outputs": [
        {
          "output_type": "execute_result",
          "data": {
            "text/plain": [
              "0.00     757\n",
              "0.14      54\n",
              "0.13      45\n",
              "0.17      43\n",
              "0.11      42\n",
              "        ... \n",
              "16.19      1\n",
              "10.10      1\n",
              "11.10      1\n",
              "10.04      1\n",
              "8.04       1\n",
              "Name: Benzene, Length: 967, dtype: int64"
            ]
          },
          "metadata": {},
          "execution_count": 54
        }
      ]
    },
    {
      "cell_type": "code",
      "source": [
        "data['Toluene'].value_counts()"
      ],
      "metadata": {
        "id": "R8Fkp95vGuj6",
        "colab": {
          "base_uri": "https://localhost:8080/"
        },
        "outputId": "80c840a9-66f1-4003-f141-c234756fa50e"
      },
      "execution_count": null,
      "outputs": [
        {
          "output_type": "execute_result",
          "data": {
            "text/plain": [
              "0.00     743\n",
              "0.21      25\n",
              "0.75      23\n",
              "0.18      18\n",
              "0.74      17\n",
              "        ... \n",
              "12.65      1\n",
              "11.93      1\n",
              "7.56       1\n",
              "11.05      1\n",
              "9.70       1\n",
              "Name: Toluene, Length: 1606, dtype: int64"
            ]
          },
          "metadata": {},
          "execution_count": 55
        }
      ]
    },
    {
      "cell_type": "code",
      "source": [
        "data['Xylene'].value_counts()"
      ],
      "metadata": {
        "id": "Wt6Z3r3pGxhF",
        "colab": {
          "base_uri": "https://localhost:8080/"
        },
        "outputId": "179f247e-9fb5-4cf3-9745-e9eb91f598c5"
      },
      "execution_count": null,
      "outputs": [
        {
          "output_type": "execute_result",
          "data": {
            "text/plain": [
              "0.00     725\n",
              "0.13      22\n",
              "0.01      20\n",
              "0.02      19\n",
              "0.09      19\n",
              "        ... \n",
              "9.41       1\n",
              "4.38       1\n",
              "12.44      1\n",
              "14.17      1\n",
              "8.13       1\n",
              "Name: Xylene, Length: 604, dtype: int64"
            ]
          },
          "metadata": {},
          "execution_count": 56
        }
      ]
    },
    {
      "cell_type": "code",
      "source": [
        "data['AQI'].value_counts()"
      ],
      "metadata": {
        "id": "kLOqsb0XG2Zm",
        "colab": {
          "base_uri": "https://localhost:8080/"
        },
        "outputId": "1e2b2e79-9145-4c3b-f593-14005295b80a"
      },
      "execution_count": null,
      "outputs": [
        {
          "output_type": "execute_result",
          "data": {
            "text/plain": [
              "117.0    42\n",
              "102.0    42\n",
              "104.0    40\n",
              "106.0    40\n",
              "120.0    38\n",
              "         ..\n",
              "255.0     1\n",
              "720.0     1\n",
              "883.0     1\n",
              "505.0     1\n",
              "565.0     1\n",
              "Name: AQI, Length: 553, dtype: int64"
            ]
          },
          "metadata": {},
          "execution_count": 57
        }
      ]
    },
    {
      "cell_type": "code",
      "source": [
        "data['AQI_Bucket'].value_counts()"
      ],
      "metadata": {
        "id": "zu9cId6mG5GI",
        "colab": {
          "base_uri": "https://localhost:8080/"
        },
        "outputId": "0c6d223a-1ec8-405c-c7f6-19584b5f5081"
      },
      "execution_count": null,
      "outputs": [
        {
          "output_type": "execute_result",
          "data": {
            "text/plain": [
              "Moderate        1796\n",
              "Satisfactory     772\n",
              "Poor             714\n",
              "Very Poor        650\n",
              "Severe           361\n",
              "Good             107\n",
              "Name: AQI_Bucket, dtype: int64"
            ]
          },
          "metadata": {},
          "execution_count": 58
        }
      ]
    },
    {
      "cell_type": "markdown",
      "source": [
        "# **Imputation**"
      ],
      "metadata": {
        "id": "ZvhDKiVl2v_W"
      }
    },
    {
      "cell_type": "markdown",
      "source": [
        "Among various methods of data imputation,I had chosen to implement Frequent Category Imputation"
      ],
      "metadata": {
        "id": "Rz7pe1Nrexxy"
      }
    },
    {
      "cell_type": "code",
      "source": [
        "data['City']=data['City'].fillna('Ahmedabad')\n",
        "data['Date']=data['Date'].fillna('2016-12-31')\n",
        "data['PM2.5']=data['PM2.5'].fillna(56.00)\n",
        "data['PM10']=data['PM10'].fillna(94.00)\n",
        "data['NO']=data['NO'].fillna(3.99)\n",
        "data['NO2']=data['NO2'].fillna(10.10)\n",
        "data['NOx']=data['NOx'].fillna(4.22)\n",
        "data['NH3']=data['NH3'].fillna(10.42)\n",
        "data['CO']=data['CO'].fillna(0.00)\n",
        "data['SO2']=data['SO2'].fillna(5.53)\n",
        "data['O3']=data['O3'].fillna(13.38)\n",
        "data['Benzene']=data['Benzene'].fillna(0.00)\n",
        "data['Toluene']=data['Toluene'].fillna(0.00)\n",
        "data['Xylene']=data['Xylene'].fillna(0.00)\n",
        "data['AQI']=data['AQI'].fillna(117.0)\n",
        "data['AQI_Bucket']=data['AQI_Bucket'].fillna('Moderate')"
      ],
      "metadata": {
        "id": "AQRhdaVQHZaJ"
      },
      "execution_count": null,
      "outputs": []
    },
    {
      "cell_type": "code",
      "source": [
        "data.info()"
      ],
      "metadata": {
        "id": "GuauvxkNIIqn",
        "colab": {
          "base_uri": "https://localhost:8080/"
        },
        "outputId": "dca1616f-c383-432c-ce9a-ca7baee55e6d"
      },
      "execution_count": null,
      "outputs": [
        {
          "output_type": "stream",
          "name": "stdout",
          "text": [
            "<class 'pandas.core.frame.DataFrame'>\n",
            "Int64Index: 6279 entries, 0 to 28252\n",
            "Data columns (total 16 columns):\n",
            " #   Column      Non-Null Count  Dtype  \n",
            "---  ------      --------------  -----  \n",
            " 0   City        6279 non-null   object \n",
            " 1   Date        6279 non-null   object \n",
            " 2   PM2.5       6279 non-null   float64\n",
            " 3   PM10        6279 non-null   float64\n",
            " 4   NO          6279 non-null   float64\n",
            " 5   NO2         6279 non-null   float64\n",
            " 6   NOx         6279 non-null   float64\n",
            " 7   NH3         6279 non-null   float64\n",
            " 8   CO          6279 non-null   float64\n",
            " 9   SO2         6279 non-null   float64\n",
            " 10  O3          6279 non-null   float64\n",
            " 11  Benzene     6279 non-null   float64\n",
            " 12  Toluene     6279 non-null   float64\n",
            " 13  Xylene      6279 non-null   float64\n",
            " 14  AQI         6279 non-null   float64\n",
            " 15  AQI_Bucket  6279 non-null   object \n",
            "dtypes: float64(13), object(3)\n",
            "memory usage: 833.9+ KB\n"
          ]
        }
      ]
    },
    {
      "cell_type": "markdown",
      "source": [
        "Frequent Category Imputation\n",
        "This technique says to replace the missing value with the variable with the highest frequency or in simple words replacing the values with the Mode of that column. This technique is also referred to as Mode Imputation.\n",
        "\n",
        "Assumptions:-\n",
        "Data is missing at random.\n",
        "There is a high probability that the missing data looks like the majority of the data.\n",
        "Advantages:-\n",
        "Implementation is easy.\n",
        "We can obtain a complete dataset in very little time.\n",
        "We can use this technique in the production model.\n",
        "Disadvantages:-\n",
        "The higher the percentage of missing values, the higher will be the distortion.\n",
        "May lead to over-representation of a particular category.\n",
        "Can distort original variable distribution."
      ],
      "metadata": {
        "id": "8v9-RhKtIVHU"
      }
    },
    {
      "cell_type": "markdown",
      "source": [
        "# **question 3(c) (from scratch)**"
      ],
      "metadata": {
        "id": "Qwr9CvJ_g4-A"
      }
    },
    {
      "cell_type": "markdown",
      "source": [
        "Loading the file"
      ],
      "metadata": {
        "id": "WXzZIKU7e8Sl"
      }
    },
    {
      "cell_type": "code",
      "source": [
        "import pandas as pd\n",
        "import numpy as np\n",
        "import matplotlib.pyplot as plt"
      ],
      "metadata": {
        "id": "LS-dWklrgsKJ"
      },
      "execution_count": 2,
      "outputs": []
    },
    {
      "cell_type": "code",
      "source": [
        "\n",
        "url = 'https://www4.stat.ncsu.edu/~boos/var.select/diabetes.tab.txt'\n",
        "df = pd.read_csv(url)"
      ],
      "metadata": {
        "id": "V4dkiiz2g7mu"
      },
      "execution_count": 3,
      "outputs": []
    },
    {
      "cell_type": "markdown",
      "source": [
        "First 5 rows of a dataframe"
      ],
      "metadata": {
        "id": "LtSAJhGcfDWL"
      }
    },
    {
      "cell_type": "code",
      "source": [
        "df.head(5)"
      ],
      "metadata": {
        "id": "DbImpbXchfMe",
        "colab": {
          "base_uri": "https://localhost:8080/",
          "height": 206
        },
        "outputId": "02ab7ff7-2c69-4eae-9d13-e62d8c833274"
      },
      "execution_count": 4,
      "outputs": [
        {
          "output_type": "execute_result",
          "data": {
            "text/plain": [
              "        AGE\\tSEX\\tBMI\\tBP\\tS1\\tS2\\tS3\\tS4\\tS5\\tS6\\tY\n",
              "0  59\\t2\\t32.1\\t101\\t157\\t93.2\\t38\\t4\\t4.8598\\t87...\n",
              "1  48\\t1\\t21.6\\t87\\t183\\t103.2\\t70\\t3\\t3.8918\\t69...\n",
              "2  72\\t2\\t30.5\\t93\\t156\\t93.6\\t41\\t4\\t4.6728\\t85\\...\n",
              "3  24\\t1\\t25.3\\t84\\t198\\t131.4\\t40\\t5\\t4.8903\\t89...\n",
              "4  50\\t1\\t23\\t101\\t192\\t125.4\\t52\\t4\\t4.2905\\t80\\..."
            ],
            "text/html": [
              "\n",
              "  <div id=\"df-58c029e5-b61d-4cc8-848c-83946cc06958\">\n",
              "    <div class=\"colab-df-container\">\n",
              "      <div>\n",
              "<style scoped>\n",
              "    .dataframe tbody tr th:only-of-type {\n",
              "        vertical-align: middle;\n",
              "    }\n",
              "\n",
              "    .dataframe tbody tr th {\n",
              "        vertical-align: top;\n",
              "    }\n",
              "\n",
              "    .dataframe thead th {\n",
              "        text-align: right;\n",
              "    }\n",
              "</style>\n",
              "<table border=\"1\" class=\"dataframe\">\n",
              "  <thead>\n",
              "    <tr style=\"text-align: right;\">\n",
              "      <th></th>\n",
              "      <th>AGE\\tSEX\\tBMI\\tBP\\tS1\\tS2\\tS3\\tS4\\tS5\\tS6\\tY</th>\n",
              "    </tr>\n",
              "  </thead>\n",
              "  <tbody>\n",
              "    <tr>\n",
              "      <th>0</th>\n",
              "      <td>59\\t2\\t32.1\\t101\\t157\\t93.2\\t38\\t4\\t4.8598\\t87...</td>\n",
              "    </tr>\n",
              "    <tr>\n",
              "      <th>1</th>\n",
              "      <td>48\\t1\\t21.6\\t87\\t183\\t103.2\\t70\\t3\\t3.8918\\t69...</td>\n",
              "    </tr>\n",
              "    <tr>\n",
              "      <th>2</th>\n",
              "      <td>72\\t2\\t30.5\\t93\\t156\\t93.6\\t41\\t4\\t4.6728\\t85\\...</td>\n",
              "    </tr>\n",
              "    <tr>\n",
              "      <th>3</th>\n",
              "      <td>24\\t1\\t25.3\\t84\\t198\\t131.4\\t40\\t5\\t4.8903\\t89...</td>\n",
              "    </tr>\n",
              "    <tr>\n",
              "      <th>4</th>\n",
              "      <td>50\\t1\\t23\\t101\\t192\\t125.4\\t52\\t4\\t4.2905\\t80\\...</td>\n",
              "    </tr>\n",
              "  </tbody>\n",
              "</table>\n",
              "</div>\n",
              "      <button class=\"colab-df-convert\" onclick=\"convertToInteractive('df-58c029e5-b61d-4cc8-848c-83946cc06958')\"\n",
              "              title=\"Convert this dataframe to an interactive table.\"\n",
              "              style=\"display:none;\">\n",
              "        \n",
              "  <svg xmlns=\"http://www.w3.org/2000/svg\" height=\"24px\"viewBox=\"0 0 24 24\"\n",
              "       width=\"24px\">\n",
              "    <path d=\"M0 0h24v24H0V0z\" fill=\"none\"/>\n",
              "    <path d=\"M18.56 5.44l.94 2.06.94-2.06 2.06-.94-2.06-.94-.94-2.06-.94 2.06-2.06.94zm-11 1L8.5 8.5l.94-2.06 2.06-.94-2.06-.94L8.5 2.5l-.94 2.06-2.06.94zm10 10l.94 2.06.94-2.06 2.06-.94-2.06-.94-.94-2.06-.94 2.06-2.06.94z\"/><path d=\"M17.41 7.96l-1.37-1.37c-.4-.4-.92-.59-1.43-.59-.52 0-1.04.2-1.43.59L10.3 9.45l-7.72 7.72c-.78.78-.78 2.05 0 2.83L4 21.41c.39.39.9.59 1.41.59.51 0 1.02-.2 1.41-.59l7.78-7.78 2.81-2.81c.8-.78.8-2.07 0-2.86zM5.41 20L4 18.59l7.72-7.72 1.47 1.35L5.41 20z\"/>\n",
              "  </svg>\n",
              "      </button>\n",
              "      \n",
              "  <style>\n",
              "    .colab-df-container {\n",
              "      display:flex;\n",
              "      flex-wrap:wrap;\n",
              "      gap: 12px;\n",
              "    }\n",
              "\n",
              "    .colab-df-convert {\n",
              "      background-color: #E8F0FE;\n",
              "      border: none;\n",
              "      border-radius: 50%;\n",
              "      cursor: pointer;\n",
              "      display: none;\n",
              "      fill: #1967D2;\n",
              "      height: 32px;\n",
              "      padding: 0 0 0 0;\n",
              "      width: 32px;\n",
              "    }\n",
              "\n",
              "    .colab-df-convert:hover {\n",
              "      background-color: #E2EBFA;\n",
              "      box-shadow: 0px 1px 2px rgba(60, 64, 67, 0.3), 0px 1px 3px 1px rgba(60, 64, 67, 0.15);\n",
              "      fill: #174EA6;\n",
              "    }\n",
              "\n",
              "    [theme=dark] .colab-df-convert {\n",
              "      background-color: #3B4455;\n",
              "      fill: #D2E3FC;\n",
              "    }\n",
              "\n",
              "    [theme=dark] .colab-df-convert:hover {\n",
              "      background-color: #434B5C;\n",
              "      box-shadow: 0px 1px 3px 1px rgba(0, 0, 0, 0.15);\n",
              "      filter: drop-shadow(0px 1px 2px rgba(0, 0, 0, 0.3));\n",
              "      fill: #FFFFFF;\n",
              "    }\n",
              "  </style>\n",
              "\n",
              "      <script>\n",
              "        const buttonEl =\n",
              "          document.querySelector('#df-58c029e5-b61d-4cc8-848c-83946cc06958 button.colab-df-convert');\n",
              "        buttonEl.style.display =\n",
              "          google.colab.kernel.accessAllowed ? 'block' : 'none';\n",
              "\n",
              "        async function convertToInteractive(key) {\n",
              "          const element = document.querySelector('#df-58c029e5-b61d-4cc8-848c-83946cc06958');\n",
              "          const dataTable =\n",
              "            await google.colab.kernel.invokeFunction('convertToInteractive',\n",
              "                                                     [key], {});\n",
              "          if (!dataTable) return;\n",
              "\n",
              "          const docLinkHtml = 'Like what you see? Visit the ' +\n",
              "            '<a target=\"_blank\" href=https://colab.research.google.com/notebooks/data_table.ipynb>data table notebook</a>'\n",
              "            + ' to learn more about interactive tables.';\n",
              "          element.innerHTML = '';\n",
              "          dataTable['output_type'] = 'display_data';\n",
              "          await google.colab.output.renderOutput(dataTable, element);\n",
              "          const docLink = document.createElement('div');\n",
              "          docLink.innerHTML = docLinkHtml;\n",
              "          element.appendChild(docLink);\n",
              "        }\n",
              "      </script>\n",
              "    </div>\n",
              "  </div>\n",
              "  "
            ]
          },
          "metadata": {},
          "execution_count": 4
        }
      ]
    },
    {
      "cell_type": "code",
      "source": [
        "import pandas as pd\n",
        "  \n",
        "# read text file into pandas DataFrame\n",
        "df = pd.read_csv(\"https://www4.stat.ncsu.edu/~boos/var.select/diabetes.tab.txt\", sep=\" \")\n",
        "  \n",
        "# display DataFrame\n",
        "print(df)"
      ],
      "metadata": {
        "colab": {
          "base_uri": "https://localhost:8080/"
        },
        "id": "6NXZUsZHiBbZ",
        "outputId": "07f440aa-170a-4674-d457-3bca3261e8d6"
      },
      "execution_count": 5,
      "outputs": [
        {
          "output_type": "stream",
          "name": "stdout",
          "text": [
            "          AGE\\tSEX\\tBMI\\tBP\\tS1\\tS2\\tS3\\tS4\\tS5\\tS6\\tY\n",
            "0    59\\t2\\t32.1\\t101\\t157\\t93.2\\t38\\t4\\t4.8598\\t87...\n",
            "1    48\\t1\\t21.6\\t87\\t183\\t103.2\\t70\\t3\\t3.8918\\t69...\n",
            "2    72\\t2\\t30.5\\t93\\t156\\t93.6\\t41\\t4\\t4.6728\\t85\\...\n",
            "3    24\\t1\\t25.3\\t84\\t198\\t131.4\\t40\\t5\\t4.8903\\t89...\n",
            "4    50\\t1\\t23\\t101\\t192\\t125.4\\t52\\t4\\t4.2905\\t80\\...\n",
            "..                                                 ...\n",
            "437  60\\t2\\t28.2\\t112\\t185\\t113.8\\t42\\t4\\t4.9836\\t9...\n",
            "438  47\\t2\\t24.9\\t75\\t225\\t166\\t42\\t5\\t4.4427\\t102\\...\n",
            "439  60\\t2\\t24.9\\t99.67\\t162\\t106.6\\t43\\t3.77\\t4.12...\n",
            "440  36\\t1\\t30\\t95\\t201\\t125.2\\t42\\t4.79\\t5.1299\\t8...\n",
            "441  36\\t1\\t19.6\\t71\\t250\\t133.2\\t97\\t3\\t4.5951\\t92...\n",
            "\n",
            "[442 rows x 1 columns]\n"
          ]
        }
      ]
    },
    {
      "cell_type": "markdown",
      "source": [
        "Now loading the file with separation by \"\\t\""
      ],
      "metadata": {
        "id": "vmnZEAGufPqx"
      }
    },
    {
      "cell_type": "code",
      "source": [
        "df=pd.read_csv(\"https://www4.stat.ncsu.edu/~boos/var.select/diabetes.tab.txt\",sep=\"\\t\")"
      ],
      "metadata": {
        "id": "h2Hns2Z_x2M3"
      },
      "execution_count": 6,
      "outputs": []
    },
    {
      "cell_type": "code",
      "source": [
        "df"
      ],
      "metadata": {
        "id": "ttgZ9r9_yB1N",
        "colab": {
          "base_uri": "https://localhost:8080/",
          "height": 423
        },
        "outputId": "ecfa812d-1ffc-4a5b-fbeb-0a950b4a5ad3"
      },
      "execution_count": 7,
      "outputs": [
        {
          "output_type": "execute_result",
          "data": {
            "text/plain": [
              "     AGE  SEX   BMI      BP   S1     S2    S3    S4      S5   S6    Y\n",
              "0     59    2  32.1  101.00  157   93.2  38.0  4.00  4.8598   87  151\n",
              "1     48    1  21.6   87.00  183  103.2  70.0  3.00  3.8918   69   75\n",
              "2     72    2  30.5   93.00  156   93.6  41.0  4.00  4.6728   85  141\n",
              "3     24    1  25.3   84.00  198  131.4  40.0  5.00  4.8903   89  206\n",
              "4     50    1  23.0  101.00  192  125.4  52.0  4.00  4.2905   80  135\n",
              "..   ...  ...   ...     ...  ...    ...   ...   ...     ...  ...  ...\n",
              "437   60    2  28.2  112.00  185  113.8  42.0  4.00  4.9836   93  178\n",
              "438   47    2  24.9   75.00  225  166.0  42.0  5.00  4.4427  102  104\n",
              "439   60    2  24.9   99.67  162  106.6  43.0  3.77  4.1271   95  132\n",
              "440   36    1  30.0   95.00  201  125.2  42.0  4.79  5.1299   85  220\n",
              "441   36    1  19.6   71.00  250  133.2  97.0  3.00  4.5951   92   57\n",
              "\n",
              "[442 rows x 11 columns]"
            ],
            "text/html": [
              "\n",
              "  <div id=\"df-d5d97caa-ea80-4cb6-8648-9d0e7437e4e9\">\n",
              "    <div class=\"colab-df-container\">\n",
              "      <div>\n",
              "<style scoped>\n",
              "    .dataframe tbody tr th:only-of-type {\n",
              "        vertical-align: middle;\n",
              "    }\n",
              "\n",
              "    .dataframe tbody tr th {\n",
              "        vertical-align: top;\n",
              "    }\n",
              "\n",
              "    .dataframe thead th {\n",
              "        text-align: right;\n",
              "    }\n",
              "</style>\n",
              "<table border=\"1\" class=\"dataframe\">\n",
              "  <thead>\n",
              "    <tr style=\"text-align: right;\">\n",
              "      <th></th>\n",
              "      <th>AGE</th>\n",
              "      <th>SEX</th>\n",
              "      <th>BMI</th>\n",
              "      <th>BP</th>\n",
              "      <th>S1</th>\n",
              "      <th>S2</th>\n",
              "      <th>S3</th>\n",
              "      <th>S4</th>\n",
              "      <th>S5</th>\n",
              "      <th>S6</th>\n",
              "      <th>Y</th>\n",
              "    </tr>\n",
              "  </thead>\n",
              "  <tbody>\n",
              "    <tr>\n",
              "      <th>0</th>\n",
              "      <td>59</td>\n",
              "      <td>2</td>\n",
              "      <td>32.1</td>\n",
              "      <td>101.00</td>\n",
              "      <td>157</td>\n",
              "      <td>93.2</td>\n",
              "      <td>38.0</td>\n",
              "      <td>4.00</td>\n",
              "      <td>4.8598</td>\n",
              "      <td>87</td>\n",
              "      <td>151</td>\n",
              "    </tr>\n",
              "    <tr>\n",
              "      <th>1</th>\n",
              "      <td>48</td>\n",
              "      <td>1</td>\n",
              "      <td>21.6</td>\n",
              "      <td>87.00</td>\n",
              "      <td>183</td>\n",
              "      <td>103.2</td>\n",
              "      <td>70.0</td>\n",
              "      <td>3.00</td>\n",
              "      <td>3.8918</td>\n",
              "      <td>69</td>\n",
              "      <td>75</td>\n",
              "    </tr>\n",
              "    <tr>\n",
              "      <th>2</th>\n",
              "      <td>72</td>\n",
              "      <td>2</td>\n",
              "      <td>30.5</td>\n",
              "      <td>93.00</td>\n",
              "      <td>156</td>\n",
              "      <td>93.6</td>\n",
              "      <td>41.0</td>\n",
              "      <td>4.00</td>\n",
              "      <td>4.6728</td>\n",
              "      <td>85</td>\n",
              "      <td>141</td>\n",
              "    </tr>\n",
              "    <tr>\n",
              "      <th>3</th>\n",
              "      <td>24</td>\n",
              "      <td>1</td>\n",
              "      <td>25.3</td>\n",
              "      <td>84.00</td>\n",
              "      <td>198</td>\n",
              "      <td>131.4</td>\n",
              "      <td>40.0</td>\n",
              "      <td>5.00</td>\n",
              "      <td>4.8903</td>\n",
              "      <td>89</td>\n",
              "      <td>206</td>\n",
              "    </tr>\n",
              "    <tr>\n",
              "      <th>4</th>\n",
              "      <td>50</td>\n",
              "      <td>1</td>\n",
              "      <td>23.0</td>\n",
              "      <td>101.00</td>\n",
              "      <td>192</td>\n",
              "      <td>125.4</td>\n",
              "      <td>52.0</td>\n",
              "      <td>4.00</td>\n",
              "      <td>4.2905</td>\n",
              "      <td>80</td>\n",
              "      <td>135</td>\n",
              "    </tr>\n",
              "    <tr>\n",
              "      <th>...</th>\n",
              "      <td>...</td>\n",
              "      <td>...</td>\n",
              "      <td>...</td>\n",
              "      <td>...</td>\n",
              "      <td>...</td>\n",
              "      <td>...</td>\n",
              "      <td>...</td>\n",
              "      <td>...</td>\n",
              "      <td>...</td>\n",
              "      <td>...</td>\n",
              "      <td>...</td>\n",
              "    </tr>\n",
              "    <tr>\n",
              "      <th>437</th>\n",
              "      <td>60</td>\n",
              "      <td>2</td>\n",
              "      <td>28.2</td>\n",
              "      <td>112.00</td>\n",
              "      <td>185</td>\n",
              "      <td>113.8</td>\n",
              "      <td>42.0</td>\n",
              "      <td>4.00</td>\n",
              "      <td>4.9836</td>\n",
              "      <td>93</td>\n",
              "      <td>178</td>\n",
              "    </tr>\n",
              "    <tr>\n",
              "      <th>438</th>\n",
              "      <td>47</td>\n",
              "      <td>2</td>\n",
              "      <td>24.9</td>\n",
              "      <td>75.00</td>\n",
              "      <td>225</td>\n",
              "      <td>166.0</td>\n",
              "      <td>42.0</td>\n",
              "      <td>5.00</td>\n",
              "      <td>4.4427</td>\n",
              "      <td>102</td>\n",
              "      <td>104</td>\n",
              "    </tr>\n",
              "    <tr>\n",
              "      <th>439</th>\n",
              "      <td>60</td>\n",
              "      <td>2</td>\n",
              "      <td>24.9</td>\n",
              "      <td>99.67</td>\n",
              "      <td>162</td>\n",
              "      <td>106.6</td>\n",
              "      <td>43.0</td>\n",
              "      <td>3.77</td>\n",
              "      <td>4.1271</td>\n",
              "      <td>95</td>\n",
              "      <td>132</td>\n",
              "    </tr>\n",
              "    <tr>\n",
              "      <th>440</th>\n",
              "      <td>36</td>\n",
              "      <td>1</td>\n",
              "      <td>30.0</td>\n",
              "      <td>95.00</td>\n",
              "      <td>201</td>\n",
              "      <td>125.2</td>\n",
              "      <td>42.0</td>\n",
              "      <td>4.79</td>\n",
              "      <td>5.1299</td>\n",
              "      <td>85</td>\n",
              "      <td>220</td>\n",
              "    </tr>\n",
              "    <tr>\n",
              "      <th>441</th>\n",
              "      <td>36</td>\n",
              "      <td>1</td>\n",
              "      <td>19.6</td>\n",
              "      <td>71.00</td>\n",
              "      <td>250</td>\n",
              "      <td>133.2</td>\n",
              "      <td>97.0</td>\n",
              "      <td>3.00</td>\n",
              "      <td>4.5951</td>\n",
              "      <td>92</td>\n",
              "      <td>57</td>\n",
              "    </tr>\n",
              "  </tbody>\n",
              "</table>\n",
              "<p>442 rows × 11 columns</p>\n",
              "</div>\n",
              "      <button class=\"colab-df-convert\" onclick=\"convertToInteractive('df-d5d97caa-ea80-4cb6-8648-9d0e7437e4e9')\"\n",
              "              title=\"Convert this dataframe to an interactive table.\"\n",
              "              style=\"display:none;\">\n",
              "        \n",
              "  <svg xmlns=\"http://www.w3.org/2000/svg\" height=\"24px\"viewBox=\"0 0 24 24\"\n",
              "       width=\"24px\">\n",
              "    <path d=\"M0 0h24v24H0V0z\" fill=\"none\"/>\n",
              "    <path d=\"M18.56 5.44l.94 2.06.94-2.06 2.06-.94-2.06-.94-.94-2.06-.94 2.06-2.06.94zm-11 1L8.5 8.5l.94-2.06 2.06-.94-2.06-.94L8.5 2.5l-.94 2.06-2.06.94zm10 10l.94 2.06.94-2.06 2.06-.94-2.06-.94-.94-2.06-.94 2.06-2.06.94z\"/><path d=\"M17.41 7.96l-1.37-1.37c-.4-.4-.92-.59-1.43-.59-.52 0-1.04.2-1.43.59L10.3 9.45l-7.72 7.72c-.78.78-.78 2.05 0 2.83L4 21.41c.39.39.9.59 1.41.59.51 0 1.02-.2 1.41-.59l7.78-7.78 2.81-2.81c.8-.78.8-2.07 0-2.86zM5.41 20L4 18.59l7.72-7.72 1.47 1.35L5.41 20z\"/>\n",
              "  </svg>\n",
              "      </button>\n",
              "      \n",
              "  <style>\n",
              "    .colab-df-container {\n",
              "      display:flex;\n",
              "      flex-wrap:wrap;\n",
              "      gap: 12px;\n",
              "    }\n",
              "\n",
              "    .colab-df-convert {\n",
              "      background-color: #E8F0FE;\n",
              "      border: none;\n",
              "      border-radius: 50%;\n",
              "      cursor: pointer;\n",
              "      display: none;\n",
              "      fill: #1967D2;\n",
              "      height: 32px;\n",
              "      padding: 0 0 0 0;\n",
              "      width: 32px;\n",
              "    }\n",
              "\n",
              "    .colab-df-convert:hover {\n",
              "      background-color: #E2EBFA;\n",
              "      box-shadow: 0px 1px 2px rgba(60, 64, 67, 0.3), 0px 1px 3px 1px rgba(60, 64, 67, 0.15);\n",
              "      fill: #174EA6;\n",
              "    }\n",
              "\n",
              "    [theme=dark] .colab-df-convert {\n",
              "      background-color: #3B4455;\n",
              "      fill: #D2E3FC;\n",
              "    }\n",
              "\n",
              "    [theme=dark] .colab-df-convert:hover {\n",
              "      background-color: #434B5C;\n",
              "      box-shadow: 0px 1px 3px 1px rgba(0, 0, 0, 0.15);\n",
              "      filter: drop-shadow(0px 1px 2px rgba(0, 0, 0, 0.3));\n",
              "      fill: #FFFFFF;\n",
              "    }\n",
              "  </style>\n",
              "\n",
              "      <script>\n",
              "        const buttonEl =\n",
              "          document.querySelector('#df-d5d97caa-ea80-4cb6-8648-9d0e7437e4e9 button.colab-df-convert');\n",
              "        buttonEl.style.display =\n",
              "          google.colab.kernel.accessAllowed ? 'block' : 'none';\n",
              "\n",
              "        async function convertToInteractive(key) {\n",
              "          const element = document.querySelector('#df-d5d97caa-ea80-4cb6-8648-9d0e7437e4e9');\n",
              "          const dataTable =\n",
              "            await google.colab.kernel.invokeFunction('convertToInteractive',\n",
              "                                                     [key], {});\n",
              "          if (!dataTable) return;\n",
              "\n",
              "          const docLinkHtml = 'Like what you see? Visit the ' +\n",
              "            '<a target=\"_blank\" href=https://colab.research.google.com/notebooks/data_table.ipynb>data table notebook</a>'\n",
              "            + ' to learn more about interactive tables.';\n",
              "          element.innerHTML = '';\n",
              "          dataTable['output_type'] = 'display_data';\n",
              "          await google.colab.output.renderOutput(dataTable, element);\n",
              "          const docLink = document.createElement('div');\n",
              "          docLink.innerHTML = docLinkHtml;\n",
              "          element.appendChild(docLink);\n",
              "        }\n",
              "      </script>\n",
              "    </div>\n",
              "  </div>\n",
              "  "
            ]
          },
          "metadata": {},
          "execution_count": 7
        }
      ]
    },
    {
      "cell_type": "markdown",
      "source": [
        "Importing the libraries"
      ],
      "metadata": {
        "id": "qnsMTStnfsVn"
      }
    },
    {
      "cell_type": "code",
      "source": [
        "import numpy as np\n",
        "import pandas as pd\n",
        "import matplotlib.pyplot as plt"
      ],
      "metadata": {
        "id": "gia7P8W4yBp-"
      },
      "execution_count": 8,
      "outputs": []
    },
    {
      "cell_type": "markdown",
      "source": [
        "Taking 'Y' column as dependent and storing it in Y variable and taking all the other features as covariate and storing it in X variable."
      ],
      "metadata": {
        "id": "pnMOBUvWfZNZ"
      }
    },
    {
      "cell_type": "code",
      "source": [
        "X=df.loc[:,'AGE':'S6']\n",
        "Y=df.loc[:,'Y']"
      ],
      "metadata": {
        "id": "tpIudKI45H3j"
      },
      "execution_count": 9,
      "outputs": []
    },
    {
      "cell_type": "markdown",
      "source": [
        "Printing the first 5 rows of the dataframe."
      ],
      "metadata": {
        "id": "4fuO-T2JfvJa"
      }
    },
    {
      "cell_type": "code",
      "source": [
        "print(df.head())"
      ],
      "metadata": {
        "colab": {
          "base_uri": "https://localhost:8080/"
        },
        "id": "R-5vnJKS5qkx",
        "outputId": "e8ac5c9f-1a10-49b5-e742-e29db6a629c1"
      },
      "execution_count": 10,
      "outputs": [
        {
          "output_type": "stream",
          "name": "stdout",
          "text": [
            "   AGE  SEX   BMI     BP   S1     S2    S3   S4      S5  S6    Y\n",
            "0   59    2  32.1  101.0  157   93.2  38.0  4.0  4.8598  87  151\n",
            "1   48    1  21.6   87.0  183  103.2  70.0  3.0  3.8918  69   75\n",
            "2   72    2  30.5   93.0  156   93.6  41.0  4.0  4.6728  85  141\n",
            "3   24    1  25.3   84.0  198  131.4  40.0  5.0  4.8903  89  206\n",
            "4   50    1  23.0  101.0  192  125.4  52.0  4.0  4.2905  80  135\n"
          ]
        }
      ]
    },
    {
      "cell_type": "code",
      "source": [
        "pip install sklearn "
      ],
      "metadata": {
        "colab": {
          "base_uri": "https://localhost:8080/"
        },
        "id": "im-i0DaufPez",
        "outputId": "46d7e918-2063-4170-d732-b1b3beed62ff"
      },
      "execution_count": null,
      "outputs": [
        {
          "output_type": "stream",
          "name": "stdout",
          "text": [
            "Looking in indexes: https://pypi.org/simple, https://us-python.pkg.dev/colab-wheels/public/simple/\n",
            "Collecting sklearn\n",
            "  Downloading sklearn-0.0.post1.tar.gz (3.6 kB)\n",
            "  \u001b[1;31merror\u001b[0m: \u001b[1msubprocess-exited-with-error\u001b[0m\n",
            "  \n",
            "  \u001b[31m×\u001b[0m \u001b[32mpython setup.py egg_info\u001b[0m did not run successfully.\n",
            "  \u001b[31m│\u001b[0m exit code: \u001b[1;36m1\u001b[0m\n",
            "  \u001b[31m╰─>\u001b[0m See above for output.\n",
            "  \n",
            "  \u001b[1;35mnote\u001b[0m: This error originates from a subprocess, and is likely not a problem with pip.\n",
            "  Preparing metadata (setup.py) ... \u001b[?25l\u001b[?25herror\n",
            "\u001b[1;31merror\u001b[0m: \u001b[1mmetadata-generation-failed\u001b[0m\n",
            "\n",
            "\u001b[31m×\u001b[0m Encountered error while generating package metadata.\n",
            "\u001b[31m╰─>\u001b[0m See above for output.\n",
            "\n",
            "\u001b[1;35mnote\u001b[0m: This is an issue with the package mentioned above, not pip.\n",
            "\u001b[1;36mhint\u001b[0m: See above for details.\n"
          ]
        }
      ]
    },
    {
      "cell_type": "markdown",
      "source": [
        "Splitting the data into train and test data with test size=0.2.Using random_state means the splitting of data will remain constant for that particular value of random_state."
      ],
      "metadata": {
        "id": "8rhj8L1Cf3Nr"
      }
    },
    {
      "cell_type": "code",
      "source": [
        "from sklearn.model_selection import train_test_split"
      ],
      "metadata": {
        "id": "V2p_suk2fsy9"
      },
      "execution_count": 11,
      "outputs": []
    },
    {
      "cell_type": "code",
      "source": [
        "X_train,X_test,Y_train,Y_test=train_test_split(X,Y,test_size=0.2,random_state=25)"
      ],
      "metadata": {
        "id": "00QUAGOde4zv"
      },
      "execution_count": 12,
      "outputs": []
    },
    {
      "cell_type": "markdown",
      "source": [
        "Shape of train and test data"
      ],
      "metadata": {
        "id": "-Q2zXeEcgJYK"
      }
    },
    {
      "cell_type": "code",
      "source": [
        "X_train.shape,X_test.shape,Y_train.shape,Y_test.shape"
      ],
      "metadata": {
        "colab": {
          "base_uri": "https://localhost:8080/"
        },
        "id": "mSrT2cU-f4X_",
        "outputId": "ed4c4138-2f1e-4b32-c9e7-967581f724e0"
      },
      "execution_count": 13,
      "outputs": [
        {
          "output_type": "execute_result",
          "data": {
            "text/plain": [
              "((353, 10), (89, 10), (353,), (89,))"
            ]
          },
          "metadata": {},
          "execution_count": 13
        }
      ]
    },
    {
      "cell_type": "markdown",
      "source": [
        "##Implemenation of linear regression from scratch."
      ],
      "metadata": {
        "id": "nZFcFFHLgNE4"
      }
    },
    {
      "cell_type": "markdown",
      "source": [
        "Reference-https://towardsdatascience.com/linear-regression-from-scratch-cd0dee067f72 "
      ],
      "metadata": {
        "id": "lAxMcBGthqFW"
      }
    },
    {
      "cell_type": "markdown",
      "source": [
        "Training stage"
      ],
      "metadata": {
        "id": "Ow2YWS0blhmv"
      }
    },
    {
      "cell_type": "code",
      "source": [
        "X_train['AGE'].mean()\n",
        "\n",
        "X_train['AGE']-X_train['AGE'].mean()\n",
        "\n",
        "Y_train-Y_train.mean()\n",
        "\n",
        "mul1=(X_train['AGE']-X_train['AGE'].mean())*(Y_train-Y_train.mean())\n",
        "sum1=mul1.sum()\n",
        "pow1=(X_train['AGE']-X_train['AGE'].mean())**2\n",
        "sum2=pow1.sum()\n",
        "beta1=sum1/sum2\n",
        "mul1=(X_train['SEX']-X_train['SEX'].mean())*(Y_train-Y_train.mean())\n",
        "sum1=mul1.sum()\n",
        "pow1=(X_train['SEX']-X_train['SEX'].mean())**2\n",
        "sum2=pow1.sum()\n",
        "beta2=sum1/sum2\n",
        "mul1=(X_train['BMI']-X_train['BMI'].mean())*(Y_train-Y_train.mean())\n",
        "sum1=mul1.sum()\n",
        "pow1=(X_train['BMI']-X_train['BMI'].mean())**2\n",
        "sum2=pow1.sum()\n",
        "beta3=sum1/sum2\n",
        "mul1=(X_train['BP']-X_train['BP'].mean())*(Y_train-Y_train.mean())\n",
        "sum1=mul1.sum()\n",
        "pow1=(X_train['BP']-X_train['BP'].mean())**2\n",
        "sum2=pow1.sum()\n",
        "beta4=sum1/sum2\n",
        "mul1=(X_train['S1']-X_train['S1'].mean())*(Y_train-Y_train.mean())\n",
        "sum1=mul1.sum()\n",
        "pow1=(X_train['S1']-X_train['S1'].mean())**2\n",
        "sum2=pow1.sum()\n",
        "beta5=sum1/sum2\n",
        "mul1=(X_train['S2']-X_train['S2'].mean())*(Y_train-Y_train.mean())\n",
        "sum1=mul1.sum()\n",
        "pow1=(X_train['S2']-X_train['S2'].mean())**2\n",
        "sum2=pow1.sum()\n",
        "beta6=sum1/sum2\n",
        "mul1=(X_train['S3']-X_train['S3'].mean())*(Y_train-Y_train.mean())\n",
        "sum1=mul1.sum()\n",
        "pow1=(X_train['S3']-X_train['S3'].mean())**2\n",
        "sum2=pow1.sum()\n",
        "beta7=sum1/sum2\n",
        "mul1=(X_train['S4']-X_train['S4'].mean())*(Y_train-Y_train.mean())\n",
        "sum1=mul1.sum()\n",
        "pow1=(X_train['S4']-X_train['S4'].mean())**2\n",
        "sum2=pow1.sum()\n",
        "beta8=sum1/sum2\n",
        "mul1=(X_train['S5']-X_train['S5'].mean())*(Y_train-Y_train.mean())\n",
        "sum1=mul1.sum()\n",
        "pow1=(X_train['S5']-X_train['S5'].mean())**2\n",
        "sum2=pow1.sum()\n",
        "beta9=sum1/sum2\n",
        "mul1=(X_train['S6']-X_train['S6'].mean())*(Y_train-Y_train.mean())\n",
        "sum1=mul1.sum()\n",
        "pow1=(X_train['S6']-X_train['S6'].mean())**2\n",
        "sum2=pow1.sum()\n",
        "beta10=sum1/sum2\n",
        "\n",
        "beta1,beta2,beta3,beta4,beta5,beta6,beta7,beta8,beta9,beta10"
      ],
      "metadata": {
        "colab": {
          "base_uri": "https://localhost:8080/"
        },
        "id": "IbriGls4f8gh",
        "outputId": "0cc9d744-d2dd-4dfb-dc74-d99b39cf935c"
      },
      "execution_count": 14,
      "outputs": [
        {
          "output_type": "execute_result",
          "data": {
            "text/plain": [
              "(1.3173481087479215,\n",
              " 10.02914725672878,\n",
              " 10.625225632337578,\n",
              " 2.7909971004831453,\n",
              " 0.42808217347199135,\n",
              " 0.38427110898296263,\n",
              " -2.37439421515624,\n",
              " 25.01041181965223,\n",
              " 88.8087348598887,\n",
              " 2.4463131029150778)"
            ]
          },
          "metadata": {},
          "execution_count": 14
        }
      ]
    },
    {
      "cell_type": "code",
      "source": [
        "beta0=Y_train.mean()-(beta1*X_train['AGE'].mean()+beta2*X_train['SEX'].mean()+beta3*X_train['BMI'].mean()+beta4*X_train['BP'].mean()+beta5*X_train['S1'].mean()+beta6*X_train['S2'].mean()+beta7*X_train['S3'].mean()+beta8*X_train['S4'].mean()+beta9*X_train['S5'].mean()+beta10*X_train['S6'].mean())"
      ],
      "metadata": {
        "id": "YeOObzgdgD0V"
      },
      "execution_count": 15,
      "outputs": []
    },
    {
      "cell_type": "markdown",
      "source": [
        "Finding the predictions"
      ],
      "metadata": {
        "id": "geVfrPt_lot4"
      }
    },
    {
      "cell_type": "code",
      "source": [
        "Y_pred=[]\n",
        "for i in list(X_test.index):\n",
        "  Y_pred.append(beta0+beta1*X_test.loc[i,'AGE']+beta2*X_test.loc[i,'SEX']+beta3*X_test.loc[i,'BMI']+beta4*X_test.loc[i,'BP']+beta5*X_test.loc[i,'S1']+beta6*X_test.loc[i,'S2']+beta7*X_test.loc[i,'S3']+beta8*X_test.loc[i,'S4']+beta9*X_test.loc[i,'S5']+beta10*X_test.loc[i,'S6'])"
      ],
      "metadata": {
        "id": "W-AxKHsqgIR-"
      },
      "execution_count": 16,
      "outputs": []
    },
    {
      "cell_type": "markdown",
      "source": [
        "Using mean absolute error loss function"
      ],
      "metadata": {
        "id": "oYn_pchqgbu7"
      }
    },
    {
      "cell_type": "code",
      "source": [
        "from sklearn.metrics import mean_absolute_error\n",
        "mean_absolute_error(Y_pred,Y_test)"
      ],
      "metadata": {
        "colab": {
          "base_uri": "https://localhost:8080/"
        },
        "id": "4EJzAbb7gSSH",
        "outputId": "780278a2-b6c0-4fc0-e52d-70e78feff6c9"
      },
      "execution_count": 18,
      "outputs": [
        {
          "output_type": "execute_result",
          "data": {
            "text/plain": [
              "120.12844626097662"
            ]
          },
          "metadata": {},
          "execution_count": 18
        }
      ]
    },
    {
      "cell_type": "markdown",
      "source": [
        "# Question3(c)using sklearn library"
      ],
      "metadata": {
        "id": "JBgcoalRi5R3"
      }
    },
    {
      "cell_type": "code",
      "source": [
        "import numpy as np\n",
        "import pandas as pd\n",
        "import seaborn as sns\n",
        "import matplotlib.pyplot as plt\n",
        "from sklearn import preprocessing, svm\n",
        "from sklearn.model_selection import train_test_split\n",
        "from sklearn.linear_model import LinearRegression"
      ],
      "metadata": {
        "id": "xz9qUsUDi7Bj"
      },
      "execution_count": null,
      "outputs": []
    },
    {
      "cell_type": "code",
      "source": [
        "\n",
        "df = pd.read_csv(\"https://www4.stat.ncsu.edu/~boos/var.select/diabetes.tab.txt\",sep=\"\\t\")"
      ],
      "metadata": {
        "id": "x95vkF0qjQ8m"
      },
      "execution_count": null,
      "outputs": []
    },
    {
      "cell_type": "code",
      "source": [
        "X=df.loc[:,'AGE':'S6']\n",
        "Y=df.loc[:,'Y']"
      ],
      "metadata": {
        "id": "EMq6NeHpjho_"
      },
      "execution_count": null,
      "outputs": []
    },
    {
      "cell_type": "markdown",
      "source": [
        "Test size=0.2,It should be same as that of doing it by scratch to see the comparison. "
      ],
      "metadata": {
        "id": "GVsSqN1ZiQCg"
      }
    },
    {
      "cell_type": "code",
      "source": [
        "X_train,X_test,Y_train,Y_test=train_test_split(X,Y,test_size=0.2,random_state=25)"
      ],
      "metadata": {
        "id": "k-ZOa1bKkU4x"
      },
      "execution_count": null,
      "outputs": []
    },
    {
      "cell_type": "code",
      "source": [
        "X_train"
      ],
      "metadata": {
        "colab": {
          "base_uri": "https://localhost:8080/",
          "height": 424
        },
        "id": "NDsEO7mbrYA5",
        "outputId": "ae4055d4-d245-4a0b-f070-1a0a7767c12f"
      },
      "execution_count": null,
      "outputs": [
        {
          "output_type": "execute_result",
          "data": {
            "text/plain": [
              "     AGE  SEX   BMI      BP   S1     S2    S3    S4      S5   S6\n",
              "96    64    2  27.3  109.00  186  107.6  38.0  5.00  5.3083   99\n",
              "341   57    2  31.9  111.00  173  116.2  41.0  4.00  4.3694   87\n",
              "394   58    1  28.1  111.00  198   80.6  31.0  6.00  6.0684   93\n",
              "24    31    1  29.7   88.00  167  103.4  48.0  4.00  4.3567   78\n",
              "195   56    2  28.7   99.00  208  146.4  39.0  5.00  4.7274   97\n",
              "..   ...  ...   ...     ...  ...    ...   ...   ...     ...  ...\n",
              "374   19    1  23.2   75.00  143   70.4  52.0  3.00  4.6347   72\n",
              "317   54    1  23.2  110.67  238  162.8  48.0  4.96  4.9127  108\n",
              "143   40    1  26.9   92.00  203  119.8  70.0  3.00  4.1897   81\n",
              "318   73    1  27.0  102.00  211  121.0  67.0  3.00  4.7449   99\n",
              "132   53    2  24.4   92.00  214  146.0  50.0  4.00  4.4998   97\n",
              "\n",
              "[353 rows x 10 columns]"
            ],
            "text/html": [
              "\n",
              "  <div id=\"df-054049f2-0769-4593-8bf2-c30eb22441e1\">\n",
              "    <div class=\"colab-df-container\">\n",
              "      <div>\n",
              "<style scoped>\n",
              "    .dataframe tbody tr th:only-of-type {\n",
              "        vertical-align: middle;\n",
              "    }\n",
              "\n",
              "    .dataframe tbody tr th {\n",
              "        vertical-align: top;\n",
              "    }\n",
              "\n",
              "    .dataframe thead th {\n",
              "        text-align: right;\n",
              "    }\n",
              "</style>\n",
              "<table border=\"1\" class=\"dataframe\">\n",
              "  <thead>\n",
              "    <tr style=\"text-align: right;\">\n",
              "      <th></th>\n",
              "      <th>AGE</th>\n",
              "      <th>SEX</th>\n",
              "      <th>BMI</th>\n",
              "      <th>BP</th>\n",
              "      <th>S1</th>\n",
              "      <th>S2</th>\n",
              "      <th>S3</th>\n",
              "      <th>S4</th>\n",
              "      <th>S5</th>\n",
              "      <th>S6</th>\n",
              "    </tr>\n",
              "  </thead>\n",
              "  <tbody>\n",
              "    <tr>\n",
              "      <th>96</th>\n",
              "      <td>64</td>\n",
              "      <td>2</td>\n",
              "      <td>27.3</td>\n",
              "      <td>109.00</td>\n",
              "      <td>186</td>\n",
              "      <td>107.6</td>\n",
              "      <td>38.0</td>\n",
              "      <td>5.00</td>\n",
              "      <td>5.3083</td>\n",
              "      <td>99</td>\n",
              "    </tr>\n",
              "    <tr>\n",
              "      <th>341</th>\n",
              "      <td>57</td>\n",
              "      <td>2</td>\n",
              "      <td>31.9</td>\n",
              "      <td>111.00</td>\n",
              "      <td>173</td>\n",
              "      <td>116.2</td>\n",
              "      <td>41.0</td>\n",
              "      <td>4.00</td>\n",
              "      <td>4.3694</td>\n",
              "      <td>87</td>\n",
              "    </tr>\n",
              "    <tr>\n",
              "      <th>394</th>\n",
              "      <td>58</td>\n",
              "      <td>1</td>\n",
              "      <td>28.1</td>\n",
              "      <td>111.00</td>\n",
              "      <td>198</td>\n",
              "      <td>80.6</td>\n",
              "      <td>31.0</td>\n",
              "      <td>6.00</td>\n",
              "      <td>6.0684</td>\n",
              "      <td>93</td>\n",
              "    </tr>\n",
              "    <tr>\n",
              "      <th>24</th>\n",
              "      <td>31</td>\n",
              "      <td>1</td>\n",
              "      <td>29.7</td>\n",
              "      <td>88.00</td>\n",
              "      <td>167</td>\n",
              "      <td>103.4</td>\n",
              "      <td>48.0</td>\n",
              "      <td>4.00</td>\n",
              "      <td>4.3567</td>\n",
              "      <td>78</td>\n",
              "    </tr>\n",
              "    <tr>\n",
              "      <th>195</th>\n",
              "      <td>56</td>\n",
              "      <td>2</td>\n",
              "      <td>28.7</td>\n",
              "      <td>99.00</td>\n",
              "      <td>208</td>\n",
              "      <td>146.4</td>\n",
              "      <td>39.0</td>\n",
              "      <td>5.00</td>\n",
              "      <td>4.7274</td>\n",
              "      <td>97</td>\n",
              "    </tr>\n",
              "    <tr>\n",
              "      <th>...</th>\n",
              "      <td>...</td>\n",
              "      <td>...</td>\n",
              "      <td>...</td>\n",
              "      <td>...</td>\n",
              "      <td>...</td>\n",
              "      <td>...</td>\n",
              "      <td>...</td>\n",
              "      <td>...</td>\n",
              "      <td>...</td>\n",
              "      <td>...</td>\n",
              "    </tr>\n",
              "    <tr>\n",
              "      <th>374</th>\n",
              "      <td>19</td>\n",
              "      <td>1</td>\n",
              "      <td>23.2</td>\n",
              "      <td>75.00</td>\n",
              "      <td>143</td>\n",
              "      <td>70.4</td>\n",
              "      <td>52.0</td>\n",
              "      <td>3.00</td>\n",
              "      <td>4.6347</td>\n",
              "      <td>72</td>\n",
              "    </tr>\n",
              "    <tr>\n",
              "      <th>317</th>\n",
              "      <td>54</td>\n",
              "      <td>1</td>\n",
              "      <td>23.2</td>\n",
              "      <td>110.67</td>\n",
              "      <td>238</td>\n",
              "      <td>162.8</td>\n",
              "      <td>48.0</td>\n",
              "      <td>4.96</td>\n",
              "      <td>4.9127</td>\n",
              "      <td>108</td>\n",
              "    </tr>\n",
              "    <tr>\n",
              "      <th>143</th>\n",
              "      <td>40</td>\n",
              "      <td>1</td>\n",
              "      <td>26.9</td>\n",
              "      <td>92.00</td>\n",
              "      <td>203</td>\n",
              "      <td>119.8</td>\n",
              "      <td>70.0</td>\n",
              "      <td>3.00</td>\n",
              "      <td>4.1897</td>\n",
              "      <td>81</td>\n",
              "    </tr>\n",
              "    <tr>\n",
              "      <th>318</th>\n",
              "      <td>73</td>\n",
              "      <td>1</td>\n",
              "      <td>27.0</td>\n",
              "      <td>102.00</td>\n",
              "      <td>211</td>\n",
              "      <td>121.0</td>\n",
              "      <td>67.0</td>\n",
              "      <td>3.00</td>\n",
              "      <td>4.7449</td>\n",
              "      <td>99</td>\n",
              "    </tr>\n",
              "    <tr>\n",
              "      <th>132</th>\n",
              "      <td>53</td>\n",
              "      <td>2</td>\n",
              "      <td>24.4</td>\n",
              "      <td>92.00</td>\n",
              "      <td>214</td>\n",
              "      <td>146.0</td>\n",
              "      <td>50.0</td>\n",
              "      <td>4.00</td>\n",
              "      <td>4.4998</td>\n",
              "      <td>97</td>\n",
              "    </tr>\n",
              "  </tbody>\n",
              "</table>\n",
              "<p>353 rows × 10 columns</p>\n",
              "</div>\n",
              "      <button class=\"colab-df-convert\" onclick=\"convertToInteractive('df-054049f2-0769-4593-8bf2-c30eb22441e1')\"\n",
              "              title=\"Convert this dataframe to an interactive table.\"\n",
              "              style=\"display:none;\">\n",
              "        \n",
              "  <svg xmlns=\"http://www.w3.org/2000/svg\" height=\"24px\"viewBox=\"0 0 24 24\"\n",
              "       width=\"24px\">\n",
              "    <path d=\"M0 0h24v24H0V0z\" fill=\"none\"/>\n",
              "    <path d=\"M18.56 5.44l.94 2.06.94-2.06 2.06-.94-2.06-.94-.94-2.06-.94 2.06-2.06.94zm-11 1L8.5 8.5l.94-2.06 2.06-.94-2.06-.94L8.5 2.5l-.94 2.06-2.06.94zm10 10l.94 2.06.94-2.06 2.06-.94-2.06-.94-.94-2.06-.94 2.06-2.06.94z\"/><path d=\"M17.41 7.96l-1.37-1.37c-.4-.4-.92-.59-1.43-.59-.52 0-1.04.2-1.43.59L10.3 9.45l-7.72 7.72c-.78.78-.78 2.05 0 2.83L4 21.41c.39.39.9.59 1.41.59.51 0 1.02-.2 1.41-.59l7.78-7.78 2.81-2.81c.8-.78.8-2.07 0-2.86zM5.41 20L4 18.59l7.72-7.72 1.47 1.35L5.41 20z\"/>\n",
              "  </svg>\n",
              "      </button>\n",
              "      \n",
              "  <style>\n",
              "    .colab-df-container {\n",
              "      display:flex;\n",
              "      flex-wrap:wrap;\n",
              "      gap: 12px;\n",
              "    }\n",
              "\n",
              "    .colab-df-convert {\n",
              "      background-color: #E8F0FE;\n",
              "      border: none;\n",
              "      border-radius: 50%;\n",
              "      cursor: pointer;\n",
              "      display: none;\n",
              "      fill: #1967D2;\n",
              "      height: 32px;\n",
              "      padding: 0 0 0 0;\n",
              "      width: 32px;\n",
              "    }\n",
              "\n",
              "    .colab-df-convert:hover {\n",
              "      background-color: #E2EBFA;\n",
              "      box-shadow: 0px 1px 2px rgba(60, 64, 67, 0.3), 0px 1px 3px 1px rgba(60, 64, 67, 0.15);\n",
              "      fill: #174EA6;\n",
              "    }\n",
              "\n",
              "    [theme=dark] .colab-df-convert {\n",
              "      background-color: #3B4455;\n",
              "      fill: #D2E3FC;\n",
              "    }\n",
              "\n",
              "    [theme=dark] .colab-df-convert:hover {\n",
              "      background-color: #434B5C;\n",
              "      box-shadow: 0px 1px 3px 1px rgba(0, 0, 0, 0.15);\n",
              "      filter: drop-shadow(0px 1px 2px rgba(0, 0, 0, 0.3));\n",
              "      fill: #FFFFFF;\n",
              "    }\n",
              "  </style>\n",
              "\n",
              "      <script>\n",
              "        const buttonEl =\n",
              "          document.querySelector('#df-054049f2-0769-4593-8bf2-c30eb22441e1 button.colab-df-convert');\n",
              "        buttonEl.style.display =\n",
              "          google.colab.kernel.accessAllowed ? 'block' : 'none';\n",
              "\n",
              "        async function convertToInteractive(key) {\n",
              "          const element = document.querySelector('#df-054049f2-0769-4593-8bf2-c30eb22441e1');\n",
              "          const dataTable =\n",
              "            await google.colab.kernel.invokeFunction('convertToInteractive',\n",
              "                                                     [key], {});\n",
              "          if (!dataTable) return;\n",
              "\n",
              "          const docLinkHtml = 'Like what you see? Visit the ' +\n",
              "            '<a target=\"_blank\" href=https://colab.research.google.com/notebooks/data_table.ipynb>data table notebook</a>'\n",
              "            + ' to learn more about interactive tables.';\n",
              "          element.innerHTML = '';\n",
              "          dataTable['output_type'] = 'display_data';\n",
              "          await google.colab.output.renderOutput(dataTable, element);\n",
              "          const docLink = document.createElement('div');\n",
              "          docLink.innerHTML = docLinkHtml;\n",
              "          element.appendChild(docLink);\n",
              "        }\n",
              "      </script>\n",
              "    </div>\n",
              "  </div>\n",
              "  "
            ]
          },
          "metadata": {},
          "execution_count": 89
        }
      ]
    },
    {
      "cell_type": "code",
      "source": [
        "X_test"
      ],
      "metadata": {
        "colab": {
          "base_uri": "https://localhost:8080/",
          "height": 424
        },
        "id": "1b6jfkQfrbHW",
        "outputId": "c82822f0-24dc-4d49-8d57-aa6fbaa2123f"
      },
      "execution_count": null,
      "outputs": [
        {
          "output_type": "execute_result",
          "data": {
            "text/plain": [
              "     AGE  SEX   BMI     BP   S1     S2    S3    S4      S5   S6\n",
              "405   62    2  37.8  119.0  113   51.0  31.0  4.00  5.0434   84\n",
              "422   27    2  33.6  110.0  246  156.6  57.0  4.00  5.0876   89\n",
              "95    29    1  21.0   71.0  156   97.0  38.0  4.00  4.6540   90\n",
              "337   54    2  25.2  115.0  181  120.0  39.0  5.00  4.7005   92\n",
              "338   31    1  23.3   85.0  190  130.8  43.0  4.00  4.3944   77\n",
              "..   ...  ...   ...    ...  ...    ...   ...   ...     ...  ...\n",
              "197   62    2  26.7  115.0  183  124.0  35.0  5.00  4.7875  100\n",
              "45    56    2  23.1  104.0  181  116.4  47.0  4.00  4.4773   79\n",
              "223   21    1  24.2   76.0  147   77.0  53.0  3.00  4.4427   79\n",
              "417   34    1  33.0   73.0  178  114.6  51.0  3.49  4.1271   92\n",
              "4     50    1  23.0  101.0  192  125.4  52.0  4.00  4.2905   80\n",
              "\n",
              "[89 rows x 10 columns]"
            ],
            "text/html": [
              "\n",
              "  <div id=\"df-3670054e-0304-47a8-84d1-33e88b576785\">\n",
              "    <div class=\"colab-df-container\">\n",
              "      <div>\n",
              "<style scoped>\n",
              "    .dataframe tbody tr th:only-of-type {\n",
              "        vertical-align: middle;\n",
              "    }\n",
              "\n",
              "    .dataframe tbody tr th {\n",
              "        vertical-align: top;\n",
              "    }\n",
              "\n",
              "    .dataframe thead th {\n",
              "        text-align: right;\n",
              "    }\n",
              "</style>\n",
              "<table border=\"1\" class=\"dataframe\">\n",
              "  <thead>\n",
              "    <tr style=\"text-align: right;\">\n",
              "      <th></th>\n",
              "      <th>AGE</th>\n",
              "      <th>SEX</th>\n",
              "      <th>BMI</th>\n",
              "      <th>BP</th>\n",
              "      <th>S1</th>\n",
              "      <th>S2</th>\n",
              "      <th>S3</th>\n",
              "      <th>S4</th>\n",
              "      <th>S5</th>\n",
              "      <th>S6</th>\n",
              "    </tr>\n",
              "  </thead>\n",
              "  <tbody>\n",
              "    <tr>\n",
              "      <th>405</th>\n",
              "      <td>62</td>\n",
              "      <td>2</td>\n",
              "      <td>37.8</td>\n",
              "      <td>119.0</td>\n",
              "      <td>113</td>\n",
              "      <td>51.0</td>\n",
              "      <td>31.0</td>\n",
              "      <td>4.00</td>\n",
              "      <td>5.0434</td>\n",
              "      <td>84</td>\n",
              "    </tr>\n",
              "    <tr>\n",
              "      <th>422</th>\n",
              "      <td>27</td>\n",
              "      <td>2</td>\n",
              "      <td>33.6</td>\n",
              "      <td>110.0</td>\n",
              "      <td>246</td>\n",
              "      <td>156.6</td>\n",
              "      <td>57.0</td>\n",
              "      <td>4.00</td>\n",
              "      <td>5.0876</td>\n",
              "      <td>89</td>\n",
              "    </tr>\n",
              "    <tr>\n",
              "      <th>95</th>\n",
              "      <td>29</td>\n",
              "      <td>1</td>\n",
              "      <td>21.0</td>\n",
              "      <td>71.0</td>\n",
              "      <td>156</td>\n",
              "      <td>97.0</td>\n",
              "      <td>38.0</td>\n",
              "      <td>4.00</td>\n",
              "      <td>4.6540</td>\n",
              "      <td>90</td>\n",
              "    </tr>\n",
              "    <tr>\n",
              "      <th>337</th>\n",
              "      <td>54</td>\n",
              "      <td>2</td>\n",
              "      <td>25.2</td>\n",
              "      <td>115.0</td>\n",
              "      <td>181</td>\n",
              "      <td>120.0</td>\n",
              "      <td>39.0</td>\n",
              "      <td>5.00</td>\n",
              "      <td>4.7005</td>\n",
              "      <td>92</td>\n",
              "    </tr>\n",
              "    <tr>\n",
              "      <th>338</th>\n",
              "      <td>31</td>\n",
              "      <td>1</td>\n",
              "      <td>23.3</td>\n",
              "      <td>85.0</td>\n",
              "      <td>190</td>\n",
              "      <td>130.8</td>\n",
              "      <td>43.0</td>\n",
              "      <td>4.00</td>\n",
              "      <td>4.3944</td>\n",
              "      <td>77</td>\n",
              "    </tr>\n",
              "    <tr>\n",
              "      <th>...</th>\n",
              "      <td>...</td>\n",
              "      <td>...</td>\n",
              "      <td>...</td>\n",
              "      <td>...</td>\n",
              "      <td>...</td>\n",
              "      <td>...</td>\n",
              "      <td>...</td>\n",
              "      <td>...</td>\n",
              "      <td>...</td>\n",
              "      <td>...</td>\n",
              "    </tr>\n",
              "    <tr>\n",
              "      <th>197</th>\n",
              "      <td>62</td>\n",
              "      <td>2</td>\n",
              "      <td>26.7</td>\n",
              "      <td>115.0</td>\n",
              "      <td>183</td>\n",
              "      <td>124.0</td>\n",
              "      <td>35.0</td>\n",
              "      <td>5.00</td>\n",
              "      <td>4.7875</td>\n",
              "      <td>100</td>\n",
              "    </tr>\n",
              "    <tr>\n",
              "      <th>45</th>\n",
              "      <td>56</td>\n",
              "      <td>2</td>\n",
              "      <td>23.1</td>\n",
              "      <td>104.0</td>\n",
              "      <td>181</td>\n",
              "      <td>116.4</td>\n",
              "      <td>47.0</td>\n",
              "      <td>4.00</td>\n",
              "      <td>4.4773</td>\n",
              "      <td>79</td>\n",
              "    </tr>\n",
              "    <tr>\n",
              "      <th>223</th>\n",
              "      <td>21</td>\n",
              "      <td>1</td>\n",
              "      <td>24.2</td>\n",
              "      <td>76.0</td>\n",
              "      <td>147</td>\n",
              "      <td>77.0</td>\n",
              "      <td>53.0</td>\n",
              "      <td>3.00</td>\n",
              "      <td>4.4427</td>\n",
              "      <td>79</td>\n",
              "    </tr>\n",
              "    <tr>\n",
              "      <th>417</th>\n",
              "      <td>34</td>\n",
              "      <td>1</td>\n",
              "      <td>33.0</td>\n",
              "      <td>73.0</td>\n",
              "      <td>178</td>\n",
              "      <td>114.6</td>\n",
              "      <td>51.0</td>\n",
              "      <td>3.49</td>\n",
              "      <td>4.1271</td>\n",
              "      <td>92</td>\n",
              "    </tr>\n",
              "    <tr>\n",
              "      <th>4</th>\n",
              "      <td>50</td>\n",
              "      <td>1</td>\n",
              "      <td>23.0</td>\n",
              "      <td>101.0</td>\n",
              "      <td>192</td>\n",
              "      <td>125.4</td>\n",
              "      <td>52.0</td>\n",
              "      <td>4.00</td>\n",
              "      <td>4.2905</td>\n",
              "      <td>80</td>\n",
              "    </tr>\n",
              "  </tbody>\n",
              "</table>\n",
              "<p>89 rows × 10 columns</p>\n",
              "</div>\n",
              "      <button class=\"colab-df-convert\" onclick=\"convertToInteractive('df-3670054e-0304-47a8-84d1-33e88b576785')\"\n",
              "              title=\"Convert this dataframe to an interactive table.\"\n",
              "              style=\"display:none;\">\n",
              "        \n",
              "  <svg xmlns=\"http://www.w3.org/2000/svg\" height=\"24px\"viewBox=\"0 0 24 24\"\n",
              "       width=\"24px\">\n",
              "    <path d=\"M0 0h24v24H0V0z\" fill=\"none\"/>\n",
              "    <path d=\"M18.56 5.44l.94 2.06.94-2.06 2.06-.94-2.06-.94-.94-2.06-.94 2.06-2.06.94zm-11 1L8.5 8.5l.94-2.06 2.06-.94-2.06-.94L8.5 2.5l-.94 2.06-2.06.94zm10 10l.94 2.06.94-2.06 2.06-.94-2.06-.94-.94-2.06-.94 2.06-2.06.94z\"/><path d=\"M17.41 7.96l-1.37-1.37c-.4-.4-.92-.59-1.43-.59-.52 0-1.04.2-1.43.59L10.3 9.45l-7.72 7.72c-.78.78-.78 2.05 0 2.83L4 21.41c.39.39.9.59 1.41.59.51 0 1.02-.2 1.41-.59l7.78-7.78 2.81-2.81c.8-.78.8-2.07 0-2.86zM5.41 20L4 18.59l7.72-7.72 1.47 1.35L5.41 20z\"/>\n",
              "  </svg>\n",
              "      </button>\n",
              "      \n",
              "  <style>\n",
              "    .colab-df-container {\n",
              "      display:flex;\n",
              "      flex-wrap:wrap;\n",
              "      gap: 12px;\n",
              "    }\n",
              "\n",
              "    .colab-df-convert {\n",
              "      background-color: #E8F0FE;\n",
              "      border: none;\n",
              "      border-radius: 50%;\n",
              "      cursor: pointer;\n",
              "      display: none;\n",
              "      fill: #1967D2;\n",
              "      height: 32px;\n",
              "      padding: 0 0 0 0;\n",
              "      width: 32px;\n",
              "    }\n",
              "\n",
              "    .colab-df-convert:hover {\n",
              "      background-color: #E2EBFA;\n",
              "      box-shadow: 0px 1px 2px rgba(60, 64, 67, 0.3), 0px 1px 3px 1px rgba(60, 64, 67, 0.15);\n",
              "      fill: #174EA6;\n",
              "    }\n",
              "\n",
              "    [theme=dark] .colab-df-convert {\n",
              "      background-color: #3B4455;\n",
              "      fill: #D2E3FC;\n",
              "    }\n",
              "\n",
              "    [theme=dark] .colab-df-convert:hover {\n",
              "      background-color: #434B5C;\n",
              "      box-shadow: 0px 1px 3px 1px rgba(0, 0, 0, 0.15);\n",
              "      filter: drop-shadow(0px 1px 2px rgba(0, 0, 0, 0.3));\n",
              "      fill: #FFFFFF;\n",
              "    }\n",
              "  </style>\n",
              "\n",
              "      <script>\n",
              "        const buttonEl =\n",
              "          document.querySelector('#df-3670054e-0304-47a8-84d1-33e88b576785 button.colab-df-convert');\n",
              "        buttonEl.style.display =\n",
              "          google.colab.kernel.accessAllowed ? 'block' : 'none';\n",
              "\n",
              "        async function convertToInteractive(key) {\n",
              "          const element = document.querySelector('#df-3670054e-0304-47a8-84d1-33e88b576785');\n",
              "          const dataTable =\n",
              "            await google.colab.kernel.invokeFunction('convertToInteractive',\n",
              "                                                     [key], {});\n",
              "          if (!dataTable) return;\n",
              "\n",
              "          const docLinkHtml = 'Like what you see? Visit the ' +\n",
              "            '<a target=\"_blank\" href=https://colab.research.google.com/notebooks/data_table.ipynb>data table notebook</a>'\n",
              "            + ' to learn more about interactive tables.';\n",
              "          element.innerHTML = '';\n",
              "          dataTable['output_type'] = 'display_data';\n",
              "          await google.colab.output.renderOutput(dataTable, element);\n",
              "          const docLink = document.createElement('div');\n",
              "          docLink.innerHTML = docLinkHtml;\n",
              "          element.appendChild(docLink);\n",
              "        }\n",
              "      </script>\n",
              "    </div>\n",
              "  </div>\n",
              "  "
            ]
          },
          "metadata": {},
          "execution_count": 90
        }
      ]
    },
    {
      "cell_type": "code",
      "source": [
        "Y_train"
      ],
      "metadata": {
        "colab": {
          "base_uri": "https://localhost:8080/"
        },
        "id": "XfewSXjorf4C",
        "outputId": "aee38aea-f039-4890-dbdf-46e3f6fe9d78"
      },
      "execution_count": null,
      "outputs": [
        {
          "output_type": "execute_result",
          "data": {
            "text/plain": [
              "96     150\n",
              "341    263\n",
              "394    273\n",
              "24     184\n",
              "195    122\n",
              "      ... \n",
              "374    140\n",
              "317    190\n",
              "143     60\n",
              "318    109\n",
              "132    107\n",
              "Name: Y, Length: 353, dtype: int64"
            ]
          },
          "metadata": {},
          "execution_count": 91
        }
      ]
    },
    {
      "cell_type": "code",
      "source": [
        "Y_test"
      ],
      "metadata": {
        "colab": {
          "base_uri": "https://localhost:8080/"
        },
        "id": "ZRiV-AyErifD",
        "outputId": "cf9e8a3d-2ec5-4ae6-d1a3-52b043448201"
      },
      "execution_count": null,
      "outputs": [
        {
          "output_type": "execute_result",
          "data": {
            "text/plain": [
              "405    281\n",
              "422    233\n",
              "95     162\n",
              "337     91\n",
              "338    214\n",
              "      ... \n",
              "197    129\n",
              "45      53\n",
              "223    150\n",
              "417     55\n",
              "4      135\n",
              "Name: Y, Length: 89, dtype: int64"
            ]
          },
          "metadata": {},
          "execution_count": 92
        }
      ]
    },
    {
      "cell_type": "markdown",
      "source": [
        "Performing training(fitting) the train data into the model and then giving the predictions."
      ],
      "metadata": {
        "id": "c4L-VT18lXyj"
      }
    },
    {
      "cell_type": "code",
      "source": [
        "regr = LinearRegression()\n",
        "  \n",
        "regr.fit(X_train, Y_train)\n",
        "Y_pred=regr.predict(X_test)"
      ],
      "metadata": {
        "id": "7Q6FENNCj3p7"
      },
      "execution_count": null,
      "outputs": []
    },
    {
      "cell_type": "markdown",
      "source": [
        "Showing predictions"
      ],
      "metadata": {
        "id": "23tjtqQrlakr"
      }
    },
    {
      "cell_type": "code",
      "source": [
        "Y_pred"
      ],
      "metadata": {
        "colab": {
          "base_uri": "https://localhost:8080/"
        },
        "id": "qABNcXeMi9va",
        "outputId": "e782ca7d-d1dd-494e-f2da-306a4c820ee3"
      },
      "execution_count": null,
      "outputs": [
        {
          "output_type": "execute_result",
          "data": {
            "text/plain": [
              "array([298.09010187, 203.61601286, 114.2635467 , 182.83671326,\n",
              "       117.3713319 , 138.84607972, 231.01963362,  86.2412885 ,\n",
              "        79.8878377 , 107.08732065, 114.98693458,  57.75987285,\n",
              "       190.74262381, 255.97527023, 192.16430227, 202.52079034,\n",
              "        69.13585663, 131.32843717, 236.97159802, 219.48475153,\n",
              "       140.47991435, 154.4604947 , 182.36606843, 179.12638988,\n",
              "       131.782608  , 172.45781828, 177.6676118 , 125.87281002,\n",
              "       134.809495  , 199.53688981, 198.86924408, 248.3296413 ,\n",
              "       153.95955795, 193.76548264, 205.4074572 , 256.7655892 ,\n",
              "       119.83799043,  57.48941979, 108.61722772,  69.2458865 ,\n",
              "        85.33091476, 229.96198951, 221.06028826, 156.78134593,\n",
              "       103.10070435, 195.8904753 , 145.43448887, 172.03850677,\n",
              "       115.73689367, 200.84810079, 193.80865856, 162.15183557,\n",
              "       114.13767699,  91.99826446, 107.71129845, 154.55424957,\n",
              "       225.30745624, 157.50864934, 108.90474147, 113.42989773,\n",
              "        93.9641731 , 259.33250183,  79.02692805,  59.26446889,\n",
              "        98.01465319, 138.04459299, 166.8063335 , 163.91954094,\n",
              "       116.69057765, 154.73873185, 178.89744216, 121.34664391,\n",
              "       135.81652443, 110.87520991, 144.88020813, 147.60768014,\n",
              "       130.52847641, 197.5488913 , 197.82809692, 108.50447826,\n",
              "        86.26848218, 162.33230018, 138.05140398,  88.02986649,\n",
              "       195.57172612, 134.0105052 , 121.1731308 , 139.0405534 ,\n",
              "       130.15392512])"
            ]
          },
          "metadata": {},
          "execution_count": 94
        }
      ]
    },
    {
      "cell_type": "code",
      "source": [
        "from sklearn.metrics import mean_absolute_error\n",
        "mean_absolute_error(Y_test,Y_pred)"
      ],
      "metadata": {
        "colab": {
          "base_uri": "https://localhost:8080/"
        },
        "id": "N8F6hK3d_8vc",
        "outputId": "5d015b4d-9f00-4115-c48f-9fff39fdd376"
      },
      "execution_count": null,
      "outputs": [
        {
          "output_type": "execute_result",
          "data": {
            "text/plain": [
              "44.097327365921345"
            ]
          },
          "metadata": {},
          "execution_count": 95
        }
      ]
    },
    {
      "cell_type": "markdown",
      "source": [
        "while coding linear regression from scratch, mae comes out to be 120.12844626097662 but using sklearn library mae comes out to be 44.097327365921345\n"
      ],
      "metadata": {
        "id": "yJyxf0-w5tJl"
      }
    },
    {
      "cell_type": "markdown",
      "source": [
        "# **naive bayes classifier**"
      ],
      "metadata": {
        "id": "zPbr9sgVBvBQ"
      }
    },
    {
      "cell_type": "code",
      "source": [
        "import pandas as pd"
      ],
      "metadata": {
        "id": "55X-sj1Lycql"
      },
      "execution_count": 19,
      "outputs": []
    },
    {
      "cell_type": "markdown",
      "source": [
        "Loading the data"
      ],
      "metadata": {
        "id": "9HQZ2xtsi4Z1"
      }
    },
    {
      "cell_type": "code",
      "source": [
        "csv_url = 'https://archive.ics.uci.edu/ml/machine-learning-databases/iris/iris.data'\n",
        "col_names = ['Sepal_Length','Sepal_Width','Petal_Length','Petal_Width','Class']\n",
        "iris =  pd.read_csv(csv_url, names = col_names)"
      ],
      "metadata": {
        "id": "oSSXr_rWPOh5"
      },
      "execution_count": 20,
      "outputs": []
    },
    {
      "cell_type": "markdown",
      "source": [
        "First five rows of dataframe"
      ],
      "metadata": {
        "id": "heVU7wDQi63a"
      }
    },
    {
      "cell_type": "code",
      "source": [
        "iris.head()"
      ],
      "metadata": {
        "colab": {
          "base_uri": "https://localhost:8080/",
          "height": 206
        },
        "id": "ybScruK7PXSt",
        "outputId": "19feea96-58d0-4972-8074-001503c917e4"
      },
      "execution_count": 21,
      "outputs": [
        {
          "output_type": "execute_result",
          "data": {
            "text/plain": [
              "   Sepal_Length  Sepal_Width  Petal_Length  Petal_Width        Class\n",
              "0           5.1          3.5           1.4          0.2  Iris-setosa\n",
              "1           4.9          3.0           1.4          0.2  Iris-setosa\n",
              "2           4.7          3.2           1.3          0.2  Iris-setosa\n",
              "3           4.6          3.1           1.5          0.2  Iris-setosa\n",
              "4           5.0          3.6           1.4          0.2  Iris-setosa"
            ],
            "text/html": [
              "\n",
              "  <div id=\"df-b0bf367d-b82d-4338-9dd4-954571a89136\">\n",
              "    <div class=\"colab-df-container\">\n",
              "      <div>\n",
              "<style scoped>\n",
              "    .dataframe tbody tr th:only-of-type {\n",
              "        vertical-align: middle;\n",
              "    }\n",
              "\n",
              "    .dataframe tbody tr th {\n",
              "        vertical-align: top;\n",
              "    }\n",
              "\n",
              "    .dataframe thead th {\n",
              "        text-align: right;\n",
              "    }\n",
              "</style>\n",
              "<table border=\"1\" class=\"dataframe\">\n",
              "  <thead>\n",
              "    <tr style=\"text-align: right;\">\n",
              "      <th></th>\n",
              "      <th>Sepal_Length</th>\n",
              "      <th>Sepal_Width</th>\n",
              "      <th>Petal_Length</th>\n",
              "      <th>Petal_Width</th>\n",
              "      <th>Class</th>\n",
              "    </tr>\n",
              "  </thead>\n",
              "  <tbody>\n",
              "    <tr>\n",
              "      <th>0</th>\n",
              "      <td>5.1</td>\n",
              "      <td>3.5</td>\n",
              "      <td>1.4</td>\n",
              "      <td>0.2</td>\n",
              "      <td>Iris-setosa</td>\n",
              "    </tr>\n",
              "    <tr>\n",
              "      <th>1</th>\n",
              "      <td>4.9</td>\n",
              "      <td>3.0</td>\n",
              "      <td>1.4</td>\n",
              "      <td>0.2</td>\n",
              "      <td>Iris-setosa</td>\n",
              "    </tr>\n",
              "    <tr>\n",
              "      <th>2</th>\n",
              "      <td>4.7</td>\n",
              "      <td>3.2</td>\n",
              "      <td>1.3</td>\n",
              "      <td>0.2</td>\n",
              "      <td>Iris-setosa</td>\n",
              "    </tr>\n",
              "    <tr>\n",
              "      <th>3</th>\n",
              "      <td>4.6</td>\n",
              "      <td>3.1</td>\n",
              "      <td>1.5</td>\n",
              "      <td>0.2</td>\n",
              "      <td>Iris-setosa</td>\n",
              "    </tr>\n",
              "    <tr>\n",
              "      <th>4</th>\n",
              "      <td>5.0</td>\n",
              "      <td>3.6</td>\n",
              "      <td>1.4</td>\n",
              "      <td>0.2</td>\n",
              "      <td>Iris-setosa</td>\n",
              "    </tr>\n",
              "  </tbody>\n",
              "</table>\n",
              "</div>\n",
              "      <button class=\"colab-df-convert\" onclick=\"convertToInteractive('df-b0bf367d-b82d-4338-9dd4-954571a89136')\"\n",
              "              title=\"Convert this dataframe to an interactive table.\"\n",
              "              style=\"display:none;\">\n",
              "        \n",
              "  <svg xmlns=\"http://www.w3.org/2000/svg\" height=\"24px\"viewBox=\"0 0 24 24\"\n",
              "       width=\"24px\">\n",
              "    <path d=\"M0 0h24v24H0V0z\" fill=\"none\"/>\n",
              "    <path d=\"M18.56 5.44l.94 2.06.94-2.06 2.06-.94-2.06-.94-.94-2.06-.94 2.06-2.06.94zm-11 1L8.5 8.5l.94-2.06 2.06-.94-2.06-.94L8.5 2.5l-.94 2.06-2.06.94zm10 10l.94 2.06.94-2.06 2.06-.94-2.06-.94-.94-2.06-.94 2.06-2.06.94z\"/><path d=\"M17.41 7.96l-1.37-1.37c-.4-.4-.92-.59-1.43-.59-.52 0-1.04.2-1.43.59L10.3 9.45l-7.72 7.72c-.78.78-.78 2.05 0 2.83L4 21.41c.39.39.9.59 1.41.59.51 0 1.02-.2 1.41-.59l7.78-7.78 2.81-2.81c.8-.78.8-2.07 0-2.86zM5.41 20L4 18.59l7.72-7.72 1.47 1.35L5.41 20z\"/>\n",
              "  </svg>\n",
              "      </button>\n",
              "      \n",
              "  <style>\n",
              "    .colab-df-container {\n",
              "      display:flex;\n",
              "      flex-wrap:wrap;\n",
              "      gap: 12px;\n",
              "    }\n",
              "\n",
              "    .colab-df-convert {\n",
              "      background-color: #E8F0FE;\n",
              "      border: none;\n",
              "      border-radius: 50%;\n",
              "      cursor: pointer;\n",
              "      display: none;\n",
              "      fill: #1967D2;\n",
              "      height: 32px;\n",
              "      padding: 0 0 0 0;\n",
              "      width: 32px;\n",
              "    }\n",
              "\n",
              "    .colab-df-convert:hover {\n",
              "      background-color: #E2EBFA;\n",
              "      box-shadow: 0px 1px 2px rgba(60, 64, 67, 0.3), 0px 1px 3px 1px rgba(60, 64, 67, 0.15);\n",
              "      fill: #174EA6;\n",
              "    }\n",
              "\n",
              "    [theme=dark] .colab-df-convert {\n",
              "      background-color: #3B4455;\n",
              "      fill: #D2E3FC;\n",
              "    }\n",
              "\n",
              "    [theme=dark] .colab-df-convert:hover {\n",
              "      background-color: #434B5C;\n",
              "      box-shadow: 0px 1px 3px 1px rgba(0, 0, 0, 0.15);\n",
              "      filter: drop-shadow(0px 1px 2px rgba(0, 0, 0, 0.3));\n",
              "      fill: #FFFFFF;\n",
              "    }\n",
              "  </style>\n",
              "\n",
              "      <script>\n",
              "        const buttonEl =\n",
              "          document.querySelector('#df-b0bf367d-b82d-4338-9dd4-954571a89136 button.colab-df-convert');\n",
              "        buttonEl.style.display =\n",
              "          google.colab.kernel.accessAllowed ? 'block' : 'none';\n",
              "\n",
              "        async function convertToInteractive(key) {\n",
              "          const element = document.querySelector('#df-b0bf367d-b82d-4338-9dd4-954571a89136');\n",
              "          const dataTable =\n",
              "            await google.colab.kernel.invokeFunction('convertToInteractive',\n",
              "                                                     [key], {});\n",
              "          if (!dataTable) return;\n",
              "\n",
              "          const docLinkHtml = 'Like what you see? Visit the ' +\n",
              "            '<a target=\"_blank\" href=https://colab.research.google.com/notebooks/data_table.ipynb>data table notebook</a>'\n",
              "            + ' to learn more about interactive tables.';\n",
              "          element.innerHTML = '';\n",
              "          dataTable['output_type'] = 'display_data';\n",
              "          await google.colab.output.renderOutput(dataTable, element);\n",
              "          const docLink = document.createElement('div');\n",
              "          docLink.innerHTML = docLinkHtml;\n",
              "          element.appendChild(docLink);\n",
              "        }\n",
              "      </script>\n",
              "    </div>\n",
              "  </div>\n",
              "  "
            ]
          },
          "metadata": {},
          "execution_count": 21
        }
      ]
    },
    {
      "cell_type": "markdown",
      "source": [
        "# **EDA**"
      ],
      "metadata": {
        "id": "mJikv5P43N_I"
      }
    },
    {
      "cell_type": "markdown",
      "source": [
        "Showing the shape of dataframe"
      ],
      "metadata": {
        "id": "Orsx3QXxjyCj"
      }
    },
    {
      "cell_type": "code",
      "source": [
        "iris.shape"
      ],
      "metadata": {
        "colab": {
          "base_uri": "https://localhost:8080/"
        },
        "id": "wjHxijRq4CXe",
        "outputId": "0d809882-8c50-4f93-f7ba-c0eec4bc1478"
      },
      "execution_count": 22,
      "outputs": [
        {
          "output_type": "execute_result",
          "data": {
            "text/plain": [
              "(150, 5)"
            ]
          },
          "metadata": {},
          "execution_count": 22
        }
      ]
    },
    {
      "cell_type": "markdown",
      "source": [
        "Info"
      ],
      "metadata": {
        "id": "VukwIx2Qj1WM"
      }
    },
    {
      "cell_type": "code",
      "source": [
        "iris.info()"
      ],
      "metadata": {
        "colab": {
          "base_uri": "https://localhost:8080/"
        },
        "id": "5PsjWodT3Qn0",
        "outputId": "192f8e83-1921-4d81-e5cb-dae943fa28eb"
      },
      "execution_count": 23,
      "outputs": [
        {
          "output_type": "stream",
          "name": "stdout",
          "text": [
            "<class 'pandas.core.frame.DataFrame'>\n",
            "RangeIndex: 150 entries, 0 to 149\n",
            "Data columns (total 5 columns):\n",
            " #   Column        Non-Null Count  Dtype  \n",
            "---  ------        --------------  -----  \n",
            " 0   Sepal_Length  150 non-null    float64\n",
            " 1   Sepal_Width   150 non-null    float64\n",
            " 2   Petal_Length  150 non-null    float64\n",
            " 3   Petal_Width   150 non-null    float64\n",
            " 4   Class         150 non-null    object \n",
            "dtypes: float64(4), object(1)\n",
            "memory usage: 6.0+ KB\n"
          ]
        }
      ]
    },
    {
      "cell_type": "markdown",
      "source": [
        "Stat details"
      ],
      "metadata": {
        "id": "yc6GV25hj3ip"
      }
    },
    {
      "cell_type": "code",
      "source": [
        "iris.describe()"
      ],
      "metadata": {
        "colab": {
          "base_uri": "https://localhost:8080/",
          "height": 300
        },
        "id": "LFj9srbX3ejZ",
        "outputId": "66fc957c-1ee5-4083-82b4-d3c423b4e76b"
      },
      "execution_count": 24,
      "outputs": [
        {
          "output_type": "execute_result",
          "data": {
            "text/plain": [
              "       Sepal_Length  Sepal_Width  Petal_Length  Petal_Width\n",
              "count    150.000000   150.000000    150.000000   150.000000\n",
              "mean       5.843333     3.054000      3.758667     1.198667\n",
              "std        0.828066     0.433594      1.764420     0.763161\n",
              "min        4.300000     2.000000      1.000000     0.100000\n",
              "25%        5.100000     2.800000      1.600000     0.300000\n",
              "50%        5.800000     3.000000      4.350000     1.300000\n",
              "75%        6.400000     3.300000      5.100000     1.800000\n",
              "max        7.900000     4.400000      6.900000     2.500000"
            ],
            "text/html": [
              "\n",
              "  <div id=\"df-0a6f390e-33c3-4e9b-966c-e3ac84c18720\">\n",
              "    <div class=\"colab-df-container\">\n",
              "      <div>\n",
              "<style scoped>\n",
              "    .dataframe tbody tr th:only-of-type {\n",
              "        vertical-align: middle;\n",
              "    }\n",
              "\n",
              "    .dataframe tbody tr th {\n",
              "        vertical-align: top;\n",
              "    }\n",
              "\n",
              "    .dataframe thead th {\n",
              "        text-align: right;\n",
              "    }\n",
              "</style>\n",
              "<table border=\"1\" class=\"dataframe\">\n",
              "  <thead>\n",
              "    <tr style=\"text-align: right;\">\n",
              "      <th></th>\n",
              "      <th>Sepal_Length</th>\n",
              "      <th>Sepal_Width</th>\n",
              "      <th>Petal_Length</th>\n",
              "      <th>Petal_Width</th>\n",
              "    </tr>\n",
              "  </thead>\n",
              "  <tbody>\n",
              "    <tr>\n",
              "      <th>count</th>\n",
              "      <td>150.000000</td>\n",
              "      <td>150.000000</td>\n",
              "      <td>150.000000</td>\n",
              "      <td>150.000000</td>\n",
              "    </tr>\n",
              "    <tr>\n",
              "      <th>mean</th>\n",
              "      <td>5.843333</td>\n",
              "      <td>3.054000</td>\n",
              "      <td>3.758667</td>\n",
              "      <td>1.198667</td>\n",
              "    </tr>\n",
              "    <tr>\n",
              "      <th>std</th>\n",
              "      <td>0.828066</td>\n",
              "      <td>0.433594</td>\n",
              "      <td>1.764420</td>\n",
              "      <td>0.763161</td>\n",
              "    </tr>\n",
              "    <tr>\n",
              "      <th>min</th>\n",
              "      <td>4.300000</td>\n",
              "      <td>2.000000</td>\n",
              "      <td>1.000000</td>\n",
              "      <td>0.100000</td>\n",
              "    </tr>\n",
              "    <tr>\n",
              "      <th>25%</th>\n",
              "      <td>5.100000</td>\n",
              "      <td>2.800000</td>\n",
              "      <td>1.600000</td>\n",
              "      <td>0.300000</td>\n",
              "    </tr>\n",
              "    <tr>\n",
              "      <th>50%</th>\n",
              "      <td>5.800000</td>\n",
              "      <td>3.000000</td>\n",
              "      <td>4.350000</td>\n",
              "      <td>1.300000</td>\n",
              "    </tr>\n",
              "    <tr>\n",
              "      <th>75%</th>\n",
              "      <td>6.400000</td>\n",
              "      <td>3.300000</td>\n",
              "      <td>5.100000</td>\n",
              "      <td>1.800000</td>\n",
              "    </tr>\n",
              "    <tr>\n",
              "      <th>max</th>\n",
              "      <td>7.900000</td>\n",
              "      <td>4.400000</td>\n",
              "      <td>6.900000</td>\n",
              "      <td>2.500000</td>\n",
              "    </tr>\n",
              "  </tbody>\n",
              "</table>\n",
              "</div>\n",
              "      <button class=\"colab-df-convert\" onclick=\"convertToInteractive('df-0a6f390e-33c3-4e9b-966c-e3ac84c18720')\"\n",
              "              title=\"Convert this dataframe to an interactive table.\"\n",
              "              style=\"display:none;\">\n",
              "        \n",
              "  <svg xmlns=\"http://www.w3.org/2000/svg\" height=\"24px\"viewBox=\"0 0 24 24\"\n",
              "       width=\"24px\">\n",
              "    <path d=\"M0 0h24v24H0V0z\" fill=\"none\"/>\n",
              "    <path d=\"M18.56 5.44l.94 2.06.94-2.06 2.06-.94-2.06-.94-.94-2.06-.94 2.06-2.06.94zm-11 1L8.5 8.5l.94-2.06 2.06-.94-2.06-.94L8.5 2.5l-.94 2.06-2.06.94zm10 10l.94 2.06.94-2.06 2.06-.94-2.06-.94-.94-2.06-.94 2.06-2.06.94z\"/><path d=\"M17.41 7.96l-1.37-1.37c-.4-.4-.92-.59-1.43-.59-.52 0-1.04.2-1.43.59L10.3 9.45l-7.72 7.72c-.78.78-.78 2.05 0 2.83L4 21.41c.39.39.9.59 1.41.59.51 0 1.02-.2 1.41-.59l7.78-7.78 2.81-2.81c.8-.78.8-2.07 0-2.86zM5.41 20L4 18.59l7.72-7.72 1.47 1.35L5.41 20z\"/>\n",
              "  </svg>\n",
              "      </button>\n",
              "      \n",
              "  <style>\n",
              "    .colab-df-container {\n",
              "      display:flex;\n",
              "      flex-wrap:wrap;\n",
              "      gap: 12px;\n",
              "    }\n",
              "\n",
              "    .colab-df-convert {\n",
              "      background-color: #E8F0FE;\n",
              "      border: none;\n",
              "      border-radius: 50%;\n",
              "      cursor: pointer;\n",
              "      display: none;\n",
              "      fill: #1967D2;\n",
              "      height: 32px;\n",
              "      padding: 0 0 0 0;\n",
              "      width: 32px;\n",
              "    }\n",
              "\n",
              "    .colab-df-convert:hover {\n",
              "      background-color: #E2EBFA;\n",
              "      box-shadow: 0px 1px 2px rgba(60, 64, 67, 0.3), 0px 1px 3px 1px rgba(60, 64, 67, 0.15);\n",
              "      fill: #174EA6;\n",
              "    }\n",
              "\n",
              "    [theme=dark] .colab-df-convert {\n",
              "      background-color: #3B4455;\n",
              "      fill: #D2E3FC;\n",
              "    }\n",
              "\n",
              "    [theme=dark] .colab-df-convert:hover {\n",
              "      background-color: #434B5C;\n",
              "      box-shadow: 0px 1px 3px 1px rgba(0, 0, 0, 0.15);\n",
              "      filter: drop-shadow(0px 1px 2px rgba(0, 0, 0, 0.3));\n",
              "      fill: #FFFFFF;\n",
              "    }\n",
              "  </style>\n",
              "\n",
              "      <script>\n",
              "        const buttonEl =\n",
              "          document.querySelector('#df-0a6f390e-33c3-4e9b-966c-e3ac84c18720 button.colab-df-convert');\n",
              "        buttonEl.style.display =\n",
              "          google.colab.kernel.accessAllowed ? 'block' : 'none';\n",
              "\n",
              "        async function convertToInteractive(key) {\n",
              "          const element = document.querySelector('#df-0a6f390e-33c3-4e9b-966c-e3ac84c18720');\n",
              "          const dataTable =\n",
              "            await google.colab.kernel.invokeFunction('convertToInteractive',\n",
              "                                                     [key], {});\n",
              "          if (!dataTable) return;\n",
              "\n",
              "          const docLinkHtml = 'Like what you see? Visit the ' +\n",
              "            '<a target=\"_blank\" href=https://colab.research.google.com/notebooks/data_table.ipynb>data table notebook</a>'\n",
              "            + ' to learn more about interactive tables.';\n",
              "          element.innerHTML = '';\n",
              "          dataTable['output_type'] = 'display_data';\n",
              "          await google.colab.output.renderOutput(dataTable, element);\n",
              "          const docLink = document.createElement('div');\n",
              "          docLink.innerHTML = docLinkHtml;\n",
              "          element.appendChild(docLink);\n",
              "        }\n",
              "      </script>\n",
              "    </div>\n",
              "  </div>\n",
              "  "
            ]
          },
          "metadata": {},
          "execution_count": 24
        }
      ]
    },
    {
      "cell_type": "code",
      "source": [
        "import seaborn as sns"
      ],
      "metadata": {
        "id": "E-pnuxfC8ltd"
      },
      "execution_count": 27,
      "outputs": []
    },
    {
      "cell_type": "markdown",
      "source": [
        "Visualizing using seaborn"
      ],
      "metadata": {
        "id": "2dG9e3ZWjDSR"
      }
    },
    {
      "cell_type": "code",
      "source": [
        "# Scatter plots to understand relationship  between variables and segregation of classes\n",
        "plt.figure(figsize=(20, 10))\n",
        "sns.pairplot(iris)\n",
        "plt.show()"
      ],
      "metadata": {
        "colab": {
          "base_uri": "https://localhost:8080/",
          "height": 743
        },
        "id": "Jg3bsqKc8_jq",
        "outputId": "15bb3427-f09d-4b3f-fb58-96934dab4463"
      },
      "execution_count": 28,
      "outputs": [
        {
          "output_type": "display_data",
          "data": {
            "text/plain": [
              "<Figure size 1440x720 with 0 Axes>"
            ]
          },
          "metadata": {}
        },
        {
          "output_type": "display_data",
          "data": {
            "text/plain": [
              "<Figure size 720x720 with 20 Axes>"
            ],
            "image/png": "[encoded data removed]"
          },
          "metadata": {
            "needs_background": "light"
          }
        }
      ]
    },
    {
      "cell_type": "markdown",
      "source": [
        "Showing correlation among features(non-categorical) via heatmap"
      ],
      "metadata": {
        "id": "57hudaU2jLNg"
      }
    },
    {
      "cell_type": "code",
      "source": [
        "corr = iris.corr()\n",
        "corr\n",
        "\n",
        "# Figure size\n",
        "plt.figure(figsize=(16,8))\n",
        "\n",
        "# Heatmap\n",
        "sns.heatmap(corr, cmap=\"YlGnBu\", annot=True)\n",
        "plt.show()"
      ],
      "metadata": {
        "colab": {
          "base_uri": "https://localhost:8080/",
          "height": 488
        },
        "id": "TTda2TE_9ToI",
        "outputId": "26c4787b-bce6-4722-ba41-10bb11dbee75"
      },
      "execution_count": 29,
      "outputs": [
        {
          "output_type": "display_data",
          "data": {
            "text/plain": [
              "<Figure size 1152x576 with 2 Axes>"
            ],
            "image/png": "[encoded data removed]"
          },
          "metadata": {
            "needs_background": "light"
          }
        }
      ]
    },
    {
      "cell_type": "markdown",
      "source": [
        "Checking for null values in each column"
      ],
      "metadata": {
        "id": "t1XoO-Kqj6pu"
      }
    },
    {
      "cell_type": "code",
      "source": [
        "iris['Sepal_Length'].isnull().sum()"
      ],
      "metadata": {
        "colab": {
          "base_uri": "https://localhost:8080/"
        },
        "id": "oOfu0puy3kd-",
        "outputId": "ef29d671-86f2-4c68-efe9-921509ad8801"
      },
      "execution_count": 30,
      "outputs": [
        {
          "output_type": "execute_result",
          "data": {
            "text/plain": [
              "0"
            ]
          },
          "metadata": {},
          "execution_count": 30
        }
      ]
    },
    {
      "cell_type": "code",
      "source": [
        "iris['Sepal_Width'].isnull().sum()"
      ],
      "metadata": {
        "colab": {
          "base_uri": "https://localhost:8080/"
        },
        "id": "sSt6-FtG3ypp",
        "outputId": "8ce5efb3-d284-4887-a866-9507b8aa0606"
      },
      "execution_count": 31,
      "outputs": [
        {
          "output_type": "execute_result",
          "data": {
            "text/plain": [
              "0"
            ]
          },
          "metadata": {},
          "execution_count": 31
        }
      ]
    },
    {
      "cell_type": "code",
      "source": [
        "iris['Petal_Length'].isnull().sum()"
      ],
      "metadata": {
        "colab": {
          "base_uri": "https://localhost:8080/"
        },
        "id": "KnvErcC837Rw",
        "outputId": "7e6655be-e372-48e4-96f0-b92968681d94"
      },
      "execution_count": 32,
      "outputs": [
        {
          "output_type": "execute_result",
          "data": {
            "text/plain": [
              "0"
            ]
          },
          "metadata": {},
          "execution_count": 32
        }
      ]
    },
    {
      "cell_type": "code",
      "source": [
        "iris['Petal_Width'].isnull().sum()"
      ],
      "metadata": {
        "colab": {
          "base_uri": "https://localhost:8080/"
        },
        "id": "KNRegtGA329V",
        "outputId": "9b9499ad-2c2a-495d-9a17-e43b8753c47d"
      },
      "execution_count": 33,
      "outputs": [
        {
          "output_type": "execute_result",
          "data": {
            "text/plain": [
              "0"
            ]
          },
          "metadata": {},
          "execution_count": 33
        }
      ]
    },
    {
      "cell_type": "markdown",
      "source": [
        "Checking for duplicate rows"
      ],
      "metadata": {
        "id": "rlO3ZNJhkJPi"
      }
    },
    {
      "cell_type": "code",
      "source": [
        "iris.duplicated().sum()"
      ],
      "metadata": {
        "colab": {
          "base_uri": "https://localhost:8080/"
        },
        "id": "zIpkX7HV4JWJ",
        "outputId": "d6e3646c-6c87-46fb-85b6-fede1f6a2205"
      },
      "execution_count": 34,
      "outputs": [
        {
          "output_type": "execute_result",
          "data": {
            "text/plain": [
              "3"
            ]
          },
          "metadata": {},
          "execution_count": 34
        }
      ]
    },
    {
      "cell_type": "markdown",
      "source": [
        "Counting unique values of each column"
      ],
      "metadata": {
        "id": "A6OKsK5lj_ZO"
      }
    },
    {
      "cell_type": "code",
      "source": [
        "iris.Sepal_Length.value_counts()"
      ],
      "metadata": {
        "colab": {
          "base_uri": "https://localhost:8080/"
        },
        "id": "Oer3ZJQl455b",
        "outputId": "366ea14a-b01d-4d6d-ba67-98e2cb5e0f9e"
      },
      "execution_count": 35,
      "outputs": [
        {
          "output_type": "execute_result",
          "data": {
            "text/plain": [
              "5.0    10\n",
              "5.1     9\n",
              "6.3     9\n",
              "5.7     8\n",
              "6.7     8\n",
              "5.8     7\n",
              "5.5     7\n",
              "6.4     7\n",
              "4.9     6\n",
              "5.4     6\n",
              "6.1     6\n",
              "6.0     6\n",
              "5.6     6\n",
              "4.8     5\n",
              "6.5     5\n",
              "6.2     4\n",
              "7.7     4\n",
              "6.9     4\n",
              "4.6     4\n",
              "5.2     4\n",
              "5.9     3\n",
              "4.4     3\n",
              "7.2     3\n",
              "6.8     3\n",
              "6.6     2\n",
              "4.7     2\n",
              "7.6     1\n",
              "7.4     1\n",
              "7.3     1\n",
              "7.0     1\n",
              "7.1     1\n",
              "5.3     1\n",
              "4.3     1\n",
              "4.5     1\n",
              "7.9     1\n",
              "Name: Sepal_Length, dtype: int64"
            ]
          },
          "metadata": {},
          "execution_count": 35
        }
      ]
    },
    {
      "cell_type": "code",
      "source": [
        "iris.Sepal_Width.value_counts()"
      ],
      "metadata": {
        "colab": {
          "base_uri": "https://localhost:8080/"
        },
        "id": "vMS36yUA6VVI",
        "outputId": "5ae1e8b9-22c5-4a93-e174-339c22db9329"
      },
      "execution_count": 36,
      "outputs": [
        {
          "output_type": "execute_result",
          "data": {
            "text/plain": [
              "3.0    26\n",
              "2.8    14\n",
              "3.2    13\n",
              "3.1    12\n",
              "3.4    12\n",
              "2.9    10\n",
              "2.7     9\n",
              "2.5     8\n",
              "3.5     6\n",
              "3.3     6\n",
              "3.8     6\n",
              "2.6     5\n",
              "2.3     4\n",
              "3.7     3\n",
              "2.4     3\n",
              "2.2     3\n",
              "3.6     3\n",
              "3.9     2\n",
              "4.4     1\n",
              "4.0     1\n",
              "4.1     1\n",
              "4.2     1\n",
              "2.0     1\n",
              "Name: Sepal_Width, dtype: int64"
            ]
          },
          "metadata": {},
          "execution_count": 36
        }
      ]
    },
    {
      "cell_type": "markdown",
      "source": [
        "Removal of duplicate rows"
      ],
      "metadata": {
        "id": "DTHRmMSWkUGx"
      }
    },
    {
      "cell_type": "code",
      "source": [
        "iris.drop_duplicates(inplace=True)"
      ],
      "metadata": {
        "id": "0YD0OMZUjvp8"
      },
      "execution_count": 37,
      "outputs": []
    },
    {
      "cell_type": "code",
      "source": [
        "iris"
      ],
      "metadata": {
        "colab": {
          "base_uri": "https://localhost:8080/",
          "height": 423
        },
        "id": "AFynhunSkRvc",
        "outputId": "34601285-95bb-4ce5-d913-aa045c84b8e6"
      },
      "execution_count": 38,
      "outputs": [
        {
          "output_type": "execute_result",
          "data": {
            "text/plain": [
              "     Sepal_Length  Sepal_Width  Petal_Length  Petal_Width           Class\n",
              "0             5.1          3.5           1.4          0.2     Iris-setosa\n",
              "1             4.9          3.0           1.4          0.2     Iris-setosa\n",
              "2             4.7          3.2           1.3          0.2     Iris-setosa\n",
              "3             4.6          3.1           1.5          0.2     Iris-setosa\n",
              "4             5.0          3.6           1.4          0.2     Iris-setosa\n",
              "..            ...          ...           ...          ...             ...\n",
              "145           6.7          3.0           5.2          2.3  Iris-virginica\n",
              "146           6.3          2.5           5.0          1.9  Iris-virginica\n",
              "147           6.5          3.0           5.2          2.0  Iris-virginica\n",
              "148           6.2          3.4           5.4          2.3  Iris-virginica\n",
              "149           5.9          3.0           5.1          1.8  Iris-virginica\n",
              "\n",
              "[147 rows x 5 columns]"
            ],
            "text/html": [
              "\n",
              "  <div id=\"df-c0e6ec8e-3b4b-4341-b3f4-218ec8a3b7c4\">\n",
              "    <div class=\"colab-df-container\">\n",
              "      <div>\n",
              "<style scoped>\n",
              "    .dataframe tbody tr th:only-of-type {\n",
              "        vertical-align: middle;\n",
              "    }\n",
              "\n",
              "    .dataframe tbody tr th {\n",
              "        vertical-align: top;\n",
              "    }\n",
              "\n",
              "    .dataframe thead th {\n",
              "        text-align: right;\n",
              "    }\n",
              "</style>\n",
              "<table border=\"1\" class=\"dataframe\">\n",
              "  <thead>\n",
              "    <tr style=\"text-align: right;\">\n",
              "      <th></th>\n",
              "      <th>Sepal_Length</th>\n",
              "      <th>Sepal_Width</th>\n",
              "      <th>Petal_Length</th>\n",
              "      <th>Petal_Width</th>\n",
              "      <th>Class</th>\n",
              "    </tr>\n",
              "  </thead>\n",
              "  <tbody>\n",
              "    <tr>\n",
              "      <th>0</th>\n",
              "      <td>5.1</td>\n",
              "      <td>3.5</td>\n",
              "      <td>1.4</td>\n",
              "      <td>0.2</td>\n",
              "      <td>Iris-setosa</td>\n",
              "    </tr>\n",
              "    <tr>\n",
              "      <th>1</th>\n",
              "      <td>4.9</td>\n",
              "      <td>3.0</td>\n",
              "      <td>1.4</td>\n",
              "      <td>0.2</td>\n",
              "      <td>Iris-setosa</td>\n",
              "    </tr>\n",
              "    <tr>\n",
              "      <th>2</th>\n",
              "      <td>4.7</td>\n",
              "      <td>3.2</td>\n",
              "      <td>1.3</td>\n",
              "      <td>0.2</td>\n",
              "      <td>Iris-setosa</td>\n",
              "    </tr>\n",
              "    <tr>\n",
              "      <th>3</th>\n",
              "      <td>4.6</td>\n",
              "      <td>3.1</td>\n",
              "      <td>1.5</td>\n",
              "      <td>0.2</td>\n",
              "      <td>Iris-setosa</td>\n",
              "    </tr>\n",
              "    <tr>\n",
              "      <th>4</th>\n",
              "      <td>5.0</td>\n",
              "      <td>3.6</td>\n",
              "      <td>1.4</td>\n",
              "      <td>0.2</td>\n",
              "      <td>Iris-setosa</td>\n",
              "    </tr>\n",
              "    <tr>\n",
              "      <th>...</th>\n",
              "      <td>...</td>\n",
              "      <td>...</td>\n",
              "      <td>...</td>\n",
              "      <td>...</td>\n",
              "      <td>...</td>\n",
              "    </tr>\n",
              "    <tr>\n",
              "      <th>145</th>\n",
              "      <td>6.7</td>\n",
              "      <td>3.0</td>\n",
              "      <td>5.2</td>\n",
              "      <td>2.3</td>\n",
              "      <td>Iris-virginica</td>\n",
              "    </tr>\n",
              "    <tr>\n",
              "      <th>146</th>\n",
              "      <td>6.3</td>\n",
              "      <td>2.5</td>\n",
              "      <td>5.0</td>\n",
              "      <td>1.9</td>\n",
              "      <td>Iris-virginica</td>\n",
              "    </tr>\n",
              "    <tr>\n",
              "      <th>147</th>\n",
              "      <td>6.5</td>\n",
              "      <td>3.0</td>\n",
              "      <td>5.2</td>\n",
              "      <td>2.0</td>\n",
              "      <td>Iris-virginica</td>\n",
              "    </tr>\n",
              "    <tr>\n",
              "      <th>148</th>\n",
              "      <td>6.2</td>\n",
              "      <td>3.4</td>\n",
              "      <td>5.4</td>\n",
              "      <td>2.3</td>\n",
              "      <td>Iris-virginica</td>\n",
              "    </tr>\n",
              "    <tr>\n",
              "      <th>149</th>\n",
              "      <td>5.9</td>\n",
              "      <td>3.0</td>\n",
              "      <td>5.1</td>\n",
              "      <td>1.8</td>\n",
              "      <td>Iris-virginica</td>\n",
              "    </tr>\n",
              "  </tbody>\n",
              "</table>\n",
              "<p>147 rows × 5 columns</p>\n",
              "</div>\n",
              "      <button class=\"colab-df-convert\" onclick=\"convertToInteractive('df-c0e6ec8e-3b4b-4341-b3f4-218ec8a3b7c4')\"\n",
              "              title=\"Convert this dataframe to an interactive table.\"\n",
              "              style=\"display:none;\">\n",
              "        \n",
              "  <svg xmlns=\"http://www.w3.org/2000/svg\" height=\"24px\"viewBox=\"0 0 24 24\"\n",
              "       width=\"24px\">\n",
              "    <path d=\"M0 0h24v24H0V0z\" fill=\"none\"/>\n",
              "    <path d=\"M18.56 5.44l.94 2.06.94-2.06 2.06-.94-2.06-.94-.94-2.06-.94 2.06-2.06.94zm-11 1L8.5 8.5l.94-2.06 2.06-.94-2.06-.94L8.5 2.5l-.94 2.06-2.06.94zm10 10l.94 2.06.94-2.06 2.06-.94-2.06-.94-.94-2.06-.94 2.06-2.06.94z\"/><path d=\"M17.41 7.96l-1.37-1.37c-.4-.4-.92-.59-1.43-.59-.52 0-1.04.2-1.43.59L10.3 9.45l-7.72 7.72c-.78.78-.78 2.05 0 2.83L4 21.41c.39.39.9.59 1.41.59.51 0 1.02-.2 1.41-.59l7.78-7.78 2.81-2.81c.8-.78.8-2.07 0-2.86zM5.41 20L4 18.59l7.72-7.72 1.47 1.35L5.41 20z\"/>\n",
              "  </svg>\n",
              "      </button>\n",
              "      \n",
              "  <style>\n",
              "    .colab-df-container {\n",
              "      display:flex;\n",
              "      flex-wrap:wrap;\n",
              "      gap: 12px;\n",
              "    }\n",
              "\n",
              "    .colab-df-convert {\n",
              "      background-color: #E8F0FE;\n",
              "      border: none;\n",
              "      border-radius: 50%;\n",
              "      cursor: pointer;\n",
              "      display: none;\n",
              "      fill: #1967D2;\n",
              "      height: 32px;\n",
              "      padding: 0 0 0 0;\n",
              "      width: 32px;\n",
              "    }\n",
              "\n",
              "    .colab-df-convert:hover {\n",
              "      background-color: #E2EBFA;\n",
              "      box-shadow: 0px 1px 2px rgba(60, 64, 67, 0.3), 0px 1px 3px 1px rgba(60, 64, 67, 0.15);\n",
              "      fill: #174EA6;\n",
              "    }\n",
              "\n",
              "    [theme=dark] .colab-df-convert {\n",
              "      background-color: #3B4455;\n",
              "      fill: #D2E3FC;\n",
              "    }\n",
              "\n",
              "    [theme=dark] .colab-df-convert:hover {\n",
              "      background-color: #434B5C;\n",
              "      box-shadow: 0px 1px 3px 1px rgba(0, 0, 0, 0.15);\n",
              "      filter: drop-shadow(0px 1px 2px rgba(0, 0, 0, 0.3));\n",
              "      fill: #FFFFFF;\n",
              "    }\n",
              "  </style>\n",
              "\n",
              "      <script>\n",
              "        const buttonEl =\n",
              "          document.querySelector('#df-c0e6ec8e-3b4b-4341-b3f4-218ec8a3b7c4 button.colab-df-convert');\n",
              "        buttonEl.style.display =\n",
              "          google.colab.kernel.accessAllowed ? 'block' : 'none';\n",
              "\n",
              "        async function convertToInteractive(key) {\n",
              "          const element = document.querySelector('#df-c0e6ec8e-3b4b-4341-b3f4-218ec8a3b7c4');\n",
              "          const dataTable =\n",
              "            await google.colab.kernel.invokeFunction('convertToInteractive',\n",
              "                                                     [key], {});\n",
              "          if (!dataTable) return;\n",
              "\n",
              "          const docLinkHtml = 'Like what you see? Visit the ' +\n",
              "            '<a target=\"_blank\" href=https://colab.research.google.com/notebooks/data_table.ipynb>data table notebook</a>'\n",
              "            + ' to learn more about interactive tables.';\n",
              "          element.innerHTML = '';\n",
              "          dataTable['output_type'] = 'display_data';\n",
              "          await google.colab.output.renderOutput(dataTable, element);\n",
              "          const docLink = document.createElement('div');\n",
              "          docLink.innerHTML = docLinkHtml;\n",
              "          element.appendChild(docLink);\n",
              "        }\n",
              "      </script>\n",
              "    </div>\n",
              "  </div>\n",
              "  "
            ]
          },
          "metadata": {},
          "execution_count": 38
        }
      ]
    },
    {
      "cell_type": "markdown",
      "source": [
        "Separation of 'Class' column and storing in variable Y and other columns in variable X."
      ],
      "metadata": {
        "id": "7KIix3gKkXHY"
      }
    },
    {
      "cell_type": "code",
      "source": [
        "X=iris.loc[:,'Sepal_Length':'Petal_Width']\n",
        "Y=iris.loc[:,'Class']"
      ],
      "metadata": {
        "id": "Rb01p51OfoTm"
      },
      "execution_count": 39,
      "outputs": []
    },
    {
      "cell_type": "code",
      "source": [
        "from sklearn.model_selection import train_test_split"
      ],
      "metadata": {
        "id": "rkdFmOqzyro9"
      },
      "execution_count": 40,
      "outputs": []
    },
    {
      "cell_type": "markdown",
      "source": [
        "Train-test split with test size=0.2"
      ],
      "metadata": {
        "id": "9oFHfeVlm91Y"
      }
    },
    {
      "cell_type": "code",
      "source": [
        "X_train,X_test,Y_train,Y_test=train_test_split(X,Y,test_size=0.2,random_state=25)"
      ],
      "metadata": {
        "id": "qMYTgbz6Pzd2"
      },
      "execution_count": 41,
      "outputs": []
    },
    {
      "cell_type": "code",
      "source": [
        "X_train.shape,X_test.shape,Y_train.shape,Y_test.shape"
      ],
      "metadata": {
        "colab": {
          "base_uri": "https://localhost:8080/"
        },
        "id": "EIxTkxTIzEWI",
        "outputId": "02bea290-4b1b-4c77-d685-06e547da3778"
      },
      "execution_count": 42,
      "outputs": [
        {
          "output_type": "execute_result",
          "data": {
            "text/plain": [
              "((117, 4), (30, 4), (117,), (30,))"
            ]
          },
          "metadata": {},
          "execution_count": 42
        }
      ]
    },
    {
      "cell_type": "markdown",
      "source": [
        "# **using library**"
      ],
      "metadata": {
        "id": "klS5KG6Bko9q"
      }
    },
    {
      "cell_type": "markdown",
      "source": [
        "Performing training(fitting) the train data into the model and then giving the predictions."
      ],
      "metadata": {
        "id": "siAc2vaulBfm"
      }
    },
    {
      "cell_type": "code",
      "source": [
        "from sklearn.naive_bayes import GaussianNB\n",
        "\n",
        "clf = GaussianNB()\n",
        "clf.fit(X_train, Y_train)\n",
        "SkTrain = clf.predict(X_train) \n",
        "SkTest = clf.predict(X_test)"
      ],
      "metadata": {
        "id": "WZSqgEncBuLG"
      },
      "execution_count": 43,
      "outputs": []
    },
    {
      "cell_type": "markdown",
      "source": [
        "Printing the predictions"
      ],
      "metadata": {
        "id": "xaWpDPLHlKja"
      }
    },
    {
      "cell_type": "code",
      "source": [
        "SkTest"
      ],
      "metadata": {
        "colab": {
          "base_uri": "https://localhost:8080/"
        },
        "id": "rVctli76QKHM",
        "outputId": "22f86831-319f-470c-c0d6-b385c9377412"
      },
      "execution_count": 44,
      "outputs": [
        {
          "output_type": "execute_result",
          "data": {
            "text/plain": [
              "array(['Iris-versicolor', 'Iris-versicolor', 'Iris-virginica',\n",
              "       'Iris-virginica', 'Iris-versicolor', 'Iris-virginica',\n",
              "       'Iris-virginica', 'Iris-versicolor', 'Iris-setosa',\n",
              "       'Iris-virginica', 'Iris-setosa', 'Iris-virginica',\n",
              "       'Iris-virginica', 'Iris-setosa', 'Iris-versicolor',\n",
              "       'Iris-virginica', 'Iris-virginica', 'Iris-virginica',\n",
              "       'Iris-versicolor', 'Iris-setosa', 'Iris-setosa', 'Iris-setosa',\n",
              "       'Iris-virginica', 'Iris-setosa', 'Iris-setosa', 'Iris-virginica',\n",
              "       'Iris-virginica', 'Iris-setosa', 'Iris-setosa', 'Iris-versicolor'],\n",
              "      dtype='<U15')"
            ]
          },
          "metadata": {},
          "execution_count": 44
        }
      ]
    },
    {
      "cell_type": "code",
      "source": [
        "from sklearn.metrics import accuracy_score"
      ],
      "metadata": {
        "id": "bxLXvohddsEE"
      },
      "execution_count": 45,
      "outputs": []
    },
    {
      "cell_type": "markdown",
      "source": [
        "Printing the accuracy score"
      ],
      "metadata": {
        "id": "I9gbIyjCk884"
      }
    },
    {
      "cell_type": "code",
      "source": [
        "accuracy_score(SkTest,Y_test)"
      ],
      "metadata": {
        "colab": {
          "base_uri": "https://localhost:8080/"
        },
        "id": "DLWUJpb0esUH",
        "outputId": "a82fb9c1-7b64-4e09-a77b-3426daaf8cdb"
      },
      "execution_count": 46,
      "outputs": [
        {
          "output_type": "execute_result",
          "data": {
            "text/plain": [
              "0.8333333333333334"
            ]
          },
          "metadata": {},
          "execution_count": 46
        }
      ]
    },
    {
      "cell_type": "markdown",
      "source": [
        "The reason for using accuracy score is we want to know out of total number of predictions how many are true."
      ],
      "metadata": {
        "id": "0EilJBnWBM21"
      }
    },
    {
      "cell_type": "markdown",
      "source": [
        "# **tried to implement Naive Bayes from scratch**"
      ],
      "metadata": {
        "id": "Fjij4aZrkPW8"
      }
    },
    {
      "cell_type": "code",
      "source": [
        "X=iris.loc[:,'Sepal_Length':'Petal_Width']\n",
        "Y=iris.loc[:,'Class']"
      ],
      "metadata": {
        "id": "FCevYKmVkSJM"
      },
      "execution_count": null,
      "outputs": []
    },
    {
      "cell_type": "code",
      "source": [
        "X_train,X_test,Y_train,Y_test=train_test_split(X,Y,test_size=0.2,random_state=25)"
      ],
      "metadata": {
        "id": "qoGX-aFRlaPw"
      },
      "execution_count": null,
      "outputs": []
    },
    {
      "cell_type": "markdown",
      "source": [
        "Combining X_train and Y_train into a single training data,Combining X_test and Y_test into a single testing data"
      ],
      "metadata": {
        "id": "IMSU-OH4mBN2"
      }
    },
    {
      "cell_type": "code",
      "source": [
        "train=pd.concat([X_train,Y_train],axis=1)\n",
        "test=pd.concat([X_test,Y_test],axis=1)"
      ],
      "metadata": {
        "id": "PGF-_mZipgSQ"
      },
      "execution_count": null,
      "outputs": []
    },
    {
      "cell_type": "code",
      "source": [
        "import numpy as np"
      ],
      "metadata": {
        "id": "NodQvqIgzP5v"
      },
      "execution_count": null,
      "outputs": []
    },
    {
      "cell_type": "code",
      "source": [
        "means = train.groupby([\"Class\"]).mean() # Estimate mean of each class, feature\n",
        "var = train.groupby([\"Class\"]).var() # Estimate variance of each class, feature\n",
        "prior = (train.groupby(\"Class\").count() / len(train)).iloc[:,1] # Estimate prior probabilities\n",
        "classes = np.unique(train[\"Class\"].tolist())"
      ],
      "metadata": {
        "id": "-dtbNctimULU"
      },
      "execution_count": null,
      "outputs": []
    },
    {
      "cell_type": "markdown",
      "source": [
        "# **Question(5)**"
      ],
      "metadata": {
        "id": "TsHEkdoKLs9z"
      }
    },
    {
      "cell_type": "markdown",
      "source": [
        "#References\n",
        "*   https://medium.com/where-quant-meets-data-science/building-k-nearest-neighbour-algorithm-from-scratch-bd0c5df13192\n",
        "*   Class lecture of KNN Regression(point wise steps portion)  \n",
        "\n",
        "\n",
        "\n",
        "\n"
      ],
      "metadata": {
        "id": "Qdcu9rgloC9K"
      }
    },
    {
      "cell_type": "markdown",
      "source": [
        "Importing libraries"
      ],
      "metadata": {
        "id": "dad3V--hmTgW"
      }
    },
    {
      "cell_type": "code",
      "source": [
        "import pandas as pd\n",
        "import numpy as np\n",
        "import matplotlib.pyplot as plt"
      ],
      "metadata": {
        "id": "6CpbOnoSLxNE"
      },
      "execution_count": null,
      "outputs": []
    },
    {
      "cell_type": "markdown",
      "source": [
        "Loading csv file"
      ],
      "metadata": {
        "id": "gkge1JcWmWbI"
      }
    },
    {
      "cell_type": "code",
      "source": [
        "df=pd.read_csv(\"/content/bmd.csv\")"
      ],
      "metadata": {
        "id": "y5ZlOueHMJ2M"
      },
      "execution_count": null,
      "outputs": []
    },
    {
      "cell_type": "code",
      "source": [
        "df"
      ],
      "metadata": {
        "colab": {
          "base_uri": "https://localhost:8080/",
          "height": 424
        },
        "id": "YCCPeSX1MK2V",
        "outputId": "3afbccc5-4226-4ce9-aef6-80b14276e90d"
      },
      "execution_count": null,
      "outputs": [
        {
          "output_type": "execute_result",
          "data": {
            "text/plain": [
              "        id        age sex     fracture  weight_kg  height_cm      medication  \\\n",
              "0      469  57.052768   F  no fracture       64.0      155.5  Anticonvulsant   \n",
              "1     8724  75.741225   F  no fracture       78.0      162.0   No medication   \n",
              "2     6736  70.778900   M  no fracture       73.0      170.5   No medication   \n",
              "3    24180  78.247175   F  no fracture       60.0      148.0   No medication   \n",
              "4    17072  54.191877   M  no fracture       55.0      161.0   No medication   \n",
              "..     ...        ...  ..          ...        ...        ...             ...   \n",
              "164  21892  77.982543   M     fracture       74.0      164.0   No medication   \n",
              "165  24140  50.285303   F     fracture       59.0      161.0   No medication   \n",
              "166   6969  46.359721   M     fracture       67.0      169.0   No medication   \n",
              "167   5505  54.788368   M     fracture       70.0      166.0   No medication   \n",
              "168     71  69.994822   F     fracture       68.5      165.0   No medication   \n",
              "\n",
              "     waiting_time     bmd  \n",
              "0              18  0.8793  \n",
              "1              56  0.7946  \n",
              "2              10  0.9067  \n",
              "3              14  0.7112  \n",
              "4              20  0.7909  \n",
              "..            ...     ...  \n",
              "164            49  0.7941  \n",
              "165             6  0.7971  \n",
              "166            10  0.8037  \n",
              "167            14  0.8072  \n",
              "168            25  0.8664  \n",
              "\n",
              "[169 rows x 9 columns]"
            ],
            "text/html": [
              "\n",
              "  <div id=\"df-9bb6646e-95be-420e-a4e8-a444934f8083\">\n",
              "    <div class=\"colab-df-container\">\n",
              "      <div>\n",
              "<style scoped>\n",
              "    .dataframe tbody tr th:only-of-type {\n",
              "        vertical-align: middle;\n",
              "    }\n",
              "\n",
              "    .dataframe tbody tr th {\n",
              "        vertical-align: top;\n",
              "    }\n",
              "\n",
              "    .dataframe thead th {\n",
              "        text-align: right;\n",
              "    }\n",
              "</style>\n",
              "<table border=\"1\" class=\"dataframe\">\n",
              "  <thead>\n",
              "    <tr style=\"text-align: right;\">\n",
              "      <th></th>\n",
              "      <th>id</th>\n",
              "      <th>age</th>\n",
              "      <th>sex</th>\n",
              "      <th>fracture</th>\n",
              "      <th>weight_kg</th>\n",
              "      <th>height_cm</th>\n",
              "      <th>medication</th>\n",
              "      <th>waiting_time</th>\n",
              "      <th>bmd</th>\n",
              "    </tr>\n",
              "  </thead>\n",
              "  <tbody>\n",
              "    <tr>\n",
              "      <th>0</th>\n",
              "      <td>469</td>\n",
              "      <td>57.052768</td>\n",
              "      <td>F</td>\n",
              "      <td>no fracture</td>\n",
              "      <td>64.0</td>\n",
              "      <td>155.5</td>\n",
              "      <td>Anticonvulsant</td>\n",
              "      <td>18</td>\n",
              "      <td>0.8793</td>\n",
              "    </tr>\n",
              "    <tr>\n",
              "      <th>1</th>\n",
              "      <td>8724</td>\n",
              "      <td>75.741225</td>\n",
              "      <td>F</td>\n",
              "      <td>no fracture</td>\n",
              "      <td>78.0</td>\n",
              "      <td>162.0</td>\n",
              "      <td>No medication</td>\n",
              "      <td>56</td>\n",
              "      <td>0.7946</td>\n",
              "    </tr>\n",
              "    <tr>\n",
              "      <th>2</th>\n",
              "      <td>6736</td>\n",
              "      <td>70.778900</td>\n",
              "      <td>M</td>\n",
              "      <td>no fracture</td>\n",
              "      <td>73.0</td>\n",
              "      <td>170.5</td>\n",
              "      <td>No medication</td>\n",
              "      <td>10</td>\n",
              "      <td>0.9067</td>\n",
              "    </tr>\n",
              "    <tr>\n",
              "      <th>3</th>\n",
              "      <td>24180</td>\n",
              "      <td>78.247175</td>\n",
              "      <td>F</td>\n",
              "      <td>no fracture</td>\n",
              "      <td>60.0</td>\n",
              "      <td>148.0</td>\n",
              "      <td>No medication</td>\n",
              "      <td>14</td>\n",
              "      <td>0.7112</td>\n",
              "    </tr>\n",
              "    <tr>\n",
              "      <th>4</th>\n",
              "      <td>17072</td>\n",
              "      <td>54.191877</td>\n",
              "      <td>M</td>\n",
              "      <td>no fracture</td>\n",
              "      <td>55.0</td>\n",
              "      <td>161.0</td>\n",
              "      <td>No medication</td>\n",
              "      <td>20</td>\n",
              "      <td>0.7909</td>\n",
              "    </tr>\n",
              "    <tr>\n",
              "      <th>...</th>\n",
              "      <td>...</td>\n",
              "      <td>...</td>\n",
              "      <td>...</td>\n",
              "      <td>...</td>\n",
              "      <td>...</td>\n",
              "      <td>...</td>\n",
              "      <td>...</td>\n",
              "      <td>...</td>\n",
              "      <td>...</td>\n",
              "    </tr>\n",
              "    <tr>\n",
              "      <th>164</th>\n",
              "      <td>21892</td>\n",
              "      <td>77.982543</td>\n",
              "      <td>M</td>\n",
              "      <td>fracture</td>\n",
              "      <td>74.0</td>\n",
              "      <td>164.0</td>\n",
              "      <td>No medication</td>\n",
              "      <td>49</td>\n",
              "      <td>0.7941</td>\n",
              "    </tr>\n",
              "    <tr>\n",
              "      <th>165</th>\n",
              "      <td>24140</td>\n",
              "      <td>50.285303</td>\n",
              "      <td>F</td>\n",
              "      <td>fracture</td>\n",
              "      <td>59.0</td>\n",
              "      <td>161.0</td>\n",
              "      <td>No medication</td>\n",
              "      <td>6</td>\n",
              "      <td>0.7971</td>\n",
              "    </tr>\n",
              "    <tr>\n",
              "      <th>166</th>\n",
              "      <td>6969</td>\n",
              "      <td>46.359721</td>\n",
              "      <td>M</td>\n",
              "      <td>fracture</td>\n",
              "      <td>67.0</td>\n",
              "      <td>169.0</td>\n",
              "      <td>No medication</td>\n",
              "      <td>10</td>\n",
              "      <td>0.8037</td>\n",
              "    </tr>\n",
              "    <tr>\n",
              "      <th>167</th>\n",
              "      <td>5505</td>\n",
              "      <td>54.788368</td>\n",
              "      <td>M</td>\n",
              "      <td>fracture</td>\n",
              "      <td>70.0</td>\n",
              "      <td>166.0</td>\n",
              "      <td>No medication</td>\n",
              "      <td>14</td>\n",
              "      <td>0.8072</td>\n",
              "    </tr>\n",
              "    <tr>\n",
              "      <th>168</th>\n",
              "      <td>71</td>\n",
              "      <td>69.994822</td>\n",
              "      <td>F</td>\n",
              "      <td>fracture</td>\n",
              "      <td>68.5</td>\n",
              "      <td>165.0</td>\n",
              "      <td>No medication</td>\n",
              "      <td>25</td>\n",
              "      <td>0.8664</td>\n",
              "    </tr>\n",
              "  </tbody>\n",
              "</table>\n",
              "<p>169 rows × 9 columns</p>\n",
              "</div>\n",
              "      <button class=\"colab-df-convert\" onclick=\"convertToInteractive('df-9bb6646e-95be-420e-a4e8-a444934f8083')\"\n",
              "              title=\"Convert this dataframe to an interactive table.\"\n",
              "              style=\"display:none;\">\n",
              "        \n",
              "  <svg xmlns=\"http://www.w3.org/2000/svg\" height=\"24px\"viewBox=\"0 0 24 24\"\n",
              "       width=\"24px\">\n",
              "    <path d=\"M0 0h24v24H0V0z\" fill=\"none\"/>\n",
              "    <path d=\"M18.56 5.44l.94 2.06.94-2.06 2.06-.94-2.06-.94-.94-2.06-.94 2.06-2.06.94zm-11 1L8.5 8.5l.94-2.06 2.06-.94-2.06-.94L8.5 2.5l-.94 2.06-2.06.94zm10 10l.94 2.06.94-2.06 2.06-.94-2.06-.94-.94-2.06-.94 2.06-2.06.94z\"/><path d=\"M17.41 7.96l-1.37-1.37c-.4-.4-.92-.59-1.43-.59-.52 0-1.04.2-1.43.59L10.3 9.45l-7.72 7.72c-.78.78-.78 2.05 0 2.83L4 21.41c.39.39.9.59 1.41.59.51 0 1.02-.2 1.41-.59l7.78-7.78 2.81-2.81c.8-.78.8-2.07 0-2.86zM5.41 20L4 18.59l7.72-7.72 1.47 1.35L5.41 20z\"/>\n",
              "  </svg>\n",
              "      </button>\n",
              "      \n",
              "  <style>\n",
              "    .colab-df-container {\n",
              "      display:flex;\n",
              "      flex-wrap:wrap;\n",
              "      gap: 12px;\n",
              "    }\n",
              "\n",
              "    .colab-df-convert {\n",
              "      background-color: #E8F0FE;\n",
              "      border: none;\n",
              "      border-radius: 50%;\n",
              "      cursor: pointer;\n",
              "      display: none;\n",
              "      fill: #1967D2;\n",
              "      height: 32px;\n",
              "      padding: 0 0 0 0;\n",
              "      width: 32px;\n",
              "    }\n",
              "\n",
              "    .colab-df-convert:hover {\n",
              "      background-color: #E2EBFA;\n",
              "      box-shadow: 0px 1px 2px rgba(60, 64, 67, 0.3), 0px 1px 3px 1px rgba(60, 64, 67, 0.15);\n",
              "      fill: #174EA6;\n",
              "    }\n",
              "\n",
              "    [theme=dark] .colab-df-convert {\n",
              "      background-color: #3B4455;\n",
              "      fill: #D2E3FC;\n",
              "    }\n",
              "\n",
              "    [theme=dark] .colab-df-convert:hover {\n",
              "      background-color: #434B5C;\n",
              "      box-shadow: 0px 1px 3px 1px rgba(0, 0, 0, 0.15);\n",
              "      filter: drop-shadow(0px 1px 2px rgba(0, 0, 0, 0.3));\n",
              "      fill: #FFFFFF;\n",
              "    }\n",
              "  </style>\n",
              "\n",
              "      <script>\n",
              "        const buttonEl =\n",
              "          document.querySelector('#df-9bb6646e-95be-420e-a4e8-a444934f8083 button.colab-df-convert');\n",
              "        buttonEl.style.display =\n",
              "          google.colab.kernel.accessAllowed ? 'block' : 'none';\n",
              "\n",
              "        async function convertToInteractive(key) {\n",
              "          const element = document.querySelector('#df-9bb6646e-95be-420e-a4e8-a444934f8083');\n",
              "          const dataTable =\n",
              "            await google.colab.kernel.invokeFunction('convertToInteractive',\n",
              "                                                     [key], {});\n",
              "          if (!dataTable) return;\n",
              "\n",
              "          const docLinkHtml = 'Like what you see? Visit the ' +\n",
              "            '<a target=\"_blank\" href=https://colab.research.google.com/notebooks/data_table.ipynb>data table notebook</a>'\n",
              "            + ' to learn more about interactive tables.';\n",
              "          element.innerHTML = '';\n",
              "          dataTable['output_type'] = 'display_data';\n",
              "          await google.colab.output.renderOutput(dataTable, element);\n",
              "          const docLink = document.createElement('div');\n",
              "          docLink.innerHTML = docLinkHtml;\n",
              "          element.appendChild(docLink);\n",
              "        }\n",
              "      </script>\n",
              "    </div>\n",
              "  </div>\n",
              "  "
            ]
          },
          "metadata": {},
          "execution_count": 5
        }
      ]
    },
    {
      "cell_type": "markdown",
      "source": [
        "Considering only covariate 'age' and storing it in X.Y stores dependent variable 'bmd'."
      ],
      "metadata": {
        "id": "9MDhN-OLmaSg"
      }
    },
    {
      "cell_type": "code",
      "source": [
        "X=df['age']\n",
        "Y=df['bmd']"
      ],
      "metadata": {
        "id": "iQw1ihrTMOEM"
      },
      "execution_count": null,
      "outputs": []
    },
    {
      "cell_type": "markdown",
      "source": [
        "Performing standard scaling on the covariate"
      ],
      "metadata": {
        "id": "H3HdSu-XmoQf"
      }
    },
    {
      "cell_type": "code",
      "source": [
        "X=(X-X.min())/(X.max()-X.min())"
      ],
      "metadata": {
        "id": "QGKXPFx6MSMm"
      },
      "execution_count": null,
      "outputs": []
    },
    {
      "cell_type": "code",
      "source": [
        "X"
      ],
      "metadata": {
        "colab": {
          "base_uri": "https://localhost:8080/"
        },
        "id": "CMhPPNS7MVyp",
        "outputId": "9ad1b4a0-a684-4e09-92c9-2327759647d1"
      },
      "execution_count": null,
      "outputs": [
        {
          "output_type": "execute_result",
          "data": {
            "text/plain": [
              "0      0.401187\n",
              "1      0.754200\n",
              "2      0.660465\n",
              "3      0.801536\n",
              "4      0.347146\n",
              "         ...   \n",
              "164    0.796537\n",
              "165    0.273353\n",
              "166    0.199201\n",
              "167    0.358413\n",
              "168    0.645654\n",
              "Name: age, Length: 169, dtype: float64"
            ]
          },
          "metadata": {},
          "execution_count": 8
        }
      ]
    },
    {
      "cell_type": "markdown",
      "source": [
        "Splitting the data into train and test data with test size=0.2.Using random_state means the splitting of data will remain constant for that particular value of random_state."
      ],
      "metadata": {
        "id": "l2B3URHmm5GB"
      }
    },
    {
      "cell_type": "code",
      "source": [
        "from sklearn.model_selection import train_test_split\n",
        "X_train,X_test,Y_train,Y_test=train_test_split(X,Y,test_size=0.2,random_state=25)"
      ],
      "metadata": {
        "id": "1YzHpmxWPoLc"
      },
      "execution_count": null,
      "outputs": []
    },
    {
      "cell_type": "markdown",
      "source": [
        "Shape"
      ],
      "metadata": {
        "id": "MdFDeD6hnQim"
      }
    },
    {
      "cell_type": "code",
      "source": [
        "X_train.shape,X_test.shape,Y_train.shape,Y_test.shape"
      ],
      "metadata": {
        "colab": {
          "base_uri": "https://localhost:8080/"
        },
        "id": "8kpHC9GjPsLl",
        "outputId": "f93acf99-a530-4b1f-ec51-c61b46219f7f"
      },
      "execution_count": null,
      "outputs": [
        {
          "output_type": "execute_result",
          "data": {
            "text/plain": [
              "((135,), (34,), (135,), (34,))"
            ]
          },
          "metadata": {},
          "execution_count": 10
        }
      ]
    },
    {
      "cell_type": "markdown",
      "source": [
        "Converting the train and test data into list"
      ],
      "metadata": {
        "id": "eCf75ZmenSds"
      }
    },
    {
      "cell_type": "code",
      "source": [
        "X_train=list(X_train)\n",
        "X_test=list(X_test)\n",
        "Y_train=list(Y_train)\n",
        "Y_test=list(Y_test)"
      ],
      "metadata": {
        "id": "IONSLu40PwSl"
      },
      "execution_count": null,
      "outputs": []
    },
    {
      "cell_type": "markdown",
      "source": [
        "Input for the number of K nearest neighbours and it is greater than equal to 5."
      ],
      "metadata": {
        "id": "RLUK5yj0nZfc"
      }
    },
    {
      "cell_type": "code",
      "source": [
        "n=int(input(\"Enter a number:\"))"
      ],
      "metadata": {
        "colab": {
          "base_uri": "https://localhost:8080/"
        },
        "id": "O3cAUARFPz5O",
        "outputId": "7aa34a66-53ef-42aa-e2f6-113989d34c4a"
      },
      "execution_count": null,
      "outputs": [
        {
          "name": "stdout",
          "output_type": "stream",
          "text": [
            "Enter a number:10\n"
          ]
        }
      ]
    },
    {
      "cell_type": "markdown",
      "source": [
        "Converting the training label list into array"
      ],
      "metadata": {
        "id": "waIUKr2_npyY"
      }
    },
    {
      "cell_type": "code",
      "source": [
        "Y_train=np.array(Y_train)"
      ],
      "metadata": {
        "id": "dx1Gu7aqP5Es"
      },
      "execution_count": null,
      "outputs": []
    },
    {
      "cell_type": "markdown",
      "source": [
        "Input for the Nearest neighbours and the loop will continue to run until it reaches n."
      ],
      "metadata": {
        "id": "XwUrx9b5nugT"
      }
    },
    {
      "cell_type": "code",
      "source": [
        "if(n>=5):\n",
        "  lk={} \n",
        "  for i in range(n):\n",
        "    k=int(input(\"Enter a number:\"))\n",
        "#As there is only 1 feature so euclidian distance of each test data from train set is manhatten distance\n",
        "    l=[]\n",
        "    for i in range(len(X_test)):\n",
        "      dist=abs(np.array(X_train)-np.array(X_test[i])).tolist()\n",
        "      y=np.array(dist)\n",
        "      y1=np.argsort(y)\n",
        "      Y_pred=Y_train[y1].tolist()\n",
        "      Y_pred=sum(Y_pred[:k])/k\n",
        "      l.append(Y_pred)\n",
        "    lk[k]=l  "
      ],
      "metadata": {
        "colab": {
          "base_uri": "https://localhost:8080/"
        },
        "id": "mgbabChrP9cB",
        "outputId": "b798646e-78ae-44fe-b0e7-01f57310f907"
      },
      "execution_count": null,
      "outputs": [
        {
          "name": "stdout",
          "output_type": "stream",
          "text": [
            "Enter a number:20\n",
            "Enter a number:40\n",
            "Enter a number:30\n",
            "Enter a number:10\n",
            "Enter a number:2\n",
            "Enter a number:5\n",
            "Enter a number:15\n",
            "Enter a number:7\n",
            "Enter a number:25\n",
            "Enter a number:35\n"
          ]
        }
      ]
    },
    {
      "cell_type": "code",
      "source": [
        "lk"
      ],
      "metadata": {
        "colab": {
          "base_uri": "https://localhost:8080/"
        },
        "id": "gx7OHXHsQNpn",
        "outputId": "c08199eb-c026-4a26-a6bd-0f71dcd4c0cc"
      },
      "execution_count": null,
      "outputs": [
        {
          "output_type": "execute_result",
          "data": {
            "text/plain": [
              "{20: [0.7473250035,\n",
              "  0.7713450030000002,\n",
              "  0.6799749945000001,\n",
              "  0.8422550005,\n",
              "  0.6835299990000001,\n",
              "  0.7542950005,\n",
              "  0.657669998,\n",
              "  0.8229349950000001,\n",
              "  0.7729050044999999,\n",
              "  0.785935003,\n",
              "  0.7830700039999998,\n",
              "  0.8143949965000001,\n",
              "  0.8229349950000001,\n",
              "  0.8176249984999998,\n",
              "  0.7751700065,\n",
              "  0.7769200015,\n",
              "  0.8074450025000001,\n",
              "  0.6780749965000001,\n",
              "  0.732880006,\n",
              "  0.6618399959999999,\n",
              "  0.7769200015,\n",
              "  0.6641099965,\n",
              "  0.7813600015000001,\n",
              "  0.7729050044999999,\n",
              "  0.8047950014999999,\n",
              "  0.8124400030000002,\n",
              "  0.8176249984999998,\n",
              "  0.8101149994999999,\n",
              "  0.8047950014999999,\n",
              "  0.7671750015,\n",
              "  0.8023900060000001,\n",
              "  0.8024300065000001,\n",
              "  0.681839999,\n",
              "  0.8176249984999998],\n",
              " 40: [0.7654700044999998,\n",
              "  0.7789675025000001,\n",
              "  0.67440999825,\n",
              "  0.8177125012499996,\n",
              "  0.693327501,\n",
              "  0.76716000475,\n",
              "  0.6933275009999998,\n",
              "  0.79791999975,\n",
              "  0.77900750175,\n",
              "  0.78092000175,\n",
              "  0.7787100014999999,\n",
              "  0.79791999975,\n",
              "  0.79791999975,\n",
              "  0.7979199997499998,\n",
              "  0.7671600047499999,\n",
              "  0.78939499975,\n",
              "  0.805095,\n",
              "  0.67440999825,\n",
              "  0.7323850032499997,\n",
              "  0.6724549984999999,\n",
              "  0.7929525,\n",
              "  0.6986200007499999,\n",
              "  0.799187503,\n",
              "  0.77900750175,\n",
              "  0.791837501,\n",
              "  0.8084025005000001,\n",
              "  0.7979199997499998,\n",
              "  0.80016499975,\n",
              "  0.7898250007500001,\n",
              "  0.7953175027499999,\n",
              "  0.7794825032499999,\n",
              "  0.77948250325,\n",
              "  0.7297925022499999,\n",
              "  0.7979199997499998],\n",
              " 30: [0.7429500046666665,\n",
              "  0.7836866693333334,\n",
              "  0.6696166640000001,\n",
              "  0.8238333353333331,\n",
              "  0.6697299983333332,\n",
              "  0.7619166713333333,\n",
              "  0.656813331,\n",
              "  0.7979099993333334,\n",
              "  0.773483336,\n",
              "  0.769963336,\n",
              "  0.7784833350000001,\n",
              "  0.7979099993333334,\n",
              "  0.7979099993333334,\n",
              "  0.7990099986666664,\n",
              "  0.7619166713333333,\n",
              "  0.7911466669999999,\n",
              "  0.8091400003333333,\n",
              "  0.6787999973333335,\n",
              "  0.7257866676666664,\n",
              "  0.6700599976666666,\n",
              "  0.7911466669999999,\n",
              "  0.6826466646666667,\n",
              "  0.795600002,\n",
              "  0.773483336,\n",
              "  0.8069400023333333,\n",
              "  0.8079033330000002,\n",
              "  0.7990099986666664,\n",
              "  0.8029699999999999,\n",
              "  0.8075233353333334,\n",
              "  0.7703466696666667,\n",
              "  0.7912966709999999,\n",
              "  0.791296671,\n",
              "  0.717040004,\n",
              "  0.8029699999999999],\n",
              " 10: [0.7843000100000002,\n",
              "  0.810170005,\n",
              "  0.6229899929999999,\n",
              "  0.815399993,\n",
              "  0.700689999,\n",
              "  0.7976000080000001,\n",
              "  0.700689999,\n",
              "  0.842069993,\n",
              "  0.7440800009999999,\n",
              "  0.735590004,\n",
              "  0.7660400029999999,\n",
              "  0.8648299960000001,\n",
              "  0.842069993,\n",
              "  0.8363599949999999,\n",
              "  0.809690011,\n",
              "  0.8037999969999999,\n",
              "  0.8296800039999999,\n",
              "  0.7036399969999999,\n",
              "  0.6492900030000001,\n",
              "  0.6778399949999999,\n",
              "  0.8037999969999999,\n",
              "  0.6741299959999999,\n",
              "  0.768479999,\n",
              "  0.7440800009999998,\n",
              "  0.7513099969999999,\n",
              "  0.8524500030000001,\n",
              "  0.8363599949999999,\n",
              "  0.8059800019999999,\n",
              "  0.761070001,\n",
              "  0.7709700009999999,\n",
              "  0.78377,\n",
              "  0.767010003,\n",
              "  0.6879900049999998,\n",
              "  0.8363599949999999],\n",
              " 2: [0.77495,\n",
              "  0.80689999,\n",
              "  0.736849995,\n",
              "  0.699699995,\n",
              "  0.5618999899999999,\n",
              "  0.8214999999999999,\n",
              "  0.5618999899999999,\n",
              "  0.8733,\n",
              "  0.79735002,\n",
              "  0.809900015,\n",
              "  0.7518500100000001,\n",
              "  0.84850001,\n",
              "  0.863699985,\n",
              "  0.817800015,\n",
              "  0.746399995,\n",
              "  0.730949995,\n",
              "  0.812649995,\n",
              "  0.94585001,\n",
              "  0.610900015,\n",
              "  0.690999985,\n",
              "  0.7374499999999999,\n",
              "  0.5834500199999999,\n",
              "  0.6773999900000001,\n",
              "  0.79735002,\n",
              "  0.719900015,\n",
              "  0.836950005,\n",
              "  0.817800015,\n",
              "  0.8531000049999999,\n",
              "  0.77765,\n",
              "  0.90050001,\n",
              "  0.67719999,\n",
              "  0.67719999,\n",
              "  0.60655001,\n",
              "  0.817800015],\n",
              " 5: [0.64244,\n",
              "  0.7683000059999999,\n",
              "  0.6375599920000001,\n",
              "  0.77917999,\n",
              "  0.7300999939999999,\n",
              "  0.8513600179999999,\n",
              "  0.679559988,\n",
              "  0.8902399840000002,\n",
              "  0.7978800039999999,\n",
              "  0.809860002,\n",
              "  0.748020004,\n",
              "  0.86803999,\n",
              "  0.8160999959999999,\n",
              "  0.8187200060000001,\n",
              "  0.9269800180000001,\n",
              "  0.772539996,\n",
              "  0.80366,\n",
              "  0.796720002,\n",
              "  0.680040002,\n",
              "  0.623300004,\n",
              "  0.7725399959999999,\n",
              "  0.6300199999999999,\n",
              "  0.7503999940000001,\n",
              "  0.7978800039999999,\n",
              "  0.77874,\n",
              "  0.907140008,\n",
              "  0.8845999859999999,\n",
              "  0.8046,\n",
              "  0.75222,\n",
              "  0.79222,\n",
              "  0.7466400099999999,\n",
              "  0.700339984,\n",
              "  0.669500008,\n",
              "  0.8394200079999999],\n",
              " 15: [0.7494866733333333,\n",
              "  0.7634266680000003,\n",
              "  0.6328533286666667,\n",
              "  0.8127266653333333,\n",
              "  0.6725866666666669,\n",
              "  0.761066672,\n",
              "  0.6725866666666666,\n",
              "  0.8296066620000001,\n",
              "  0.7750866719999999,\n",
              "  0.7747666686666667,\n",
              "  0.7685266726666665,\n",
              "  0.8340666626666667,\n",
              "  0.8296066620000001,\n",
              "  0.8108266626666666,\n",
              "  0.761066672,\n",
              "  0.7926066699999998,\n",
              "  0.827880002,\n",
              "  0.6763266626666667,\n",
              "  0.6826000026666666,\n",
              "  0.6568599939999998,\n",
              "  0.8083400033333332,\n",
              "  0.6745599953333333,\n",
              "  0.7721666666666667,\n",
              "  0.7888400046666665,\n",
              "  0.7802066659999999,\n",
              "  0.8231266713333335,\n",
              "  0.8108266626666666,\n",
              "  0.8252133279999999,\n",
              "  0.7636933326666667,\n",
              "  0.7816133346666666,\n",
              "  0.819180008,\n",
              "  0.8191800080000001,\n",
              "  0.6640800013333333,\n",
              "  0.8108266626666666],\n",
              " 7: [0.6936,\n",
              "  0.7991571485714284,\n",
              "  0.6538571328571429,\n",
              "  0.7989285585714285,\n",
              "  0.6781571385714286,\n",
              "  0.8809428728571428,\n",
              "  0.652099997142857,\n",
              "  0.8629428442857143,\n",
              "  0.765700007142857,\n",
              "  0.7932857185714285,\n",
              "  0.7250285728571428,\n",
              "  0.86954285,\n",
              "  0.8555856999999999,\n",
              "  0.8589857057142857,\n",
              "  0.8809428728571429,\n",
              "  0.7789428557142858,\n",
              "  0.8329285728571428,\n",
              "  0.7139571414285714,\n",
              "  0.6662428642857143,\n",
              "  0.6520714257142856,\n",
              "  0.7789428557142857,\n",
              "  0.6736571414285714,\n",
              "  0.7623714285714286,\n",
              "  0.765700007142857,\n",
              "  0.7353857157142857,\n",
              "  0.8903714357142857,\n",
              "  0.8589857057142857,\n",
              "  0.8084285757142856,\n",
              "  0.7691857128571428,\n",
              "  0.7943571414285714,\n",
              "  0.7903000028571429,\n",
              "  0.7671714300000001,\n",
              "  0.6366571457142857,\n",
              "  0.8171428599999999],\n",
              " 25: [0.7566960051999999,\n",
              "  0.7826360024000002,\n",
              "  0.6892439968,\n",
              "  0.841532,\n",
              "  0.6529319984000002,\n",
              "  0.7641160036,\n",
              "  0.6693119983999999,\n",
              "  0.8218319992,\n",
              "  0.7722400019999999,\n",
              "  0.7735960032,\n",
              "  0.7722400020000001,\n",
              "  0.8218319992,\n",
              "  0.8218319992,\n",
              "  0.8039879991999999,\n",
              "  0.7641160036,\n",
              "  0.7855160031999999,\n",
              "  0.8063560024,\n",
              "  0.6781479960000002,\n",
              "  0.7258080035999999,\n",
              "  0.6811519963999999,\n",
              "  0.7819800031999999,\n",
              "  0.6462759984,\n",
              "  0.8058080016,\n",
              "  0.7765360019999998,\n",
              "  0.804400002,\n",
              "  0.8125240004000003,\n",
              "  0.8039879991999999,\n",
              "  0.8039879991999999,\n",
              "  0.804400002,\n",
              "  0.765384,\n",
              "  0.802440004,\n",
              "  0.802440004,\n",
              "  0.7063560044,\n",
              "  0.8039879991999999],\n",
              " 35: [0.7558628614285713,\n",
              "  0.7789314300000002,\n",
              "  0.678977140857143,\n",
              "  0.8332057177142854,\n",
              "  0.6639314268571428,\n",
              "  0.771285718,\n",
              "  0.6639314268571427,\n",
              "  0.7996171425714286,\n",
              "  0.7714485728571429,\n",
              "  0.7750000017142857,\n",
              "  0.7703314302857143,\n",
              "  0.7996171425714286,\n",
              "  0.7996171425714286,\n",
              "  0.7975485717142856,\n",
              "  0.7712857179999999,\n",
              "  0.7953228574285715,\n",
              "  0.8029485714285715,\n",
              "  0.678977140857143,\n",
              "  0.7234085754285711,\n",
              "  0.6664657122857143,\n",
              "  0.7953228574285713,\n",
              "  0.681099998,\n",
              "  0.7885628591428572,\n",
              "  0.7714485728571429,\n",
              "  0.8058800028571429,\n",
              "  0.8075428565714287,\n",
              "  0.7996171425714285,\n",
              "  0.8040599999999999,\n",
              "  0.8110371448571428,\n",
              "  0.7892514319999999,\n",
              "  0.7928085754285714,\n",
              "  0.7811114328571429,\n",
              "  0.7146542868571428,\n",
              "  0.7975485717142856]}"
            ]
          },
          "metadata": {},
          "execution_count": 15
        }
      ]
    },
    {
      "cell_type": "markdown",
      "source": [
        "#R^2 score from scratch\n",
        "Reference-https://www.geeksforgeeks.org/python-coefficient-of-determination-r2-score/"
      ],
      "metadata": {
        "id": "tNvvyWWHot3v"
      }
    },
    {
      "cell_type": "markdown",
      "source": [
        "Finding R^2 score for each K."
      ],
      "metadata": {
        "id": "OLlxFh1to-DY"
      }
    },
    {
      "cell_type": "code",
      "source": [
        "score={}\n",
        "mean=sum(X_test)/len(X_test)\n",
        "for i in list(lk.keys()):\n",
        " sum1=0\n",
        " sum2=0\n",
        " for j in range(len(lk[i])):\n",
        "  sum1=sum1+abs(X_test[j]-lk[i][j])**2\n",
        "  sum2=sum2+abs(X_test[j]-mean)**2\n",
        " r2=1-sum1/sum2\n",
        " score[i]=r2"
      ],
      "metadata": {
        "id": "sTeOmmG_QSmd"
      },
      "execution_count": null,
      "outputs": []
    },
    {
      "cell_type": "code",
      "source": [
        "score"
      ],
      "metadata": {
        "colab": {
          "base_uri": "https://localhost:8080/"
        },
        "id": "ynoXCkuGQXKD",
        "outputId": "8d9709fe-a578-4ea4-a59c-6ccef02ac107"
      },
      "execution_count": null,
      "outputs": [
        {
          "output_type": "execute_result",
          "data": {
            "text/plain": [
              "{20: -1.9899655842211352,\n",
              " 40: -1.8993600448136898,\n",
              " 30: -1.910920360491045,\n",
              " 10: -2.065851949029659,\n",
              " 2: -2.0632790228504123,\n",
              " 5: -2.149158923941905,\n",
              " 15: -2.025049749673914,\n",
              " 7: -2.1565854961468673,\n",
              " 25: -1.9749437751543195,\n",
              " 35: -1.9174897413439802}"
            ]
          },
          "metadata": {},
          "execution_count": 17
        }
      ]
    },
    {
      "cell_type": "code",
      "source": [
        "l=list(score.keys())"
      ],
      "metadata": {
        "id": "FJI1Bmc7QbZJ"
      },
      "execution_count": null,
      "outputs": []
    },
    {
      "cell_type": "code",
      "source": [
        "l"
      ],
      "metadata": {
        "colab": {
          "base_uri": "https://localhost:8080/"
        },
        "id": "smD3sgOEQfIs",
        "outputId": "b9b95d37-9871-46a0-d5b3-0dd4daa64c1f"
      },
      "execution_count": null,
      "outputs": [
        {
          "output_type": "execute_result",
          "data": {
            "text/plain": [
              "[20, 40, 30, 10, 2, 5, 15, 7, 25, 35]"
            ]
          },
          "metadata": {},
          "execution_count": 19
        }
      ]
    },
    {
      "cell_type": "code",
      "source": [
        "l.sort()"
      ],
      "metadata": {
        "id": "ldFC2uLiQivH"
      },
      "execution_count": null,
      "outputs": []
    },
    {
      "cell_type": "markdown",
      "source": [
        "Sorting of Dictionary based on K"
      ],
      "metadata": {
        "id": "LjbTsQ5HpHei"
      }
    },
    {
      "cell_type": "code",
      "source": [
        "score={i:score[i] for i in l}"
      ],
      "metadata": {
        "id": "h6seKPnaQmYc"
      },
      "execution_count": null,
      "outputs": []
    },
    {
      "cell_type": "markdown",
      "source": [
        "Sorted dictionary based on K."
      ],
      "metadata": {
        "id": "GSG5CGF_pPtr"
      }
    },
    {
      "cell_type": "code",
      "source": [
        "score"
      ],
      "metadata": {
        "colab": {
          "base_uri": "https://localhost:8080/"
        },
        "id": "ppExihKfQqAk",
        "outputId": "b3f0e46a-e297-4f9a-fb3a-d8a142e1fd16"
      },
      "execution_count": null,
      "outputs": [
        {
          "output_type": "execute_result",
          "data": {
            "text/plain": [
              "{2: -2.0632790228504123,\n",
              " 5: -2.149158923941905,\n",
              " 7: -2.1565854961468673,\n",
              " 10: -2.065851949029659,\n",
              " 15: -2.025049749673914,\n",
              " 20: -1.9899655842211352,\n",
              " 25: -1.9749437751543195,\n",
              " 30: -1.910920360491045,\n",
              " 35: -1.9174897413439802,\n",
              " 40: -1.8993600448136898}"
            ]
          },
          "metadata": {},
          "execution_count": 22
        }
      ]
    },
    {
      "cell_type": "markdown",
      "source": [
        "Finding optimum value of K and the r^2 score at that point."
      ],
      "metadata": {
        "id": "X8gkTkVrpbTN"
      }
    },
    {
      "cell_type": "code",
      "source": [
        "value=10000\n",
        "min=0\n",
        "for i in list(score.keys()):\n",
        "  if(score[i]<=value):\n",
        "    min=i\n",
        "    value=score[i]"
      ],
      "metadata": {
        "id": "S3p8QGmAQteq"
      },
      "execution_count": null,
      "outputs": []
    },
    {
      "cell_type": "markdown",
      "source": [
        "##R^2 score vs K plot"
      ],
      "metadata": {
        "id": "FyPs2Hw-pkMa"
      }
    },
    {
      "cell_type": "code",
      "source": [
        "plt.figure(figsize=(10,10))\n",
        "plt.plot(list(score.keys()),list(score.values()),color='green',marker='o')\n",
        "plt.title(\"r2 score vs k\")\n",
        "plt.xlabel(\"K\")\n",
        "plt.ylabel(\"r2 score\")\n",
        "plt.show()"
      ],
      "metadata": {
        "colab": {
          "base_uri": "https://localhost:8080/",
          "height": 621
        },
        "id": "sUPcED3LQxQM",
        "outputId": "cf9b6fba-e14d-478d-dd7f-03587494be59"
      },
      "execution_count": null,
      "outputs": [
        {
          "output_type": "display_data",
          "data": {
            "text/plain": [
              "<Figure size 720x720 with 1 Axes>"
            ],
            "image/png": "[encoded data removed]"
          },
          "metadata": {
            "needs_background": "light"
          }
        }
      ]
    },
    {
      "cell_type": "markdown",
      "source": [
        "Printing the optimum value of K and R^2 score at that point."
      ],
      "metadata": {
        "id": "URKxf0rppo03"
      }
    },
    {
      "cell_type": "code",
      "source": [
        "print(\"Optimum value of k is\",min)\n",
        "print(\"Value is\",value)"
      ],
      "metadata": {
        "id": "Og5C7rJoQ4Nu",
        "outputId": "d243a4d5-59ec-46c3-fc37-a2b71b4c37c9",
        "colab": {
          "base_uri": "https://localhost:8080/"
        }
      },
      "execution_count": null,
      "outputs": [
        {
          "output_type": "stream",
          "name": "stdout",
          "text": [
            "Optimum value of k is 7\n",
            "Value is -2.1565854961468673\n"
          ]
        }
      ]
    }
  ]
}